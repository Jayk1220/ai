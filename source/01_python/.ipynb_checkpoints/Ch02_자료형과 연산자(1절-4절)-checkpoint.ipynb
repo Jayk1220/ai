{
 "cells": [
  {
   "cell_type": "code",
   "execution_count": 149,
   "id": "d7650413",
   "metadata": {},
   "outputs": [
    {
     "data": {
      "text/html": [
       "\n",
       "<style>\n",
       "div.container{width:90% !important;}\n",
       "div.cell.code_cell.rendered{width:100%;}\n",
       "div.input_prompt{padding:0px;}\n",
       "div.CodeMirror{font-family:Consolas; font-size:15pt;}\n",
       "div.text_cell_render.rendered_html{font-size:15pt;}\n",
       "div.output{font-size:12pt; font-weight:bold;}\n",
       "div.input{font-family:Consolas; font-size:15pt;}\n",
       "div.prompt{min-width:70px;}\n",
       "div#toc-wrapper{padding-top:120px;}\n",
       "div.text_cell_renderulli{font-size:12pt;padding:5px;}\n",
       "table.dataframe{font-size:12px;}\n",
       "</style>\n"
      ],
      "text/plain": [
       "<IPython.core.display.HTML object>"
      ]
     },
     "metadata": {},
     "output_type": "display_data"
    }
   ],
   "source": [
    "from IPython.display import display, HTML\n",
    "display(HTML(\"\"\"\n",
    "<style>\n",
    "div.container{width:90% !important;}\n",
    "div.cell.code_cell.rendered{width:100%;}\n",
    "div.input_prompt{padding:0px;}\n",
    "div.CodeMirror{font-family:Consolas; font-size:15pt;}\n",
    "div.text_cell_render.rendered_html{font-size:15pt;}\n",
    "div.output{font-size:12pt; font-weight:bold;}\n",
    "div.input{font-family:Consolas; font-size:15pt;}\n",
    "div.prompt{min-width:70px;}\n",
    "div#toc-wrapper{padding-top:120px;}\n",
    "div.text_cell_renderulli{font-size:12pt;padding:5px;}\n",
    "table.dataframe{font-size:12px;}\n",
    "</style>\n",
    "\"\"\"))\n"
   ]
  },
  {
   "cell_type": "markdown",
   "id": "c61b6b36",
   "metadata": {},
   "source": [
    "<b><font size=\"6\" color=\"red\">ch02. 자료형과 연산자</font></b>\n",
    "\n",
    "# 1. 변수\n",
    "- 변수: 프로그램 작업 처리를 위하여 값을 저장할 수 있는 메모리 공간\n",
    "- 파이썬은 변수 선언을 위한 타입이 없고, 별도의 선언 과정도 없음\n",
    "\n",
    "## 1.1 변수 할당\n",
    "- 할당연산자 (=)를 이용해서 값을 할당하면 자료형(타입)이 세팅 --> \"=\" is not \"Equal\" Equal is \"==\"\n",
    "- 파이썬에서 모든 변수는 객채로 저장  --> what is 객체? i dont get it"
   ]
  },
  {
   "cell_type": "code",
   "execution_count": 34,
   "id": "81c18716",
   "metadata": {},
   "outputs": [
    {
     "name": "stdout",
     "output_type": "stream",
     "text": [
      "넓이 : 78.5\n"
     ]
    }
   ],
   "source": [
    "r = 5 #실수 (int)\n",
    "area = 3.14 * r * r\n",
    "print(\"넓이 :\", area)"
   ]
  },
  {
   "cell_type": "code",
   "execution_count": 35,
   "id": "3f67e18d",
   "metadata": {},
   "outputs": [
    {
     "name": "stdout",
     "output_type": "stream",
     "text": [
      "area 주소 : 2508140486864\n",
      "area의 타입 : <class 'float'>\n"
     ]
    }
   ],
   "source": [
    "print('area 주소 :',id(area))\n",
    "print('area의 타입 :',type(area))"
   ]
  },
  {
   "cell_type": "code",
   "execution_count": 38,
   "id": "55b8204e",
   "metadata": {},
   "outputs": [
    {
     "name": "stdout",
     "output_type": "stream",
     "text": [
      "넓이 : 78.53981633974483\n"
     ]
    }
   ],
   "source": [
    "import numpy as np # numpy라는 package를 np라는 이름으로 사용\n",
    "area=np.pi*r*r\n",
    "print('넓이 :',area)\n",
    "\n",
    "#print(area), 그냥 area 하면 out[] 값만 나오는데?"
   ]
  },
  {
   "cell_type": "code",
   "execution_count": 39,
   "id": "3f66d460",
   "metadata": {},
   "outputs": [
    {
     "name": "stdout",
     "output_type": "stream",
     "text": [
      "area 주소 : 2508140486128\n",
      "area의 타입 : <class 'float'>\n"
     ]
    }
   ],
   "source": [
    "print('area 주소 :',id(area))\n",
    "print('area의 타입 :',type(area))"
   ]
  },
  {
   "cell_type": "code",
   "execution_count": 37,
   "id": "b4722c42",
   "metadata": {},
   "outputs": [
    {
     "data": {
      "text/plain": [
       "False"
      ]
     },
     "execution_count": 37,
     "metadata": {},
     "output_type": "execute_result"
    }
   ],
   "source": [
    "area.is_integer()"
   ]
  },
  {
   "cell_type": "code",
   "execution_count": 41,
   "id": "83008d36",
   "metadata": {},
   "outputs": [
    {
     "name": "stdout",
     "output_type": "stream",
     "text": [
      "area 주소 : 2508026610192\n",
      "area의 타입 : <class 'int'>\n"
     ]
    }
   ],
   "source": [
    "area=10\n",
    "print('area 주소 :',id(area))\n",
    "print('area의 타입 :',type(area))"
   ]
  },
  {
   "cell_type": "code",
   "execution_count": 42,
   "id": "6959adec",
   "metadata": {},
   "outputs": [
    {
     "name": "stdout",
     "output_type": "stream",
     "text": [
      "area 주소 : 2508158234864\n",
      "area의 타입 : <class 'str'>\n"
     ]
    }
   ],
   "source": [
    "area = \"파이썬\"\n",
    "print('area 주소 :',id(area))\n",
    "print('area의 타입 :',type(area))"
   ]
  },
  {
   "cell_type": "markdown",
   "id": "77a2b42c",
   "metadata": {},
   "source": [
    "## 1.2 변수(함수) 이름 규칙\n",
    "- 문자로 시작 (숫자 시작 불가)\n",
    "- 문자, (특수문자는 언더바 \"_\" 이외 불가), 숫자, 언더바 \"_\"만 사용하여 변수명 작성\n",
    "- 함수명으로 변수이름으로 사용 (technically possible but avoid it). 꼭 써야한다면 \"함수명\"+\"_\" 형식으로 사용\n",
    "- 파이썬 예약어 (for, if, ..) 변수명 사용 불가 \n",
    "- 한글 변수 사용 가능하나 꼭 필요시에만"
   ]
  },
  {
   "cell_type": "code",
   "execution_count": 44,
   "id": "5a0e8441",
   "metadata": {},
   "outputs": [
    {
     "name": "stdout",
     "output_type": "stream",
     "text": [
      "홍길동\n"
     ]
    }
   ],
   "source": [
    "이름 = '홍길동'\n",
    "print (이름)"
   ]
  },
  {
   "cell_type": "code",
   "execution_count": 49,
   "id": "ad3441e5",
   "metadata": {},
   "outputs": [
    {
     "name": "stdout",
     "output_type": "stream",
     "text": [
      "홍길동 홍길동\n"
     ]
    }
   ],
   "source": [
    "#member.name = \"홍길동\" => 불가 \".\"은 변수에 넣기 불가\n",
    "member_name = '홍길동'\n",
    "memberName = '홍길동'\n",
    "print(member_name, memberName)"
   ]
  },
  {
   "cell_type": "code",
   "execution_count": 52,
   "id": "0f79507e",
   "metadata": {},
   "outputs": [
    {
     "name": "stdout",
     "output_type": "stream",
     "text": [
      "<class 'complex'>\n",
      "(1+3j)\n"
     ]
    }
   ],
   "source": [
    "#숫자 : 정수[int](소수점 x), 실수[float] (소수점 o), 복소수 (complex number) --> 허수는 i가 아니라 j로 씀\n",
    "i = 1 + 3j #복소수\n",
    "print (type(i))\n",
    "print (i)"
   ]
  },
  {
   "cell_type": "code",
   "execution_count": 58,
   "id": "2750df6d",
   "metadata": {},
   "outputs": [
    {
     "data": {
      "text/plain": [
       "False"
      ]
     },
     "execution_count": 58,
     "metadata": {},
     "output_type": "execute_result"
    }
   ],
   "source": [
    "isinstance (i,complex) # isinstance (변수이름, 타입) --> 변수가 타입의 객체인지\n",
    "isinstance (i,float)\n",
    "isinstance (i,int)"
   ]
  },
  {
   "cell_type": "code",
   "execution_count": 57,
   "id": "c04fe3f7",
   "metadata": {},
   "outputs": [
    {
     "name": "stdout",
     "output_type": "stream",
     "text": [
      "True\n",
      "False\n",
      "False\n"
     ]
    }
   ],
   "source": [
    "print(isinstance (i,complex))\n",
    "print(isinstance (i,float))\n",
    "print(isinstance (i,int))"
   ]
  },
  {
   "cell_type": "markdown",
   "id": "47fb616f",
   "metadata": {},
   "source": [
    "## 1.3 다중 변수 선언"
   ]
  },
  {
   "cell_type": "code",
   "execution_count": 74,
   "id": "467d5da4",
   "metadata": {},
   "outputs": [
    {
     "name": "stdout",
     "output_type": "stream",
     "text": [
      "10 20\n"
     ]
    }
   ],
   "source": [
    "a,b = 10,20 #동시에  들어감\n",
    "print(a,b)"
   ]
  },
  {
   "cell_type": "code",
   "execution_count": 75,
   "id": "7845961b",
   "metadata": {},
   "outputs": [
    {
     "name": "stdout",
     "output_type": "stream",
     "text": [
      "20 30\n"
     ]
    }
   ],
   "source": [
    "a, b = b,a+b #a에 기존 b 값, b에 기존 a값+b값\n",
    "# 다중 변수 할당시 순차적 할당이 아닌, 일괄 동시 할당\n",
    "print (a,b)"
   ]
  },
  {
   "cell_type": "markdown",
   "id": "59cc4c58",
   "metadata": {},
   "source": [
    "## 1.4 도움말"
   ]
  },
  {
   "cell_type": "code",
   "execution_count": 77,
   "id": "7e09e6d1",
   "metadata": {},
   "outputs": [
    {
     "name": "stdout",
     "output_type": "stream",
     "text": [
      "Help on built-in function print in module builtins:\n",
      "\n",
      "print(...)\n",
      "    print(value, ..., sep=' ', end='\\n', file=sys.stdout, flush=False)\n",
      "    \n",
      "    Prints the values to a stream, or to sys.stdout by default.\n",
      "    Optional keyword arguments:\n",
      "    file:  a file-like object (stream); defaults to the current sys.stdout.\n",
      "    sep:   string inserted between values, default a space.\n",
      "    end:   string appended after the last value, default a newline.\n",
      "    flush: whether to forcibly flush the stream.\n",
      "\n"
     ]
    }
   ],
   "source": [
    "help (print) #help(함수)"
   ]
  },
  {
   "cell_type": "code",
   "execution_count": 82,
   "id": "753c164d",
   "metadata": {
    "collapsed": true
   },
   "outputs": [
    {
     "name": "stdout",
     "output_type": "stream",
     "text": [
      "\n",
      "Welcome to Python 3.10's help utility!\n",
      "\n",
      "If this is your first time using Python, you should definitely check out\n",
      "the tutorial on the internet at https://docs.python.org/3.10/tutorial/.\n",
      "\n",
      "Enter the name of any module, keyword, or topic to get help on writing\n",
      "Python programs and using Python modules.  To quit this help utility and\n",
      "return to the interpreter, just type \"quit\".\n",
      "\n",
      "To get a list of available modules, keywords, symbols, or topics, type\n",
      "\"modules\", \"keywords\", \"symbols\", or \"topics\".  Each module also comes\n",
      "with a one-line summary of what it does; to list the modules whose name\n",
      "or summary contain a given string such as \"spam\", type \"modules spam\".\n",
      "\n",
      "help> q\n",
      "\n",
      "You are now leaving help and returning to the Python interpreter.\n",
      "If you want to ask for help on a particular object directly from the\n",
      "interpreter, you can type \"help(object)\".  Executing \"help('string')\"\n",
      "has the same effect as typing a particular string at the help> prompt.\n"
     ]
    }
   ],
   "source": [
    "help() # help 빠져나오려면 q 입력. esc+o로 결과 접기/펴기"
   ]
  },
  {
   "cell_type": "code",
   "execution_count": 83,
   "id": "b8bafb7d",
   "metadata": {},
   "outputs": [
    {
     "name": "stdout",
     "output_type": "stream",
     "text": [
      "\n"
     ]
    }
   ],
   "source": [
    "#도움말 기능 : shift + tab키 ==> 도움말 단축키 ==> 괄호 안에 커서 있을 때 키 누르기\n",
    "print()"
   ]
  },
  {
   "cell_type": "code",
   "execution_count": 94,
   "id": "48fe6756",
   "metadata": {},
   "outputs": [],
   "source": [
    "#함수 만들기 def add(매개변수1,매개변수2)\n",
    "#''' 이 사이는 함수 도움말\n",
    "#'''\n",
    "def add(x,y=0):\n",
    "    '''\n",
    "    매개변수 (x,y) 2개를 받아 두자리 숫자로 만드는 함수\n",
    "    x = 10의 자리수가 되고\n",
    "    y = 1의 자리수가 됨 (default 값 0 만들려면 y=0으로 입력)\n",
    "    '''\n",
    "    return x*10+y"
   ]
  },
  {
   "cell_type": "code",
   "execution_count": 97,
   "id": "a70ebd74",
   "metadata": {},
   "outputs": [
    {
     "data": {
      "text/plain": [
       "34"
      ]
     },
     "execution_count": 97,
     "metadata": {},
     "output_type": "execute_result"
    }
   ],
   "source": [
    "add(3,4)"
   ]
  },
  {
   "cell_type": "code",
   "execution_count": 98,
   "id": "e92a1872",
   "metadata": {},
   "outputs": [
    {
     "data": {
      "text/plain": [
       "30"
      ]
     },
     "execution_count": 98,
     "metadata": {},
     "output_type": "execute_result"
    }
   ],
   "source": [
    "add(3)"
   ]
  },
  {
   "cell_type": "code",
   "execution_count": 99,
   "id": "9f50b954",
   "metadata": {},
   "outputs": [
    {
     "name": "stdout",
     "output_type": "stream",
     "text": [
      "Help on function add in module __main__:\n",
      "\n",
      "add(x, y=0)\n",
      "    매개변수 (x,y) 2개를 받아 두자리 숫자로 만드는 함수\n",
      "    x = 10의 자리수가 되고\n",
      "    y = 1의 자리수가 됨 (default 값 0 만들려면 y=0으로 입력)\n",
      "\n"
     ]
    }
   ],
   "source": [
    "help(add)"
   ]
  },
  {
   "cell_type": "markdown",
   "id": "d2488aa0",
   "metadata": {},
   "source": [
    "# 2. 화면 i/o (입출력)"
   ]
  },
  {
   "cell_type": "code",
   "execution_count": 119,
   "id": "56271d3a",
   "metadata": {},
   "outputs": [
    {
     "name": "stdout",
     "output_type": "stream",
     "text": [
      "첫번째 숫자는?10\n",
      "두번째 숫자는?5\n"
     ]
    }
   ],
   "source": [
    "#input() : 사용자로부터 값을 입력받기 위한 함수. 입력값은 항상 str (문자) 으로 받음 input앞에 int를 넣어서 숫자로 변환\n",
    "first = int(input('첫번째 숫자는?'))\n",
    "second = int(input('두번째 숫자는?'))"
   ]
  },
  {
   "cell_type": "code",
   "execution_count": 120,
   "id": "34b0c11b",
   "metadata": {},
   "outputs": [
    {
     "name": "stdout",
     "output_type": "stream",
     "text": [
      "10 5\n"
     ]
    }
   ],
   "source": [
    "print (first, second)"
   ]
  },
  {
   "cell_type": "code",
   "execution_count": 123,
   "id": "399a795b",
   "metadata": {},
   "outputs": [
    {
     "name": "stdout",
     "output_type": "stream",
     "text": [
      "두 수의 합은 15\n"
     ]
    }
   ],
   "source": [
    "print('두 수의 합은', first+second)"
   ]
  },
  {
   "cell_type": "code",
   "execution_count": 142,
   "id": "82b6a1f1",
   "metadata": {},
   "outputs": [
    {
     "name": "stdout",
     "output_type": "stream",
     "text": [
      "first--10--second--5\tHello Python\n"
     ]
    }
   ],
   "source": [
    "#print()는 print(value, sep, end) 중 sep과 end를 쓰지 않아도 작동\n",
    "#(값, 여러 값을 분리시켜주는 문자(안쓰면 \" \"),출력 후 어떻게 할지 (안쓰면 줄바꿈(\\n)))\n",
    "# \\t==> tab \\n ==> 줄바꿈\n",
    "print('first', first, 'second', second, sep=\"--\", end=\"\\t\") \n",
    "print('Hello', 'Python', sep=' ')\n"
   ]
  },
  {
   "cell_type": "code",
   "execution_count": null,
   "id": "c23f4a1a",
   "metadata": {},
   "outputs": [],
   "source": []
  },
  {
   "cell_type": "markdown",
   "id": "c3533b5c",
   "metadata": {},
   "source": [
    "# 3. 기본 자료형\n",
    "- 자료형 : 변수가 가저야 할 값의 형식. --> 자료형에 따라 값의 크기 (memory size) 와 저장 방식이 달라짐\n",
    " 8bit = 1byte\n",
    "- 자료형에 따라 수행할 수 있는 명령어들이 달라짐\n",
    "    * `숫자` : int, float, complex\n",
    "    * `문자` : str\n",
    "    * `논리` : bool (T/F)\n",
    "    \n",
    "## 3.1 숫자형\n"
   ]
  },
  {
   "cell_type": "code",
   "execution_count": 148,
   "id": "eaee021d",
   "metadata": {},
   "outputs": [
    {
     "name": "stdout",
     "output_type": "stream",
     "text": [
      "9223372036854775807\n"
     ]
    }
   ],
   "source": [
    "import sys\n",
    "print (sys.maxsize) #정수의 최대값 == 2**63 - 1"
   ]
  },
  {
   "cell_type": "code",
   "execution_count": 150,
   "id": "73736535",
   "metadata": {},
   "outputs": [
    {
     "data": {
      "text/plain": [
       "9223372036854775807"
      ]
     },
     "execution_count": 150,
     "metadata": {},
     "output_type": "execute_result"
    }
   ],
   "source": [
    "2**63 -1"
   ]
  },
  {
   "cell_type": "code",
   "execution_count": 155,
   "id": "63e8e1f7",
   "metadata": {},
   "outputs": [
    {
     "name": "stdout",
     "output_type": "stream",
     "text": [
      "-990776627963145224193\n",
      "<class 'int'>\n"
     ]
    }
   ],
   "source": [
    "i = sys.maxsize -1000000000000000000000\n",
    "print(i)\n",
    "print (type(i))"
   ]
  },
  {
   "cell_type": "code",
   "execution_count": 166,
   "id": "a1ac021d",
   "metadata": {},
   "outputs": [
    {
     "name": "stdout",
     "output_type": "stream",
     "text": [
      "1.2e-12\n",
      "1.2e-12\n",
      "1.2e+20\n"
     ]
    }
   ],
   "source": [
    "g=0.0000000000012\n",
    "print(g)\n",
    "f = 1.2e-12  #지수형태\n",
    "print(f)\n",
    "b = 1.2e20 #큰 수도 가능\n",
    "print(b)"
   ]
  },
  {
   "cell_type": "code",
   "execution_count": 176,
   "id": "81407b38",
   "metadata": {},
   "outputs": [
    {
     "name": "stdout",
     "output_type": "stream",
     "text": [
      "f= 2.0\n"
     ]
    }
   ],
   "source": [
    "#파이썬에서 divide의 result = 무조건 실수 (float)\n",
    "f = 4/2\n",
    "print ('f=',f)"
   ]
  },
  {
   "cell_type": "code",
   "execution_count": 185,
   "id": "b61be048",
   "metadata": {},
   "outputs": [
    {
     "name": "stdout",
     "output_type": "stream",
     "text": [
      "f= 1\n",
      "g= 1\n",
      "<class 'int'> <class 'int'>\n"
     ]
    }
   ],
   "source": [
    "# JAVA / C / C++ 처럼 정수/정수 결과를 정수로\n",
    "f = int(3/2) #int() : int로 형변환 (내림)\n",
    "print ('f=',f)\n",
    "\n",
    "g = 3//2 #몫 연산자\n",
    "print ('g=',g)\n",
    "\n",
    "print(type(f),type(g))"
   ]
  },
  {
   "cell_type": "markdown",
   "id": "10ea862e",
   "metadata": {},
   "source": [
    "## 3.2 문자형\n",
    " - 겹따옴표 (\"\"), 홀따옴표 ('') 이용"
   ]
  },
  {
   "cell_type": "code",
   "execution_count": 201,
   "id": "ca41e66b",
   "metadata": {},
   "outputs": [
    {
     "name": "stdout",
     "output_type": "stream",
     "text": [
      "홍길동'짱'\n",
      "홍길동'짱' 서울시 관악구 \"신림\"동\n",
      "홍길동'짱' 서울시 관악구 \"신림\"동\n"
     ]
    }
   ],
   "source": [
    "name = '홍길동\\'짱\\'' # 홍길동 '짱' 등 전체텍스트에 따옴표를 넣고 싶은 경우 역슬래시\n",
    "print (name)\n",
    "\n",
    "name1 = \"홍길동'짱'\"\n",
    "address = '서울시 관악구 \"신림\"동'\n",
    "address1 = \"서울시 관악구 \\\"신림\\\"동\"\n",
    "\n",
    "print(name, address)\n",
    "print(name1, address1)"
   ]
  },
  {
   "cell_type": "code",
   "execution_count": 207,
   "id": "6df702b4",
   "metadata": {},
   "outputs": [
    {
     "name": "stdout",
     "output_type": "stream",
     "text": [
      "여러줄 \t짜리 내용을 저장 \n",
      "줄바꿈 문자를 쓰면 여러줄 \n",
      "줄바꿈\n"
     ]
    }
   ],
   "source": [
    "#escape 문자 (탈출문자) : \\n, \\t\n",
    "\n",
    "text = '여러줄 \\t짜리 내용을 저장 \\n줄바꿈 문자를 쓰면 여러줄 \\n줄바꿈'\n",
    "print (text)"
   ]
  },
  {
   "cell_type": "code",
   "execution_count": 220,
   "id": "d0da2a0e",
   "metadata": {},
   "outputs": [
    {
     "name": "stdout",
     "output_type": "stream",
     "text": [
      "123\n",
      "456\n",
      "789\n"
     ]
    }
   ],
   "source": [
    "text1 = '''123\n",
    "456\n",
    "789'''\n",
    "#여러줄짜리 내용을 저장 (''' (내용) ''') '''에 줄 바꿔서 쓰면 줄 바꿈으로 인식 '''과 붙혀서 쓸 것\n",
    "print (text1)"
   ]
  },
  {
   "cell_type": "markdown",
   "id": "5456df9b",
   "metadata": {},
   "source": [
    "### ※ 문자열 연산 (+,*)"
   ]
  },
  {
   "cell_type": "code",
   "execution_count": 235,
   "id": "73d5f3cd",
   "metadata": {},
   "outputs": [
    {
     "name": "stdout",
     "output_type": "stream",
     "text": [
      "홍길동\n",
      "동해번쩍\n",
      "홍길동동해번쩍\n",
      "홍길동 동해번쩍\n"
     ]
    }
   ],
   "source": [
    "\"\"\"\n",
    "    여러 줄 주석 용도 \n",
    "    yyyy.mm.dd 문자열 연산 by john doe\n",
    "    홑따옴표로 사용도 가능\n",
    "\"\"\"\n",
    "\n",
    "name1 = '홍길동'\n",
    "name2 = '동해번쩍'\n",
    "\n",
    "print (name1)\n",
    "print (name2)\n",
    "print (name1 + name2)\n",
    "print(name1, name2)"
   ]
  },
  {
   "cell_type": "code",
   "execution_count": 243,
   "id": "5bc3a78b",
   "metadata": {},
   "outputs": [
    {
     "name": "stdout",
     "output_type": "stream",
     "text": [
      "홍길동홍길동홍길동\n",
      "홍길동111\n",
      "홍길동1홍길동1홍길동1\n",
      "홍길동 홍길동 홍길동 \n"
     ]
    }
   ],
   "source": [
    "print (name1 * 3)\n",
    "print (name1 + '1' * 3)\n",
    "print ((name1 +'1') * 3)\n",
    "print ((name1 + ' ') * 3)"
   ]
  },
  {
   "cell_type": "markdown",
   "id": "fa0e9d63",
   "metadata": {},
   "source": [
    "### ※ Raw Data\n",
    " - 용도: 정규표현식, 디렉토리 경로 표현시 이용"
   ]
  },
  {
   "cell_type": "code",
   "execution_count": 250,
   "id": "04572174",
   "metadata": {},
   "outputs": [
    {
     "name": "stdout",
     "output_type": "stream",
     "text": [
      "Hello\n",
      "World\n",
      "Hellow\\nWorld\n"
     ]
    }
   ],
   "source": [
    "# Raw Data : 데이터 처리 시 escape 문자 (\\n, \\t, \\', \\\")를 그대로 저장\n",
    "print ('Hello\\nWorld')\n",
    "print(r'Hellow\\nWorld')"
   ]
  },
  {
   "cell_type": "markdown",
   "id": "b71a6e03",
   "metadata": {},
   "source": [
    "###  ※ 정규표현식 (Regex)\n",
    "   1. 참조\n",
    "   2. 간략문법\n",
    "       - \\d ==> 숫자와 매치. [0-9] 동일 \n",
    "       - \\D ==> 숫자가 아닌 것 \n",
    "       - \\w ==> 영문자 or 숫자 [a-zA-z0-9]\n",
    "       - \\W ==> 영문자 or 숫자가 아닌 문자\n",
    "       - . ==> 문자\n",
    "       - \\\\. ==> .\n",
    "       - \\\\- ==> -\n",
    "        \n",
    "       - {2,} ==> 2번 이상 반복\n",
    "       - {2,4} ==> 2-4회 반복\n",
    "       - ? ==> 0-1회 반복\n",
    "        \n",
    "        - + ==> 1회 이상 반복\n",
    "        - * ==> 0회 이상 반복\n",
    "        \n",
    "        \n",
    "   3. 정규표현식 연습장 :  https://regexr.com\n",
    "       \n",
    "       ex1. 전화번호 추출하기 : 02 888 7777 / 028887777/ 010-9999-9999 / 010.9999.9999 / 02)999-9999\n",
    "       ----> \\d{2,3}[ \\-\\.)]?\\d{3,4}[ \\-\\.]?\\d{4}\n",
    "       \n",
    "       ex2. email : abc12@naver.com / abc12@sns.co.kr\n",
    "       ----> \\w+@\\w+(\\.\\w+){1,2}\n",
    "       \n",
    "       ex3. 주민등록번호 : 981212-1052525\n",
    "       ----> #\\d{2}(0[1-9]|1[0-2])([0[1-9]|[12]\\d|30|31)-[1-4]{1}\\d{6}"
   ]
  },
  {
   "cell_type": "code",
   "execution_count": 252,
   "id": "c1f056a3",
   "metadata": {},
   "outputs": [],
   "source": [
    "#내가 짠 전화번호 추출\n",
    "#\\d{2,3}[\\- ).]?\\d{3,4}[\\- ).]?\\d{4,4}\n",
    "#[0]\\d{1,2}[\\- ).]?\\d{3,4}[\\- ).]?\\d{4,4}\n",
    "\n",
    "#내가 짠 email 추출 ---> 개선: {1,} ==> +\n",
    "# \\w{1,}@\\w{1,}\\.(\\w|\\.){1,}\n",
    "\n",
    "#내가 짠 주민등록번호 추출\n",
    "#\\d{6}[ \\-][0-4]\\d{6} --> 13월에 88일에 태어난 사람도 가능\n",
    "#\\d{2}(0[1-9]|1[0-2])([0[1-9]|1[1-9]|2[1-9]|3[0-1])\\-[1-4]{1}\\d{6}"
   ]
  },
  {
   "cell_type": "code",
   "execution_count": null,
   "id": "551ee299",
   "metadata": {},
   "outputs": [],
   "source": []
  },
  {
   "cell_type": "markdown",
   "id": "5d6acd38",
   "metadata": {},
   "source": [
    "# 4. 포맷팅"
   ]
  },
  {
   "cell_type": "code",
   "execution_count": null,
   "id": "2bf1d606",
   "metadata": {},
   "outputs": [],
   "source": []
  }
 ],
 "metadata": {
  "kernelspec": {
   "display_name": "Python 3 (ipykernel)",
   "language": "python",
   "name": "python3"
  },
  "language_info": {
   "codemirror_mode": {
    "name": "ipython",
    "version": 3
   },
   "file_extension": ".py",
   "mimetype": "text/x-python",
   "name": "python",
   "nbconvert_exporter": "python",
   "pygments_lexer": "ipython3",
   "version": "3.10.9"
  },
  "toc": {
   "base_numbering": 1,
   "nav_menu": {},
   "number_sections": false,
   "sideBar": true,
   "skip_h1_title": false,
   "title_cell": "Table of Contents",
   "title_sidebar": "Contents",
   "toc_cell": false,
   "toc_position": {
    "height": "calc(100% - 180px)",
    "left": "10px",
    "top": "150px",
    "width": "384px"
   },
   "toc_section_display": true,
   "toc_window_display": true
  }
 },
 "nbformat": 4,
 "nbformat_minor": 5
}
