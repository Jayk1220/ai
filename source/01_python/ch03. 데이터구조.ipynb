{
 "cells": [
  {
   "cell_type": "code",
   "execution_count": 1,
   "id": "638373b5",
   "metadata": {},
   "outputs": [
    {
     "data": {
      "text/html": [
       "\n",
       "<style>\n",
       "div.container{width:90% !important;}\n",
       "div.cell.code_cell.rendered{width:100%;}\n",
       "div.input_prompt{padding:0px;}\n",
       "div.CodeMirror{font-family:Consolas; font-size:15pt;}\n",
       "div.text_cell_render.rendered_html{font-size:15pt;}\n",
       "div.output{font-size:12pt; font-weight:bold;}\n",
       "div.input{font-family:Consolas; font-size:15pt;}\n",
       "div.prompt{min-width:70px;}\n",
       "div#toc-wrapper{padding-top:120px;}\n",
       "div.text_cell_renderulli{font-size:12pt;padding:5px;}\n",
       "table.dataframe{font-size:12px;}\n",
       "</style>\n"
      ],
      "text/plain": [
       "<IPython.core.display.HTML object>"
      ]
     },
     "metadata": {},
     "output_type": "display_data"
    }
   ],
   "source": [
    "from IPython.display import display, HTML\n",
    "display(HTML(\"\"\"\n",
    "<style>\n",
    "div.container{width:90% !important;}\n",
    "div.cell.code_cell.rendered{width:100%;}\n",
    "div.input_prompt{padding:0px;}\n",
    "div.CodeMirror{font-family:Consolas; font-size:15pt;}\n",
    "div.text_cell_render.rendered_html{font-size:15pt;}\n",
    "div.output{font-size:12pt; font-weight:bold;}\n",
    "div.input{font-family:Consolas; font-size:15pt;}\n",
    "div.prompt{min-width:70px;}\n",
    "div#toc-wrapper{padding-top:120px;}\n",
    "div.text_cell_renderulli{font-size:12pt;padding:5px;}\n",
    "table.dataframe{font-size:12px;}\n",
    "</style>\n",
    "\"\"\"))\n"
   ]
  },
  {
   "cell_type": "markdown",
   "id": "16cea003",
   "metadata": {},
   "source": [
    "<b><font size=\"6\" color=\"red\">ch03. 데이터구조 </font></b>\n",
    " - 변수 1개에 1개 데이터 = 스칼라 데이터\n",
    " - 리스트 [10,20], 튜플(10,12), 딕셔너리{\"name\":홍길동,\"score\":99}, 셋{10,20}\n",
    " \n",
    " # 1. 리스트\n",
    " ## 1.1 리스트 만들기\n",
    " - []를 이용해서 만들며, 여러 값(여러 타입)을 하나의 변수에 저장/관리 가능\n",
    " - list() 함수 이용도 가능\n",
    " - 인덱스 : 각 요소의 위치, 인덱스는  0부터 시작. 마지막 인덱스는 -1\n",
    " - 슬라이싱[from:to:step]\n",
    " - 인덱스와 슬라이싱을 이용해서 쓰기와 읽기가 가능"
   ]
  },
  {
   "cell_type": "code",
   "execution_count": 3,
   "id": "493c4e40",
   "metadata": {},
   "outputs": [
    {
     "name": "stdout",
     "output_type": "stream",
     "text": [
      "['banana', 'apple', 'orange', 'grape']\n",
      "['pineapple', 'apple', 'orange', 'grape']\n"
     ]
    },
    {
     "data": {
      "text/plain": [
       "'pineapple'"
      ]
     },
     "execution_count": 3,
     "metadata": {},
     "output_type": "execute_result"
    }
   ],
   "source": [
    "fruit = 'banana'\n",
    "fruits = ['banana', 'apple','orange','grape']\n",
    "print (fruits)\n",
    "\n",
    "fruits[0] = 'pineapple'\n",
    "print (fruits)\n",
    "\n",
    "fruits[0]"
   ]
  },
  {
   "cell_type": "code",
   "execution_count": 7,
   "id": "26b1705b",
   "metadata": {},
   "outputs": [
    {
     "name": "stdout",
     "output_type": "stream",
     "text": [
      "['pineapple', 'apple', 'orange', 'grape']\n",
      "grape\n"
     ]
    }
   ],
   "source": [
    "print(fruits)\n",
    "print(fruits[3])#인덱싱을 이용한 읽기\n",
    "#print(fuits[4]) --> 없는 인덱싱은 에러"
   ]
  },
  {
   "cell_type": "code",
   "execution_count": 8,
   "id": "d9893cb3",
   "metadata": {},
   "outputs": [
    {
     "name": "stdout",
     "output_type": "stream",
     "text": [
      "['mango', 'apple', 'orange', 'grape']\n"
     ]
    }
   ],
   "source": [
    "fruits [0] = 'mango' #인덱싱을 이용한 쓰기\n",
    "print (fruits)"
   ]
  },
  {
   "cell_type": "code",
   "execution_count": 9,
   "id": "433d85a7",
   "metadata": {},
   "outputs": [],
   "source": [
    "fruits = ['mango', 'apple', 'orange']\n",
    "x, y, z = ['mango','apple', 'orange']"
   ]
  },
  {
   "cell_type": "code",
   "execution_count": 13,
   "id": "e867e479",
   "metadata": {},
   "outputs": [
    {
     "name": "stdout",
     "output_type": "stream",
     "text": [
      "y=apple\n",
      "mango\n"
     ]
    }
   ],
   "source": [
    "print(f\"y={y}\")\n",
    "print(\"{}\".format(x))"
   ]
  },
  {
   "cell_type": "code",
   "execution_count": 17,
   "id": "37c939db",
   "metadata": {},
   "outputs": [
    {
     "data": {
      "text/plain": [
       "range(0, 10)"
      ]
     },
     "execution_count": 17,
     "metadata": {},
     "output_type": "execute_result"
    }
   ],
   "source": [
    "# range(from,to,by) : from 부터 to 앞까지 by씩 증가하는 나열 가능한 자료\n",
    "    #숫자를 순차적으로 사용 할 수 있게\n",
    "    #from 생략시 0, by 생략시 1, to는 생략 불가\n",
    "range(0,10,1) #[0,1,2,3,4,5,6,7,8,9]\n",
    "range(10) # from, by생략"
   ]
  },
  {
   "cell_type": "code",
   "execution_count": 19,
   "id": "3222975e",
   "metadata": {},
   "outputs": [
    {
     "data": {
      "text/plain": [
       "[0, 1, 2, 3, 4, 5, 6, 7, 8, 9]"
      ]
     },
     "execution_count": 19,
     "metadata": {},
     "output_type": "execute_result"
    }
   ],
   "source": [
    "list(range(10))"
   ]
  },
  {
   "cell_type": "code",
   "execution_count": 23,
   "id": "7510ff6a",
   "metadata": {},
   "outputs": [
    {
     "data": {
      "text/plain": [
       "[10, 8, 6, 4, 2, 0]"
      ]
     },
     "execution_count": 23,
     "metadata": {},
     "output_type": "execute_result"
    }
   ],
   "source": [
    "list(range(10,-1,-1))\n",
    "list(range(10,-1,-2))"
   ]
  },
  {
   "cell_type": "code",
   "execution_count": 33,
   "id": "a2185394",
   "metadata": {},
   "outputs": [
    {
     "name": "stdout",
     "output_type": "stream",
     "text": [
      "0\n",
      "1\n",
      "2\n",
      "3\n",
      "4\n",
      "5\n",
      "6\n",
      "7\n",
      "8\n",
      "9\n",
      "0\n",
      "1\n",
      "2\n",
      "3\n",
      "4\n",
      "5\n",
      "6\n",
      "7\n",
      "8\n",
      "9\n",
      "-5\n",
      "-4\n",
      "-3\n",
      "-2\n",
      "-1\n",
      "0\n",
      "1\n",
      "2\n",
      "3\n",
      "4\n",
      "5\n"
     ]
    }
   ],
   "source": [
    "i='3'\n",
    "for i in [0,1,2,3,4,5,6,7,8,9]:\n",
    "    print(i)\n",
    "    \n",
    "for j in range(10):\n",
    "    print(j)\n",
    "    \n",
    "for i in range(-5,6,1):\n",
    "    print(i)"
   ]
  },
  {
   "cell_type": "code",
   "execution_count": 39,
   "id": "05f020db",
   "metadata": {},
   "outputs": [
    {
     "name": "stdout",
     "output_type": "stream",
     "text": [
      "0번쨰 과일은 mango\n",
      "1번쨰 과일은 apple\n",
      "2번쨰 과일은 orange\n",
      "0번째 과일은 mango\n",
      "1번째 과일은 apple\n",
      "2번째 과일은 orange\n"
     ]
    }
   ],
   "source": [
    "fruits = ['mango', 'apple','orange']\n",
    "\n",
    "\n",
    "print(\"0번쨰 과일은 \" + fruits[0])\n",
    "print(\"1번쨰 과일은 \" + fruits[1])\n",
    "print(\"2번쨰 과일은 \" + fruits[2])\n",
    "\n",
    "print(\"{}번째 과일은 {}\".format(0,fruits[0]))\n",
    "print(\"{}번째 과일은 {}\".format(1,fruits[1]))\n",
    "print(\"{}번째 과일은 {}\".format(2,fruits[2]))"
   ]
  },
  {
   "cell_type": "code",
   "execution_count": 46,
   "id": "d7bdf32f",
   "metadata": {},
   "outputs": [
    {
     "name": "stdout",
     "output_type": "stream",
     "text": [
      "0번째 과일은mango\n",
      "1번째 과일은apple\n",
      "2번째 과일은orange\n",
      "0번째 과일은mango\n",
      "1번째 과일은apple\n",
      "2번째 과일은orange\n"
     ]
    }
   ],
   "source": [
    "for idx in range(3):\n",
    "    print(\"{}번째 과일은{}\".format(idx, fruits[idx]))\n",
    "    \n",
    "for idx in range(len(fruits)):\n",
    "    print(\"{}번째 과일은{}\".format(idx, fruits[idx]))\n",
    "    "
   ]
  },
  {
   "cell_type": "code",
   "execution_count": 50,
   "id": "ac4e7aea",
   "metadata": {},
   "outputs": [
    {
     "data": {
      "text/plain": [
       "[(0, 'mango'), (1, 'apple'), (2, 'orange')]"
      ]
     },
     "execution_count": 50,
     "metadata": {},
     "output_type": "execute_result"
    }
   ],
   "source": [
    "list(enumerate(fruits))"
   ]
  },
  {
   "cell_type": "code",
   "execution_count": 51,
   "id": "031e3de0",
   "metadata": {},
   "outputs": [
    {
     "name": "stdout",
     "output_type": "stream",
     "text": [
      "0번째 과일은 mango\n",
      "1번째 과일은 apple\n",
      "2번째 과일은 orange\n"
     ]
    }
   ],
   "source": [
    "for i, fruit in [(0, 'mango'), (1, 'apple'), (2, 'orange')]:\n",
    "    print(f\"{i}번째 과일은 {fruit}\")\n",
    "    \n",
    "    "
   ]
  },
  {
   "cell_type": "code",
   "execution_count": 52,
   "id": "e099b9cb",
   "metadata": {},
   "outputs": [
    {
     "name": "stdout",
     "output_type": "stream",
     "text": [
      "0번째 과일은 mango\n",
      "1번째 과일은 apple\n",
      "2번째 과일은 orange\n"
     ]
    }
   ],
   "source": [
    "for i, fruit in enumerate(fruits):\n",
    "    print(f\"{i}번째 과일은 {fruit}\")\n"
   ]
  },
  {
   "cell_type": "code",
   "execution_count": 53,
   "id": "3dc0a974",
   "metadata": {},
   "outputs": [
    {
     "name": "stdout",
     "output_type": "stream",
     "text": [
      "mango입니다\n",
      "apple입니다\n",
      "orange입니다\n"
     ]
    }
   ],
   "source": [
    "for x in fruits: #fruits = ['mango', 'apple','orange']\n",
    "    print(f\"{x}입니다\")"
   ]
  },
  {
   "cell_type": "code",
   "execution_count": 57,
   "id": "e929b9f3",
   "metadata": {},
   "outputs": [
    {
     "data": {
      "text/plain": [
       "('2', 5)"
      ]
     },
     "execution_count": 57,
     "metadata": {},
     "output_type": "execute_result"
    }
   ],
   "source": [
    "#list는 여러 타입의 데이터를 담을 수 있음\n",
    "numbers = [0,True,\"2\",[2,3],[4,5,6]]\n",
    "#2, 5 추출 하려고 할 때\n",
    "numbers[2], numbers[4][1]"
   ]
  },
  {
   "cell_type": "code",
   "execution_count": 59,
   "id": "ed436308",
   "metadata": {},
   "outputs": [
    {
     "name": "stdout",
     "output_type": "stream",
     "text": [
      "[[1, 2, 3, 4, 5], [10, 20, 30, 40, 50], [1, 3, 5, 7, 9], [2, 4, 6, 8, 10]]\n"
     ]
    }
   ],
   "source": [
    "#2차원 리스트\n",
    "numbers = [1,2,3,4,5]\n",
    "numbers_2d = [[1,2,3,4,5,], #0행\n",
    "              [10,20,30,40,50], #1행\n",
    "              [1,3,5,7,9],#2행\n",
    "              [2,4,6,8,10]]#3행\n",
    "            #0열 1열 2열 3열 4열  \n",
    "print(numbers_2d)"
   ]
  },
  {
   "cell_type": "code",
   "execution_count": 61,
   "id": "32a524f6",
   "metadata": {},
   "outputs": [
    {
     "name": "stdout",
     "output_type": "stream",
     "text": [
      "50\n"
     ]
    }
   ],
   "source": [
    "print(numbers_2d[1][4])"
   ]
  },
  {
   "cell_type": "code",
   "execution_count": 64,
   "id": "cee0ffdf",
   "metadata": {},
   "outputs": [
    {
     "name": "stdout",
     "output_type": "stream",
     "text": [
      "4\n",
      "4 5\n"
     ]
    }
   ],
   "source": [
    "print(len(numbers_2d))\n",
    "print(len(numbers_2d),len(numbers_2d[0]))"
   ]
  },
  {
   "cell_type": "code",
   "execution_count": 67,
   "id": "98e1ed22",
   "metadata": {},
   "outputs": [
    {
     "name": "stdout",
     "output_type": "stream",
     "text": [
      "1\t2\t3\t4\t5\t\n",
      "10\t20\t30\t40\t50\t\n",
      "1\t3\t5\t7\t9\t\n",
      "2\t4\t6\t8\t10\t\n"
     ]
    }
   ],
   "source": [
    "for row in numbers_2d:\n",
    "    for item in row:\n",
    "        print(item,end='\\t')\n",
    "    print()"
   ]
  },
  {
   "cell_type": "code",
   "execution_count": 78,
   "id": "af1c00d8",
   "metadata": {},
   "outputs": [
    {
     "name": "stdout",
     "output_type": "stream",
     "text": [
      "0행0열 : 1\t0행1열 : 2\t0행2열 : 3\t0행3열 : 4\t0행4열 : 5\t\n",
      "1행0열 : 10\t1행1열 : 20\t1행2열 : 30\t1행3열 : 40\t1행4열 : 50\t\n",
      "2행0열 : 1\t2행1열 : 3\t2행2열 : 5\t2행3열 : 7\t2행4열 : 9\t\n",
      "3행0열 : 2\t3행1열 : 4\t3행2열 : 6\t3행3열 : 8\t3행4열 : 10\t\n"
     ]
    }
   ],
   "source": [
    "for i in range(len(numbers_2d)): #i : 행\n",
    "    for j in range(len(numbers_2d[i])): #j :열\n",
    "        print(f\"{i}행{j}열 : {numbers_2d[i][j]}\", end= '\\t')\n",
    "    print() #개행"
   ]
  },
  {
   "cell_type": "code",
   "execution_count": 68,
   "id": "97cd1fa2",
   "metadata": {},
   "outputs": [
    {
     "data": {
      "text/plain": [
       "4"
      ]
     },
     "execution_count": 68,
     "metadata": {},
     "output_type": "execute_result"
    }
   ],
   "source": [
    "len(numbers_2d)"
   ]
  },
  {
   "cell_type": "code",
   "execution_count": 70,
   "id": "220a2b97",
   "metadata": {},
   "outputs": [
    {
     "data": {
      "text/plain": [
       "5"
      ]
     },
     "execution_count": 70,
     "metadata": {},
     "output_type": "execute_result"
    }
   ],
   "source": [
    "len(numbers_2d[i])"
   ]
  },
  {
   "cell_type": "code",
   "execution_count": 88,
   "id": "bb5cc1fd",
   "metadata": {},
   "outputs": [
    {
     "data": {
      "text/plain": [
       "([(0, [1, 2, 3, 4, 5]),\n",
       "  (1, [10, 20, 30, 40, 50]),\n",
       "  (2, [1, 3, 5, 7, 9]),\n",
       "  (3, [2, 4, 6, 8, 10])],\n",
       " [(0, 1), (1, 2), (2, 3), (3, 4), (4, 5)])"
      ]
     },
     "execution_count": 88,
     "metadata": {},
     "output_type": "execute_result"
    }
   ],
   "source": [
    "list(enumerate(numbers_2d)), list(enumerate(numbers_2d[0]))"
   ]
  },
  {
   "cell_type": "code",
   "execution_count": 99,
   "id": "c254d177",
   "metadata": {},
   "outputs": [
    {
     "name": "stdout",
     "output_type": "stream",
     "text": [
      "0행 4열 : 5\t0행 4열 : 5\t0행 4열 : 5\t0행 4열 : 5\t0행 4열 : 5\t\n",
      "1행 4열 : 50\t1행 4열 : 50\t1행 4열 : 50\t1행 4열 : 50\t1행 4열 : 50\t\n",
      "2행 4열 : 9\t2행 4열 : 9\t2행 4열 : 9\t2행 4열 : 9\t2행 4열 : 9\t\n",
      "3행 4열 : 10\t3행 4열 : 10\t3행 4열 : 10\t3행 4열 : 10\t3행 4열 : 10\t\n"
     ]
    }
   ],
   "source": [
    "for i,row in enumerate(numbers_2d):\n",
    "    for 데이터변수 in enumerate(numbers_2d[i]):\n",
    "        print(\"{}행 {}열 : {}\".format(i,j,numbers_2d[i][j]),end='\\t')\n",
    "    print()"
   ]
  },
  {
   "cell_type": "markdown",
   "id": "cfcf485e",
   "metadata": {},
   "source": [
    "## 1.2 기본 정보 조회"
   ]
  },
  {
   "cell_type": "code",
   "execution_count": 101,
   "id": "d406f5b9",
   "metadata": {},
   "outputs": [],
   "source": [
    "numbers = [1,12,3,4,5]\n",
    "numbers_2d = [[100,0,1],\n",
    "              [9,100,100],\n",
    "              [99,199,130]]"
   ]
  },
  {
   "cell_type": "code",
   "execution_count": 102,
   "id": "d9e893c6",
   "metadata": {},
   "outputs": [
    {
     "data": {
      "text/plain": [
       "(5, 3)"
      ]
     },
     "execution_count": 102,
     "metadata": {},
     "output_type": "execute_result"
    }
   ],
   "source": [
    "#item 수\n",
    "len(numbers), len(numbers_2d)"
   ]
  },
  {
   "cell_type": "code",
   "execution_count": 112,
   "id": "a5aca01b",
   "metadata": {},
   "outputs": [
    {
     "data": {
      "text/plain": [
       "(1, [9, 100, 100], 12, [100, 0, 1])"
      ]
     },
     "execution_count": 112,
     "metadata": {},
     "output_type": "execute_result"
    }
   ],
   "source": [
    "#최소값\n",
    "min(numbers)\n",
    "min(numbers_2d)\n",
    "\n",
    "#최대값\n",
    "max(numbers)\n",
    "max(numbers_2d)\n",
    "\n",
    "#2차원 list의 최소/최대값 : 부분리스트 중 첫 요서가 가장 작은/큰 값\n",
    "\n",
    "min(numbers), min(numbers_2d), max(numbers), max(numbers_2d)\n"
   ]
  },
  {
   "cell_type": "code",
   "execution_count": 114,
   "id": "2264d928",
   "metadata": {},
   "outputs": [
    {
     "data": {
      "text/plain": [
       "('apple', 'orange')"
      ]
     },
     "execution_count": 114,
     "metadata": {},
     "output_type": "execute_result"
    }
   ],
   "source": [
    "#list의 데이터가 문자일 경우 ASCII 코드 값으로 min과 max 적용\n",
    "\n",
    "fruits = ['mango,' , 'apple','orange']\n",
    "\n",
    "min(fruits),max(fruits)"
   ]
  },
  {
   "cell_type": "code",
   "execution_count": 123,
   "id": "a9eee80e",
   "metadata": {},
   "outputs": [
    {
     "name": "stdout",
     "output_type": "stream",
     "text": [
      "오름차순 정렬 : [1, 3, 4, 5, 12]\n",
      "내림차순 정렬 [12, 5, 4, 3, 1]\n",
      "합 : 25\n",
      "평균 : 5.0\n",
      "sorted 함수 사용시 리스트의 내용이 바뀌지 않음 : [1, 12, 3, 4, 5]\n"
     ]
    }
   ],
   "source": [
    "#정렬하기\n",
    "\n",
    "numbers = [1,12, 3,4,5]\n",
    "print(\"오름차순 정렬 :\", sorted(numbers))\n",
    "print('내림차순 정렬', sorted(numbers,reverse=True))\n",
    "print('합 :', sum(numbers) )\n",
    "print('평균 :', sum(numbers)/len(numbers))\n",
    "print(\"sorted 함수 사용시 리스트의 내용이 바뀌지 않음 :\", numbers)"
   ]
  },
  {
   "cell_type": "markdown",
   "id": "c03d5957",
   "metadata": {},
   "source": [
    "## 1.3 요소 추가\n",
    " - + : 두 리스트 연결\n",
    " - * : 리스트를 곱한 수 만큼 반복\n",
    " - append() : 요소 맨 뒤에 추가\n",
    " - extend() : 리스트를 요소별로 맨 뒤줄에 추가\n",
    " - index(idx,값) idx번째 인덱스 위치에 값 추가"
   ]
  },
  {
   "cell_type": "code",
   "execution_count": 140,
   "id": "de9acfb8",
   "metadata": {},
   "outputs": [
    {
     "data": {
      "text/plain": [
       "[1, 2, 3, 1, 2, 3]"
      ]
     },
     "execution_count": 140,
     "metadata": {},
     "output_type": "execute_result"
    }
   ],
   "source": [
    "numbers = [1,2,3]\n",
    "\n",
    "numbers = numbers + numbers #리스트 연결\n",
    "numbers "
   ]
  },
  {
   "cell_type": "code",
   "execution_count": 134,
   "id": "4fa078bc",
   "metadata": {},
   "outputs": [
    {
     "name": "stdout",
     "output_type": "stream",
     "text": [
      "[1, 2, 3, 1, 2, 3, 1, 2, 3]\n",
      "[1, 2, 3, 1, 2, 3, 1, 2, 3]\n"
     ]
    }
   ],
   "source": [
    "numbers = [1,2,3]\n",
    "print(numbers*3) #곱한 수 만큼 반복\n",
    "print(3*numbers)"
   ]
  },
  {
   "cell_type": "code",
   "execution_count": 135,
   "id": "58e77f72",
   "metadata": {},
   "outputs": [
    {
     "data": {
      "text/plain": [
       "[1, 2, 3, 4]"
      ]
     },
     "execution_count": 135,
     "metadata": {},
     "output_type": "execute_result"
    }
   ],
   "source": [
    "numbers.append(4) #맨뒤에 4 추가\n",
    "numbers"
   ]
  },
  {
   "cell_type": "code",
   "execution_count": 136,
   "id": "d4ea4aa4",
   "metadata": {},
   "outputs": [
    {
     "data": {
      "text/plain": [
       "[1, 2, 3, 4, [5, 6, 7]]"
      ]
     },
     "execution_count": 136,
     "metadata": {},
     "output_type": "execute_result"
    }
   ],
   "source": [
    "numbers.append([5,6,7]) #맨 뒤 요소에 [5,6,7]이 추가\n",
    "number"
   ]
  },
  {
   "cell_type": "code",
   "execution_count": 144,
   "id": "a851914f",
   "metadata": {},
   "outputs": [
    {
     "data": {
      "text/plain": [
       "[1, 2, 3, 1, 2, 3, 4, 5, 6, 4, 5, 6, 4, 5, 6, 4, 5, 6]"
      ]
     },
     "execution_count": 144,
     "metadata": {},
     "output_type": "execute_result"
    }
   ],
   "source": [
    "number = [1,2,3]\n",
    "numbers.extend([4,5,6]) # 맨 뒤에 요소별로 4,5,6 각각 추가\n",
    "numbers"
   ]
  },
  {
   "cell_type": "code",
   "execution_count": 148,
   "id": "9fe81e91",
   "metadata": {},
   "outputs": [
    {
     "data": {
      "text/plain": [
       "['a', 'b', 'c', 'd']"
      ]
     },
     "execution_count": 148,
     "metadata": {},
     "output_type": "execute_result"
    }
   ],
   "source": [
    "lst = ['a', 'b', 'c']\n",
    "\n",
    "lst.append('d')\n",
    "\n",
    "lst"
   ]
  },
  {
   "cell_type": "code",
   "execution_count": 149,
   "id": "5a95c092",
   "metadata": {},
   "outputs": [
    {
     "data": {
      "text/plain": [
       "['a', 'b', 'c', 'd', 'hello']"
      ]
     },
     "execution_count": 149,
     "metadata": {},
     "output_type": "execute_result"
    }
   ],
   "source": [
    "lst.append('hello')\n",
    "lst"
   ]
  },
  {
   "cell_type": "code",
   "execution_count": 150,
   "id": "012fb38f",
   "metadata": {},
   "outputs": [
    {
     "data": {
      "text/plain": [
       "['a', 'b', 'c', 'd', 'hello', 'h', 'e', 'l', 'l', 'o']"
      ]
     },
     "execution_count": 150,
     "metadata": {},
     "output_type": "execute_result"
    }
   ],
   "source": [
    "lst.extend('hello')\n",
    "lst"
   ]
  },
  {
   "cell_type": "code",
   "execution_count": 155,
   "id": "1d3b6bfc",
   "metadata": {},
   "outputs": [
    {
     "data": {
      "text/plain": [
       "[1, 'xx', 2, 3, 4, 5]"
      ]
     },
     "execution_count": 155,
     "metadata": {},
     "output_type": "execute_result"
    }
   ],
   "source": [
    "numbers = [1,2,3,4,5]\n",
    "numbers.insert(1,'xx') #1번째 인덱스에 'xx' 추가\n",
    "numbers"
   ]
  },
  {
   "cell_type": "markdown",
   "id": "faf15592",
   "metadata": {},
   "source": [
    "## 1.4 인덱싱과 요소 갯수\n",
    "    - 변수[index] : 인덱스를 이용한 접근\n",
    "    = index : 해당 찾을 데이터가 있는 요소의 index 반환\n",
    "    - 찾을 데이터 in list변수 : 찾을 데이터가 리스트 변수의 요소인지 확인\n",
    "    - count(찾을 데이터) :리스트에서 해당 찾을 데이터의 갯수 반환\n",
    "    \n",
    "   "
   ]
  },
  {
   "cell_type": "code",
   "execution_count": 159,
   "id": "c60ba389",
   "metadata": {},
   "outputs": [
    {
     "data": {
      "text/plain": [
       "0"
      ]
     },
     "execution_count": 159,
     "metadata": {},
     "output_type": "execute_result"
    }
   ],
   "source": [
    "numbers = [1,2,3,[1,2,3],1,2,3]\n",
    "numbers.count(3), numbers.count([1,2,3])\n",
    "numbers.count(5)"
   ]
  },
  {
   "cell_type": "code",
   "execution_count": 161,
   "id": "29323f25",
   "metadata": {},
   "outputs": [
    {
     "name": "stdout",
     "output_type": "stream",
     "text": [
      "True\n",
      "False\n"
     ]
    }
   ],
   "source": [
    "print(2 in numbers) #2가 number의 요소인지 여부\n",
    "print(5 in numbers) "
   ]
  },
  {
   "cell_type": "code",
   "execution_count": 163,
   "id": "1b1813eb",
   "metadata": {},
   "outputs": [
    {
     "ename": "ValueError",
     "evalue": "5 is not in list",
     "output_type": "error",
     "traceback": [
      "\u001b[1;31m---------------------------------------------------------------------------\u001b[0m",
      "\u001b[1;31mValueError\u001b[0m                                Traceback (most recent call last)",
      "Cell \u001b[1;32mIn[163], line 2\u001b[0m\n\u001b[0;32m      1\u001b[0m numbers\u001b[38;5;241m.\u001b[39mindex(\u001b[38;5;241m2\u001b[39m)\n\u001b[1;32m----> 2\u001b[0m \u001b[43mnumbers\u001b[49m\u001b[38;5;241;43m.\u001b[39;49m\u001b[43mindex\u001b[49m\u001b[43m(\u001b[49m\u001b[38;5;241;43m5\u001b[39;49m\u001b[43m)\u001b[49m\n",
      "\u001b[1;31mValueError\u001b[0m: 5 is not in list"
     ]
    }
   ],
   "source": [
    "numbers.index(2)\n",
    "# numbers.index(5) --> error 남"
   ]
  },
  {
   "cell_type": "code",
   "execution_count": 168,
   "id": "7b374d87",
   "metadata": {},
   "outputs": [
    {
     "name": "stdout",
     "output_type": "stream",
     "text": [
      "5가 요소에 포함되지 않습니다\n"
     ]
    }
   ],
   "source": [
    "if 5 in numbers:\n",
    "    print(numbers.index(5))\n",
    "else: \n",
    "    print('5가 요소에 포함되지 않습니다')"
   ]
  },
  {
   "cell_type": "code",
   "execution_count": 170,
   "id": "92d07025",
   "metadata": {},
   "outputs": [
    {
     "name": "stdout",
     "output_type": "stream",
     "text": [
      "5가 요소에 포함되지 않습니다\n"
     ]
    }
   ],
   "source": [
    "if numbers.count(5):\n",
    "    print(numbers.index(5))\n",
    "else: \n",
    "    print('5가 요소에 포함되지 않습니다')"
   ]
  },
  {
   "cell_type": "code",
   "execution_count": 177,
   "id": "b913025b",
   "metadata": {},
   "outputs": [],
   "source": [
    "def safe_index(lst, item):\n",
    "    \"\"\"첫번쨰 매개변수 lst에서 item 요소가 있는 index를 반환, \n",
    "    item요소가 없으면 -1반환\"\"\"\n",
    "    if item in lst:\n",
    "        return lst.index(item)\n",
    "    return -1"
   ]
  },
  {
   "cell_type": "code",
   "execution_count": 8,
   "id": "540be42c",
   "metadata": {
    "scrolled": false
   },
   "outputs": [
    {
     "data": {
      "text/plain": [
       "(1, -1)"
      ]
     },
     "execution_count": 8,
     "metadata": {},
     "output_type": "execute_result"
    }
   ],
   "source": [
    "from lst import safe_index #lst.py(모듈 안 safe_index를 메모리에 로드)\n",
    "numbers = [1,2,3]\n",
    "safe_index(numbers,2),safe_index(numbers,5)"
   ]
  },
  {
   "cell_type": "code",
   "execution_count": 9,
   "id": "4f375b69",
   "metadata": {
    "scrolled": true
   },
   "outputs": [
    {
     "ename": "NameError",
     "evalue": "name 'number' is not defined",
     "output_type": "error",
     "traceback": [
      "\u001b[1;31m---------------------------------------------------------------------------\u001b[0m",
      "\u001b[1;31mNameError\u001b[0m                                 Traceback (most recent call last)",
      "Cell \u001b[1;32mIn[9], line 1\u001b[0m\n\u001b[1;32m----> 1\u001b[0m \u001b[43mnumber\u001b[49m[\u001b[38;5;241m5\u001b[39m]\n",
      "\u001b[1;31mNameError\u001b[0m: name 'number' is not defined"
     ]
    }
   ],
   "source": [
    "number[5] #  벗어난 인덱싱의 경우 에러남\n"
   ]
  },
  {
   "cell_type": "code",
   "execution_count": 11,
   "id": "90b4d03a",
   "metadata": {},
   "outputs": [
    {
     "data": {
      "text/plain": [
       "[3]"
      ]
     },
     "execution_count": 11,
     "metadata": {},
     "output_type": "execute_result"
    }
   ],
   "source": [
    "numbers[2:5] #벗어난 인덱스로 슬라이싱시 에러 안남"
   ]
  },
  {
   "cell_type": "markdown",
   "id": "50933af4",
   "metadata": {},
   "source": [
    "## 1.5 원하는 요소 추출\n",
    "- 1. 리스트 슬라싱 \n",
    "    - [from:to:step] from번째부터 to 앞까지 step 씩 증가하는 index값 추출\n",
    "        * from 생략시 처음, to 생략시 끝, step 생략시 1\n",
    "    - 인덱스의 범위를 벗어난 값도 에러나지 않음\n",
    "    - 인덱스는 음수도 가능\n",
    "\n",
    "- 2. **리스트 컴프리핸션** : 원하는 조건의 데이터 추출"
   ]
  },
  {
   "cell_type": "code",
   "execution_count": 14,
   "id": "e575cc8d",
   "metadata": {},
   "outputs": [
    {
     "name": "stdout",
     "output_type": "stream",
     "text": [
      "[20, 19, 18, 13, 12, 10, 9, 5, 3, 1]\n",
      "[1, 5, 10, 13, 19]\n"
     ]
    }
   ],
   "source": [
    "numbers = [1,3,5,9,10,12,13,18,19,20]\n",
    "print(numbers[::-1]) #거꾸로 출력\n",
    "print(numbers[::2]) #짝수 index 값 출력\n",
    "print(numbers[2:100]) # 인덱스를 벗어난 슬라이싱 기능"
   ]
  },
  {
   "cell_type": "code",
   "execution_count": 26,
   "id": "81ab9f6f",
   "metadata": {},
   "outputs": [
    {
     "name": "stdout",
     "output_type": "stream",
     "text": [
      "1\t3\t5\t9\t10\t12\t13\t18\t19\t20\t"
     ]
    }
   ],
   "source": [
    "#모든 데이터 추출\n",
    "for data in numbers:\n",
    "    print(data,end='\\t')"
   ]
  },
  {
   "cell_type": "code",
   "execution_count": 27,
   "id": "7b49d1b0",
   "metadata": {},
   "outputs": [
    {
     "data": {
      "text/plain": [
       "[1, 3, 5, 9, 10, 12, 13, 18, 19, 20]"
      ]
     },
     "execution_count": 27,
     "metadata": {},
     "output_type": "execute_result"
    }
   ],
   "source": [
    "[data for data in numbers]"
   ]
  },
  {
   "cell_type": "code",
   "execution_count": 32,
   "id": "b8f7748e",
   "metadata": {},
   "outputs": [
    {
     "name": "stdout",
     "output_type": "stream",
     "text": [
      "10 12 18 20 "
     ]
    }
   ],
   "source": [
    "#짝수 데이터 추출\n",
    "\n",
    "for data in numbers:\n",
    "    if data%2 == 0:\n",
    "        print(data,end=' ')"
   ]
  },
  {
   "cell_type": "code",
   "execution_count": 34,
   "id": "0ffdd944",
   "metadata": {},
   "outputs": [
    {
     "data": {
      "text/plain": [
       "[10, 12, 18, 20]"
      ]
     },
     "execution_count": 34,
     "metadata": {},
     "output_type": "execute_result"
    }
   ],
   "source": [
    "[data for data in numbers if data%2 ==0]"
   ]
  },
  {
   "cell_type": "code",
   "execution_count": 79,
   "id": "6a4a70ed",
   "metadata": {},
   "outputs": [
    {
     "name": "stdout",
     "output_type": "stream",
     "text": [
      "10\n",
      "12\n",
      "13\n",
      "18\n",
      "19\n",
      "20\n"
     ]
    },
    {
     "data": {
      "text/plain": [
       "[10, 12, 13, 18, 19, 20]"
      ]
     },
     "execution_count": 79,
     "metadata": {},
     "output_type": "execute_result"
    }
   ],
   "source": [
    "#ex1. numbers에서 10 이상인 요소만 추출\n",
    "\n",
    "for i in numbers:\n",
    "    if i >=10:\n",
    "        print(i)\n",
    "        \n",
    "[data for data in numbers if data >= 10]"
   ]
  },
  {
   "cell_type": "code",
   "execution_count": 49,
   "id": "182aba0e",
   "metadata": {},
   "outputs": [
    {
     "data": {
      "text/plain": [
       "['orange', 'apple', 'mango']"
      ]
     },
     "execution_count": 49,
     "metadata": {},
     "output_type": "execute_result"
    }
   ],
   "source": [
    "#ex2. fruits에서 글자가 5글자 이상인 과일\n",
    "fruits = ['orange','apple','mango','kiwi']\n",
    "\n",
    "[i for i in fruits if len(i)>=5]"
   ]
  },
  {
   "cell_type": "code",
   "execution_count": 81,
   "id": "539a6cb2",
   "metadata": {},
   "outputs": [
    {
     "data": {
      "text/plain": [
       "[6, 5, 5, 4]"
      ]
     },
     "execution_count": 81,
     "metadata": {},
     "output_type": "execute_result"
    }
   ],
   "source": [
    "#ex2-1. fruits의 과일 글자수\n",
    "\n",
    "[len(i) for i in fruits ]"
   ]
  },
  {
   "cell_type": "code",
   "execution_count": 84,
   "id": "c960b12e",
   "metadata": {},
   "outputs": [
    {
     "name": "stdout",
     "output_type": "stream",
     "text": [
      "9\n",
      "16\n",
      "25\n"
     ]
    },
    {
     "data": {
      "text/plain": [
       "[9, 16, 25]"
      ]
     },
     "execution_count": 84,
     "metadata": {},
     "output_type": "execute_result"
    }
   ],
   "source": [
    "#ex3. 3 이상인 요소들의 제곱을 추출\n",
    "L = [1,2,3,4,5]\n",
    "\n",
    "for i in L:\n",
    "    if i >= 3:\n",
    "        print(i**2)\n",
    "        \n",
    "[i**2 for i in L if i >=3 ]"
   ]
  },
  {
   "cell_type": "code",
   "execution_count": null,
   "id": "f5f28771",
   "metadata": {},
   "outputs": [],
   "source": [
    "#ex4. 리스트 요소의 값의 2배 추출"
   ]
  },
  {
   "cell_type": "code",
   "execution_count": 87,
   "id": "1a60dcfc",
   "metadata": {},
   "outputs": [
    {
     "data": {
      "text/plain": [
       "[2, 4, 6, 8, 10]"
      ]
     },
     "execution_count": 87,
     "metadata": {},
     "output_type": "execute_result"
    }
   ],
   "source": [
    "\n",
    "[l*2for l in L]"
   ]
  },
  {
   "cell_type": "markdown",
   "id": "057ff479",
   "metadata": {},
   "source": [
    " ## 1.6 요소 수정하기\n",
    "  - 인덱스, 슬라이싱 이용해서 수정\n",
    "  \n"
   ]
  },
  {
   "cell_type": "code",
   "execution_count": 92,
   "id": "251cc836",
   "metadata": {},
   "outputs": [
    {
     "data": {
      "text/plain": [
       "[0, 1, 222, 3, 4, 5, 6, 7, 8, 9]"
      ]
     },
     "execution_count": 92,
     "metadata": {},
     "output_type": "execute_result"
    }
   ],
   "source": [
    "members = [0,1,2,3,4,5,6,7,8,9]\n",
    "members[2] = 222\n",
    "members"
   ]
  },
  {
   "cell_type": "code",
   "execution_count": 95,
   "id": "670c8ba8",
   "metadata": {},
   "outputs": [
    {
     "data": {
      "text/plain": [
       "['xx', 'xxx', 'yy', 'yyy', 'yy', 'yyy', 222, 3, 4, 5, 6, 7, 8, 9]"
      ]
     },
     "execution_count": 95,
     "metadata": {},
     "output_type": "execute_result"
    }
   ],
   "source": [
    "#슬라이싱 (step부분 미포함) 을 포함하여 부분 리스트를 통째로 수정\n",
    "\n",
    "members[0:2] = ['xx','xxx','yy','yyy']\n",
    "\n",
    "members\n"
   ]
  },
  {
   "cell_type": "code",
   "execution_count": 4,
   "id": "66be8d14",
   "metadata": {},
   "outputs": [
    {
     "name": "stdout",
     "output_type": "stream",
     "text": [
      "수정전 [0, 0, 0, 0, 0, 0, 0, 0, 0, 0]\n",
      "수정후 [1, 0, 3, 0, 5, 0, 7, 0, 9, 0]\n"
     ]
    }
   ],
   "source": [
    "#슬라이싱 (step부분 포함)을 이용하여 부분 수정시 요소 개수가 맞아야 함\n",
    "\n",
    "numbers = [0]*10\n",
    "numbers\n",
    "\n",
    "print('수정전', numbers)\n",
    "numbers[0::2]=[1,3,5,7,9]\n",
    "print('수정후', numbers)"
   ]
  },
  {
   "cell_type": "markdown",
   "id": "c009b80b",
   "metadata": {},
   "source": [
    "## 1.7 요소삭제\n",
    " - pop() : 가장 마지막 인덱스의 요소가 반환되고 삭제\n",
    " - pop(idx): idx번째 요소가 반환되고 삭제\n",
    " - remove(data): list 안의 daa 삭제\n",
    " - del 리스트변수[idx] : idx 번째 요소 삭제"
   ]
  },
  {
   "cell_type": "code",
   "execution_count": 30,
   "id": "be06be63",
   "metadata": {},
   "outputs": [],
   "source": [
    "numbers = [0,1,2,3,4,5]"
   ]
  },
  {
   "cell_type": "code",
   "execution_count": 11,
   "id": "ad60cef8",
   "metadata": {},
   "outputs": [
    {
     "name": "stdout",
     "output_type": "stream",
     "text": [
      "삭제한 데이터 5\n",
      "삭제 후 [0, 1, 2, 3, 4]\n"
     ]
    }
   ],
   "source": [
    "print('삭제한 데이터', numbers.pop())\n",
    "print('삭제 후',numbers)"
   ]
  },
  {
   "cell_type": "code",
   "execution_count": 15,
   "id": "2b8bd288",
   "metadata": {},
   "outputs": [
    {
     "name": "stdout",
     "output_type": "stream",
     "text": [
      "삭제한 데이터 1\n",
      "삭제 후 [0, 2, 3, 4, 5]\n"
     ]
    }
   ],
   "source": [
    "print('삭제한 데이터', numbers.pop(1))\n",
    "print('삭제 후',numbers)\n",
    "print('데이터 1 삭제')"
   ]
  },
  {
   "cell_type": "code",
   "execution_count": 34,
   "id": "0befab0e",
   "metadata": {},
   "outputs": [
    {
     "name": "stdout",
     "output_type": "stream",
     "text": [
      "데이터1 삭제 후 number : [0, 3, 4, 5]\n",
      "del numbers[1]\n",
      "[0, 4, 5]\n",
      "해당 데이터는 없는 item입니다\n"
     ]
    }
   ],
   "source": [
    "\n",
    "#numbers.remove(9)\n",
    "print(\"데이터1 삭제 후 number :\", numbers)\n",
    "print('del numbers[1]')\n",
    "del numbers[1]\n",
    "print(numbers)\n",
    "\n"
   ]
  },
  {
   "cell_type": "code",
   "execution_count": 35,
   "id": "0e14e3ca",
   "metadata": {},
   "outputs": [
    {
     "name": "stdout",
     "output_type": "stream",
     "text": [
      "해당 데이터는 없는 item입니다\n"
     ]
    }
   ],
   "source": [
    "#numbers.remove(9)\n",
    "if 9 in numbers:\n",
    "    numbers.remove(9)\n",
    "else:\n",
    "    print('해당 데이터는 없는 item입니다')"
   ]
  },
  {
   "cell_type": "code",
   "execution_count": 36,
   "id": "b46ebe6d",
   "metadata": {},
   "outputs": [
    {
     "data": {
      "text/plain": [
       "[]"
      ]
     },
     "execution_count": 36,
     "metadata": {},
     "output_type": "execute_result"
    }
   ],
   "source": [
    "numbers.clear() #모든 요소를 삭제\n",
    "numbers"
   ]
  },
  {
   "cell_type": "markdown",
   "id": "baedbef6",
   "metadata": {},
   "source": [
    "## 1.8 정렬하기\n"
   ]
  },
  {
   "cell_type": "code",
   "execution_count": 42,
   "id": "07f02056",
   "metadata": {},
   "outputs": [
    {
     "name": "stdout",
     "output_type": "stream",
     "text": [
      "number는 변경하지 않고, 정렬결과:  [0, 5, 6, 8, 9]\n",
      "numbers:  [9, 5, 0, 8, 6]\n"
     ]
    }
   ],
   "source": [
    "numbers = [9,5,0,8,6]\n",
    "print(\"number는 변경하지 않고, 정렬결과: \", sorted(numbers))\n",
    "\n",
    "print(\"numbers: \", numbers)"
   ]
  },
  {
   "cell_type": "code",
   "execution_count": 47,
   "id": "aaa4ef8e",
   "metadata": {},
   "outputs": [
    {
     "data": {
      "text/plain": [
       "[0, 5, 6, 8, 9]"
      ]
     },
     "execution_count": 47,
     "metadata": {},
     "output_type": "execute_result"
    }
   ],
   "source": [
    "numbers.sort() # numbers 자체가 오름차순 정렬한 결과로 바꿈\n",
    "numbers"
   ]
  },
  {
   "cell_type": "code",
   "execution_count": 58,
   "id": "d794da69",
   "metadata": {},
   "outputs": [
    {
     "data": {
      "text/plain": [
       "[9, 8, 6, 5, 0]"
      ]
     },
     "execution_count": 58,
     "metadata": {},
     "output_type": "execute_result"
    }
   ],
   "source": [
    "numbers.sort(reverse=True) # numbers 자체가 내림차순 정렬한 결과로 바꿈\n",
    "numbers"
   ]
  },
  {
   "cell_type": "code",
   "execution_count": 59,
   "id": "16269070",
   "metadata": {},
   "outputs": [
    {
     "data": {
      "text/plain": [
       "[0, 5, 6, 8, 9]"
      ]
     },
     "execution_count": 59,
     "metadata": {},
     "output_type": "execute_result"
    }
   ],
   "source": [
    "numbers.reverse() # 리스트를 역순으로 변경\n",
    "#numbers = numbers[::-1]\n",
    "numbers"
   ]
  },
  {
   "cell_type": "markdown",
   "id": "39df38b9",
   "metadata": {},
   "source": [
    "## 1.9 리스트 복제\n"
   ]
  },
  {
   "cell_type": "code",
   "execution_count": 62,
   "id": "8bb76713",
   "metadata": {},
   "outputs": [
    {
     "name": "stdout",
     "output_type": "stream",
     "text": [
      "원본i =10, 복사본cp_i = 10 /원본주소= 1889829454352, 복사본주소= 1889829454352\n",
      "원본i =10, 복사본cp_i = 99 /원본주소= 1889829454352, 복사본주소= 1889829457200\n"
     ]
    }
   ],
   "source": [
    "#스칼라데이터 복제\n",
    "i = 10\n",
    "cp_i = i\n",
    "print(f\"원본i ={i}, 복사본cp_i = {cp_i} /원본주소= {id(i)}, 복사본주소= {id(cp_i)}\")\n",
    "\n",
    "cp_i = 99\n",
    "print(f\"원본i ={i}, 복사본cp_i = {cp_i} /원본주소= {id(i)}, 복사본주소= {id(cp_i)}\")"
   ]
  },
  {
   "cell_type": "code",
   "execution_count": 70,
   "id": "898b8037",
   "metadata": {},
   "outputs": [
    {
     "name": "stdout",
     "output_type": "stream",
     "text": [
      "원본 주소 : 1889941811584\n",
      "복제본 주소 : 1889941811584\n",
      "원본 내용:  [99, 6, 1, 9]\n",
      "복제본 내용:  [99, 6, 1, 9]\n"
     ]
    }
   ],
   "source": [
    "#데이터 구조의 복제\n",
    "\n",
    "numbers = [5,6,1,9]\n",
    "new_numbers = numbers\n",
    "\n",
    "print('원본 주소 :', id(numbers))\n",
    "print('복제본 주소 :', id(new_numbers))\n",
    "new_numbers[0] = 99\n",
    "\n",
    "print('원본 내용: ',numbers)\n",
    "print('복제본 내용: ',new_numbers)"
   ]
  },
  {
   "cell_type": "code",
   "execution_count": 73,
   "id": "6b026930",
   "metadata": {},
   "outputs": [
    {
     "name": "stdout",
     "output_type": "stream",
     "text": [
      "[1, 5, 6, 9]\n",
      "[1, 5, 6, 9]\n"
     ]
    }
   ],
   "source": [
    "# 할당\n",
    "numbers = [5,6,1,9]\n",
    "new_numbers = numbers\n",
    "\n",
    "new_numbers.sort()\n",
    "print(numbers)\n",
    "print(new_numbers)"
   ]
  },
  {
   "cell_type": "code",
   "execution_count": 80,
   "id": "43d4b624",
   "metadata": {},
   "outputs": [
    {
     "name": "stdout",
     "output_type": "stream",
     "text": [
      "[5, 6, 1, 9] 원본 주소 1889941741376\n",
      "[9, 6, 5, 1] 복제본 주소 1889941857152\n"
     ]
    }
   ],
   "source": [
    " #리스트 복제 (깊은 복사)\n",
    "numbers = [5,6,1,9]\n",
    "new_numbers = numbers.copy() #numbers를 복제 (깊은 복사)\n",
    "new_numbers.sort(reverse=True) #내림차순정렬\n",
    "print(numbers,\"원본 주소\",id(numbers))\n",
    "print(new_numbers,\"복제본 주소\",id(new_numbers))"
   ]
  },
  {
   "cell_type": "code",
   "execution_count": 79,
   "id": "6c33aba6",
   "metadata": {},
   "outputs": [
    {
     "name": "stdout",
     "output_type": "stream",
     "text": [
      "원본 : [5, 6, 1, 9]\n",
      "정렬본 : [1, 5, 6, 9]\n"
     ]
    }
   ],
   "source": [
    "numbers = [5,6,1,9]\n",
    "new_numbers = sorted(numbers)\n",
    "print('원본 :',numbers)\n",
    "print('정렬본 :',new_numbers)"
   ]
  },
  {
   "cell_type": "code",
   "execution_count": 81,
   "id": "a074d59a",
   "metadata": {},
   "outputs": [
    {
     "name": "stdout",
     "output_type": "stream",
     "text": [
      "정렬 전 : ['서울', '대전', '대구', '부산', '하남', '수원', '제주']\n",
      "정렬 후 : ['대구', '대전', '부산', '서울', '수원', '제주', '하남']\n"
     ]
    }
   ],
   "source": [
    "city = ['서울','대전','대구','부산','하남','수원','제주']\n",
    "temp = city.copy()\n",
    "temp.sort()\n",
    "print('정렬 전 :', city)\n",
    "print('정렬 후 :', temp)"
   ]
  },
  {
   "cell_type": "code",
   "execution_count": 84,
   "id": "e1ac09a6",
   "metadata": {},
   "outputs": [
    {
     "name": "stdout",
     "output_type": "stream",
     "text": [
      "정렬 전 : ['서울', '대전', '대구', '부산', '하남', '수원', '제주']\n",
      "정렬 후 : []\n"
     ]
    }
   ],
   "source": [
    "temp.clear()\n",
    "print('정렬 전 :', city)\n",
    "print('정렬 후 :', temp)"
   ]
  },
  {
   "cell_type": "code",
   "execution_count": null,
   "id": "7344ce4e",
   "metadata": {},
   "outputs": [],
   "source": []
  },
  {
   "cell_type": "markdown",
   "id": "8858b3e6",
   "metadata": {},
   "source": [
    "# 2. 튜플\n",
    " - 리스트([])와 유사하지만 읽기 전용 ==> 수정이 필요 없는 데이터에서 사용\n",
    " - 수정 불가하므로 튜플에서 데이터 수정, 추가, 삭제 불가\n",
    " - 제공되는 함수도 많지 않음\n",
    " - () 이용해서 생성, tuple() 함수 이용\n"
   ]
  },
  {
   "cell_type": "code",
   "execution_count": 88,
   "id": "a6f27500",
   "metadata": {},
   "outputs": [
    {
     "name": "stdout",
     "output_type": "stream",
     "text": [
      "<class 'tuple'>\n",
      "('서울', '대전', '대구', '부산', '하남', '수원', '제주')\n"
     ]
    }
   ],
   "source": [
    "city = ('서울','대전','대구','부산','하남','수원','제주')\n",
    "#파이썬은 여러 값이 전달 될 때 튜플 타입으로 전달\n",
    "city = '서울','대전','대구','부산','하남','수원','제주'\n",
    "\n",
    "print(type(city))\n",
    "print(city)"
   ]
  },
  {
   "cell_type": "code",
   "execution_count": 89,
   "id": "62af0e08",
   "metadata": {},
   "outputs": [
    {
     "data": {
      "text/plain": [
       "'서울,대전,대구,부산,하남,수원,제주'"
      ]
     },
     "execution_count": 89,
     "metadata": {},
     "output_type": "execute_result"
    }
   ],
   "source": [
    "#매개변수에 list가 오면 tuple 매개변수로 사용\n",
    "\n",
    "','.join(city) "
   ]
  },
  {
   "cell_type": "code",
   "execution_count": 90,
   "id": "bd3a666b",
   "metadata": {},
   "outputs": [
    {
     "data": {
      "text/plain": [
       "1"
      ]
     },
     "execution_count": 90,
     "metadata": {},
     "output_type": "execute_result"
    }
   ],
   "source": [
    "from lst import safe_index\n",
    "safe_index(city,'대전')"
   ]
  },
  {
   "cell_type": "code",
   "execution_count": 91,
   "id": "a650c0d3",
   "metadata": {},
   "outputs": [
    {
     "name": "stdout",
     "output_type": "stream",
     "text": [
      "<class 'list'>\n",
      "['서울']\n",
      "1\n"
     ]
    }
   ],
   "source": [
    "l = ['서울'] #요소가 하나 있는 리스트\n",
    "print (type(l))\n",
    "print(l)\n",
    "print(len(l))"
   ]
  },
  {
   "cell_type": "code",
   "execution_count": 97,
   "id": "b59482ee",
   "metadata": {},
   "outputs": [
    {
     "name": "stdout",
     "output_type": "stream",
     "text": [
      "<class 'tuple'>\n",
      "('서울',)\n",
      "1\n"
     ]
    }
   ],
   "source": [
    "city = ('서울',) #요소가 하나 있는 튜플 (o)\n",
    "print (type(city))\n",
    "print(city)\n",
    "print(len(city))"
   ]
  },
  {
   "cell_type": "code",
   "execution_count": 7,
   "id": "26633e3b",
   "metadata": {},
   "outputs": [],
   "source": [
    "numbers = (1,2,3)\n",
    "#numbers.append(4) ==>수정하기 위한 함수는 제공되지 않음\n"
   ]
  },
  {
   "cell_type": "code",
   "execution_count": 102,
   "id": "c91f7735",
   "metadata": {},
   "outputs": [
    {
     "data": {
      "text/plain": [
       "(1, 3, 6)"
      ]
     },
     "execution_count": 102,
     "metadata": {},
     "output_type": "execute_result"
    }
   ],
   "source": [
    "min(numbers), max(numbers), sum(numbers)"
   ]
  },
  {
   "cell_type": "code",
   "execution_count": 9,
   "id": "57beccd1",
   "metadata": {},
   "outputs": [
    {
     "data": {
      "text/plain": [
       "[1, 2, 3]"
      ]
     },
     "execution_count": 9,
     "metadata": {},
     "output_type": "execute_result"
    }
   ],
   "source": [
    "numbers.count(2)\n",
    "#numbers.sort()는 작동하지 않음, 하려면 아래 방식 사용\n",
    "sorted(numbers)"
   ]
  },
  {
   "cell_type": "code",
   "execution_count": 106,
   "id": "601f162f",
   "metadata": {},
   "outputs": [
    {
     "data": {
      "text/plain": [
       "2"
      ]
     },
     "execution_count": 106,
     "metadata": {},
     "output_type": "execute_result"
    }
   ],
   "source": [
    "numbers.index(3)"
   ]
  },
  {
   "cell_type": "code",
   "execution_count": 107,
   "id": "6414ce0c",
   "metadata": {},
   "outputs": [
    {
     "name": "stdout",
     "output_type": "stream",
     "text": [
      "해당 데이터 없음\n"
     ]
    }
   ],
   "source": [
    "if 4 in numbers:\n",
    "    numbers.index(4)\n",
    "else:\n",
    "    print('해당 데이터 없음')\n",
    "    "
   ]
  },
  {
   "cell_type": "code",
   "execution_count": 109,
   "id": "7719b3ef",
   "metadata": {},
   "outputs": [
    {
     "data": {
      "text/plain": [
       "-1"
      ]
     },
     "execution_count": 109,
     "metadata": {},
     "output_type": "execute_result"
    }
   ],
   "source": [
    "safe_index(numbers,4)"
   ]
  },
  {
   "cell_type": "code",
   "execution_count": 24,
   "id": "5bd81f0f",
   "metadata": {},
   "outputs": [
    {
     "name": "stdout",
     "output_type": "stream",
     "text": [
      "no data\n"
     ]
    }
   ],
   "source": [
    "numbers = (1,4,3,2)\n",
    "if 4 in numbers[2:]:\n",
    "    numbers.index(4,2)\n",
    "else:\n",
    "    print('no data')\n",
    "    \n",
    "    numbers.index(4,1) #index(찾을 데이터, 찾기 시작할 index(공란이면 0))\n",
    "#numbers.index(4) 없는 데이터는 에러"
   ]
  },
  {
   "cell_type": "code",
   "execution_count": 35,
   "id": "293e4971",
   "metadata": {},
   "outputs": [],
   "source": [
    "def safe_index(lst, item, start = 0):\n",
    "    '''\n",
    "    첫번째 매개변수 lst : 나열 가능한 자료(list, tuple)\n",
    "    두번째 매개변수 item: 리스트, 튜플에서 찾을 데이터\n",
    "    세번째 매개변수 start: 몇번째 인덱스부터 찾을지 index 수(기본값:0)\n",
    "    '''\n",
    "\n",
    "    return lst.index(item, start) if item in lst[start:]else -1\n",
    "    \n",
    "    \n",
    "#    if item in lst[start:]:\n",
    "#        return lst.index(item, start) #start번째 부터 item이 있는 index를 반환\n",
    "#    return -1\n",
    "\n",
    "    "
   ]
  },
  {
   "cell_type": "code",
   "execution_count": 40,
   "id": "d137661e",
   "metadata": {},
   "outputs": [
    {
     "data": {
      "text/plain": [
       "3"
      ]
     },
     "execution_count": 40,
     "metadata": {},
     "output_type": "execute_result"
    }
   ],
   "source": [
    "safe_index(numbers,2,2)"
   ]
  },
  {
   "cell_type": "code",
   "execution_count": 38,
   "id": "b355804c",
   "metadata": {},
   "outputs": [
    {
     "data": {
      "text/plain": [
       "10"
      ]
     },
     "execution_count": 38,
     "metadata": {},
     "output_type": "execute_result"
    }
   ],
   "source": [
    "#위의 if문을 조건식을 이용하여 한줄 코드로 변환\n",
    "x,y = 10,20\n",
    "\n",
    "def diff(x,y): \n",
    "    return x-y if x>y else y-x #if문이 참일때 값 if 조건 else if문이 거짓일때 값\n",
    "    return result\n",
    "#    if x>y:\n",
    "#        return x-y\n",
    "#    else:\n",
    "#        return y-x\n",
    "    \n",
    "diff(10,20)\n",
    "diff(20,10)"
   ]
  },
  {
   "cell_type": "code",
   "execution_count": 43,
   "id": "fc20a74d",
   "metadata": {},
   "outputs": [
    {
     "data": {
      "text/plain": [
       "(1, 2, 3, 1, 2, 3)"
      ]
     },
     "execution_count": 43,
     "metadata": {},
     "output_type": "execute_result"
    }
   ],
   "source": [
    "numbers = (1,2,3)\n",
    "numbers + numbers"
   ]
  },
  {
   "cell_type": "code",
   "execution_count": 50,
   "id": "62c7831e",
   "metadata": {},
   "outputs": [
    {
     "name": "stdout",
     "output_type": "stream",
     "text": [
      "(4, 16, 36)\n"
     ]
    }
   ],
   "source": [
    "# ex 짝수 요소들을 추출하여 제곱한 데이터를 튜플로 출력\n",
    "numbers = (11,2,3,4,5,6)\n",
    "\n",
    "a=tuple([num**2 for num in numbers if num%2 == 0])\n",
    "print(a)"
   ]
  },
  {
   "cell_type": "code",
   "execution_count": 51,
   "id": "e69da1d4",
   "metadata": {},
   "outputs": [
    {
     "data": {
      "text/plain": [
       "[4, 16, 36]"
      ]
     },
     "execution_count": 51,
     "metadata": {},
     "output_type": "execute_result"
    }
   ],
   "source": [
    "list(a)"
   ]
  },
  {
   "cell_type": "markdown",
   "id": "9668b3a5",
   "metadata": {},
   "source": [
    "# 3. 딕셔너리\n",
    " - {}를 이용해서 키(key)값 (value)의 쌍으로 구성된 자료구조\n",
    " - key: 유일한 값 (중복 허용 안함). 리스트는 key로 사용 불가. tuple은 사용 가능\n",
    " - 값: 중복 가능. 모든 데이터 타입 가능\n",
    " - 인덱스 참조 지원 안함. 키값으로 참조"
   ]
  },
  {
   "cell_type": "code",
   "execution_count": 56,
   "id": "75d3f3ae",
   "metadata": {},
   "outputs": [
    {
     "name": "stdout",
     "output_type": "stream",
     "text": [
      "<class 'dict'>\n",
      "{'name': '홍길동', 1: 22, (1, 2): [1, 2]}\n"
     ]
    }
   ],
   "source": [
    "dic = {'name':'홍길동',1:22,(1,2):[1,2]}\n",
    "print(type(dic))\n",
    "print(dic)"
   ]
  },
  {
   "cell_type": "code",
   "execution_count": 57,
   "id": "11d1db03",
   "metadata": {},
   "outputs": [
    {
     "data": {
      "text/plain": [
       "3"
      ]
     },
     "execution_count": 57,
     "metadata": {},
     "output_type": "execute_result"
    }
   ],
   "source": [
    "len(dic) #데이터 요소 갯수"
   ]
  },
  {
   "cell_type": "code",
   "execution_count": 59,
   "id": "615ba2e4",
   "metadata": {},
   "outputs": [],
   "source": [
    "my_favorite = {'fruit':'apple','number':12,'sport':'yoga'}"
   ]
  },
  {
   "cell_type": "code",
   "execution_count": 61,
   "id": "99edae32",
   "metadata": {},
   "outputs": [
    {
     "name": "stdout",
     "output_type": "stream",
     "text": [
      "apple\n",
      "12\n"
     ]
    }
   ],
   "source": [
    "#변수[키] or 변수.get(키)\n",
    "print(my_favorite['fruit'])\n",
    "print(my_favorite.get('number'))"
   ]
  },
  {
   "cell_type": "code",
   "execution_count": 65,
   "id": "58b866c9",
   "metadata": {},
   "outputs": [
    {
     "name": "stdout",
     "output_type": "stream",
     "text": [
      "None\n",
      "-\n"
     ]
    }
   ],
   "source": [
    "#print(my_favorite['people']) #키 목록에 없는 데이터는 에러\n",
    "print(my_favorite.get('people')) #없는 키를 get 함수로 참조 시 None. get(키,default=none) 리턴 none 싫으면 수정\n",
    "print(my_favorite.get('people','-'))"
   ]
  },
  {
   "cell_type": "markdown",
   "id": "28aa1518",
   "metadata": {},
   "source": [
    "## 3.1 딕셔너리 item 수정, 추가, 삭제"
   ]
  },
  {
   "cell_type": "code",
   "execution_count": 73,
   "id": "4adc2fe2",
   "metadata": {},
   "outputs": [
    {
     "name": "stdout",
     "output_type": "stream",
     "text": [
      "추가 후:  {'fruit': 'apple', 'number': 12, 'sport': 'yoga', 'people': '홍길동', 'subject': 'AI'}\n",
      "하나씩 수정 후:  {'fruit': 'mango', 'number': -9, 'sport': 'yoga', 'people': '홍길동', 'subject': 'AI'}\n"
     ]
    }
   ],
   "source": [
    "my_favorite = {'fruit':'apple','number':12,'sport':'yoga'}\n",
    "\n",
    "#한 item 추가하기\n",
    "my_favorite['people'] = '홍길동'\n",
    "my_favorite['subject'] = 'AI'\n",
    "\n",
    "print('추가 후: ', my_favorite)\n",
    "\n",
    "\n",
    "#한 item씩 수정\n",
    "my_favorite['fruit'] = 'mango'\n",
    "my_favorite['number'] = -9\n",
    "\n",
    "print('하나씩 수정 후: ',my_favorite)"
   ]
  },
  {
   "cell_type": "code",
   "execution_count": 99,
   "id": "cc4c0d9f",
   "metadata": {},
   "outputs": [
    {
     "name": "stdout",
     "output_type": "stream",
     "text": [
      "여러개 한번에 추가 : {'number': -99, 'sport': 'yoga', 'people': '홍길동', 'fruit': 'kiwi', 'subject': '수학', 'major': 'AI'}\n",
      "한꺼번에 수정:  {'number': -99, 'sport': 'yoga', 'people': '홍길동', 'fruit': 'kiwi', 'subject': '수학', 'major': 'AI'}\n"
     ]
    }
   ],
   "source": [
    "# 여러 item 한번에 추가\n",
    "my_favorite.update({'subject':'수학','major':'AI'})\n",
    "\n",
    "print('여러개 한번에 추가 :', my_favorite)\n",
    "\n",
    "# 여러 item 한번에 수정\n",
    "#my_favorite.update({'fruit':'kiwi', 'number':99})\n",
    "my_favorite.update(fruit='kiwi',number=-99)\n",
    "print('한꺼번에 수정: ', my_favorite)"
   ]
  },
  {
   "cell_type": "code",
   "execution_count": 94,
   "id": "3065207c",
   "metadata": {},
   "outputs": [
    {
     "name": "stdout",
     "output_type": "stream",
     "text": [
      "subject 존재 하지 않음\n"
     ]
    }
   ],
   "source": [
    "# item 삭제\n",
    "#del my_favorite['subject']\n",
    "#print(my_favorite)\n",
    "\n",
    "#OR\n",
    "\n",
    "if 'subject' in my_favorite:\n",
    "    del my_favorite['subject']\n",
    "    print(my_favorite)\n",
    "else:\n",
    "    print('subject 존재 하지 않음')"
   ]
  },
  {
   "cell_type": "code",
   "execution_count": 145,
   "id": "5a8995e9",
   "metadata": {},
   "outputs": [
    {
     "ename": "KeyError",
     "evalue": "'major'",
     "output_type": "error",
     "traceback": [
      "\u001b[1;31m---------------------------------------------------------------------------\u001b[0m",
      "\u001b[1;31mKeyError\u001b[0m                                  Traceback (most recent call last)",
      "Cell \u001b[1;32mIn[145], line 3\u001b[0m\n\u001b[0;32m      1\u001b[0m \u001b[38;5;66;03m# item 삭제 2\u001b[39;00m\n\u001b[1;32m----> 3\u001b[0m \u001b[38;5;28mprint\u001b[39m(\u001b[38;5;124m'\u001b[39m\u001b[38;5;124m제거한 data: \u001b[39m\u001b[38;5;124m'\u001b[39m, \u001b[43mmy_favorite\u001b[49m\u001b[38;5;241;43m.\u001b[39;49m\u001b[43mpop\u001b[49m\u001b[43m(\u001b[49m\u001b[38;5;124;43m'\u001b[39;49m\u001b[38;5;124;43mmajor\u001b[39;49m\u001b[38;5;124;43m'\u001b[39;49m\u001b[43m)\u001b[49m) \u001b[38;5;66;03m#major 키 값 반환 후 제거\u001b[39;00m\n\u001b[0;32m      4\u001b[0m \u001b[38;5;28;01mif\u001b[39;00m \u001b[38;5;124m'\u001b[39m\u001b[38;5;124mmajor\u001b[39m\u001b[38;5;124m'\u001b[39m \u001b[38;5;129;01min\u001b[39;00m my_favorite:\n\u001b[0;32m      5\u001b[0m     \u001b[38;5;28mprint\u001b[39m(\u001b[38;5;124m'\u001b[39m\u001b[38;5;124m제거 data:\u001b[39m\u001b[38;5;124m'\u001b[39m, my_favorite\u001b[38;5;241m.\u001b[39mpop(\u001b[38;5;124m'\u001b[39m\u001b[38;5;124mmajor\u001b[39m\u001b[38;5;124m'\u001b[39m))\n",
      "\u001b[1;31mKeyError\u001b[0m: 'major'"
     ]
    }
   ],
   "source": [
    "# item 삭제 2\n",
    "\n",
    "print('제거한 data: ', my_favorite.pop('major')) #major 키 값 반환 후 제거\n",
    "if 'major' in my_favorite:\n",
    "    print('제거 data:', my_favorite.pop('major'))\n",
    "else:\n",
    "    print('major 키가 존재하지 않습니다')\n",
    "print(my_favorite)"
   ]
  },
  {
   "cell_type": "markdown",
   "id": "f594ebac",
   "metadata": {},
   "source": [
    "## 3.2 딕셔너리 출력하기"
   ]
  },
  {
   "cell_type": "code",
   "execution_count": 101,
   "id": "bb121b6e",
   "metadata": {},
   "outputs": [],
   "source": [
    "#for문을 이용한 튜플 출력\n",
    "\n",
    "my_tuple = ('홍길동',30,'010-1234-1234')\n"
   ]
  },
  {
   "cell_type": "code",
   "execution_count": 118,
   "id": "f0fc8b95",
   "metadata": {},
   "outputs": [
    {
     "name": "stdout",
     "output_type": "stream",
     "text": [
      "홍길동\t30\t010-1234-1234\t\n",
      "0번째 : 홍길동\t1번째 : 30\t2번째 : 010-1234-1234\t\n",
      "0번쨰 : 홍길동\t1번쨰 : 30\t2번쨰 : 010-1234-1234\t"
     ]
    }
   ],
   "source": [
    "for data in my_tuple:\n",
    "    print(data, end='\\t')\n",
    "print() #개행\n",
    "for idx in range(len(my_tuple)):\n",
    "    print(\"{}번째 : {}\".format(idx, my_tuple[idx]),end='\\t')\n",
    "    #print(f'{idx}번째: {my_tuple[idx]}', end='\\t')\n",
    "print() #개행\n",
    "for idx, data in enumerate(my_tuple):\n",
    "    print(f'{idx}번쨰 : {data}',  end='\\t')"
   ]
  },
  {
   "cell_type": "code",
   "execution_count": 123,
   "id": "16cb372e",
   "metadata": {},
   "outputs": [],
   "source": [
    "my_dict = {'name':'홍길동','age':30,'tel':'010-1234-1234'}\n"
   ]
  },
  {
   "cell_type": "code",
   "execution_count": 130,
   "id": "ecfde2b2",
   "metadata": {},
   "outputs": [
    {
     "ename": "NameError",
     "evalue": "name 'key' is not defined",
     "output_type": "error",
     "traceback": [
      "\u001b[1;31m---------------------------------------------------------------------------\u001b[0m",
      "\u001b[1;31mNameError\u001b[0m                                 Traceback (most recent call last)",
      "Cell \u001b[1;32mIn[130], line 3\u001b[0m\n\u001b[0;32m      1\u001b[0m \u001b[38;5;28;01mfor\u001b[39;00m data \u001b[38;5;129;01min\u001b[39;00m my_dict:\n\u001b[0;32m      2\u001b[0m     \u001b[38;5;66;03m#print(data) #키만 나옴\u001b[39;00m\n\u001b[1;32m----> 3\u001b[0m     \u001b[38;5;28mprint\u001b[39m(\u001b[38;5;124m\"\u001b[39m\u001b[38;5;132;01m{}\u001b[39;00m\u001b[38;5;124m:\u001b[39m\u001b[38;5;132;01m{}\u001b[39;00m\u001b[38;5;124m\"\u001b[39m\u001b[38;5;241m.\u001b[39mformat(\u001b[43mkey\u001b[49m, my_dict[key]), end\u001b[38;5;241m=\u001b[39m\u001b[38;5;124m'\u001b[39m\u001b[38;5;130;01m\\t\u001b[39;00m\u001b[38;5;124m'\u001b[39m)\n",
      "\u001b[1;31mNameError\u001b[0m: name 'key' is not defined"
     ]
    }
   ],
   "source": [
    "for data in my_dict:\n",
    "    #print(data) #키만 나옴\n",
    "    print(\"{}:{}\".format(key, my_dict[key]), end='\\t')"
   ]
  },
  {
   "cell_type": "code",
   "execution_count": 131,
   "id": "dc8258a8",
   "metadata": {},
   "outputs": [
    {
     "name": "stdout",
     "output_type": "stream",
     "text": [
      "name:홍길동\tage:30\ttel:010-1234-1234\t"
     ]
    }
   ],
   "source": [
    "for key in my_dict:\n",
    "    print(\"{}:{}\".format(key, my_dict[key]), end='\\t')"
   ]
  },
  {
   "cell_type": "code",
   "execution_count": 133,
   "id": "6a2e3504",
   "metadata": {},
   "outputs": [
    {
     "data": {
      "text/plain": [
       "dict_keys(['name', 'age', 'tel'])"
      ]
     },
     "execution_count": 133,
     "metadata": {},
     "output_type": "execute_result"
    }
   ],
   "source": [
    "my_dict.keys() # 키 목록"
   ]
  },
  {
   "cell_type": "code",
   "execution_count": 134,
   "id": "03ff4e72",
   "metadata": {},
   "outputs": [
    {
     "data": {
      "text/plain": [
       "dict_values(['홍길동', 30, '010-1234-1234'])"
      ]
     },
     "execution_count": 134,
     "metadata": {},
     "output_type": "execute_result"
    }
   ],
   "source": [
    "my_dict.values() #값 목록"
   ]
  },
  {
   "cell_type": "code",
   "execution_count": 136,
   "id": "ce3e803d",
   "metadata": {},
   "outputs": [
    {
     "data": {
      "text/plain": [
       "dict_items([('name', '홍길동'), ('age', 30), ('tel', '010-1234-1234')])"
      ]
     },
     "execution_count": 136,
     "metadata": {},
     "output_type": "execute_result"
    }
   ],
   "source": [
    "my_dict.items() #키-값 쌍 목록"
   ]
  },
  {
   "cell_type": "code",
   "execution_count": 138,
   "id": "4285df6a",
   "metadata": {},
   "outputs": [
    {
     "name": "stdout",
     "output_type": "stream",
     "text": [
      "name:홍길동\tage:30\ttel:010-1234-1234\t"
     ]
    }
   ],
   "source": [
    "# for 데이터 임시변수 in [('name', '홍길동'), ('age', 30), ('tel', '010-1234-1234')] <--.items() 값\n",
    "for key,value in my_dict.items(): # ('name', '홍길동')는 tuple. 그러므로 for 뒤에 변수 하나만 있으면 안됨\n",
    "    print(\"{}:{}\".format(key,value),end='\\t')"
   ]
  },
  {
   "cell_type": "code",
   "execution_count": 143,
   "id": "58bc6184",
   "metadata": {},
   "outputs": [
    {
     "name": "stdout",
     "output_type": "stream",
     "text": [
      "홍길동\t30\t010-1234-1234\t"
     ]
    }
   ],
   "source": [
    "for value in my_dict.values():\n",
    "    print(value, end = '\\t')"
   ]
  },
  {
   "cell_type": "code",
   "execution_count": 147,
   "id": "34b0b4f4",
   "metadata": {},
   "outputs": [
    {
     "data": {
      "text/plain": [
       "[(0, ('name', '홍길동')), (1, ('age', 30)), (2, ('tel', '010-1234-1234'))]"
      ]
     },
     "execution_count": 147,
     "metadata": {},
     "output_type": "execute_result"
    }
   ],
   "source": [
    "list(enumerate(my_dict.items()))\n"
   ]
  },
  {
   "cell_type": "code",
   "execution_count": 150,
   "id": "46a7c53c",
   "metadata": {},
   "outputs": [
    {
     "name": "stdout",
     "output_type": "stream",
     "text": [
      "1.name:홍길동\n",
      "2.age:30\n",
      "3.tel:010-1234-1234\n"
     ]
    }
   ],
   "source": [
    "for no, (key, value) in enumerate(my_dict.items()):\n",
    "    print(\"{}.{}:{}\".format(no+1,key,value))"
   ]
  },
  {
   "cell_type": "markdown",
   "id": "4027c151",
   "metadata": {},
   "source": [
    "## **in 연산자**"
   ]
  },
  {
   "cell_type": "code",
   "execution_count": 151,
   "id": "ed0ce675",
   "metadata": {},
   "outputs": [
    {
     "data": {
      "text/plain": [
       "True"
      ]
     },
     "execution_count": 151,
     "metadata": {},
     "output_type": "execute_result"
    }
   ],
   "source": [
    "# tuple, list\n",
    "\n",
    "t = (10, 20, 30)\n",
    "30 in t #list, tuple, set 에서의 in 연산자 : 요소(데이터, item)가 있는 여부 반환\n"
   ]
  },
  {
   "cell_type": "code",
   "execution_count": 154,
   "id": "3a85e485",
   "metadata": {},
   "outputs": [
    {
     "data": {
      "text/plain": [
       "False"
      ]
     },
     "execution_count": 154,
     "metadata": {},
     "output_type": "execute_result"
    }
   ],
   "source": [
    "# dictionary\n",
    "dic = {'name':'홍길동','age':30}\n",
    "'홍길동' in dic #dictionary에서 in연산자 : key가 있는지 여부 반환\n",
    "#'홍길동' in dic.values()를 써야함"
   ]
  },
  {
   "cell_type": "markdown",
   "id": "bcf4ef7d",
   "metadata": {},
   "source": [
    "### **복제하기**"
   ]
  },
  {
   "cell_type": "code",
   "execution_count": 161,
   "id": "f56ccfd0",
   "metadata": {},
   "outputs": [],
   "source": [
    "my_favorite = {'fruit':'apple','number':12}\n",
    "new_favorite = my_favorite.copy()\n",
    "n_favorite = my_favorite"
   ]
  },
  {
   "cell_type": "code",
   "execution_count": 167,
   "id": "aeea5b07",
   "metadata": {},
   "outputs": [
    {
     "name": "stdout",
     "output_type": "stream",
     "text": [
      "origin:  2427487420992 \n",
      " new:  2427498170176 \n",
      " n:  2427487420992\n"
     ]
    }
   ],
   "source": [
    "print('origin: ',id(my_favorite),'\\n','new: ',id(new_favorite),'\\n','n: ',id(n_favorite))\n",
    "\n",
    "new_favorite['fruit'] ='I like them all'\n",
    "n_favorite['number']= 1"
   ]
  },
  {
   "cell_type": "code",
   "execution_count": 169,
   "id": "56e814c3",
   "metadata": {},
   "outputs": [
    {
     "name": "stdout",
     "output_type": "stream",
     "text": [
      "{'fruit': 'apple', 'number': 1} {'fruit': 'I like them all', 'number': 12} {'fruit': 'apple', 'number': 1}\n"
     ]
    }
   ],
   "source": [
    "print(my_favorite,new_favorite,n_favorite)"
   ]
  },
  {
   "cell_type": "markdown",
   "id": "b90cd5c6",
   "metadata": {},
   "source": [
    "# 4. 셋\n",
    " - 중복을 허용하지 않는 집합 (순서x ==> index도 없음)\n",
    " - {}나 set()함수를 이용하여 생성. e.g. set([1,2,1]), set({'name':'홍길동'})\n",
    " - 추가: add(), update()\n",
    " - 삭제: remove()\n",
    " - 집합연산자: & 교집합,  | 합집합, - 차집합"
   ]
  },
  {
   "cell_type": "code",
   "execution_count": null,
   "id": "70bf4dd0",
   "metadata": {},
   "outputs": [],
   "source": [
    "st = {'name':'홍길동','age':30} #==> dictionary\n",
    "se = {'홍길동',30} # ==>set\n"
   ]
  },
  {
   "cell_type": "code",
   "execution_count": 171,
   "id": "f4777fbe",
   "metadata": {},
   "outputs": [
    {
     "name": "stdout",
     "output_type": "stream",
     "text": [
      "{'orange', 'banana', 'apple', 'tangerine'}\n",
      "['banana', 'orange', 'apple', 'tangerine', 'apple']\n"
     ]
    }
   ],
   "source": [
    "fruits_set = {'banana','orange','apple','tangerine','apple'}\n",
    "fruits_list= ['banana','orange','apple','tangerine','apple']\n",
    "\n",
    "print(fruits_set)\n",
    "print(fruits_list)\n"
   ]
  },
  {
   "cell_type": "code",
   "execution_count": 172,
   "id": "c53a8f09",
   "metadata": {},
   "outputs": [
    {
     "data": {
      "text/plain": [
       "{1, 2, 3, 4, 5, 7, 34}"
      ]
     },
     "execution_count": 172,
     "metadata": {},
     "output_type": "execute_result"
    }
   ],
   "source": [
    "s1 = {1,2,2,2,1,5,34,7,4,5,3,3,2}\n",
    "s1"
   ]
  },
  {
   "cell_type": "code",
   "execution_count": 175,
   "id": "d0456341",
   "metadata": {},
   "outputs": [
    {
     "data": {
      "text/plain": [
       "{1, 2, 3, 4, 5, 7, 34}"
      ]
     },
     "execution_count": 175,
     "metadata": {},
     "output_type": "execute_result"
    }
   ],
   "source": [
    "s2 = set([1,2,2,2,1,5,34,7,4,5,3,3,2])\n",
    "s2"
   ]
  },
  {
   "cell_type": "code",
   "execution_count": 177,
   "id": "f13b195d",
   "metadata": {},
   "outputs": [
    {
     "data": {
      "text/plain": [
       "{1, 2, 3, 4, 5, 7, 34}"
      ]
     },
     "execution_count": 177,
     "metadata": {},
     "output_type": "execute_result"
    }
   ],
   "source": [
    "s3 = set((1,2,2,2,1,5,34,7,4,5,3,3,2))\n",
    "s3"
   ]
  },
  {
   "cell_type": "code",
   "execution_count": 179,
   "id": "2cc57bfc",
   "metadata": {},
   "outputs": [
    {
     "data": {
      "text/plain": [
       "{'age', 'name'}"
      ]
     },
     "execution_count": 179,
     "metadata": {},
     "output_type": "execute_result"
    }
   ],
   "source": [
    "#set 함수를 이용하여 dictionary를 set으로 전환 할 때는 key만 적용\n",
    "s4 = set({'name':'홍길동','age':30})\n",
    "s4"
   ]
  },
  {
   "cell_type": "markdown",
   "id": "ba9e1e76",
   "metadata": {},
   "source": [
    " ## 추가하기\n",
    "  - add() : 기본자료형, 튜플 데이터 하나 추가. list, dic,set유형은 add()함수 사용 불가\n",
    "  - update(): 리스트, 튜플, 딕셔너리, 셋 요소를 하나씩 따로 추가. dictionary는 key만 추가\n",
    "      c.f. list의 extend()와 같은 느낌"
   ]
  },
  {
   "cell_type": "code",
   "execution_count": 187,
   "id": "8d9b263e",
   "metadata": {},
   "outputs": [
    {
     "name": "stdout",
     "output_type": "stream",
     "text": [
      "add() 후:  {1, 2, 3, 4, 5, '오'}\n"
     ]
    }
   ],
   "source": [
    "s = {1,2,3,4}\n",
    "s.add(2)\n",
    "s.add(5)\n",
    "s.add('오')\n",
    "print(\"add() 후: \", s)"
   ]
  },
  {
   "cell_type": "code",
   "execution_count": 195,
   "id": "363aaaf8",
   "metadata": {},
   "outputs": [
    {
     "name": "stdout",
     "output_type": "stream",
     "text": [
      "update()후:  {1, 2, 3, 'name', 'age'}\n"
     ]
    }
   ],
   "source": [
    "s = {1,2,3}\n",
    "#s.update([4,5,6])\n",
    "#s.update((4,5,6))\n",
    "#s.update({4,5,6})\n",
    "s.update({\"name\":'홍','age':'3'})\n",
    "print('update()후: ',s)"
   ]
  },
  {
   "cell_type": "code",
   "execution_count": 202,
   "id": "2f603f5a",
   "metadata": {},
   "outputs": [
    {
     "data": {
      "text/plain": [
       "{0, 1, 2, 3}"
      ]
     },
     "execution_count": 202,
     "metadata": {},
     "output_type": "execute_result"
    }
   ],
   "source": [
    "# 1이 있는 상태에서 True 추가, 0이 있는 상태에서 False 추가하면 추가 안됨(True==1, False==0이므로)\n",
    "s = {1,2,3,1,1}\n",
    "\n",
    "s.add(True)\n",
    "s\n",
    "s.add(0)\n",
    "s.add(False)\n",
    "s"
   ]
  },
  {
   "cell_type": "markdown",
   "id": "4f689405",
   "metadata": {},
   "source": [
    "## 제거하기 \n",
    " - remove()"
   ]
  },
  {
   "cell_type": "code",
   "execution_count": 208,
   "id": "9c6d0f3c",
   "metadata": {},
   "outputs": [
    {
     "name": "stdout",
     "output_type": "stream",
     "text": [
      "해당 데이터는 없음\n"
     ]
    }
   ],
   "source": [
    "s = {1,2,3,1,1}\n",
    "s.remove(2)\n",
    "\n",
    "s\n",
    "#s.remove(9) #없는 요소를 삭제할 경우 에러\n",
    "\n",
    "if 5 in s:\n",
    "    s.remove(5)\n",
    "else:\n",
    "    print('해당 데이터는 없음')"
   ]
  },
  {
   "cell_type": "markdown",
   "id": "b42b7162",
   "metadata": {},
   "source": [
    "## 집합연산자\n",
    " - 집합연산자: & 교집합, | 합집합, - 차집합"
   ]
  },
  {
   "cell_type": "code",
   "execution_count": 216,
   "id": "8d448cd2",
   "metadata": {},
   "outputs": [
    {
     "name": "stdout",
     "output_type": "stream",
     "text": [
      "s1 = {1, 2, 3, 4, 5}\n",
      "s2 = {3, 4, 5, 6, 7}\n",
      "s1&s2 = {3, 4, 5}\n",
      "s1|s2 = {1, 2, 3, 4, 5, 6, 7}\n",
      "s1-s2 = {1, 2}\n"
     ]
    }
   ],
   "source": [
    "s1 = {1,2,3,4,5}\n",
    "s2 = {3,4,5,6,7}\n",
    "\n",
    "print(\"s1 =\",s1)\n",
    "print(\"s2 =\",s2)\n",
    "print(\"s1&s2 =\",s1&s2)\n",
    "print(\"s1|s2 =\",s1|s2)\n",
    "print(\"s1-s2 =\", s1-s2)"
   ]
  },
  {
   "cell_type": "code",
   "execution_count": 228,
   "id": "53133e17",
   "metadata": {},
   "outputs": [
    {
     "name": "stdout",
     "output_type": "stream",
     "text": [
      "john\n",
      "romeo\n",
      "abby\n"
     ]
    }
   ],
   "source": [
    "names = {'abby',\"john\", 'romeo'}\n",
    "for name in names:\n",
    "    print (name)"
   ]
  },
  {
   "cell_type": "markdown",
   "id": "8297fa48",
   "metadata": {},
   "source": [
    "# 5. enumerate\n",
    "\n",
    " - 다른 언어에서는 반복자라고도 부름. 반복문을 처리할 때 사용할 순서객체를 생성하는 함수\n",
    " - 리스트, 튜플, 딕셔너리, 셋을 for 문에 사용시"
   ]
  },
  {
   "cell_type": "code",
   "execution_count": 237,
   "id": "b8ee1de1",
   "metadata": {},
   "outputs": [
    {
     "data": {
      "text/plain": [
       "[(0, 'john'), (1, 'romeo'), (2, 'abby')]"
      ]
     },
     "execution_count": 237,
     "metadata": {},
     "output_type": "execute_result"
    }
   ],
   "source": [
    "list(enumerate(names))"
   ]
  },
  {
   "cell_type": "code",
   "execution_count": 238,
   "id": "d15a92b6",
   "metadata": {},
   "outputs": [
    {
     "name": "stdout",
     "output_type": "stream",
     "text": [
      "1,john\n",
      "2,romeo\n",
      "3,abby\n"
     ]
    }
   ],
   "source": [
    "for no, name in enumerate(names):\n",
    "    print('{},{}'.format(no+1, name))"
   ]
  },
  {
   "cell_type": "code",
   "execution_count": 239,
   "id": "60667562",
   "metadata": {},
   "outputs": [],
   "source": [
    "names = ['abby',\"john\", 'romeo']\n",
    "tels = ['416-992-8448','720-215-2291','720-992-2291']\n",
    "adds = ['Toronto','Boulder',\"Atlanta\"]"
   ]
  },
  {
   "cell_type": "code",
   "execution_count": 242,
   "id": "a4f9fbff",
   "metadata": {},
   "outputs": [
    {
     "name": "stdout",
     "output_type": "stream",
     "text": [
      "0\t1, abby님의 연락처는 416-992-8448이고, Toronto 거주\n",
      "1\t2, john님의 연락처는 720-215-2291이고, Boulder 거주\n",
      "2\t3, romeo님의 연락처는 720-992-2291이고, Atlanta 거주\n"
     ]
    }
   ],
   "source": [
    "for idx in range (len (names)):\n",
    "    print(idx,end='\\t')\n",
    "    print(\"{}, {}님의 연락처는 {}이고, {} 거주\".format(idx+1,\n",
    "                                            names[idx],\n",
    "                                            tels[idx],\n",
    "                                            adds[idx]))"
   ]
  },
  {
   "cell_type": "code",
   "execution_count": 245,
   "id": "c88b2537",
   "metadata": {},
   "outputs": [
    {
     "data": {
      "text/plain": [
       "[('abby', '416-992-8448', 'Toronto'),\n",
       " ('john', '720-215-2291', 'Boulder'),\n",
       " ('romeo', '720-992-2291', 'Atlanta')]"
      ]
     },
     "execution_count": 245,
     "metadata": {},
     "output_type": "execute_result"
    }
   ],
   "source": [
    "list(zip(names,tels, adds))\n"
   ]
  },
  {
   "cell_type": "code",
   "execution_count": 251,
   "id": "a9ed6905",
   "metadata": {},
   "outputs": [
    {
     "name": "stdout",
     "output_type": "stream",
     "text": [
      "abby님의 연락처는 416-992-8448이고 Toronto거주\n",
      "john님의 연락처는 720-215-2291이고 Boulder거주\n",
      "romeo님의 연락처는 720-992-2291이고 Atlanta거주\n"
     ]
    }
   ],
   "source": [
    "for name,tell, add in zip(names, tels, adds):\n",
    "    print ('{}님의 연락처는 {}이고 {}거주'.format(name,tell,add))"
   ]
  },
  {
   "cell_type": "code",
   "execution_count": 255,
   "id": "fde43670",
   "metadata": {},
   "outputs": [
    {
     "data": {
      "text/plain": [
       "[(0, ('abby', '416-992-8448', 'Toronto')),\n",
       " (1, ('john', '720-215-2291', 'Boulder')),\n",
       " (2, ('romeo', '720-992-2291', 'Atlanta'))]"
      ]
     },
     "execution_count": 255,
     "metadata": {},
     "output_type": "execute_result"
    }
   ],
   "source": [
    "list(enumerate(zip(names,tels,adds)))"
   ]
  },
  {
   "cell_type": "code",
   "execution_count": 263,
   "id": "57d8fb0f",
   "metadata": {},
   "outputs": [
    {
     "name": "stdout",
     "output_type": "stream",
     "text": [
      "0.abby님의 연락처는 720-992-2291이고 Toronto거주\n",
      "0.abby님의 연락처는 416-992-8448이고 Toronto거주\n",
      "1.john님의 연락처는 720-992-2291이고 Boulder거주\n",
      "1.john님의 연락처는 720-215-2291이고 Boulder거주\n",
      "2.romeo님의 연락처는 720-992-2291이고 Atlanta거주\n",
      "2.romeo님의 연락처는 720-992-2291이고 Atlanta거주\n"
     ]
    }
   ],
   "source": [
    "for idx, (name, tel, add) in enumerate(zip(names,tels,adds)):\n",
    "    print ('{}.{}님의 연락처는 {}이고 {}거주'.format(idx,name,tell,add))\n",
    "\n",
    "    print (f'{idx}.{name}님의 연락처는 {tel}이고 {add}거주')"
   ]
  },
  {
   "cell_type": "code",
   "execution_count": 172,
   "id": "45f4005e",
   "metadata": {},
   "outputs": [
    {
     "ename": "NameError",
     "evalue": "name 'names' is not defined",
     "output_type": "error",
     "traceback": [
      "\u001b[1;31m---------------------------------------------------------------------------\u001b[0m",
      "\u001b[1;31mNameError\u001b[0m                                 Traceback (most recent call last)",
      "Cell \u001b[1;32mIn[172], line 2\u001b[0m\n\u001b[0;32m      1\u001b[0m members \u001b[38;5;241m=\u001b[39m [] \u001b[38;5;66;03m# 딕셔너리 리스트\u001b[39;00m\n\u001b[1;32m----> 2\u001b[0m \u001b[38;5;28;01mfor\u001b[39;00m idx, (name, tel, add) \u001b[38;5;129;01min\u001b[39;00m \u001b[38;5;28menumerate\u001b[39m(\u001b[38;5;28mzip\u001b[39m(\u001b[43mnames\u001b[49m, tels, adds)):\n\u001b[0;32m      3\u001b[0m     member \u001b[38;5;241m=\u001b[39m {\u001b[38;5;124m'\u001b[39m\u001b[38;5;124mrank\u001b[39m\u001b[38;5;124m'\u001b[39m:idx\u001b[38;5;241m+\u001b[39m\u001b[38;5;241m1\u001b[39m, \u001b[38;5;124m'\u001b[39m\u001b[38;5;124mname\u001b[39m\u001b[38;5;124m'\u001b[39m:name, \u001b[38;5;124m'\u001b[39m\u001b[38;5;124mtel\u001b[39m\u001b[38;5;124m'\u001b[39m:tel, \u001b[38;5;124m'\u001b[39m\u001b[38;5;124madd\u001b[39m\u001b[38;5;124m'\u001b[39m:add,}\n\u001b[0;32m      4\u001b[0m     members\u001b[38;5;241m.\u001b[39mappend(member)\n",
      "\u001b[1;31mNameError\u001b[0m: name 'names' is not defined"
     ]
    }
   ],
   "source": [
    "members = [] # 딕셔너리 리스트\n",
    "for idx, (name, tel, add) in enumerate(zip(names, tels, adds)):\n",
    "    member = {'rank':idx+1, 'name':name, 'tel':tel, 'add':add,}\n",
    "    members.append(member)\n",
    "print(members)\n"
   ]
  },
  {
   "cell_type": "code",
   "execution_count": 176,
   "id": "63e91d44",
   "metadata": {},
   "outputs": [
    {
     "data": {
      "text/plain": [
       "[1, 2, 3]"
      ]
     },
     "execution_count": 176,
     "metadata": {},
     "output_type": "execute_result"
    }
   ],
   "source": [
    "number = [1,2,3]\n",
    "data = [4,5,6]\n",
    "\n",
    "number + data\n",
    "\n",
    "number"
   ]
  },
  {
   "cell_type": "markdown",
   "id": "f735d83a",
   "metadata": {},
   "source": [
    "# 연습문제"
   ]
  },
  {
   "cell_type": "code",
   "execution_count": 181,
   "id": "58e1d983",
   "metadata": {},
   "outputs": [],
   "source": [
    "#다음 리스트가 주어졌을 경우 요구사항대로 코드를 작성하시오\n",
    "\n",
    "numbers = [1,2,3,4,5,6,7,8,9,10]"
   ]
  },
  {
   "cell_type": "code",
   "execution_count": 63,
   "id": "4e34df07",
   "metadata": {},
   "outputs": [
    {
     "name": "stdout",
     "output_type": "stream",
     "text": [
      "Answer1:  [1, 2, 3, 4, 5, 6, 7, 8, 9, 10, 100]\n"
     ]
    }
   ],
   "source": [
    "#1.숫자 100 을 맨 뒤에 추가하세요\n",
    "answer_1 = numbers.append(100)\n",
    "print(\"Answer1: \",numbers)\n"
   ]
  },
  {
   "cell_type": "code",
   "execution_count": 171,
   "id": "e04f6482",
   "metadata": {},
   "outputs": [
    {
     "name": "stdout",
     "output_type": "stream",
     "text": [
      "Answer2:  [1, 2, 3, 4, 5, 6, 7, 8, 9, 10, 200, 300, 400, 500]\n",
      "[1, 2, 3, 4, 5, 6, 7, 8, 9, 10, 200, 300, 400, 500, 200, 300, 400, 500]\n"
     ]
    }
   ],
   "source": [
    "#2.다음 리스트를 numbers 리스트 맨 뒤에 추가하세요\n",
    "data = [200, 300, 400, 500]\n",
    "\n",
    "numbers.extend(data)\n",
    "print(\"Answer2: \",numbers)\n",
    "\n",
    "numbers += data\n",
    "print(numbers)"
   ]
  },
  {
   "cell_type": "code",
   "execution_count": 167,
   "id": "f0f90fce",
   "metadata": {},
   "outputs": [
    {
     "name": "stdout",
     "output_type": "stream",
     "text": [
      "Answer3:  [1, 2, 3, 4, 5]\n"
     ]
    }
   ],
   "source": [
    "#3.처음 다섯 개 숫자만 출력하세요\n",
    "\n",
    "print(\"Answer3: \",numbers[:5])"
   ]
  },
  {
   "cell_type": "code",
   "execution_count": 69,
   "id": "c333ead3",
   "metadata": {},
   "outputs": [
    {
     "name": "stdout",
     "output_type": "stream",
     "text": [
      "Answer4:  [1, 3, 5, 7, 9]\n"
     ]
    }
   ],
   "source": [
    "#4.리스트에서 짝수 번째 데이터만 출력하세요\n",
    "\n",
    "print(\"Answer4: \",numbers[::2])\n"
   ]
  },
  {
   "cell_type": "code",
   "execution_count": 177,
   "id": "6de33762",
   "metadata": {},
   "outputs": [
    {
     "name": "stdout",
     "output_type": "stream",
     "text": [
      "Answer5:  [0, 2, 0, 4, 0, 6, 0, 8, 0, 10, 0, 300, 0, 500, 0, 300, 0, 500]\n"
     ]
    }
   ],
   "source": [
    "#5.짝수번째 데이터를 모두 0 으로 바꾸세요\n",
    "\n",
    "numbers[::2] = [0]*len(numbers[::2])\n",
    "print(\"Answer5: \",numbers)"
   ]
  },
  {
   "cell_type": "code",
   "execution_count": 183,
   "id": "908723de",
   "metadata": {},
   "outputs": [
    {
     "name": "stdout",
     "output_type": "stream",
     "text": [
      "[10, 9, 8, 7, 6, 5, 4, 3, 2, 1]\n"
     ]
    }
   ],
   "source": [
    "#6.데이터를 역순으로 나열하세요 내림차순 정렬이 아닙니다\n",
    "answer_6 = sorted(numbers,reverse=True)\n",
    "print(answer_6)\n",
    "numbers[::-1]\n",
    "numbers.reverse()"
   ]
  },
  {
   "cell_type": "code",
   "execution_count": 73,
   "id": "e9ba1e3d",
   "metadata": {},
   "outputs": [],
   "source": [
    "#다음 딕셔너리 데이터가 주어졌을 경우 요구사항대로 코드를 작성하세요\n",
    "\n",
    "member_info ={\"name\": \"홍길동\", \"age\":20, \"address\":\"서울시 마포구\", \"score\":90}"
   ]
  },
  {
   "cell_type": "code",
   "execution_count": 186,
   "id": "eebf0525",
   "metadata": {},
   "outputs": [
    {
     "name": "stdout",
     "output_type": "stream",
     "text": [
      "Answer 7:  서울시 마포구\n",
      "서울시 마포구\n"
     ]
    }
   ],
   "source": [
    "#7.address 값을 출력하세요\n",
    "\n",
    "print(\"Answer 7: \", member_info[\"address\"]) #비추\n",
    "print(member_info.get('address'))"
   ]
  },
  {
   "cell_type": "code",
   "execution_count": 75,
   "id": "86853e07",
   "metadata": {},
   "outputs": [
    {
     "name": "stdout",
     "output_type": "stream",
     "text": [
      "90\n",
      "{'name': '홍길동', 'age': 20, 'address': '서울시 마포구'}\n"
     ]
    }
   ],
   "source": [
    "#8.score 를 출력하고 member_info 딕셔너리에서 삭제하세요\n",
    "\n",
    "answer_8 = member_info.pop('score')\n",
    "print(answer_8)\n",
    "print(member_info)"
   ]
  },
  {
   "cell_type": "code",
   "execution_count": 59,
   "id": "88833e13",
   "metadata": {},
   "outputs": [
    {
     "name": "stdout",
     "output_type": "stream",
     "text": [
      "Answer9:  {'name': '홍길동', 'age': 20, 'address': '서울시 서대문구'}\n"
     ]
    }
   ],
   "source": [
    "#9.address 를 서울시 서대문구 로 변경하세요\n",
    "\n",
    "member_info['address'] = \"서울시 서대문구\"\n",
    "\n",
    "print(\"Answer9: \", member_info)"
   ]
  },
  {
   "cell_type": "code",
   "execution_count": 108,
   "id": "0f8217ee",
   "metadata": {},
   "outputs": [
    {
     "name": "stdout",
     "output_type": "stream",
     "text": [
      "Answer10:  dict_items([('name', '홍길동'), ('age', 20), ('address', '서울시 마포구')])\n"
     ]
    }
   ],
   "source": [
    "#10.member_info 딕셔너리 데이터의 값을 리스트로 출력하세요\n",
    "\n",
    "answer10 = member_info.items()\n",
    "print(\"Answer10: \",answer10)"
   ]
  },
  {
   "cell_type": "code",
   "execution_count": 114,
   "id": "52c70d20",
   "metadata": {},
   "outputs": [],
   "source": [
    "#다음 코드를 실행했을 때 출력되는 것은\n",
    "#L1 = (\"orange\",\"apple\",\"banana\",\"kiwi\")\n",
    "#new_list = [i for i in L1 if len (i) >5]\n",
    "#print(new_list)\n",
    "\n",
    "Answer: ['orange','banana']"
   ]
  },
  {
   "cell_type": "code",
   "execution_count": 116,
   "id": "2ed24756",
   "metadata": {},
   "outputs": [
    {
     "ename": "SyntaxError",
     "evalue": "invalid character '①' (U+2460) (719576334.py, line 2)",
     "output_type": "error",
     "traceback": [
      "\u001b[1;36m  Cell \u001b[1;32mIn[116], line 2\u001b[1;36m\u001b[0m\n\u001b[1;33m    ① print(list(range(10))) #--[0,1,2,3,4,5,6,7,8,9]\u001b[0m\n\u001b[1;37m    ^\u001b[0m\n\u001b[1;31mSyntaxError\u001b[0m\u001b[1;31m:\u001b[0m invalid character '①' (U+2460)\n"
     ]
    }
   ],
   "source": [
    "#다음 코드와 실행결과가 잘못 짝지어진 것은\n",
    "① print(list(range(10))) #--[0,1,2,3,4,5,6,7,8,9]\n",
    "② print(list(range(5,10))) #--[5,6,7,8,9]\n",
    "③ print(list(range(10,0, 1))) #--[9,8,7,6,5,4,3,2,1,0]\n",
    "④ print(list(range(10,20,2))) #––[10,12,14,16,18]\n",
    "\n",
    "Answer:3"
   ]
  },
  {
   "cell_type": "code",
   "execution_count": 127,
   "id": "e7a031f8",
   "metadata": {},
   "outputs": [
    {
     "data": {
      "text/plain": [
       "1"
      ]
     },
     "execution_count": 127,
     "metadata": {},
     "output_type": "execute_result"
    }
   ],
   "source": [
    "#3.다음 구문에 의해 출력되는 것은\n",
    "numbers_2d = [ [1,2,3,4,5], [10,20,30,40],[1,3,5],[2,] ]\n",
    "len (numbers_2d[3])\n",
    "\n",
    "Answer: 1"
   ]
  },
  {
   "cell_type": "code",
   "execution_count": 141,
   "id": "0b25a8f8",
   "metadata": {},
   "outputs": [
    {
     "ename": "SyntaxError",
     "evalue": "invalid syntax (2801182819.py, line 1)",
     "output_type": "error",
     "traceback": [
      "\u001b[1;36m  Cell \u001b[1;32mIn[141], line 1\u001b[1;36m\u001b[0m\n\u001b[1;33m    다음 코드의 실행결과가 나올 수 있는 빈칸에 들어갈 함수 이름은\u001b[0m\n\u001b[1;37m       ^\u001b[0m\n\u001b[1;31mSyntaxError\u001b[0m\u001b[1;31m:\u001b[0m invalid syntax\n"
     ]
    }
   ],
   "source": [
    "다음 코드의 실행결과가 나올 수 있는 빈칸에 들어갈 함수 이름은\n",
    "numbers = [1,2,3,4,5]\n",
    "numbers.__________([10,20,30,40,50])\n",
    "numbers\n",
    "결과: [1,2,3,4,5,10,20,30,40,50]\n",
    "    \n",
    "    \n",
    "Answer:extend"
   ]
  },
  {
   "cell_type": "code",
   "execution_count": 142,
   "id": "80db7287",
   "metadata": {},
   "outputs": [
    {
     "data": {
      "text/plain": [
       "[0, 1, 0, 3, 0, 5, 0, 7, 0, 9]"
      ]
     },
     "execution_count": 142,
     "metadata": {},
     "output_type": "execute_result"
    }
   ],
   "source": [
    "#5.다음 구문을 실행할 때 결과는\n",
    "#numbers = list(range(10))\n",
    "#numbers[ : : 2]= [0] * len (numbers[ : :2])\n",
    "#print(numbers)\n",
    "\n",
    "\n",
    "[0,1,0,3,0,5,0,7,0,9]"
   ]
  },
  {
   "cell_type": "code",
   "execution_count": 144,
   "id": "b9a40adf",
   "metadata": {},
   "outputs": [
    {
     "data": {
      "text/plain": [
       "[5, 1, 6, 3, 7, 5, 8, 9, 9]"
      ]
     },
     "execution_count": 144,
     "metadata": {},
     "output_type": "execute_result"
    }
   ],
   "source": [
    "#6. 다음 구문을 실행할 때 결과는\n",
    "#numbers = [0,1,2,3,4,5,6,7,8,9]\n",
    "#numbers[ : : 2]= numbers[5:]\n",
    "#print(numbers)\n",
    "\n",
    "[5,1,6,3,7,5,8,9,9]\n",
    "\n"
   ]
  },
  {
   "cell_type": "code",
   "execution_count": 146,
   "id": "8ac8886f",
   "metadata": {},
   "outputs": [
    {
     "data": {
      "text/plain": [
       "[0, 1, 1, 3, 2, 5, 3, 7, 4, 9]"
      ]
     },
     "execution_count": 146,
     "metadata": {},
     "output_type": "execute_result"
    }
   ],
   "source": [
    "#7.다음 구문을 실행할 때 결과는\n",
    "#numbers = [0, 1, 2, 3, 4, 5, 6, 7, 8, 9]\n",
    "#numbers[ : : 2]= numbers[:5]\n",
    "#print(numbers)\n",
    "\n",
    "[0,1,1,3,2,5,3,7,4,9]"
   ]
  },
  {
   "cell_type": "code",
   "execution_count": 152,
   "id": "fbdfdd5f",
   "metadata": {},
   "outputs": [],
   "source": [
    "#다음 데이터에서 10 을 출력할 수 없는 구문은\n",
    "my_dic = {'a':10, 'b':20, 'c':30}\n",
    "\n",
    "answer:1 "
   ]
  },
  {
   "cell_type": "code",
   "execution_count": 153,
   "id": "86d73bb5",
   "metadata": {},
   "outputs": [
    {
     "name": "stdout",
     "output_type": "stream",
     "text": [
      "apple\n",
      "banana\n",
      "orange\n"
     ]
    }
   ],
   "source": [
    "#다음 프로그램의 결과를 출력하시오\n",
    "#fruits = [ 'apple', 'banana', 'orange']\n",
    "#x, y, z = fruits\n",
    "#print(x)\n",
    "#print(y)\n",
    "#print(z)\n",
    "\n",
    "apple\n",
    "banana\n",
    "orange"
   ]
  },
  {
   "cell_type": "code",
   "execution_count": 156,
   "id": "bfbd6e18",
   "metadata": {},
   "outputs": [
    {
     "name": "stdout",
     "output_type": "stream",
     "text": [
      "3\n"
     ]
    }
   ],
   "source": [
    "#다음 프로그램의 결과를 출력하시오\n",
    "#fruits = [ 'apple', 'banana', 'orange']\n",
    "#print( len (fruits))\n",
    "\n",
    "Answer: 3"
   ]
  },
  {
   "cell_type": "code",
   "execution_count": 157,
   "id": "0c21147d",
   "metadata": {},
   "outputs": [
    {
     "ename": "SyntaxError",
     "evalue": "invalid syntax (830505257.py, line 3)",
     "output_type": "error",
     "traceback": [
      "\u001b[1;36m  Cell \u001b[1;32mIn[157], line 3\u001b[1;36m\u001b[0m\n\u001b[1;33m    def\u001b[0m\n\u001b[1;37m       ^\u001b[0m\n\u001b[1;31mSyntaxError\u001b[0m\u001b[1;31m:\u001b[0m invalid syntax\n"
     ]
    }
   ],
   "source": [
    "#11.파이썬에서 함수를 만들기 위해 선언하는 단어는\n",
    "\n",
    "def"
   ]
  },
  {
   "attachments": {},
   "cell_type": "markdown",
   "id": "b2a45363",
   "metadata": {},
   "source": [
    "![변수타입들](https://pynative.com/wp-content/uploads/2021/02/python-data-types.jpg)\n",
    "\n"
   ]
  }
 ],
 "metadata": {
  "kernelspec": {
   "display_name": "Python 3 (ipykernel)",
   "language": "python",
   "name": "python3"
  },
  "language_info": {
   "codemirror_mode": {
    "name": "ipython",
    "version": 3
   },
   "file_extension": ".py",
   "mimetype": "text/x-python",
   "name": "python",
   "nbconvert_exporter": "python",
   "pygments_lexer": "ipython3",
   "version": "3.10.9"
  },
  "toc": {
   "base_numbering": 1,
   "nav_menu": {},
   "number_sections": false,
   "sideBar": true,
   "skip_h1_title": false,
   "title_cell": "Table of Contents",
   "title_sidebar": "Contents",
   "toc_cell": false,
   "toc_position": {
    "height": "calc(100% - 180px)",
    "left": "10px",
    "top": "150px",
    "width": "165px"
   },
   "toc_section_display": true,
   "toc_window_display": true
  }
 },
 "nbformat": 4,
 "nbformat_minor": 5
}
