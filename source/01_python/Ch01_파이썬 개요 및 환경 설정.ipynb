{
 "cells": [
  {
   "cell_type": "code",
   "execution_count": 15,
   "id": "2ba4174d",
   "metadata": {},
   "outputs": [
    {
     "data": {
      "text/html": [
       "\n",
       "<style>\n",
       "div.container{width:90% !important;}\n",
       "div.cell.code_cell.rendered{width:100%;}\n",
       "div.input_prompt{padding:0px;}\n",
       "div.CodeMirror{font-family:Consolas; font-size:15pt;}\n",
       "div.text_cell_render.rendered_html{font-size:15pt;}\n",
       "div.output{font-size:12pt; font-weight:bold;}\n",
       "div.input{font-family:Consolas; font-size:15pt;}\n",
       "div.prompt{min-width:70px;}\n",
       "div#toc-wrapper{padding-top:120px;}\n",
       "div.text_cell_renderulli{font-size:12pt;padding:5px;}\n",
       "table.dataframe{font-size:12px;}\n",
       "</style>\n"
      ],
      "text/plain": [
       "<IPython.core.display.HTML object>"
      ]
     },
     "metadata": {},
     "output_type": "display_data"
    }
   ],
   "source": [
    "from IPython.display import display, HTML\n",
    "display(HTML(\"\"\"\n",
    "<style>\n",
    "div.container{width:90% !important;}\n",
    "div.cell.code_cell.rendered{width:100%;}\n",
    "div.input_prompt{padding:0px;}\n",
    "div.CodeMirror{font-family:Consolas; font-size:15pt;}\n",
    "div.text_cell_render.rendered_html{font-size:15pt;}\n",
    "div.output{font-size:12pt; font-weight:bold;}\n",
    "div.input{font-family:Consolas; font-size:15pt;}\n",
    "div.prompt{min-width:70px;}\n",
    "div#toc-wrapper{padding-top:120px;}\n",
    "div.text_cell_renderulli{font-size:12pt;padding:5px;}\n",
    "table.dataframe{font-size:12px;}\n",
    "</style>\n",
    "\"\"\"))\n"
   ]
  },
  {
   "cell_type": "code",
   "execution_count": null,
   "id": "618fefe8",
   "metadata": {
    "scrolled": false
   },
   "outputs": [],
   "source": [
    "print('hello')"
   ]
  },
  {
   "cell_type": "code",
   "execution_count": null,
   "id": "7d8d9bbc",
   "metadata": {},
   "outputs": [],
   "source": [
    "# 셀 하나하나에 파이썬 소스 입력 -> 실행"
   ]
  },
  {
   "cell_type": "code",
   "execution_count": null,
   "id": "904eda59",
   "metadata": {},
   "outputs": [],
   "source": [
    "# esc+a ==> 위에 셀 추가\n",
    "# esc+b ==> 아래 셀 추가\n",
    "# esc+m ==> markdown\n",
    "# 마크다운에서 # -> 큰 글씨"
   ]
  },
  {
   "cell_type": "markdown",
   "id": "0d65136b",
   "metadata": {},
   "source": [
    "<b><font size=\"6\" color=\"red\">ch01. 파이썬 개요 및 환경 설정</font></b>\n",
    "# 마크다운이란\n",
    "- 코드와 함께 문서화를 할 수 있음\n",
    "- 다양한 문서화 문법 ex. README.md\n",
    "\n",
    "# 주피터 노트북 사용법(큰제목)\n",
    "- shift+Enter : 포커스된 셀이 실행되고, 커서가 다음셀로 이동\n",
    "- Alt+Enter: 포커스 된 셀이 실행 되고, 아래에 셀 추가, 커서가 다음셀로 이동\n",
    "- Ctrl+ Enter: 포커스 된 셀 실행되고, 포커스 이동이 없음 \n",
    "- Enter : 다시 편집 상태로 돌아감"
   ]
  },
  {
   "cell_type": "code",
   "execution_count": null,
   "id": "343d6dd3",
   "metadata": {},
   "outputs": [],
   "source": [
    "# print()함수를 이용해서 출력\n",
    "# ctrl+/ ==>  주석 on/off\n",
    "print(\"Hello, Python\")\n",
    "print(\"홍길동\")\n",
    "print(\"Hello, Python\\n홍길동\")"
   ]
  },
  {
   "cell_type": "code",
   "execution_count": null,
   "id": "d6f7efe3",
   "metadata": {},
   "outputs": [],
   "source": [
    "age = 25 #숫자\n",
    "duration = '2' #문자\n",
    "print(age + int(duration))\n",
    "print(str(age) + duration)\n",
    "print(duration + str(age))"
   ]
  },
  {
   "cell_type": "code",
   "execution_count": null,
   "id": "a4ede605",
   "metadata": {},
   "outputs": [],
   "source": [
    "for i in range (10):\n",
    "    print(i)\n",
    "# 반복문 지속 시 Stop기능\n",
    "# kernel 메뉴 restart"
   ]
  },
  {
   "cell_type": "code",
   "execution_count": 9,
   "id": "d11c0eb3",
   "metadata": {},
   "outputs": [],
   "source": [
    "print = 5\n",
    "print\n",
    "\n",
    "# 실수로 할당 된 print 변수를 삭제\n",
    "del print # 변수 삭제 방법 1\n",
    "#방법2. Kernel 재시작"
   ]
  },
  {
   "cell_type": "code",
   "execution_count": 10,
   "id": "c7e6963b",
   "metadata": {},
   "outputs": [
    {
     "name": "stdout",
     "output_type": "stream",
     "text": [
      "Hi\n"
     ]
    }
   ],
   "source": [
    "print(\"Hi\")"
   ]
  },
  {
   "cell_type": "markdown",
   "id": "c197f249",
   "metadata": {},
   "source": [
    "# 3. ESC 키 누르고\n",
    " - dd :  셀 삭제\n",
    " - a: 위에 셀 추가\n",
    " - b: 아래 셀 추가\n",
    " - m: Markdown cell로 변경\n",
    " - y: Code Cell로 변경\n",
    " - h : 핫키(단축키) 안내\n",
    " - o : 해당 셀의 실행결과 접기/펴기"
   ]
  },
  {
   "cell_type": "code",
   "execution_count": 17,
   "id": "e4969990",
   "metadata": {},
   "outputs": [
    {
     "name": "stdout",
     "output_type": "stream",
     "text": [
      " C 드라이브의 볼륨에는 이름이 없습니다.\n",
      " 볼륨 일련 번호: A014-DCD6\n",
      "\n",
      " C:\\ai\\source\\01_python 디렉터리\n",
      "\n",
      "2025-09-12  오전 10:53    <DIR>          .\n",
      "2025-09-12  오전 10:53    <DIR>          ..\n",
      "2025-09-12  오전 09:34    <DIR>          .ipynb_checkpoints\n",
      "2025-09-12  오전 10:53             7,990 Ch01_파이썬 개요 및 환경 설정.ipynb\n",
      "2025-09-12  오전 09:38             2,604 Untitled.ipynb\n",
      "               2개 파일              10,594 바이트\n",
      "               3개 디렉터리  173,312,344,064 바이트 남음\n"
     ]
    }
   ],
   "source": [
    "# 주피터 노트북에서  cmd 명령어 수행 --> \"!\"+cmd 명령어 --> 해당 os의 명령어를 따름\n",
    "!dir "
   ]
  },
  {
   "cell_type": "code",
   "execution_count": 16,
   "id": "5ff5fae6",
   "metadata": {},
   "outputs": [
    {
     "name": "stdout",
     "output_type": "stream",
     "text": [
      " C 드라이브의 볼륨에는 이름이 없습니다.\n",
      " 볼륨 일련 번호: A014-DCD6\n",
      "\n",
      " C:\\ai\\source\\01_python 디렉터리\n",
      "\n",
      "2025-09-12  오전 10:51    <DIR>          .\n",
      "2025-09-12  오전 10:51    <DIR>          ..\n",
      "2025-09-12  오전 09:34    <DIR>          .ipynb_checkpoints\n",
      "2025-09-12  오전 10:51             6,023 Ch01_파이썬 개요 및 환경 설정.ipynb\n",
      "2025-09-12  오전 09:38             2,604 Untitled.ipynb\n",
      "               2개 파일               8,627 바이트\n",
      "               3개 디렉터리  173,312,344,064 바이트 남음\n"
     ]
    }
   ],
   "source": [
    "# 매직 명령어 (주피터 노트북 자체 명령어) --> 우분투/리눅스 명령어를 따름\n",
    "%ls"
   ]
  },
  {
   "cell_type": "code",
   "execution_count": null,
   "id": "a44d7c90",
   "metadata": {},
   "outputs": [],
   "source": []
  }
 ],
 "metadata": {
  "kernelspec": {
   "display_name": "Python 3 (ipykernel)",
   "language": "python",
   "name": "python3"
  },
  "language_info": {
   "codemirror_mode": {
    "name": "ipython",
    "version": 3
   },
   "file_extension": ".py",
   "mimetype": "text/x-python",
   "name": "python",
   "nbconvert_exporter": "python",
   "pygments_lexer": "ipython3",
   "version": "3.10.9"
  },
  "toc": {
   "base_numbering": 1,
   "nav_menu": {},
   "number_sections": false,
   "sideBar": true,
   "skip_h1_title": false,
   "title_cell": "Table of Contents",
   "title_sidebar": "Contents",
   "toc_cell": false,
   "toc_position": {
    "height": "calc(100% - 180px)",
    "left": "10px",
    "top": "150px",
    "width": "303px"
   },
   "toc_section_display": true,
   "toc_window_display": true
  }
 },
 "nbformat": 4,
 "nbformat_minor": 5
}
