{
 "cells": [
  {
   "cell_type": "code",
   "execution_count": 1,
   "id": "651cc80c",
   "metadata": {},
   "outputs": [
    {
     "data": {
      "text/html": [
       "\n",
       "<style>\n",
       "div.container{width:90% !important;}\n",
       "div.cell.code_cell.rendered{width:100%;}\n",
       "div.input_prompt{padding:0px;}\n",
       "div.CodeMirror{font-family:Consolas; font-size:15pt;}\n",
       "div.text_cell_render.rendered_html{font-size:15pt;}\n",
       "div.output{font-size:12pt; font-weight:bold;}\n",
       "div.input{font-family:Consolas; font-size:15pt;}\n",
       "div.prompt{min-width:70px;}\n",
       "div#toc-wrapper{padding-top:120px;}\n",
       "div.text_cell_renderulli{font-size:12pt;padding:5px;}\n",
       "table.dataframe{font-size:12px;}\n",
       "</style>\n"
      ],
      "text/plain": [
       "<IPython.core.display.HTML object>"
      ]
     },
     "metadata": {},
     "output_type": "display_data"
    }
   ],
   "source": [
    "from IPython.display import display, HTML\n",
    "display(HTML(\"\"\"\n",
    "<style>\n",
    "div.container{width:90% !important;}\n",
    "div.cell.code_cell.rendered{width:100%;}\n",
    "div.input_prompt{padding:0px;}\n",
    "div.CodeMirror{font-family:Consolas; font-size:15pt;}\n",
    "div.text_cell_render.rendered_html{font-size:15pt;}\n",
    "div.output{font-size:12pt; font-weight:bold;}\n",
    "div.input{font-family:Consolas; font-size:15pt;}\n",
    "div.prompt{min-width:70px;}\n",
    "div#toc-wrapper{padding-top:120px;}\n",
    "div.text_cell_renderulli{font-size:12pt;padding:5px;}\n",
    "table.dataframe{font-size:12px;}\n",
    "</style>\n",
    "\"\"\"))"
   ]
  },
  {
   "cell_type": "markdown",
   "id": "3bb99395",
   "metadata": {},
   "source": [
    "<b><font size=\"6\" color=\"red\">ch06. 모듈과 패키지</font></b>\n",
    "\n",
    "# 1. 파이썬 표준 모듈 사용\n",
    "\n",
    " - 모듈: 함수, 변수, 클래스 등을 담고 있는 파이썬 코드 파일 (*.py)\n",
    " - python.org: 파이썬 표준 모듈 200여개는 파이썬 인터프리터와 함께 install 됨 (sys, re, datetime,...)\n",
    " - anaconda는 1500개 이상 패키지 install (정확한 갯수는 버전마다 상이)\n",
    " - miniconda: python.org 보다 조금 더 많은 모듈을 install\n",
    " "
   ]
  },
  {
   "cell_type": "code",
   "execution_count": 2,
   "id": "e2af9710",
   "metadata": {},
   "outputs": [
    {
     "data": {
      "text/plain": [
       "'Thu Sep 25 14:26:38 2025'"
      ]
     },
     "execution_count": 2,
     "metadata": {},
     "output_type": "execute_result"
    }
   ],
   "source": [
    "#1. import 모듈명 :  모듈 안의 함수, 클래스, 변수를 모듈명.함수명() 으로 사용\n",
    "import time\n",
    "\n",
    "time.ctime()"
   ]
  },
  {
   "cell_type": "code",
   "execution_count": 6,
   "id": "f3c5f2e1",
   "metadata": {},
   "outputs": [
    {
     "data": {
      "text/plain": [
       "1758778976.02844"
      ]
     },
     "execution_count": 6,
     "metadata": {},
     "output_type": "execute_result"
    }
   ],
   "source": [
    "time.time() #1970.1.1부터의 지금까지의 초"
   ]
  },
  {
   "cell_type": "code",
   "execution_count": 10,
   "id": "b2c53c01",
   "metadata": {},
   "outputs": [],
   "source": [
    "del time # time 모듈을 메모리에서 unload"
   ]
  },
  {
   "cell_type": "code",
   "execution_count": 11,
   "id": "63082ab8",
   "metadata": {},
   "outputs": [
    {
     "data": {
      "text/plain": [
       "'Thu Sep 25 14:49:40 2025'"
      ]
     },
     "execution_count": 11,
     "metadata": {},
     "output_type": "execute_result"
    }
   ],
   "source": [
    "#2. from 모듈 (A) import 함수|클래스|변수(B) : A모듈 안의 B만 load\n",
    "# from 패키지 (A) import 모듈(B) : A패키지 안의 B모듈 로드\n",
    "# from 패키지 (A).모듈명 (B) import 함수명 (C) : A(패키지 안의 ).B 모듈 안의 C함수 로드 \n",
    "\n",
    "from time import ctime, time \n",
    "ctime()"
   ]
  },
  {
   "cell_type": "code",
   "execution_count": 12,
   "id": "dfc5b71e",
   "metadata": {},
   "outputs": [],
   "source": [
    "del ctime\n",
    "del time\n"
   ]
  },
  {
   "cell_type": "code",
   "execution_count": 14,
   "id": "f3325f17",
   "metadata": {},
   "outputs": [
    {
     "data": {
      "text/plain": [
       "1758779617.4886546"
      ]
     },
     "execution_count": 14,
     "metadata": {},
     "output_type": "execute_result"
    }
   ],
   "source": [
    "#3. import A as B   - A 모듈을 B 이름으로 메모리 로드\n",
    "\n",
    "import time as t\n",
    "\n",
    "t.ctime()\n",
    "t.time()"
   ]
  },
  {
   "cell_type": "code",
   "execution_count": 18,
   "id": "5644d218",
   "metadata": {},
   "outputs": [],
   "source": [
    "import numpy as np\n",
    "import pandas as pd"
   ]
  },
  {
   "cell_type": "code",
   "execution_count": 19,
   "id": "c4a5bfbf",
   "metadata": {},
   "outputs": [],
   "source": [
    "del t\n",
    "del np\n",
    "del pd"
   ]
  },
  {
   "cell_type": "code",
   "execution_count": 20,
   "id": "5be08c89",
   "metadata": {},
   "outputs": [],
   "source": [
    "#4. from 모듈명 import 함수명 as 별칭\n",
    "#   from 패키지명 import 모듈명 as 별칭\n",
    "#   from 패키지명.모듈명 import 함수명 as 별칭\n",
    "\n",
    "from time import ctime as ct, time as ti\n"
   ]
  },
  {
   "cell_type": "code",
   "execution_count": 21,
   "id": "135526dd",
   "metadata": {},
   "outputs": [],
   "source": [
    "import time"
   ]
  },
  {
   "cell_type": "code",
   "execution_count": 22,
   "id": "ac79816e",
   "metadata": {},
   "outputs": [
    {
     "name": "stdout",
     "output_type": "stream",
     "text": [
      "['_STRUCT_TM_ITEMS', '__doc__', '__loader__', '__name__', '__package__', '__spec__', 'altzone', 'asctime', 'ctime', 'daylight', 'get_clock_info', 'gmtime', 'localtime', 'mktime', 'monotonic', 'monotonic_ns', 'perf_counter', 'perf_counter_ns', 'process_time', 'process_time_ns', 'sleep', 'strftime', 'strptime', 'struct_time', 'thread_time', 'thread_time_ns', 'time', 'time_ns', 'timezone', 'tzname']\n"
     ]
    }
   ],
   "source": [
    "print(dir(time)) #time 내의 함수, 변수, 클래스등이 list로 출력"
   ]
  },
  {
   "cell_type": "markdown",
   "id": "d9d8cddb",
   "metadata": {},
   "source": [
    " # 2. 사용자 정의 모듈\n",
    " - 함수나 클래스등을 파이썬 파일에 저장해서 모듈 만들고 재사용 가능\n",
    " - 모듈을 가져오는 순서 (1) 표준모듈 (2) sys.path 변수에 저장된 경로\n",
    " "
   ]
  },
  {
   "cell_type": "code",
   "execution_count": 2,
   "id": "8a67c0ac",
   "metadata": {},
   "outputs": [],
   "source": [
    "import sys\n",
    "\n",
    "sys.path.append(r'C:\\ai\\source\\pylib')\n",
    "\n"
   ]
  },
  {
   "cell_type": "code",
   "execution_count": 8,
   "id": "22ac4abe",
   "metadata": {},
   "outputs": [],
   "source": [
    "#1. import 모듈명\n",
    "import fibonacci"
   ]
  },
  {
   "cell_type": "code",
   "execution_count": 9,
   "id": "bd66f43f",
   "metadata": {
    "scrolled": false
   },
   "outputs": [
    {
     "data": {
      "text/plain": [
       "([0, 1, 1, 2, 3, 5, 8], 13, 21)"
      ]
     },
     "execution_count": 9,
     "metadata": {},
     "output_type": "execute_result"
    }
   ],
   "source": [
    "fibonacci.fibonacci(10)"
   ]
  },
  {
   "cell_type": "code",
   "execution_count": 13,
   "id": "0bbface1",
   "metadata": {},
   "outputs": [
    {
     "name": "stdout",
     "output_type": "stream",
     "text": [
      "0 1 1 2 3 5 8 \n"
     ]
    },
    {
     "data": {
      "text/plain": [
       "([0, 1, 1, 2, 3, 5, 8, 13], 21, 34)"
      ]
     },
     "execution_count": 13,
     "metadata": {},
     "output_type": "execute_result"
    }
   ],
   "source": [
    "#2. from 모듈명 import 함수명\n",
    "from fibonacci import fibonacci_print, fibonacci\n",
    "fibonacci_print(10)\n",
    "fibonacci(20)"
   ]
  },
  {
   "cell_type": "code",
   "execution_count": 64,
   "id": "b9185304",
   "metadata": {},
   "outputs": [],
   "source": [
    "del fibonacci_print, fibonacci"
   ]
  },
  {
   "cell_type": "code",
   "execution_count": 11,
   "id": "c2693839",
   "metadata": {},
   "outputs": [
    {
     "data": {
      "text/plain": [
       "([0, 1, 1, 2, 3, 5, 8], 13, 21)"
      ]
     },
     "execution_count": 11,
     "metadata": {},
     "output_type": "execute_result"
    }
   ],
   "source": [
    "#3. import 모듈명 as 별칭\n",
    "\n",
    "import fibonacci as fi\n",
    "fi.fibonacci(10)"
   ]
  },
  {
   "cell_type": "code",
   "execution_count": 14,
   "id": "06c635ed",
   "metadata": {},
   "outputs": [],
   "source": [
    "#4. from 모듈명 import 함수명 as 별칭\n",
    "from fibonacci import fibonacci as fibo, fibonacci_print as fibo_p"
   ]
  },
  {
   "cell_type": "code",
   "execution_count": 15,
   "id": "f44b49ca",
   "metadata": {},
   "outputs": [
    {
     "data": {
      "text/plain": [
       "([0, 1, 1, 2, 3, 5, 8], 13, 21)"
      ]
     },
     "execution_count": 15,
     "metadata": {},
     "output_type": "execute_result"
    }
   ],
   "source": [
    "fibo(10)"
   ]
  },
  {
   "cell_type": "code",
   "execution_count": 17,
   "id": "a4427725",
   "metadata": {},
   "outputs": [
    {
     "name": "stdout",
     "output_type": "stream",
     "text": [
      "0 1 1 2 3 5 8 13 21 34 55 89 \n"
     ]
    }
   ],
   "source": [
    "fibo_p(100)"
   ]
  },
  {
   "cell_type": "code",
   "execution_count": null,
   "id": "e5dc466a",
   "metadata": {},
   "outputs": [],
   "source": []
  },
  {
   "cell_type": "code",
   "execution_count": null,
   "id": "65fc4728",
   "metadata": {},
   "outputs": [],
   "source": []
  },
  {
   "cell_type": "markdown",
   "id": "eeb4e370",
   "metadata": {},
   "source": [
    "# 3. 패키지\n",
    " - 모듈이 들어있는 폴더 (\\t__init__.py)"
   ]
  },
  {
   "cell_type": "code",
   "execution_count": 1,
   "id": "906bf2fa",
   "metadata": {},
   "outputs": [
    {
     "data": {
      "text/plain": [
       "['C:\\\\ai\\\\source\\\\01_python',\n",
       " 'C:\\\\Users\\\\Admin\\\\anaconda3\\\\python310.zip',\n",
       " 'C:\\\\Users\\\\Admin\\\\anaconda3\\\\DLLs',\n",
       " 'C:\\\\Users\\\\Admin\\\\anaconda3\\\\lib',\n",
       " 'C:\\\\Users\\\\Admin\\\\anaconda3',\n",
       " '',\n",
       " 'C:\\\\Users\\\\Admin\\\\anaconda3\\\\lib\\\\site-packages',\n",
       " 'C:\\\\Users\\\\Admin\\\\anaconda3\\\\lib\\\\site-packages\\\\win32',\n",
       " 'C:\\\\Users\\\\Admin\\\\anaconda3\\\\lib\\\\site-packages\\\\win32\\\\lib',\n",
       " 'C:\\\\Users\\\\Admin\\\\anaconda3\\\\lib\\\\site-packages\\\\Pythonwin']"
      ]
     },
     "execution_count": 1,
     "metadata": {},
     "output_type": "execute_result"
    }
   ],
   "source": [
    "import sys\n",
    "sys.path"
   ]
  },
  {
   "cell_type": "code",
   "execution_count": 3,
   "id": "cdba3e44",
   "metadata": {},
   "outputs": [
    {
     "name": "stdout",
     "output_type": "stream",
     "text": [
      "sample_pac 패키지 로드\n"
     ]
    }
   ],
   "source": [
    "# 상위패키지를 import 한다고 하위패키지가 import 되지 않음\n",
    "import sample_pac"
   ]
  },
  {
   "cell_type": "code",
   "execution_count": 4,
   "id": "6bf2c40e",
   "metadata": {},
   "outputs": [
    {
     "name": "stdout",
     "output_type": "stream",
     "text": [
      "['__builtins__', '__cached__', '__doc__', '__file__', '__loader__', '__name__', '__package__', '__path__', '__spec__', 'test']\n"
     ]
    }
   ],
   "source": [
    "print(dir(sample_pac))"
   ]
  },
  {
   "cell_type": "code",
   "execution_count": 5,
   "id": "e97fd932",
   "metadata": {},
   "outputs": [
    {
     "name": "stdout",
     "output_type": "stream",
     "text": [
      "sample_pac안의 test()입니다\n"
     ]
    }
   ],
   "source": [
    "sample_pac.test()"
   ]
  },
  {
   "cell_type": "code",
   "execution_count": 3,
   "id": "cae81458",
   "metadata": {},
   "outputs": [
    {
     "name": "stdout",
     "output_type": "stream",
     "text": [
      "sample_pac 패키지 로드\n",
      "sample_pac.ab 패키지 로드\n"
     ]
    }
   ],
   "source": [
    "import sample_pac.ab  #ab/__init__.py"
   ]
  },
  {
   "cell_type": "code",
   "execution_count": 5,
   "id": "7f4d3d6a",
   "metadata": {},
   "outputs": [
    {
     "name": "stdout",
     "output_type": "stream",
     "text": [
      "sample_pac.ab.a 모듈의 hello\n"
     ]
    }
   ],
   "source": [
    "from sample_pac.ab import * #__init__.py의 __all__ 속성만 로드\n",
    "a.hello()"
   ]
  },
  {
   "cell_type": "code",
   "execution_count": 8,
   "id": "c79bfc47",
   "metadata": {},
   "outputs": [
    {
     "name": "stdout",
     "output_type": "stream",
     "text": [
      "sample_pac.ab.b 모듈의 world\n"
     ]
    }
   ],
   "source": [
    "from sample_pac.ab import b\n",
    "b.world()"
   ]
  },
  {
   "cell_type": "code",
   "execution_count": 11,
   "id": "28e24634",
   "metadata": {},
   "outputs": [],
   "source": [
    "from sample_pac.ab.b import world as w"
   ]
  },
  {
   "cell_type": "code",
   "execution_count": 13,
   "id": "18a9e327",
   "metadata": {},
   "outputs": [
    {
     "name": "stdout",
     "output_type": "stream",
     "text": [
      "sample_pac.ab.b 모듈의 world\n"
     ]
    }
   ],
   "source": [
    "w()"
   ]
  },
  {
   "cell_type": "code",
   "execution_count": 14,
   "id": "66702388",
   "metadata": {},
   "outputs": [
    {
     "name": "stdout",
     "output_type": "stream",
     "text": [
      "sample_pac.ab.b 모듈의 world\n"
     ]
    }
   ],
   "source": [
    "w()"
   ]
  },
  {
   "cell_type": "code",
   "execution_count": 15,
   "id": "9bc91739",
   "metadata": {},
   "outputs": [
    {
     "name": "stdout",
     "output_type": "stream",
     "text": [
      "sample_pac.ab.b 모듈의 world\n"
     ]
    }
   ],
   "source": [
    "world()"
   ]
  },
  {
   "cell_type": "code",
   "execution_count": 16,
   "id": "ba1d5a37",
   "metadata": {},
   "outputs": [],
   "source": [
    "from sample_pac.cd import c"
   ]
  },
  {
   "cell_type": "code",
   "execution_count": 18,
   "id": "fb9446d4",
   "metadata": {},
   "outputs": [],
   "source": [
    "from sample_pac.cd.c import nice"
   ]
  },
  {
   "cell_type": "code",
   "execution_count": 19,
   "id": "231dc343",
   "metadata": {},
   "outputs": [
    {
     "name": "stdout",
     "output_type": "stream",
     "text": [
      "sample_pac/cd패키지안의 c모듈 안의 nice\n",
      "sample_pac.ab.a 모듈의 hello\n"
     ]
    }
   ],
   "source": [
    "c.nice()"
   ]
  },
  {
   "cell_type": "code",
   "execution_count": 20,
   "id": "4fb0700d",
   "metadata": {},
   "outputs": [
    {
     "name": "stdout",
     "output_type": "stream",
     "text": [
      "sample_pac/cd패키지안의 c모듈 안의 nice\n",
      "sample_pac.ab.a 모듈의 hello\n"
     ]
    }
   ],
   "source": [
    "nice()"
   ]
  },
  {
   "cell_type": "code",
   "execution_count": 21,
   "id": "c5f0060f",
   "metadata": {},
   "outputs": [
    {
     "name": "stdout",
     "output_type": "stream",
     "text": [
      "sample_pac.ab.a 모듈의 hello\n"
     ]
    }
   ],
   "source": [
    "c.a.hello()"
   ]
  },
  {
   "cell_type": "code",
   "execution_count": null,
   "id": "115f27d5",
   "metadata": {},
   "outputs": [],
   "source": []
  },
  {
   "cell_type": "markdown",
   "id": "6e1f3a01",
   "metadata": {},
   "source": [
    "# 4. 패키지 설치 및 삭제\n",
    " - 패키지 설치 : pip install 패키지명 [==버전] / conda install 패키지명 [==버전]\n",
    " - 패키지 확인 : pip show 패키지명            / conda list 패키지명\n",
    " - 패키지 삭제 : pip uninstall 패키지명       / conda remove 패키지명"
   ]
  },
  {
   "cell_type": "code",
   "execution_count": 6,
   "id": "4b1fc0ad",
   "metadata": {},
   "outputs": [],
   "source": [
    "import objgraph  # memory 사용량 출력하는 함수"
   ]
  },
  {
   "cell_type": "code",
   "execution_count": 5,
   "id": "fa920c59",
   "metadata": {},
   "outputs": [
    {
     "name": "stdout",
     "output_type": "stream",
     "text": [
      "dict                       33951\n",
      "list                       19566\n",
      "function                   18542\n",
      "Token                      16774\n",
      "tuple                      12295\n",
      "ReferenceType              5462\n",
      "DFAPlan                    5418\n",
      "Name                       3933\n",
      "builtin_function_or_method 3280\n",
      "NFAArc                     2738\n"
     ]
    }
   ],
   "source": [
    "objgraph.show_most_common_types()"
   ]
  },
  {
   "cell_type": "code",
   "execution_count": null,
   "id": "80a7d111",
   "metadata": {},
   "outputs": [],
   "source": []
  },
  {
   "cell_type": "markdown",
   "id": "725f8238",
   "metadata": {},
   "source": [
    "# 5. 연습문제"
   ]
  },
  {
   "cell_type": "code",
   "execution_count": null,
   "id": "d88ac793",
   "metadata": {},
   "outputs": [],
   "source": [
    "'''\n",
    "1. 3\n",
    "2. 4\n",
    "3. __init__.py\n",
    "4. __all__\n",
    "5. 1\n",
    "\n",
    "\n",
    "'''"
   ]
  },
  {
   "cell_type": "code",
   "execution_count": null,
   "id": "1943ecc4",
   "metadata": {},
   "outputs": [],
   "source": []
  }
 ],
 "metadata": {
  "kernelspec": {
   "display_name": "Python 3 (ipykernel)",
   "language": "python",
   "name": "python3"
  },
  "language_info": {
   "codemirror_mode": {
    "name": "ipython",
    "version": 3
   },
   "file_extension": ".py",
   "mimetype": "text/x-python",
   "name": "python",
   "nbconvert_exporter": "python",
   "pygments_lexer": "ipython3",
   "version": "3.10.9"
  },
  "toc": {
   "base_numbering": 1,
   "nav_menu": {},
   "number_sections": false,
   "sideBar": true,
   "skip_h1_title": false,
   "title_cell": "Table of Contents",
   "title_sidebar": "Contents",
   "toc_cell": false,
   "toc_position": {},
   "toc_section_display": true,
   "toc_window_display": false
  }
 },
 "nbformat": 4,
 "nbformat_minor": 5
}
