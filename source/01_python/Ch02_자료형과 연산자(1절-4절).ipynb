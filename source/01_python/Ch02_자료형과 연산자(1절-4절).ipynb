{
 "cells": [
  {
   "cell_type": "code",
   "execution_count": 104,
   "id": "d7650413",
   "metadata": {},
   "outputs": [
    {
     "data": {
      "text/html": [
       "\n",
       "<style>\n",
       "div.container{width:90% !important;}\n",
       "div.cell.code_cell.rendered{width:100%;}\n",
       "div.input_prompt{padding:0px;}\n",
       "div.CodeMirror{font-family:Consolas; font-size:15pt;}\n",
       "div.text_cell_render.rendered_html{font-size:15pt;}\n",
       "div.output{font-size:12pt; font-weight:bold;}\n",
       "div.input{font-family:Consolas; font-size:15pt;}\n",
       "div.prompt{min-width:70px;}\n",
       "div#toc-wrapper{padding-top:120px;}\n",
       "div.text_cell_renderulli{font-size:12pt;padding:5px;}\n",
       "table.dataframe{font-size:12px;}\n",
       "</style>\n"
      ],
      "text/plain": [
       "<IPython.core.display.HTML object>"
      ]
     },
     "metadata": {},
     "output_type": "display_data"
    }
   ],
   "source": [
    "from IPython.display import display, HTML\n",
    "display(HTML(\"\"\"\n",
    "<style>\n",
    "div.container{width:90% !important;}\n",
    "div.cell.code_cell.rendered{width:100%;}\n",
    "div.input_prompt{padding:0px;}\n",
    "div.CodeMirror{font-family:Consolas; font-size:15pt;}\n",
    "div.text_cell_render.rendered_html{font-size:15pt;}\n",
    "div.output{font-size:12pt; font-weight:bold;}\n",
    "div.input{font-family:Consolas; font-size:15pt;}\n",
    "div.prompt{min-width:70px;}\n",
    "div#toc-wrapper{padding-top:120px;}\n",
    "div.text_cell_renderulli{font-size:12pt;padding:5px;}\n",
    "table.dataframe{font-size:12px;}\n",
    "</style>\n",
    "\"\"\"))\n"
   ]
  },
  {
   "cell_type": "markdown",
   "id": "c61b6b36",
   "metadata": {},
   "source": [
    "<b><font size=\"6\" color=\"red\">ch02. 자료형과 연산자</font></b>\n",
    "\n",
    "# 1. 변수\n",
    "- 변수: 프로그램 작업 처리를 위하여 값을 저장할 수 있는 메모리 공간\n",
    "- 파이썬은 변수 선언을 위한 타입이 없고, 별도의 선언 과정도 없음\n",
    "\n",
    "## 1.1 변수 할당\n",
    "- 할당연산자 (=)를 이용해서 값을 할당하면 자료형(타입)이 세팅 --> \"=\" is not \"Equal\" Equal is \"==\"\n",
    "- 파이썬에서 모든 변수는 객채로 저장  --> what is 객체? i dont get it"
   ]
  },
  {
   "cell_type": "code",
   "execution_count": 34,
   "id": "81c18716",
   "metadata": {},
   "outputs": [
    {
     "name": "stdout",
     "output_type": "stream",
     "text": [
      "넓이 : 78.5\n"
     ]
    }
   ],
   "source": [
    "r = 5 #실수 (int)\n",
    "area = 3.14 * r * r\n",
    "print(\"넓이 :\", area)"
   ]
  },
  {
   "cell_type": "code",
   "execution_count": 35,
   "id": "3f67e18d",
   "metadata": {},
   "outputs": [
    {
     "name": "stdout",
     "output_type": "stream",
     "text": [
      "area 주소 : 2508140486864\n",
      "area의 타입 : <class 'float'>\n"
     ]
    }
   ],
   "source": [
    "print('area 주소 :',id(area))\n",
    "print('area의 타입 :',type(area))"
   ]
  },
  {
   "cell_type": "code",
   "execution_count": 38,
   "id": "55b8204e",
   "metadata": {},
   "outputs": [
    {
     "name": "stdout",
     "output_type": "stream",
     "text": [
      "넓이 : 78.53981633974483\n"
     ]
    }
   ],
   "source": [
    "import numpy as np # numpy라는 package를 np라는 이름으로 사용\n",
    "area=np.pi*r*r\n",
    "print('넓이 :',area)\n",
    "\n",
    "#print(area), 그냥 area 하면 out[] 값만 나오는데?"
   ]
  },
  {
   "cell_type": "code",
   "execution_count": 39,
   "id": "3f66d460",
   "metadata": {},
   "outputs": [
    {
     "name": "stdout",
     "output_type": "stream",
     "text": [
      "area 주소 : 2508140486128\n",
      "area의 타입 : <class 'float'>\n"
     ]
    }
   ],
   "source": [
    "print('area 주소 :',id(area))\n",
    "print('area의 타입 :',type(area))"
   ]
  },
  {
   "cell_type": "code",
   "execution_count": 37,
   "id": "b4722c42",
   "metadata": {},
   "outputs": [
    {
     "data": {
      "text/plain": [
       "False"
      ]
     },
     "execution_count": 37,
     "metadata": {},
     "output_type": "execute_result"
    }
   ],
   "source": [
    "area.is_integer()"
   ]
  },
  {
   "cell_type": "code",
   "execution_count": 41,
   "id": "83008d36",
   "metadata": {},
   "outputs": [
    {
     "name": "stdout",
     "output_type": "stream",
     "text": [
      "area 주소 : 2508026610192\n",
      "area의 타입 : <class 'int'>\n"
     ]
    }
   ],
   "source": [
    "area=10\n",
    "print('area 주소 :',id(area))\n",
    "print('area의 타입 :',type(area))"
   ]
  },
  {
   "cell_type": "code",
   "execution_count": 42,
   "id": "6959adec",
   "metadata": {},
   "outputs": [
    {
     "name": "stdout",
     "output_type": "stream",
     "text": [
      "area 주소 : 2508158234864\n",
      "area의 타입 : <class 'str'>\n"
     ]
    }
   ],
   "source": [
    "area = \"파이썬\"\n",
    "print('area 주소 :',id(area))\n",
    "print('area의 타입 :',type(area))"
   ]
  },
  {
   "cell_type": "markdown",
   "id": "32908f39",
   "metadata": {},
   "source": [
    "## 1.2 변수(함수) 이름 규칙\n",
    "- 문자로 시작 (숫자 시작 불가)\n",
    "- 문자, (특수문자는 언더바 \"_\" 이외 불가), 숫자, 언더바 \"_\"만 사용하여 변수명 작성\n",
    "- 함수명으로 변수이름으로 사용 (technically possible but avoid it). 꼭 써야한다면 \"함수명\"+\"_\" 형식으로 사용\n",
    "- 파이썬 예약어 (for, if, ..) 변수명 사용 불가 \n",
    "- 한글 변수 사용 가능하나 꼭 필요시에만"
   ]
  },
  {
   "cell_type": "code",
   "execution_count": 44,
   "id": "8e13e3df",
   "metadata": {},
   "outputs": [
    {
     "name": "stdout",
     "output_type": "stream",
     "text": [
      "홍길동\n"
     ]
    }
   ],
   "source": [
    "이름 = '홍길동'\n",
    "print (이름)"
   ]
  },
  {
   "cell_type": "code",
   "execution_count": 49,
   "id": "9d109c56",
   "metadata": {},
   "outputs": [
    {
     "name": "stdout",
     "output_type": "stream",
     "text": [
      "홍길동 홍길동\n"
     ]
    }
   ],
   "source": [
    "#member.name = \"홍길동\" => 불가 \".\"은 변수에 넣기 불가\n",
    "member_name = '홍길동'\n",
    "memberName = '홍길동'\n",
    "print(member_name, memberName)"
   ]
  },
  {
   "cell_type": "code",
   "execution_count": 52,
   "id": "fc0d1574",
   "metadata": {},
   "outputs": [
    {
     "name": "stdout",
     "output_type": "stream",
     "text": [
      "<class 'complex'>\n",
      "(1+3j)\n"
     ]
    }
   ],
   "source": [
    "#숫자 : 정수[int](소수점 x), 실수[float] (소수점 o), 복소수 (complex number) --> 허수는 i가 아니라 j로 씀\n",
    "i = 1 + 3j #복소수\n",
    "print (type(i))\n",
    "print (i)"
   ]
  },
  {
   "cell_type": "code",
   "execution_count": 58,
   "id": "93afb33a",
   "metadata": {},
   "outputs": [
    {
     "data": {
      "text/plain": [
       "False"
      ]
     },
     "execution_count": 58,
     "metadata": {},
     "output_type": "execute_result"
    }
   ],
   "source": [
    "isinstance (i,complex) # isinstance (변수이름, 타입) --> 변수가 타입의 객체인지\n",
    "isinstance (i,float)\n",
    "isinstance (i,int)"
   ]
  },
  {
   "cell_type": "code",
   "execution_count": 57,
   "id": "d474a5b7",
   "metadata": {},
   "outputs": [
    {
     "name": "stdout",
     "output_type": "stream",
     "text": [
      "True\n",
      "False\n",
      "False\n"
     ]
    }
   ],
   "source": [
    "print(isinstance (i,complex))\n",
    "print(isinstance (i,float))\n",
    "print(isinstance (i,int))"
   ]
  },
  {
   "cell_type": "markdown",
   "id": "0169f51d",
   "metadata": {},
   "source": [
    "## 1.3 다중 변수 선언"
   ]
  },
  {
   "cell_type": "code",
   "execution_count": 74,
   "id": "eeb304aa",
   "metadata": {},
   "outputs": [
    {
     "name": "stdout",
     "output_type": "stream",
     "text": [
      "10 20\n"
     ]
    }
   ],
   "source": [
    "a,b = 10,20 #동시에  들어감\n",
    "print(a,b)"
   ]
  },
  {
   "cell_type": "code",
   "execution_count": 75,
   "id": "a2441b30",
   "metadata": {},
   "outputs": [
    {
     "name": "stdout",
     "output_type": "stream",
     "text": [
      "20 30\n"
     ]
    }
   ],
   "source": [
    "a, b = b,a+b #a에 기존 b 값, b에 기존 a값+b값\n",
    "# 다중 변수 할당시 순차적 할당이 아닌, 일괄 동시 할당\n",
    "print (a,b)"
   ]
  },
  {
   "cell_type": "markdown",
   "id": "308071f0",
   "metadata": {},
   "source": [
    "## 1.4 도움말"
   ]
  },
  {
   "cell_type": "code",
   "execution_count": 77,
   "id": "2ac6fb04",
   "metadata": {},
   "outputs": [
    {
     "name": "stdout",
     "output_type": "stream",
     "text": [
      "Help on built-in function print in module builtins:\n",
      "\n",
      "print(...)\n",
      "    print(value, ..., sep=' ', end='\\n', file=sys.stdout, flush=False)\n",
      "    \n",
      "    Prints the values to a stream, or to sys.stdout by default.\n",
      "    Optional keyword arguments:\n",
      "    file:  a file-like object (stream); defaults to the current sys.stdout.\n",
      "    sep:   string inserted between values, default a space.\n",
      "    end:   string appended after the last value, default a newline.\n",
      "    flush: whether to forcibly flush the stream.\n",
      "\n"
     ]
    }
   ],
   "source": [
    "help (print) #help(함수)"
   ]
  },
  {
   "cell_type": "code",
   "execution_count": 82,
   "id": "c4b844b3",
   "metadata": {
    "collapsed": true
   },
   "outputs": [
    {
     "name": "stdout",
     "output_type": "stream",
     "text": [
      "\n",
      "Welcome to Python 3.10's help utility!\n",
      "\n",
      "If this is your first time using Python, you should definitely check out\n",
      "the tutorial on the internet at https://docs.python.org/3.10/tutorial/.\n",
      "\n",
      "Enter the name of any module, keyword, or topic to get help on writing\n",
      "Python programs and using Python modules.  To quit this help utility and\n",
      "return to the interpreter, just type \"quit\".\n",
      "\n",
      "To get a list of available modules, keywords, symbols, or topics, type\n",
      "\"modules\", \"keywords\", \"symbols\", or \"topics\".  Each module also comes\n",
      "with a one-line summary of what it does; to list the modules whose name\n",
      "or summary contain a given string such as \"spam\", type \"modules spam\".\n",
      "\n",
      "help> q\n",
      "\n",
      "You are now leaving help and returning to the Python interpreter.\n",
      "If you want to ask for help on a particular object directly from the\n",
      "interpreter, you can type \"help(object)\".  Executing \"help('string')\"\n",
      "has the same effect as typing a particular string at the help> prompt.\n"
     ]
    }
   ],
   "source": [
    "help() # help 빠져나오려면 q 입력. esc+o로 결과 접기/펴기"
   ]
  },
  {
   "cell_type": "code",
   "execution_count": 83,
   "id": "675ece14",
   "metadata": {},
   "outputs": [
    {
     "name": "stdout",
     "output_type": "stream",
     "text": [
      "\n"
     ]
    }
   ],
   "source": [
    "#도움말 기능 : shift + tab키 ==> 도움말 단축키 ==> 괄호 안에 커서 있을 때 키 누르기\n",
    "print()"
   ]
  },
  {
   "cell_type": "code",
   "execution_count": 94,
   "id": "b47ada14",
   "metadata": {},
   "outputs": [],
   "source": [
    "#함수 만들기 def add(매개변수1,매개변수2)\n",
    "#''' 이 사이는 함수 도움말\n",
    "#'''\n",
    "def add(x,y=0):\n",
    "    '''\n",
    "    매개변수 (x,y) 2개를 받아 두자리 숫자로 만드는 함수\n",
    "    x = 10의 자리수가 되고\n",
    "    y = 1의 자리수가 됨 (default 값 0 만들려면 y=0으로 입력)\n",
    "    '''\n",
    "    return x*10+y"
   ]
  },
  {
   "cell_type": "code",
   "execution_count": 97,
   "id": "81266474",
   "metadata": {},
   "outputs": [
    {
     "data": {
      "text/plain": [
       "34"
      ]
     },
     "execution_count": 97,
     "metadata": {},
     "output_type": "execute_result"
    }
   ],
   "source": [
    "add(3,4)"
   ]
  },
  {
   "cell_type": "code",
   "execution_count": 98,
   "id": "ba3b4344",
   "metadata": {},
   "outputs": [
    {
     "data": {
      "text/plain": [
       "30"
      ]
     },
     "execution_count": 98,
     "metadata": {},
     "output_type": "execute_result"
    }
   ],
   "source": [
    "add(3)"
   ]
  },
  {
   "cell_type": "code",
   "execution_count": 99,
   "id": "27d0b03b",
   "metadata": {},
   "outputs": [
    {
     "name": "stdout",
     "output_type": "stream",
     "text": [
      "Help on function add in module __main__:\n",
      "\n",
      "add(x, y=0)\n",
      "    매개변수 (x,y) 2개를 받아 두자리 숫자로 만드는 함수\n",
      "    x = 10의 자리수가 되고\n",
      "    y = 1의 자리수가 됨 (default 값 0 만들려면 y=0으로 입력)\n",
      "\n"
     ]
    }
   ],
   "source": [
    "help(add)"
   ]
  },
  {
   "cell_type": "markdown",
   "id": "91621b9f",
   "metadata": {},
   "source": [
    "# 2. 화면 i/o (입출력)"
   ]
  },
  {
   "cell_type": "code",
   "execution_count": 119,
   "id": "c83e7264",
   "metadata": {},
   "outputs": [
    {
     "name": "stdout",
     "output_type": "stream",
     "text": [
      "첫번째 숫자는?10\n",
      "두번째 숫자는?5\n"
     ]
    }
   ],
   "source": [
    "#input() : 사용자로부터 값을 입력받기 위한 함수. 입력값은 항상 str (문자) 으로 받음 input앞에 int를 넣어서 숫자로 변환\n",
    "first = int(input('첫번째 숫자는?'))\n",
    "second = int(input('두번째 숫자는?'))"
   ]
  },
  {
   "cell_type": "code",
   "execution_count": 120,
   "id": "f3b6f41a",
   "metadata": {},
   "outputs": [
    {
     "name": "stdout",
     "output_type": "stream",
     "text": [
      "10 5\n"
     ]
    }
   ],
   "source": [
    "print (first, second)"
   ]
  },
  {
   "cell_type": "code",
   "execution_count": 123,
   "id": "06a3740a",
   "metadata": {},
   "outputs": [
    {
     "name": "stdout",
     "output_type": "stream",
     "text": [
      "두 수의 합은 15\n"
     ]
    }
   ],
   "source": [
    "print('두 수의 합은', first+second)"
   ]
  },
  {
   "cell_type": "code",
   "execution_count": 142,
   "id": "ab323604",
   "metadata": {},
   "outputs": [
    {
     "name": "stdout",
     "output_type": "stream",
     "text": [
      "first--10--second--5\tHello Python\n"
     ]
    }
   ],
   "source": [
    "#print()는 print(value, sep, end) 중 sep과 end를 쓰지 않아도 작동\n",
    "#(값, 여러 값을 분리시켜주는 문자(안쓰면 \" \"),출력 후 어떻게 할지 (안쓰면 줄바꿈(\\n)))\n",
    "# \\t==> tab \\n ==> 줄바꿈\n",
    "print('first', first, 'second', second, sep=\"--\", end=\"\\t\") \n",
    "print('Hello', 'Python', sep=' ')\n"
   ]
  },
  {
   "cell_type": "code",
   "execution_count": null,
   "id": "eb0de83d",
   "metadata": {},
   "outputs": [],
   "source": []
  },
  {
   "cell_type": "markdown",
   "id": "b2d247c4",
   "metadata": {},
   "source": [
    "# 3. 기본 자료형\n",
    "- 자료형 : 변수가 가저야 할 값의 형식. --> 자료형에 따라 값의 크기 (memory size) 와 저장 방식이 달라짐\n",
    " 8bit = 1byte\n",
    "- 자료형에 따라 수행할 수 있는 명령어들이 달라짐\n",
    "    * `숫자` : int, float, complex\n",
    "    * `문자` : str\n",
    "    * `논리` : bool (T/F)\n",
    "    \n",
    "## 3.1 숫자형\n"
   ]
  },
  {
   "cell_type": "code",
   "execution_count": 148,
   "id": "91bb1df0",
   "metadata": {},
   "outputs": [
    {
     "name": "stdout",
     "output_type": "stream",
     "text": [
      "9223372036854775807\n"
     ]
    }
   ],
   "source": [
    "import sys\n",
    "print (sys.maxsize) #정수의 최대값 == 2**63 - 1"
   ]
  },
  {
   "cell_type": "code",
   "execution_count": 150,
   "id": "c259fb9f",
   "metadata": {},
   "outputs": [
    {
     "data": {
      "text/plain": [
       "9223372036854775807"
      ]
     },
     "execution_count": 150,
     "metadata": {},
     "output_type": "execute_result"
    }
   ],
   "source": [
    "2**63 -1"
   ]
  },
  {
   "cell_type": "code",
   "execution_count": 155,
   "id": "f88387c4",
   "metadata": {},
   "outputs": [
    {
     "name": "stdout",
     "output_type": "stream",
     "text": [
      "-990776627963145224193\n",
      "<class 'int'>\n"
     ]
    }
   ],
   "source": [
    "i = sys.maxsize -1000000000000000000000\n",
    "print(i)\n",
    "print (type(i))"
   ]
  },
  {
   "cell_type": "code",
   "execution_count": 166,
   "id": "f470c23e",
   "metadata": {},
   "outputs": [
    {
     "name": "stdout",
     "output_type": "stream",
     "text": [
      "1.2e-12\n",
      "1.2e-12\n",
      "1.2e+20\n"
     ]
    }
   ],
   "source": [
    "g=0.0000000000012\n",
    "print(g)\n",
    "f = 1.2e-12  #지수형태\n",
    "print(f)\n",
    "b = 1.2e20 #큰 수도 가능\n",
    "print(b)"
   ]
  },
  {
   "cell_type": "code",
   "execution_count": 176,
   "id": "ed442303",
   "metadata": {},
   "outputs": [
    {
     "name": "stdout",
     "output_type": "stream",
     "text": [
      "f= 2.0\n"
     ]
    }
   ],
   "source": [
    "#파이썬에서 divide의 result = 무조건 실수 (float)\n",
    "f = 4/2\n",
    "print ('f=',f)"
   ]
  },
  {
   "cell_type": "code",
   "execution_count": 185,
   "id": "e6af3bc1",
   "metadata": {},
   "outputs": [
    {
     "name": "stdout",
     "output_type": "stream",
     "text": [
      "f= 1\n",
      "g= 1\n",
      "<class 'int'> <class 'int'>\n"
     ]
    }
   ],
   "source": [
    "# JAVA / C / C++ 처럼 정수/정수 결과를 정수로\n",
    "f = int(3/2) #int() : int로 형변환 (내림)\n",
    "print ('f=',f)\n",
    "\n",
    "g = 3//2 #몫 연산자\n",
    "print ('g=',g)\n",
    "\n",
    "print(type(f),type(g))"
   ]
  },
  {
   "cell_type": "markdown",
   "id": "c187ad29",
   "metadata": {},
   "source": [
    "## 3.2 문자형\n",
    " - 겹따옴표 (\"\"), 홀따옴표 ('') 이용"
   ]
  },
  {
   "cell_type": "code",
   "execution_count": 201,
   "id": "833381f8",
   "metadata": {},
   "outputs": [
    {
     "name": "stdout",
     "output_type": "stream",
     "text": [
      "홍길동'짱'\n",
      "홍길동'짱' 서울시 관악구 \"신림\"동\n",
      "홍길동'짱' 서울시 관악구 \"신림\"동\n"
     ]
    }
   ],
   "source": [
    "name = '홍길동\\'짱\\'' # 홍길동 '짱' 등 전체텍스트에 따옴표를 넣고 싶은 경우 역슬래시\n",
    "print (name)\n",
    "\n",
    "name1 = \"홍길동'짱'\"\n",
    "address = '서울시 관악구 \"신림\"동'\n",
    "address1 = \"서울시 관악구 \\\"신림\\\"동\"\n",
    "\n",
    "print(name, address)\n",
    "print(name1, address1)"
   ]
  },
  {
   "cell_type": "code",
   "execution_count": 207,
   "id": "44020a20",
   "metadata": {},
   "outputs": [
    {
     "name": "stdout",
     "output_type": "stream",
     "text": [
      "여러줄 \t짜리 내용을 저장 \n",
      "줄바꿈 문자를 쓰면 여러줄 \n",
      "줄바꿈\n"
     ]
    }
   ],
   "source": [
    "#escape 문자 (탈출문자) : \\n, \\t\n",
    "\n",
    "text = '여러줄 \\t짜리 내용을 저장 \\n줄바꿈 문자를 쓰면 여러줄 \\n줄바꿈'\n",
    "print (text)"
   ]
  },
  {
   "cell_type": "code",
   "execution_count": 220,
   "id": "047d00c9",
   "metadata": {},
   "outputs": [
    {
     "name": "stdout",
     "output_type": "stream",
     "text": [
      "123\n",
      "456\n",
      "789\n"
     ]
    }
   ],
   "source": [
    "text1 = '''123\n",
    "456\n",
    "789'''\n",
    "#여러줄짜리 내용을 저장 (''' (내용) ''') '''에 줄 바꿔서 쓰면 줄 바꿈으로 인식 '''과 붙혀서 쓸 것\n",
    "print (text1)"
   ]
  },
  {
   "cell_type": "markdown",
   "id": "31ef2e83",
   "metadata": {},
   "source": [
    "### ※ 문자열 연산 (+,*)"
   ]
  },
  {
   "cell_type": "code",
   "execution_count": 235,
   "id": "a1426107",
   "metadata": {},
   "outputs": [
    {
     "name": "stdout",
     "output_type": "stream",
     "text": [
      "홍길동\n",
      "동해번쩍\n",
      "홍길동동해번쩍\n",
      "홍길동 동해번쩍\n"
     ]
    }
   ],
   "source": [
    "\"\"\"\n",
    "    여러 줄 주석 용도 \n",
    "    yyyy.mm.dd 문자열 연산 by john doe\n",
    "    홑따옴표로 사용도 가능\n",
    "\"\"\"\n",
    "\n",
    "name1 = '홍길동'\n",
    "name2 = '동해번쩍'\n",
    "\n",
    "print (name1)\n",
    "print (name2)\n",
    "print (name1 + name2)\n",
    "print(name1, name2)"
   ]
  },
  {
   "cell_type": "code",
   "execution_count": 243,
   "id": "45ef7e2d",
   "metadata": {},
   "outputs": [
    {
     "name": "stdout",
     "output_type": "stream",
     "text": [
      "홍길동홍길동홍길동\n",
      "홍길동111\n",
      "홍길동1홍길동1홍길동1\n",
      "홍길동 홍길동 홍길동 \n"
     ]
    }
   ],
   "source": [
    "print (name1 * 3)\n",
    "print (name1 + '1' * 3)\n",
    "print ((name1 +'1') * 3)\n",
    "print ((name1 + ' ') * 3)"
   ]
  },
  {
   "cell_type": "markdown",
   "id": "29cca521",
   "metadata": {},
   "source": [
    "### ※ Raw Data\n",
    " - 용도: 정규표현식, 디렉토리 경로 표현시 이용"
   ]
  },
  {
   "cell_type": "code",
   "execution_count": 250,
   "id": "8229f4bd",
   "metadata": {},
   "outputs": [
    {
     "name": "stdout",
     "output_type": "stream",
     "text": [
      "Hello\n",
      "World\n",
      "Hellow\\nWorld\n"
     ]
    }
   ],
   "source": [
    "# Raw Data : 데이터 처리 시 escape 문자 (\\n, \\t, \\', \\\")를 그대로 저장\n",
    "print ('Hello\\nWorld')\n",
    "print(r'Hellow\\nWorld')"
   ]
  },
  {
   "cell_type": "markdown",
   "id": "01110953",
   "metadata": {},
   "source": [
    "###  ※ 정규표현식 (Regex)\n",
    "\n",
    "   1. 참조\n",
    "   2. 간략문법\n",
    "       - \\d ==> 숫자와 매치. [0-9] 동일 \n",
    "       - \\D ==> 숫자가 아닌 것 \n",
    "       - \\w ==> 영문자 or 숫자 [a-zA-z0-9]\n",
    "       - \\W ==> 영문자 or 숫자가 아닌 문자\n",
    "       - . ==> 문자\n",
    "       - \\\\. ==> .\n",
    "       - \\\\- ==> -\n",
    "        \n",
    "       - {2,} ==> 2번 이상 반복\n",
    "       - {2,4} ==> 2-4회 반복\n",
    "       - ? ==> 0-1회 반복\n",
    "        \n",
    "        - + ==> 1회 이상 반복\n",
    "        - * ==> 0회 이상 반복\n",
    "        \n",
    "        \n",
    "   3. 정규표현식 연습장 :  https://regexr.com\n",
    "       \n",
    "       ex1. 전화번호 추출하기 : 02 888 7777 / 028887777/ 010-9999-9999 / 010.9999.9999 / 02)999-9999\n",
    "       ----> \\d{2,3}[ \\-\\.)]?\\d{3,4}[ \\-\\.]?\\d{4}\n",
    "       \n",
    "       ex2. email : abc12@naver.com / abc12@sns.co.kr\n",
    "       ----> \\w+@\\w+(\\.\\w+){1,2}\n",
    "       \n",
    "       ex3. 주민등록번호 : 981212-1052525\n",
    "       ----> #\\d{2}(0[1-9]|1[0-2])([0[1-9]|[12]\\d|30|31)-[1-4]{1}\\d{6}\n",
    "       \n",
    "       #내가 짠 전화번호 추출\n",
    "       #\\d{2,3}[\\- ).]?\\d{3,4}[\\- ).]?\\d{4,4}\n",
    "       #[0]\\d{1,2}[\\- ).]?\\d{3,4}[\\- ).]?\\d{4,4}\n",
    "\n",
    "       #내가 짠 email 추출 ---> 개선: {1,} ==> +\n",
    "       #\\w{1,}@\\w{1,}\\.(\\w|\\.){1,}\n",
    "        \n",
    "       #내가 짠 주민등록번호 추출\n",
    "       #\\d{6}[ \\-][0-4]\\d{6} --> 13월에 88일에 태어난 사람도 가능\n",
    "       \n",
    "       #\\d{2}(0[1-9]|1[0-2])([0[1-9]|1[1-9]|2[1-9]|3[0-1])\\-[1-4]{1}\\d{6}\n",
    "   \n",
    "   \n",
    "   4. 소스 구현"
   ]
  },
  {
   "cell_type": "code",
   "execution_count": 5,
   "id": "9b1a5254",
   "metadata": {},
   "outputs": [
    {
     "name": "stdout",
     "output_type": "stream",
     "text": [
      "이름:홍길동, 주소:서울, 전화:02-888-8888, 핸드폰:010-9999-9999, 특징:동해번쩍 서해번쩍혈액형:B ㅋㅋ ㅋㅋㅋㅋzzzz\n"
     ]
    }
   ],
   "source": [
    "import re\n",
    "data = \"이름:홍길동, 주소:서울, 전화:02-888-8888, \\\n",
    "핸드폰:010-9999-9999, 특징:동해번쩍 서해번쩍\\\n",
    "혈액형:B ㅋㅋ ㅋㅋㅋㅋzzzz\"\n",
    "\n",
    "print (data)"
   ]
  },
  {
   "cell_type": "code",
   "execution_count": 6,
   "id": "16bb549b",
   "metadata": {},
   "outputs": [
    {
     "data": {
      "text/plain": [
       "['02-888-8888', '010-9999-9999']"
      ]
     },
     "execution_count": 6,
     "metadata": {},
     "output_type": "execute_result"
    }
   ],
   "source": [
    "# 정규표현식 처리에서는 Raw data 처리를 하지 않아도 실행은 됨\n",
    "# 실수를 줄이고 가독성을 높이는 용도로 raw data 처리\n",
    "tel_pattern = r\"\\d{2,3}[ -.)]?\\d{3,4}[ -.]?\\d{4}\"\n",
    "#해당 패턴을 다 찾아줌. 없는 경우 빈 리스트 반환\n",
    "tels= re.findall(tel_pattern, data) \n",
    "tels"
   ]
  },
  {
   "cell_type": "code",
   "execution_count": 7,
   "id": "43d14ff6",
   "metadata": {},
   "outputs": [
    {
     "data": {
      "text/plain": [
       "[]"
      ]
     },
     "execution_count": 7,
     "metadata": {},
     "output_type": "execute_result"
    }
   ],
   "source": [
    "email_pattern = r'\\w{1,}@\\w{1,}.(\\w|.){1,}'\n",
    "emails = re.findall(email_pattern,data)\n",
    "emails"
   ]
  },
  {
   "cell_type": "code",
   "execution_count": 8,
   "id": "c40d6bd3",
   "metadata": {},
   "outputs": [
    {
     "data": {
      "text/plain": [
       "<re.Match object; span=(18, 29), match='02-888-8888'>"
      ]
     },
     "execution_count": 8,
     "metadata": {},
     "output_type": "execute_result"
    }
   ],
   "source": [
    "# 정규표현식 패턴과 처음 match 되는 것을 찾아줘\n",
    "\n",
    "firstTel = re.search(tel_pattern, data)\n",
    "firstTel"
   ]
  },
  {
   "cell_type": "code",
   "execution_count": 9,
   "id": "8cf9da0d",
   "metadata": {},
   "outputs": [
    {
     "name": "stdout",
     "output_type": "stream",
     "text": [
      "02-888-8888\n",
      "02-888-8888\n"
     ]
    }
   ],
   "source": [
    "print(data[18:29]) #문자열 슬라이싱\n",
    "print(firstTel.group(0))"
   ]
  },
  {
   "cell_type": "code",
   "execution_count": 10,
   "id": "4d3b6a41",
   "metadata": {},
   "outputs": [
    {
     "data": {
      "text/plain": [
       "<re.Match object; span=(18, 29), match='02-888-8888'>"
      ]
     },
     "execution_count": 10,
     "metadata": {},
     "output_type": "execute_result"
    }
   ],
   "source": [
    "tel_pattern = r\"(\\d{2,3})-(\\d{3,4})-(\\d{4})\"\n",
    "\n",
    "firstphone = re.search (tel_pattern,data)\n",
    "firstphone"
   ]
  },
  {
   "cell_type": "code",
   "execution_count": 11,
   "id": "bc0b0e04",
   "metadata": {},
   "outputs": [
    {
     "name": "stdout",
     "output_type": "stream",
     "text": [
      "전체 전화번호 : 02-888-8888\n",
      "국번 : 02\n",
      "중간번호 : 888\n",
      "끝번호 : 8888\n",
      "이건 뭐지 : 02-888-8888\n"
     ]
    }
   ],
   "source": [
    "print (\"전체 전화번호 :\", firstphone.group(0))\n",
    "print (\"국번 :\", firstphone.group(1))\n",
    "print (\"중간번호 :\", firstphone.group(2))\n",
    "print (\"끝번호 :\", firstphone.group(3))\n",
    "print (\"이건 뭐지 :\", firstphone.group())"
   ]
  },
  {
   "cell_type": "code",
   "execution_count": 12,
   "id": "fa00e07d",
   "metadata": {},
   "outputs": [
    {
     "data": {
      "text/plain": [
       "'이름 홍길동  주소 서울  전화 02 888 8888  핸드폰 010 9999 9999  특징 동해번쩍 서해번쩍혈액형 B            '"
      ]
     },
     "execution_count": 12,
     "metadata": {},
     "output_type": "execute_result"
    }
   ],
   "source": [
    "# data에서 특정 데이터 없애기\n",
    "re.sub('[^가-힇0-9A-Z\\s]',' ',data) #[가-힇]=>전체 한글 범위"
   ]
  },
  {
   "cell_type": "code",
   "execution_count": 17,
   "id": "737a98b6",
   "metadata": {},
   "outputs": [
    {
     "data": {
      "text/plain": [
       "'이름:홍길동, 주소:서울, 전화: , 핸드폰: , 특징:동해번쩍 서해번쩍혈액형:B ㅋㅋ ㅋㅋㅋㅋzzzz'"
      ]
     },
     "execution_count": 17,
     "metadata": {},
     "output_type": "execute_result"
    }
   ],
   "source": [
    "# data 에서 전화번호 없애기 \n",
    "tel_pattern = r\"\\d{2,3}[ -.)]?\\d{3,4}[ -.]?\\d{4}\"\n",
    "re.sub(tel_pattern,' ',data)"
   ]
  },
  {
   "cell_type": "code",
   "execution_count": 22,
   "id": "7748c6f3",
   "metadata": {},
   "outputs": [],
   "source": [
    "#파일 경로\n",
    "file_path = \"C:\\\\ai\\\\source\\\\01_python\\\\Data\\\\ch02.txt\"\n",
    "file_path = \"C:/ai/source/01_python/Data/ch02.txt\"\n",
    "file_path = r\"C:\\ai\\source\\01_python\\Data\\ch02.txt\"  #주로 많이 쓰임 "
   ]
  },
  {
   "cell_type": "code",
   "execution_count": 38,
   "id": "cdd58e95",
   "metadata": {},
   "outputs": [
    {
     "name": "stdout",
     "output_type": "stream",
     "text": [
      "hello, Python.\n",
      "hello, World\n"
     ]
    }
   ],
   "source": [
    "file_stream = open(file_path,\"w\") # w = write, r = read\n",
    "print (\"hello, Python.\", \"hello, World\", sep='\\n') # ==> 화면출력\n",
    "print (\"hello, Python.\", \"hello, World\", sep='\\n',file=file_stream) # ==> 파일 출력\n",
    "file_stream.close() #close 하지 않으면 저장 안됨"
   ]
  },
  {
   "cell_type": "markdown",
   "id": "2c291a64",
   "metadata": {},
   "source": [
    "### ※ 문자열 인덱싱"
   ]
  },
  {
   "cell_type": "code",
   "execution_count": 47,
   "id": "b79a8c15",
   "metadata": {},
   "outputs": [
    {
     "data": {
      "text/plain": [
       "'0123456789'"
      ]
     },
     "execution_count": 47,
     "metadata": {},
     "output_type": "execute_result"
    }
   ],
   "source": [
    "str_ = '0123456789'\n",
    "str_"
   ]
  },
  {
   "cell_type": "code",
   "execution_count": 50,
   "id": "f8e4d9dd",
   "metadata": {},
   "outputs": [
    {
     "ename": "IndexError",
     "evalue": "string index out of range",
     "output_type": "error",
     "traceback": [
      "\u001b[1;31m---------------------------------------------------------------------------\u001b[0m",
      "\u001b[1;31mIndexError\u001b[0m                                Traceback (most recent call last)",
      "Cell \u001b[1;32mIn[50], line 2\u001b[0m\n\u001b[0;32m      1\u001b[0m str_[\u001b[38;5;241m0\u001b[39m], str_[\u001b[38;5;241m2\u001b[39m], str_[\u001b[38;5;241m-\u001b[39m\u001b[38;5;241m1\u001b[39m], str_[\u001b[38;5;241m-\u001b[39m\u001b[38;5;241m0\u001b[39m], str_[\u001b[38;5;241m-\u001b[39m\u001b[38;5;241m8\u001b[39m] \u001b[38;5;66;03m#음수 indexing은 마지막이 -1\u001b[39;00m\n\u001b[1;32m----> 2\u001b[0m \u001b[43mstr_\u001b[49m\u001b[43m[\u001b[49m\u001b[38;5;241;43m10\u001b[39;49m\u001b[43m]\u001b[49m\n",
      "\u001b[1;31mIndexError\u001b[0m: string index out of range"
     ]
    }
   ],
   "source": [
    "str_[0], str_[2], str_[-1], str_[-0], str_[-8] #음수 indexing은 마지막이 -1\n",
    "str_[10] # ==> 없는 인덱싱은 error"
   ]
  },
  {
   "cell_type": "markdown",
   "id": "9d691386",
   "metadata": {},
   "source": [
    "### ※ 문자열 슬라이싱"
   ]
  },
  {
   "cell_type": "code",
   "execution_count": 58,
   "id": "5d0bce19",
   "metadata": {},
   "outputs": [
    {
     "data": {
      "text/plain": [
       "'\\n문자열인덱싱  ==> 문자열변수[인덱싱번호]\\n문자열슬라이싱 ==>문자열변수[from:to] from부터 to 앞까지\\n                문자열변수 [from:to:step] from 부터 to 앞까지 step씩 전진하며 추출 \\n                    from 생략시 처음부터\\n                    to   생략시 끝까지\\n                    step 생략시 1로 계산\\n'"
      ]
     },
     "execution_count": 58,
     "metadata": {},
     "output_type": "execute_result"
    }
   ],
   "source": [
    "'''\n",
    "문자열인덱싱  ==> 문자열변수[인덱싱번호]\n",
    "문자열슬라이싱 ==>문자열변수[from:to] from부터 to 앞까지\n",
    "                문자열변수 [from:to:step] from 부터 to 앞까지 step씩 전진하며 추출 \n",
    "                    from 생략시 처음부터\n",
    "                    to   생략시 끝까지\n",
    "                    step 생략시 1로 계산\n",
    "'''"
   ]
  },
  {
   "cell_type": "code",
   "execution_count": 71,
   "id": "0ea99e48",
   "metadata": {},
   "outputs": [
    {
     "data": {
      "text/plain": [
       "('56789', '56789', '56789', '5678')"
      ]
     },
     "execution_count": 71,
     "metadata": {},
     "output_type": "execute_result"
    }
   ],
   "source": [
    "str_[-5:10], str_[5:], str_[5:10], \n",
    "str_[-5:-1] #-5번쨰 부터 -1번째 앞까지"
   ]
  },
  {
   "cell_type": "code",
   "execution_count": 52,
   "id": "6ad52cdb",
   "metadata": {},
   "outputs": [
    {
     "data": {
      "text/plain": [
       "'2345'"
      ]
     },
     "execution_count": 52,
     "metadata": {},
     "output_type": "execute_result"
    }
   ],
   "source": [
    "str_[2:6]"
   ]
  },
  {
   "cell_type": "code",
   "execution_count": 54,
   "id": "2f1d9e4e",
   "metadata": {},
   "outputs": [
    {
     "data": {
      "text/plain": [
       "'02468'"
      ]
     },
     "execution_count": 54,
     "metadata": {},
     "output_type": "execute_result"
    }
   ],
   "source": [
    "str_[0:10:2]"
   ]
  },
  {
   "cell_type": "code",
   "execution_count": 76,
   "id": "6be5814e",
   "metadata": {},
   "outputs": [
    {
     "data": {
      "text/plain": [
       "'987654321'"
      ]
     },
     "execution_count": 76,
     "metadata": {},
     "output_type": "execute_result"
    }
   ],
   "source": [
    "str_[9:0:-1] #9번째부터 0번째 전 까지 -1씩 전진하면서 추출"
   ]
  },
  {
   "cell_type": "code",
   "execution_count": 74,
   "id": "2e09bf68",
   "metadata": {},
   "outputs": [
    {
     "ename": "ValueError",
     "evalue": "slice step cannot be zero",
     "output_type": "error",
     "traceback": [
      "\u001b[1;31m---------------------------------------------------------------------------\u001b[0m",
      "\u001b[1;31mValueError\u001b[0m                                Traceback (most recent call last)",
      "Cell \u001b[1;32mIn[74], line 1\u001b[0m\n\u001b[1;32m----> 1\u001b[0m \u001b[43mstr_\u001b[49m\u001b[43m[\u001b[49m\u001b[38;5;241;43m0\u001b[39;49m\u001b[43m:\u001b[49m\u001b[38;5;241;43m10\u001b[39;49m\u001b[43m:\u001b[49m\u001b[38;5;241;43m0\u001b[39;49m\u001b[43m]\u001b[49m\n",
      "\u001b[1;31mValueError\u001b[0m: slice step cannot be zero"
     ]
    }
   ],
   "source": [
    "str_[0:10:0] #==> step 0은 에러"
   ]
  },
  {
   "cell_type": "code",
   "execution_count": 79,
   "id": "dc4c15ba",
   "metadata": {},
   "outputs": [
    {
     "name": "stdout",
     "output_type": "stream",
     "text": [
      "9876543210\n",
      "9876543210\n",
      "9876543210\n"
     ]
    }
   ],
   "source": [
    "#마지막 글씨부터 처음글씨까지 거꾸로 출력 (9876543210)\n",
    "print (str_[9::-1])\n",
    "print (str_[::-1])\n",
    "print (str_[-1::-1])"
   ]
  },
  {
   "cell_type": "markdown",
   "id": "95620da9",
   "metadata": {},
   "source": [
    "## 3.3 논리형 (True / False)"
   ]
  },
  {
   "cell_type": "code",
   "execution_count": 88,
   "id": "f9efe850",
   "metadata": {},
   "outputs": [
    {
     "name": "stdout",
     "output_type": "stream",
     "text": [
      "True\n",
      "True\n",
      "<class 'bool'>\n",
      "<class 'bool'>\n",
      "True\n",
      "False\n",
      "True\n",
      "False\n"
     ]
    }
   ],
   "source": [
    "a = True\n",
    "print (a)\n",
    "\n",
    "b = 10 > 5\n",
    "print (b)\n",
    "\n",
    "print(type(a))\n",
    "print(type(b))\n",
    "\n",
    "print(isinstance(a,bool))\n",
    "print(isinstance(a,str))\n",
    "print(isinstance(a,int))\n",
    "print(isinstance(a,float))"
   ]
  },
  {
   "cell_type": "code",
   "execution_count": 89,
   "id": "d07e99c0",
   "metadata": {},
   "outputs": [
    {
     "data": {
      "text/plain": [
       "(1, 0)"
      ]
     },
     "execution_count": 89,
     "metadata": {},
     "output_type": "execute_result"
    }
   ],
   "source": [
    "int(True), int(False)"
   ]
  },
  {
   "cell_type": "code",
   "execution_count": 101,
   "id": "9c589dc5",
   "metadata": {},
   "outputs": [
    {
     "data": {
      "text/plain": [
       "(True, False, True, True, False, False, True)"
      ]
     },
     "execution_count": 101,
     "metadata": {},
     "output_type": "execute_result"
    }
   ],
   "source": [
    "bool(1), bool(0), bool(10000), bool (-10000), bool (), bool(\"\"), bool(\" \")"
   ]
  },
  {
   "cell_type": "code",
   "execution_count": 103,
   "id": "af6d5629",
   "metadata": {},
   "outputs": [],
   "source": [
    "# False로 간주 : 0, \"\"-빈 스트링 []-빈 리스트 ()-빈 튜플 {}-빈 딕셔너리, None ==> 비어있거냐 0이면 False?\n",
    "# False로 간주 되는 것 이외 모두 True (Null문자 \\0도 TRUE)"
   ]
  },
  {
   "cell_type": "code",
   "execution_count": 104,
   "id": "968e638d",
   "metadata": {},
   "outputs": [],
   "source": [
    "if 0:\n",
    "        print(\"true\")"
   ]
  },
  {
   "cell_type": "code",
   "execution_count": 105,
   "id": "86f19943",
   "metadata": {},
   "outputs": [],
   "source": [
    "if \"\":\n",
    "    print(\"true\")"
   ]
  },
  {
   "cell_type": "code",
   "execution_count": 106,
   "id": "6975eafd",
   "metadata": {},
   "outputs": [
    {
     "name": "stdout",
     "output_type": "stream",
     "text": [
      "true\n"
     ]
    }
   ],
   "source": [
    "if \" \":\n",
    "    print(\"true\")"
   ]
  },
  {
   "cell_type": "code",
   "execution_count": 107,
   "id": "891de898",
   "metadata": {},
   "outputs": [],
   "source": [
    "if []:\n",
    "    print(\"True\")"
   ]
  },
  {
   "cell_type": "code",
   "execution_count": 108,
   "id": "8efced32",
   "metadata": {},
   "outputs": [
    {
     "name": "stdout",
     "output_type": "stream",
     "text": [
      "False\n"
     ]
    }
   ],
   "source": [
    "if []:\n",
    "    print(\"true\")\n",
    "else:\n",
    "    print(\"False\")"
   ]
  },
  {
   "cell_type": "code",
   "execution_count": 114,
   "id": "60342d4f",
   "metadata": {},
   "outputs": [
    {
     "name": "stdout",
     "output_type": "stream",
     "text": [
      "False\n"
     ]
    }
   ],
   "source": [
    "if None:\n",
    "    print(\"True\")\n",
    "else:\n",
    "    print(\"False\")"
   ]
  },
  {
   "cell_type": "code",
   "execution_count": 120,
   "id": "358ed8e7",
   "metadata": {},
   "outputs": [
    {
     "name": "stdout",
     "output_type": "stream",
     "text": [
      "what is your name?w\n",
      "Your name is w\n"
     ]
    }
   ],
   "source": [
    "name = input(\"what is your name?\")\n",
    "if name: #name이 빈 스트링(False)이 아니면 if문을 수행하겠다\n",
    "    print (\"Your name is\",name)\n",
    "else:\n",
    "    print ('이름을 입력 안 하셨군요')"
   ]
  },
  {
   "cell_type": "markdown",
   "id": "675960af",
   "metadata": {},
   "source": [
    "## 3.4 자료형 확인 및 형변환 함수\n",
    "- type()\n",
    "- isinstance(변수,타입)==> T/F로 확인\n",
    "- float() : 실수형으로 변환 (e.g. 1.0, 2.3)\n",
    "- int()  : 정수형으로 변환\n",
    "- str()  : 문자형으로 변환\n",
    "- bool() : 논리형으로 변환"
   ]
  },
  {
   "cell_type": "code",
   "execution_count": 121,
   "id": "fe5574c6",
   "metadata": {},
   "outputs": [
    {
     "data": {
      "text/plain": [
       "(4.0, 4.1, 3.0, 4, 4, '4.9')"
      ]
     },
     "execution_count": 121,
     "metadata": {},
     "output_type": "execute_result"
    }
   ],
   "source": [
    "float(4), float(\"4.1\"), float(\"3\"), int(4.9), int(\"4\"), str(4.9 )"
   ]
  },
  {
   "cell_type": "code",
   "execution_count": 132,
   "id": "4f93eba9",
   "metadata": {},
   "outputs": [
    {
     "ename": "ValueError",
     "evalue": "invalid literal for int() with base 10: '9,000'",
     "output_type": "error",
     "traceback": [
      "\u001b[1;31m---------------------------------------------------------------------------\u001b[0m",
      "\u001b[1;31mValueError\u001b[0m                                Traceback (most recent call last)",
      "Cell \u001b[1;32mIn[132], line 4\u001b[0m\n\u001b[0;32m      1\u001b[0m \u001b[38;5;66;03m#에러 나는 경우\u001b[39;00m\n\u001b[0;32m      2\u001b[0m \u001b[38;5;66;03m#int(\"\"), int(\" \"), int(None)\u001b[39;00m\n\u001b[0;32m      3\u001b[0m \u001b[38;5;66;03m#int('123.9') --> int(float('123.9')) 이건 작동\u001b[39;00m\n\u001b[1;32m----> 4\u001b[0m \u001b[38;5;28;43mint\u001b[39;49m\u001b[43m(\u001b[49m\u001b[38;5;124;43m\"\u001b[39;49m\u001b[38;5;124;43m9,000\u001b[39;49m\u001b[38;5;124;43m\"\u001b[39;49m\u001b[43m)\u001b[49m\n",
      "\u001b[1;31mValueError\u001b[0m: invalid literal for int() with base 10: '9,000'"
     ]
    }
   ],
   "source": [
    "#에러 나는 경우\n",
    "#int(\"\"), int(\" \"), int(None), int(\"text\")\n",
    "#float(\"\"), float(\" \"), float(None), float(\"text\")\n",
    "#int('123.9') --> int(float('123.9')) 이건 작동. int는 int 형태인 string만 int로 변환 가능\n",
    "int(\"9,000\")\n"
   ]
  },
  {
   "cell_type": "markdown",
   "id": "5138c96f",
   "metadata": {},
   "source": [
    "# 4. 포맷팅\n",
    "- 포맷팅 :  출력할 문자, 숫자, 날짜 형식을 지정하는 것\n",
    "\n",
    "## 4.1 문자열에 형식 지정\n"
   ]
  },
  {
   "cell_type": "code",
   "execution_count": 137,
   "id": "ac0eca55",
   "metadata": {},
   "outputs": [
    {
     "name": "stdout",
     "output_type": "stream",
     "text": [
      "홍길동님의 나이는 30살 입니다\n",
      "홍길동님의 나이는 30살 입니다\n"
     ]
    }
   ],
   "source": [
    "name = '홍길동'\n",
    "age = 30\n",
    "\n",
    "print(name + '님의 나이는 ' + str(age) +'살 입니다')\n",
    "print(name, '님의 나이는 ', str(age),'살 입니다', sep=\"\")"
   ]
  },
  {
   "cell_type": "code",
   "execution_count": 162,
   "id": "c0cccea5",
   "metadata": {},
   "outputs": [
    {
     "name": "stdout",
     "output_type": "stream",
     "text": [
      "홍길동님의 나이는30살입니다\n",
      "홍길동님의 나이는 30살입니다\n",
      "홍길동님의 나이는 30살입니다.\n",
      "홍길동님의 나이는 30살입니다.\n",
      "30님의 나이는 홍길동살입니다.\n",
      "   30님의 나이는 홍길동살입니다.\n",
      "  홍길동님의 나이는  30살입니다.\n",
      "홍길동  님의 나이는  30살입니다.\n",
      "홍길동  님의 나이는 _30살입니다.\n"
     ]
    }
   ],
   "source": [
    "# /%: 문자, %d:10진수, %f: 실수\n",
    "print('%s님의 나이는%d살입니다'%(name,age)) #많이 쓰지 않음\n",
    "print(f\"{name}님의 나이는 {age}살입니다\") \n",
    "print(\"{}님의 나이는 {}살입니다.\".format(name,age)) #많이 씀\n",
    "print(\"{0}님의 나이는 {1}살입니다.\".format(name,age))\n",
    "print(\"{1}님의 나이는 {0}살입니다.\".format(name,age))\n",
    "print(\"{1:5}님의 나이는 {0:3}살입니다.\".format(name,age))\n",
    "print(\"{0:>5s}님의 나이는 {1:3d}살입니다.\".format(name,age)) # >오른쪽 정렬, <왼쪽정렬\n",
    "print(\"{0:<5s}님의 나이는 {1:>3d}살입니다.\".format(name,age))\n",
    "print(\"{0:<5s}님의 나이는 {1:_>3d}살입니다.\".format(name,age))"
   ]
  },
  {
   "cell_type": "markdown",
   "id": "5afe5a6d",
   "metadata": {},
   "source": [
    "## 4.2 format() 문법\n",
    "- '{[인덱스]:[공백대체문자(공란시 빈스트링)][정렬방식 (공란시 )[자릿수][타입]}'.format(변수명) \n",
    " * 인덱스 : format 함수 안의 매개변수 순서\n",
    " * 정렬방식 : < 왼쪽 정렬, > 오른쪽 정렬, ^ 가운데 정렬\n",
    " * 정수 자릿수 : 출력할 자릿수\n",
    " * 실수 자릿수 : 전체출력될 자리수, 변주중 출력할 자리수\n",
    " * 타입 : d(10진수), o(8진수), x (16진수), b(2진수), f(실수), s(문자)\n",
    " * 공백대체문자는 정렬방식을 명시하여야 함"
   ]
  },
  {
   "cell_type": "code",
   "execution_count": 4,
   "id": "87d3a0c1",
   "metadata": {},
   "outputs": [
    {
     "name": "stdout",
     "output_type": "stream",
     "text": [
      "[12345][     12345][12345]\n",
      "[12345][     12345][12345]\n",
      "[hello][hello     ][hello]\n"
     ]
    }
   ],
   "source": [
    "# 숫자의 경우 오른쪽 정렬 (기본)\n",
    "# 문자의 경우 왼쪽 정렬 (기본)\n",
    "# 변수보다 작은 자리수를 지정하면 자릿수 무시되고 전부 출력 (정수자릿수)\n",
    "a = 12345\n",
    "s = 'hello'\n",
    "print(\"[{}][{:10}][{:3}]\".format(a,a,a))\n",
    "print(\"[{0}][{0:10}][{0:3}]\".format(a))\n",
    "print(\"[{0}][{0:10}][{0:3}]\".format(s))"
   ]
  },
  {
   "cell_type": "code",
   "execution_count": 9,
   "id": "f63b07f8",
   "metadata": {},
   "outputs": [
    {
     "name": "stdout",
     "output_type": "stream",
     "text": [
      "[10  ][ 20 ][   3]\n"
     ]
    }
   ],
   "source": [
    "# 정렬방식: <^>\n",
    "a, b, c = 10, 20, 3 #다중변수선언\n",
    "print(\"[{:<4}][{:^4}][{:>4}]\".format(a,b,c))\n"
   ]
  },
  {
   "cell_type": "code",
   "execution_count": 41,
   "id": "5b06c05e",
   "metadata": {},
   "outputs": [
    {
     "name": "stdout",
     "output_type": "stream",
     "text": [
      "[$$$$$$$$10][$12.57]\n",
      "[$10.00][$12.57]\n",
      "[$$$$$$$$10][$12.57][____he]\n"
     ]
    }
   ],
   "source": [
    "#실수 자릿수 (e.g. 10.2) 전체 10자리 출력. but 그 중 소수점 2자리 (반올림) ==> 소수점(.)도 1칸 차지 \n",
    "# 6.2 ==> 전체 6자리 중 2자리 출력\n",
    "\n",
    "a = 10\n",
    "f = 12.569\n",
    "s = \"hello\"\n",
    "\n",
    "print(\"[{:$>10}][{:$>6.2f}]\".format(a,f))\n",
    "print(\"[{:$>6.2f}][{:$>6.2f}]\".format(a,f))\n",
    "print(\"[{:$>10}][{:$>6.2f}][{:_>6.2}]\".format(a,f,s))\n",
    "# 공백대체문자 쓸 경우 반드시 정렬방식 넣을 것"
   ]
  },
  {
   "cell_type": "code",
   "execution_count": 51,
   "id": "76963516",
   "metadata": {},
   "outputs": [
    {
     "name": "stdout",
     "output_type": "stream",
     "text": [
      "[      +123],[      -123],[       123]\n",
      "[       123],[-      123],[       123]\n",
      "[+++++++123],[-++++++123],[       123]\n",
      "[+      123],[-      123],[       123]\n"
     ]
    }
   ],
   "source": [
    "#자리수 앞 + 붙이면 양수의 영우도 부호 출력\n",
    "# 부호나 소수점도 자릿수에 포함\n",
    "a, b = 123, -123\n",
    "\n",
    "print(\"[{:+10}],[{:+10}],[{:10}]\".format(a,b,a))\n",
    "print(\"[{:=10}],[{:=10}],[{:=10}]\".format(a,b,a))\n",
    "print(\"[{:+=10}],[{:+=10}],[{:10}]\".format(a,b,a))\n",
    "print(\"[{:=+10}],[{:=+10}],[{:10}]\".format(a,b,a))"
   ]
  },
  {
   "cell_type": "code",
   "execution_count": 54,
   "id": "16d52990",
   "metadata": {},
   "outputs": [
    {
     "name": "stdout",
     "output_type": "stream",
     "text": [
      "10진수[  15]\n",
      "8진수[  17]\n",
      "16진수[   f]\n",
      "2진수 [1111]\n"
     ]
    }
   ],
   "source": [
    "# 10진수, 8진수, 16진수, 2진수 출력\n",
    "a = 15\n",
    "\n",
    "print(\"10진수[{:4d}]\".format(a))\n",
    "print(\"8진수[{:4o}]\".format(a))\n",
    "print(\"16진수[{:4x}]\".format(a))\n",
    "print(\"2진수 [{:4b}]\".format(a))"
   ]
  },
  {
   "cell_type": "code",
   "execution_count": 57,
   "id": "87f355c3",
   "metadata": {},
   "outputs": [
    {
     "name": "stdout",
     "output_type": "stream",
     "text": [
      "number10\n",
      "[1010]\n"
     ]
    }
   ],
   "source": [
    "binary = int(input(\"number\"))\n",
    "print(\"[{:b}]\".format(binary))"
   ]
  },
  {
   "cell_type": "code",
   "execution_count": 71,
   "id": "0c4505d9",
   "metadata": {},
   "outputs": [
    {
     "name": "stdout",
     "output_type": "stream",
     "text": [
      "[   +2.7850]\n",
      "[    +2.785]\n"
     ]
    }
   ],
   "source": [
    "a = 2.785\n",
    "print(\"[{:+10.4f}]\".format(a)) #f를 붙히면 소수점 4자리, 안붙히면 전체 10자리 중 4개 숫자만 출력\n",
    "print(\"[{:+10.4}]\".format(a)) "
   ]
  },
  {
   "cell_type": "code",
   "execution_count": 103,
   "id": "b17a85df",
   "metadata": {},
   "outputs": [
    {
     "name": "stdout",
     "output_type": "stream",
     "text": [
      "[                                                                                               +2.785]\n",
      "[                                                                                               +2.785]\n"
     ]
    }
   ],
   "source": [
    "a = 2.785\n",
    "sign = \"+\"\n",
    "width = 10\n",
    "precision = 1\n",
    "print(\"[{:{}{}{}}]\".format(a,sign,width,percision))\n",
    "print(\"[{:{sign}{width}{precision}}]\".format(a,\n",
    "                                            sign = sign, width = width, precision = precision)) # 앞의 sign은 6번 sign, 뒤 sign은 2번"
   ]
  },
  {
   "cell_type": "markdown",
   "id": "9fd9c2fd",
   "metadata": {},
   "source": [
    "## 4.3 날짜 출력"
   ]
  },
  {
   "cell_type": "code",
   "execution_count": 113,
   "id": "9a0768c5",
   "metadata": {},
   "outputs": [
    {
     "name": "stdout",
     "output_type": "stream",
     "text": [
      "2025-09-11 00:00:00\n",
      "2025-09-11 14:30:00\n"
     ]
    }
   ],
   "source": [
    "#import datetime # datetime 모듈(python 프로그램 파일 datetime.py) 전체 메모리 load\n",
    "\n",
    "from datetime import datetime #datetime모듈 안의 datetime만 메모리 load\n",
    "thatday1 = datetime(2025,9,11) # 25년 9월 11일 0시 0분 0초 (년월일만 넣으면 시간은 0시 0분 0초)\n",
    "#thatday2 = \"25년 9월 11일 9시 30분\" ==> string 타입, 연산불가\n",
    "thatday2 = datetime(2025,9,11,14,30,0)\n",
    "\n",
    "\n",
    "print(thatday1)\n",
    "print(thatday2)"
   ]
  },
  {
   "cell_type": "code",
   "execution_count": 127,
   "id": "4f1fcbb3",
   "metadata": {},
   "outputs": [
    {
     "name": "stdout",
     "output_type": "stream",
     "text": [
      "2025-09-11 00:00:00\n",
      "2025년\n",
      "25년\n",
      "09월\n",
      "00월\n",
      "11일\n",
      "09/11/25일\n",
      "00초\n"
     ]
    },
    {
     "ename": "ValueError",
     "evalue": "Invalid format string",
     "output_type": "error",
     "traceback": [
      "\u001b[1;31m---------------------------------------------------------------------------\u001b[0m",
      "\u001b[1;31mValueError\u001b[0m                                Traceback (most recent call last)",
      "Cell \u001b[1;32mIn[127], line 10\u001b[0m\n\u001b[0;32m      8\u001b[0m \u001b[38;5;28mprint\u001b[39m(\u001b[38;5;124m\"\u001b[39m\u001b[38;5;124m{\u001b[39m\u001b[38;5;124m:\u001b[39m\u001b[38;5;124m%\u001b[39m\u001b[38;5;124mD일}\u001b[39m\u001b[38;5;124m\"\u001b[39m\u001b[38;5;241m.\u001b[39mformat(thatday1))\n\u001b[0;32m      9\u001b[0m \u001b[38;5;28mprint\u001b[39m(\u001b[38;5;124m\"\u001b[39m\u001b[38;5;124m{\u001b[39m\u001b[38;5;124m:\u001b[39m\u001b[38;5;124m%\u001b[39m\u001b[38;5;124mS초}\u001b[39m\u001b[38;5;124m\"\u001b[39m\u001b[38;5;241m.\u001b[39mformat(thatday1))\n\u001b[1;32m---> 10\u001b[0m \u001b[38;5;28mprint\u001b[39m(\u001b[38;5;124;43m\"\u001b[39;49m\u001b[38;5;124;43m{\u001b[39;49m\u001b[38;5;124;43m:\u001b[39;49m\u001b[38;5;132;43;01m%s\u001b[39;49;00m\u001b[38;5;124;43m 초}\u001b[39;49m\u001b[38;5;124;43m\"\u001b[39;49m\u001b[38;5;241;43m.\u001b[39;49m\u001b[43mformat\u001b[49m\u001b[43m(\u001b[49m\u001b[43mthatday1\u001b[49m\u001b[43m)\u001b[49m)\n",
      "\u001b[1;31mValueError\u001b[0m: Invalid format string"
     ]
    }
   ],
   "source": [
    "#Y (년도 4자리), y (년도 2자리), m (월) d(일) p(am/pm) I (12시간) H(24시간) M(분) S(초) (소문자s는 없음)\n",
    "print(\"{}\".format(thatday1))\n",
    "print(\"{:%Y년}\".format(thatday1))\n",
    "print(\"{:%y년}\".format(thatday1))\n",
    "print(\"{:%m월}\".format(thatday1))\n",
    "print(\"{:%M월}\".format(thatday1))\n",
    "print(\"{:%d일}\".format(thatday1))\n",
    "print(\"{:%D일}\".format(thatday1))\n",
    "print(\"{:%S초}\".format(thatday1))\n",
    "print(\"{:%s 초}\".format(thatday1))"
   ]
  },
  {
   "cell_type": "code",
   "execution_count": 126,
   "id": "920295a3",
   "metadata": {},
   "outputs": [
    {
     "name": "stdout",
     "output_type": "stream",
     "text": [
      "25년 09월 11일 00시 00분 00초\n",
      "25년 09월 11일 14시 30분 00초\n",
      "25년 09월 11일 AM 12시 00분 00초\n",
      "25년 09월 11일 PM 02시 30분 00초\n"
     ]
    }
   ],
   "source": [
    "print(\"{:%y년 %m월 %d일 %H시 %M분 %S초}\".format(thatday1))\n",
    "print(\"{:%y년 %m월 %d일 %H시 %M분 %S초}\".format(thatday2))\n",
    "print(\"{:%y년 %m월 %d일 %p %I시 %M분 %S초}\".format(thatday1))\n",
    "print(\"{:%y년 %m월 %d일 %p %I시 %M분 %S초}\".format(thatday2))"
   ]
  },
  {
   "cell_type": "code",
   "execution_count": 132,
   "id": "e199c198",
   "metadata": {},
   "outputs": [
    {
     "data": {
      "text/plain": [
       "'25년 09월 11일 00시 00분 00초'"
      ]
     },
     "execution_count": 132,
     "metadata": {},
     "output_type": "execute_result"
    }
   ],
   "source": [
    "thatday1.strftime(\"%y년 %m월 %d일 %H시 %M분 %S초\")"
   ]
  },
  {
   "cell_type": "code",
   "execution_count": 133,
   "id": "47cf9a77",
   "metadata": {},
   "outputs": [
    {
     "data": {
      "text/plain": [
       "'25년 09월 11일 PM 02시 30분 00초'"
      ]
     },
     "execution_count": 133,
     "metadata": {},
     "output_type": "execute_result"
    }
   ],
   "source": [
    "thatday2.strftime('%y년 %m월 %d일 %p %I시 %M분 %S초')"
   ]
  },
  {
   "cell_type": "code",
   "execution_count": 136,
   "id": "bb345273",
   "metadata": {},
   "outputs": [
    {
     "data": {
      "text/plain": [
       "datetime.timedelta(days=4, seconds=53705, microseconds=977502)"
      ]
     },
     "execution_count": 136,
     "metadata": {},
     "output_type": "execute_result"
    }
   ],
   "source": [
    "#현재 날짜와 시간\n",
    "# datetime(2025,9,11,14,30) : 특정 날짜와 시간\n",
    "\n",
    "now = datetime.now() #지금\n",
    "now - thatday1 # 날짜형 변수끼리 연산 가능"
   ]
  },
  {
   "cell_type": "code",
   "execution_count": 143,
   "id": "949a5a89",
   "metadata": {},
   "outputs": [
    {
     "name": "stdout",
     "output_type": "stream",
     "text": [
      "2025-09-15 14:55:05.977502\n",
      "2025-09-15 PM 02:55\n",
      "2025-09-15 PM 02:55\n"
     ]
    }
   ],
   "source": [
    "#지금 (날짜와 시간) 원하는 스타일로 출력\n",
    "print (\"{}\".format(now)) #microsecond까지 너무 상세하게 나옴\n",
    "print (\"{:%Y-%m-%d %p %I:%M}\".format(now))\n",
    "print(now.strftime('%Y-%m-%d %p %I:%M')) # 많이 쓰는 방식"
   ]
  },
  {
   "cell_type": "code",
   "execution_count": 145,
   "id": "b26bccf3",
   "metadata": {},
   "outputs": [
    {
     "data": {
      "text/plain": [
       "'2025-09-15 PM 03:00'"
      ]
     },
     "execution_count": 145,
     "metadata": {},
     "output_type": "execute_result"
    }
   ],
   "source": [
    "#지금을 문자열로 전환하는 함수\n",
    "from time import strftime\n",
    "strftime(\"%Y-%m-%d %p %I:%M\") #현재 시간을 원하는 형태로 전환하는 함수"
   ]
  },
  {
   "cell_type": "code",
   "execution_count": null,
   "id": "8dd45cb4",
   "metadata": {},
   "outputs": [],
   "source": []
  }
 ],
 "metadata": {
  "kernelspec": {
   "display_name": "Python 3 (ipykernel)",
   "language": "python",
   "name": "python3"
  },
  "language_info": {
   "codemirror_mode": {
    "name": "ipython",
    "version": 3
   },
   "file_extension": ".py",
   "mimetype": "text/x-python",
   "name": "python",
   "nbconvert_exporter": "python",
   "pygments_lexer": "ipython3",
   "version": "3.10.9"
  },
  "toc": {
   "base_numbering": 1,
   "nav_menu": {},
   "number_sections": false,
   "sideBar": true,
   "skip_h1_title": false,
   "title_cell": "Table of Contents",
   "title_sidebar": "Contents",
   "toc_cell": false,
   "toc_position": {
    "height": "calc(100% - 180px)",
    "left": "10px",
    "top": "150px",
    "width": "384px"
   },
   "toc_section_display": true,
   "toc_window_display": true
  }
 },
 "nbformat": 4,
 "nbformat_minor": 5
}
