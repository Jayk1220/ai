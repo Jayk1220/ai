{
 "cells": [
  {
   "cell_type": "code",
   "execution_count": 1,
   "id": "43af44f8",
   "metadata": {},
   "outputs": [
    {
     "data": {
      "text/html": [
       "\n",
       "<style>\n",
       "div.container{width:90% !important;}\n",
       "div.cell.code_cell.rendered{width:100%;}\n",
       "div.input_prompt{padding:0px;}\n",
       "div.CodeMirror{font-family:Consolas; font-size:15pt;}\n",
       "div.text_cell_render.rendered_html{font-size:15pt;}\n",
       "div.output{font-size:12pt; font-weight:bold;}\n",
       "div.input{font-family:Consolas; font-size:15pt;}\n",
       "div.prompt{min-width:70px;}\n",
       "div#toc-wrapper{padding-top:120px;}\n",
       "div.text_cell_renderulli{font-size:12pt;padding:5px;}\n",
       "table.dataframe{font-size:12px;}\n",
       "</style>\n"
      ],
      "text/plain": [
       "<IPython.core.display.HTML object>"
      ]
     },
     "metadata": {},
     "output_type": "display_data"
    }
   ],
   "source": [
    "from IPython.display import display, HTML\n",
    "display(HTML(\"\"\"\n",
    "<style>\n",
    "div.container{width:90% !important;}\n",
    "div.cell.code_cell.rendered{width:100%;}\n",
    "div.input_prompt{padding:0px;}\n",
    "div.CodeMirror{font-family:Consolas; font-size:15pt;}\n",
    "div.text_cell_render.rendered_html{font-size:15pt;}\n",
    "div.output{font-size:12pt; font-weight:bold;}\n",
    "div.input{font-family:Consolas; font-size:15pt;}\n",
    "div.prompt{min-width:70px;}\n",
    "div#toc-wrapper{padding-top:120px;}\n",
    "div.text_cell_renderulli{font-size:12pt;padding:5px;}\n",
    "table.dataframe{font-size:12px;}\n",
    "</style>\n",
    "\"\"\"))"
   ]
  },
  {
   "cell_type": "markdown",
   "id": "8af0d143",
   "metadata": {},
   "source": [
    "<b><font size=\"6\" color=\"red\">ch09. 파일 i/o 프로그래밍 </font></b>\n",
    " - 파일 : txt, pickle (머신러닝모델저장, 배열 저장), csv, json h5(딥러닝 모델저장)\n",
    " \n",
    " # 1. txt파일에 데이터 저장하고 불러오기"
   ]
  },
  {
   "cell_type": "code",
   "execution_count": 11,
   "id": "3cde700f",
   "metadata": {},
   "outputs": [
    {
     "name": "stdout",
     "output_type": "stream",
     "text": [
      "쓰기 가능한지 :  True\n"
     ]
    }
   ],
   "source": [
    "#mode : 'r' 또는 'rt' : 텍스트 읽기모드로 열기. 파일이 없을 경우 예외\n",
    "#     : 'w' 또는 'wt' : 텍스트 쓰기모드로 열기. 폴더가 없을 경우 예외\n",
    "                    # 파일이 없으면 생성, 파일이 있으면 덮어씀\n",
    "# mode = 'a' 또는 'at' : 텍스트 쓰기모드로 열기. 폴더가 없을경우 예외 발생\n",
    "                    # 파일이 없으면 생성,파일이 있으면 뒤에 append\n",
    "f = open('Data/ch09.txt','w') #encoding = 'cp949' (win)\n",
    "print('쓰기 가능한지 : ', f.writable())\n"
   ]
  },
  {
   "cell_type": "code",
   "execution_count": 12,
   "id": "393bd4d3",
   "metadata": {},
   "outputs": [
    {
     "data": {
      "text/plain": [
       "12"
      ]
     },
     "execution_count": 12,
     "metadata": {},
     "output_type": "execute_result"
    }
   ],
   "source": [
    "f.write('hello\\nworld\\n')"
   ]
  },
  {
   "cell_type": "code",
   "execution_count": 13,
   "id": "a11d8b23",
   "metadata": {},
   "outputs": [],
   "source": [
    "f.close()"
   ]
  },
  {
   "cell_type": "code",
   "execution_count": 14,
   "id": "8e2bd38b",
   "metadata": {},
   "outputs": [
    {
     "name": "stdout",
     "output_type": "stream",
     "text": [
      "쓰기 가능한지 :  True\n"
     ]
    }
   ],
   "source": [
    "f = open('Data/ch09.txt','w') #encoding = 'cp949' (win)\n",
    "print('쓰기 가능한지 : ', f.writable())"
   ]
  },
  {
   "cell_type": "code",
   "execution_count": 15,
   "id": "5aab7020",
   "metadata": {},
   "outputs": [
    {
     "name": "stdout",
     "output_type": "stream",
     "text": [
      "쓰기 가능한지 : True\n"
     ]
    }
   ],
   "source": [
    "#with 구문을 사용하면 매번 close() 하는 코드 불필요\n",
    "\n",
    "with open('Data/ch09.txt', 'wt') as f:\n",
    "    print('쓰기 가능한지 :' , f.writable())\n",
    "    f.write('python is easy\\npython is smart\\n')"
   ]
  },
  {
   "cell_type": "code",
   "execution_count": 16,
   "id": "f1df75ff",
   "metadata": {},
   "outputs": [
    {
     "name": "stdout",
     "output_type": "stream",
     "text": [
      "프린트 함수로 파일 쓰기가 가능합니다 - 콘솔출력\n"
     ]
    }
   ],
   "source": [
    "\n",
    "with open('Data/ch09.txt', 'wt') as f: #cp949\n",
    "    print(\"프린트 함수로 파일 쓰기가 가능합니다 - 파일출력\",file=f)\n",
    "    print(\"프린트 함수로 파일 쓰기가 가능합니다 - 콘솔출력\")"
   ]
  },
  {
   "cell_type": "markdown",
   "id": "40a6ef7d",
   "metadata": {},
   "source": [
    "  - 한글 읽/쓰기 \n",
    "   * cp949 : (한글완성형확장형) open 함수의 기본 인코딩 방식 (win) 주피터에서 안열림\n",
    "   * utf-8 : (한글조합형) 주피터 노트북에서 열림"
   ]
  },
  {
   "cell_type": "code",
   "execution_count": null,
   "id": "6601e42f",
   "metadata": {},
   "outputs": [],
   "source": []
  },
  {
   "cell_type": "code",
   "execution_count": 9,
   "id": "25929345",
   "metadata": {},
   "outputs": [],
   "source": [
    "with open('Data/ch09.txt','w',encoding='utf-8') as f:\n",
    "    #방법1\n",
    "    f.write('홍길동,30,서울\\n')\n",
    "    f.write('김길동,20,수원\\n')\n",
    "\n",
    "    #방법2\n",
    "    textlist = ['홍길동, 30, 서울\\n','김길동, 20, 부산\\n']\n",
    "    for line in textlist:\n",
    "        f.write(line)\n",
    "    \n",
    "    #방법3\n",
    "    f.writelines(textlist) #리스트를 한꺼번에 write"
   ]
  },
  {
   "cell_type": "code",
   "execution_count": 10,
   "id": "b1976eee",
   "metadata": {},
   "outputs": [
    {
     "data": {
      "text/plain": [
       "'홍길동,30,서울\\n김길동,20,수원\\n홍길동, 30, 서울\\n김길동, 20, 부산\\n홍길동, 30, 서울\\n김길동, 20, 부산\\n'"
      ]
     },
     "execution_count": 10,
     "metadata": {},
     "output_type": "execute_result"
    }
   ],
   "source": [
    "#파일을 한꺼번에 읽어오기\n",
    "with open('Data/ch09.txt','rt',encoding ='utf-8') as f:\n",
    "    filecontent = f.read()\n",
    "filecontent"
   ]
  },
  {
   "cell_type": "code",
   "execution_count": 11,
   "id": "807c7b12",
   "metadata": {},
   "outputs": [
    {
     "name": "stdout",
     "output_type": "stream",
     "text": [
      "홍길동,30,서울\n",
      "김길동,20,수원\n",
      "홍길동, 30, 서울\n",
      "김길동, 20, 부산\n",
      "홍길동, 30, 서울\n",
      "김길동, 20, 부산\n"
     ]
    }
   ],
   "source": [
    "#파일을 한 줄 읽고 출력하고, 한 줄 읽고 출력... 데이터가 없을 때 까지\n",
    "\n",
    "with open ('Data/ch09.txt','r',encoding='utf-8') as txtfile:\n",
    "    line = txtfile.readline()\n",
    "    while line != '':\n",
    "        print (line, end = '') #line에 \\n이 포함되어있어 출력시 개행은 제거\n",
    "        line = txtfile.readline()\n"
   ]
  },
  {
   "cell_type": "code",
   "execution_count": 12,
   "id": "db5fb6f4",
   "metadata": {},
   "outputs": [
    {
     "name": "stdout",
     "output_type": "stream",
     "text": [
      "['홍길동,30,서울\\n', '김길동,20,수원\\n', '홍길동, 30, 서울\\n', '김길동, 20, 부산\\n', '홍길동, 30, 서울\\n', '김길동, 20, 부산\\n']\n"
     ]
    }
   ],
   "source": [
    "#파일을 한번에 여러줄을 읽어서 한줄씩 list에 담아 return\n",
    "\n",
    "with open ('Data/ch09.txt','r',encoding='utf-8') as txtfile:\n",
    "    lines = txtfile.readlines()\n",
    "print(lines)"
   ]
  },
  {
   "cell_type": "code",
   "execution_count": 13,
   "id": "e085abf9",
   "metadata": {},
   "outputs": [
    {
     "name": "stdout",
     "output_type": "stream",
     "text": [
      "홍길동,30,서울\n",
      "김길동,20,수원\n",
      "홍길동, 30, 서울\n",
      "김길동, 20, 부산\n",
      "홍길동, 30, 서울\n",
      "김길동, 20, 부산\n"
     ]
    }
   ],
   "source": [
    "for line in lines:\n",
    "    print (line, end='')"
   ]
  },
  {
   "cell_type": "code",
   "execution_count": null,
   "id": "4e323091",
   "metadata": {},
   "outputs": [],
   "source": []
  },
  {
   "cell_type": "markdown",
   "id": "cc1aa132",
   "metadata": {},
   "source": [
    "# 2. 피클을 이용한 객체 저장 및 불러오기\n",
    " - 머신러닝 모델 저장, 배열 저장, 객체 저장\n",
    " \n",
    " ## 2.1 형식이 있는 텍스트 데이터 불러오기\n"
   ]
  },
  {
   "cell_type": "code",
   "execution_count": 15,
   "id": "2d379985",
   "metadata": {},
   "outputs": [
    {
     "name": "stdout",
     "output_type": "stream",
     "text": [
      "{'name': '홍길동', 'age': 20, 'email': 'kildong@hong.com', 'address': '서울시 관악구'}\n",
      "{'name': '홍길숙', 'age': 25, 'email': 'kilsuk1@hong.com', 'address': '서울시 영등포구'}\n",
      "{'name': '신길동', 'age': 30, 'email': 'shinkil@hong.com', 'address': '서울시 동작구'}\n"
     ]
    }
   ],
   "source": [
    "with open('data/ch09_member.txt', 'r', encoding='utf-8') as f:\n",
    "    lines = f.readlines()\n",
    "#print(lines)\n",
    "\n",
    "for line in lines: \n",
    "    #print(line)\n",
    "    data = line.split (', ')\n",
    "    #print(data)\n",
    "    name = data[0]\n",
    "    age = int(data[1])\n",
    "    email= data[2]\n",
    "    address = data[3].strip()\n",
    "    print({'name': name,\n",
    "           'age': age,\n",
    "           'email':email,\n",
    "           'address':address})"
   ]
  },
  {
   "cell_type": "code",
   "execution_count": 16,
   "id": "8b40c845",
   "metadata": {},
   "outputs": [],
   "source": [
    "class Member:\n",
    "    def __init__(self,name, age, email,address):\n",
    "        self.name = name\n",
    "        self.age = age\n",
    "        self.email = email\n",
    "        self.address = address\n",
    "    def __str__ (self):\n",
    "        return \"{},{},{},{}\".format(self.name,self.age,self.email,self.address)\n",
    "#     def __eq__ (self,other):\n",
    "#         return self.name == other.name and \\\n",
    "#                             self.age == other.age and \\\n",
    "#                             self.email == other.email and \\\n",
    "#                             self.address == other.address\n",
    "    def __eq__ (self, other):\n",
    "        return self.__str__() == other.__str__()\n",
    "    def as_dict(self):\n",
    "        '객체를 dict로 바꿔 return (json파일 저장시 필요)'\n",
    "        return self.__dict__\n",
    "#         return ({'name':self.name,\n",
    "#                'age': self.age,\n",
    "#                'email':self.email,\n",
    "#                'address':self.address})"
   ]
  },
  {
   "cell_type": "code",
   "execution_count": 17,
   "id": "c170ba46",
   "metadata": {},
   "outputs": [
    {
     "name": "stdout",
     "output_type": "stream",
     "text": [
      "신길동,30,shinkil@hong.com,서울시 동작구\n",
      "신길동,30,shinkil@hong.com,서울시 동작구\n",
      "True\n",
      "True\n",
      "{'name': '신길동', 'age': 30, 'email': 'shinkil@hong.com', 'address': '서울시 동작구'}\n",
      "{'name': '신길동', 'age': 30, 'email': 'shinkil@hong.com', 'address': '서울시 동작구'}\n"
     ]
    }
   ],
   "source": [
    "member1 = Member('신길동',30,'shinkil@hong.com','서울시 동작구')\n",
    "member2 = Member('신길동',30,'shinkil@hong.com','서울시 동작구')\n",
    "print(member1)\n",
    "print(member2)\n",
    "print(member1==member2)\n",
    "print(member2.__eq__(member1))\n",
    "print(member1.__dict__)\n",
    "print(member1.as_dict())"
   ]
  },
  {
   "cell_type": "markdown",
   "id": "0bf51451",
   "metadata": {},
   "source": [
    "# 2.2 피클링\n",
    " - 객체리스트 -> 피클파일로 쓰기\n",
    " - 피클파일 -> 객체리스트로 읽기"
   ]
  },
  {
   "cell_type": "code",
   "execution_count": 18,
   "id": "bf908298",
   "metadata": {},
   "outputs": [],
   "source": [
    "# ch09.member.txt 파일 -> 객체 list, 딕셔너리 list로 읽어오기\n",
    "member_list = [] #Member 객체 list\n",
    "dict_list   = [] #딕셔너리 list\n",
    "with open ('Data/ch09_member.txt','r', encoding='utf-8') as f:\n",
    "    lines = f.readlines()\n",
    "for line in lines:\n",
    "    data = line.split(',')\n",
    "    data = [item.strip() for item in data]\n",
    "    name = data[0]\n",
    "    age = data [1]\n",
    "    email = data [2]\n",
    "    address = data [3]\n",
    "    member = Member(name, age, email, address)\n",
    "    member_list.append(member)\n",
    "    dict_list.append(member.__dict__)\n",
    "    \n",
    "    \n",
    "    \n",
    "    \n",
    "#    data = line.strip().split(',')\n",
    "#    print(data)"
   ]
  },
  {
   "cell_type": "code",
   "execution_count": 19,
   "id": "1841058c",
   "metadata": {},
   "outputs": [
    {
     "name": "stdout",
     "output_type": "stream",
     "text": [
      "홍길동,20,kildong@hong.com,서울시 관악구\n",
      "홍길숙,25,kilsuk1@hong.com,서울시 영등포구\n",
      "신길동,30,shinkil@hong.com,서울시 동작구\n"
     ]
    }
   ],
   "source": [
    "for member in member_list: #객체 list\n",
    "    print(member)"
   ]
  },
  {
   "cell_type": "code",
   "execution_count": 20,
   "id": "c55a7548",
   "metadata": {},
   "outputs": [],
   "source": [
    "# 피클링 (확장자 : pkl, pickle, data)이용 객체를 파일에 저장\n",
    "import pickle\n",
    "with open ('Data/ch09_member.pkl','wb') as f: #wb --> b는  binary\n",
    "    pickle.dump(member_list,f)"
   ]
  },
  {
   "cell_type": "code",
   "execution_count": 21,
   "id": "16f05442",
   "metadata": {},
   "outputs": [],
   "source": [
    "#피클링을 이용한 파일을 객체리스트로 읽기\n",
    "with open ('Data/ch09_member.pkl','rb')as f:\n",
    "    load_member_list = pickle.load(f)"
   ]
  },
  {
   "cell_type": "code",
   "execution_count": 22,
   "id": "43ec454e",
   "metadata": {},
   "outputs": [
    {
     "data": {
      "text/plain": [
       "(2397190805888, 2397190766272)"
      ]
     },
     "execution_count": 22,
     "metadata": {},
     "output_type": "execute_result"
    }
   ],
   "source": [
    "id (member_list), id(load_member_list)"
   ]
  },
  {
   "cell_type": "code",
   "execution_count": 23,
   "id": "12e25d47",
   "metadata": {},
   "outputs": [
    {
     "name": "stdout",
     "output_type": "stream",
     "text": [
      "0 번째 비교: True\n",
      "1 번째 비교: True\n",
      "2 번째 비교: True\n"
     ]
    }
   ],
   "source": [
    "for idx in range(len(member_list)):\n",
    "    print(idx, '번째 비교:', (member_list[idx]==load_member_list[idx]))"
   ]
  },
  {
   "cell_type": "code",
   "execution_count": 24,
   "id": "d1511d9f",
   "metadata": {},
   "outputs": [
    {
     "name": "stdout",
     "output_type": "stream",
     "text": [
      "member:  홍길동,20,kildong@hong.com,서울시 관악구\n",
      "load_member:  홍길동,20,kildong@hong.com,서울시 관악구\n",
      "member:  홍길숙,25,kilsuk1@hong.com,서울시 영등포구\n",
      "load_member:  홍길숙,25,kilsuk1@hong.com,서울시 영등포구\n",
      "member:  신길동,30,shinkil@hong.com,서울시 동작구\n",
      "load_member:  신길동,30,shinkil@hong.com,서울시 동작구\n"
     ]
    }
   ],
   "source": [
    "for member, load_member in zip (member_list, load_member_list):\n",
    "    print('member: ', member)\n",
    "    print('load_member: ',load_member)"
   ]
  },
  {
   "cell_type": "code",
   "execution_count": 25,
   "id": "1c88e32f",
   "metadata": {},
   "outputs": [
    {
     "name": "stdout",
     "output_type": "stream",
     "text": [
      "0 번째 비교:  True\n",
      "1 번째 비교:  True\n",
      "2 번째 비교:  True\n"
     ]
    }
   ],
   "source": [
    "for idx, (member, load_member) in enumerate(zip(member_list, load_member_list)):\n",
    "    print(idx, '번째 비교: ', member == load_member)"
   ]
  },
  {
   "cell_type": "code",
   "execution_count": 27,
   "id": "b0851df8",
   "metadata": {},
   "outputs": [
    {
     "data": {
      "text/plain": [
       "[True, True, True]"
      ]
     },
     "execution_count": 27,
     "metadata": {},
     "output_type": "execute_result"
    }
   ],
   "source": [
    "result = [] #비교결과(T/F)를 append\n",
    "for member, load_member in zip (member_list, load_member_list):\n",
    "    result.append(member==load_member)\n",
    "result"
   ]
  },
  {
   "cell_type": "code",
   "execution_count": 28,
   "id": "a4b69e2e",
   "metadata": {},
   "outputs": [
    {
     "data": {
      "text/plain": [
       "True"
      ]
     },
     "execution_count": 28,
     "metadata": {},
     "output_type": "execute_result"
    }
   ],
   "source": [
    "all(result) #모든 요소들이 True인지 여부"
   ]
  },
  {
   "cell_type": "code",
   "execution_count": 29,
   "id": "4611e9af",
   "metadata": {},
   "outputs": [
    {
     "data": {
      "text/plain": [
       "False"
      ]
     },
     "execution_count": 29,
     "metadata": {},
     "output_type": "execute_result"
    }
   ],
   "source": [
    "all([True,True,True,False,True])"
   ]
  },
  {
   "cell_type": "code",
   "execution_count": null,
   "id": "542eb914",
   "metadata": {},
   "outputs": [],
   "source": []
  },
  {
   "cell_type": "markdown",
   "id": "69cc0653",
   "metadata": {},
   "source": [
    "# 3. CSV 파일 읽기/쓰기\n",
    " - csv 파일의 자료를 list data로 읽고 쓰기\n",
    " - csv 파일의 자료를 dict data로 읽고 쓰기\n",
    "\n",
    "\n",
    "# 3.1 reader\n"
   ]
  },
  {
   "cell_type": "code",
   "execution_count": 35,
   "id": "6e146710",
   "metadata": {},
   "outputs": [
    {
     "data": {
      "text/plain": [
       "[['홍길동', '20', 'kildong@hong.com', '서울시 관악구'],\n",
       " ['김길동', '40', 'kimdong@hong.com', '서울시 영등포구'],\n",
       " ['신길동', '30', 'sindong@hong.com', '서울시 동작구']]"
      ]
     },
     "execution_count": 35,
     "metadata": {},
     "output_type": "execute_result"
    }
   ],
   "source": [
    "import csv \n",
    "with open('Data/ch09_member1.csv','r',encoding='utf-8')as f:\n",
    "    reader = csv.reader(f)\n",
    "    result = list(reader)\n",
    "result"
   ]
  },
  {
   "cell_type": "code",
   "execution_count": 38,
   "id": "c9fdcd19",
   "metadata": {},
   "outputs": [
    {
     "name": "stdout",
     "output_type": "stream",
     "text": [
      "['홍길동', '20', 'kildong@hong.com', '서울시 관악구', '']\n",
      "['김길동', '40', 'kimdong@hong.com', '서울시 영등포구', '팀장']\n",
      "['신길동', '30', 'sindong@hong.com', '서울시 동작구', '']\n"
     ]
    }
   ],
   "source": [
    "with open ('Data/ch09_member1-cp.csv','r') as f:\n",
    "    read = csv.reader(f)\n",
    "    for row in read:\n",
    "        print(row)"
   ]
  },
  {
   "cell_type": "code",
   "execution_count": 40,
   "id": "97480dfc",
   "metadata": {},
   "outputs": [
    {
     "ename": "ValueError",
     "evalue": "could not convert string to float: '홍길동'",
     "output_type": "error",
     "traceback": [
      "\u001b[1;31m---------------------------------------------------------------------------\u001b[0m",
      "\u001b[1;31mValueError\u001b[0m                                Traceback (most recent call last)",
      "Cell \u001b[1;32mIn[40], line 4\u001b[0m\n\u001b[0;32m      2\u001b[0m \u001b[38;5;28;01mwith\u001b[39;00m \u001b[38;5;28mopen\u001b[39m (\u001b[38;5;124m'\u001b[39m\u001b[38;5;124mData/ch09_member1-cp.csv\u001b[39m\u001b[38;5;124m'\u001b[39m,\u001b[38;5;124m'\u001b[39m\u001b[38;5;124mr\u001b[39m\u001b[38;5;124m'\u001b[39m) \u001b[38;5;28;01mas\u001b[39;00m f:\n\u001b[0;32m      3\u001b[0m     read \u001b[38;5;241m=\u001b[39m csv\u001b[38;5;241m.\u001b[39mreader(f,quoting \u001b[38;5;241m=\u001b[39m csv\u001b[38;5;241m.\u001b[39mQUOTE_NONNUMERIC)\n\u001b[1;32m----> 4\u001b[0m     \u001b[38;5;28;01mfor\u001b[39;00m row \u001b[38;5;129;01min\u001b[39;00m read:\n\u001b[0;32m      5\u001b[0m         \u001b[38;5;28mprint\u001b[39m(row)\n",
      "\u001b[1;31mValueError\u001b[0m: could not convert string to float: '홍길동'"
     ]
    }
   ],
   "source": [
    "# \"\"가 없는 데이터는 numberic으로\n",
    "with open ('Data/ch09_member1-cp.csv','r') as f:\n",
    "    read = csv.reader(f,quoting = csv.QUOTE_NONNUMERIC)\n",
    "    for row in read:\n",
    "        print(row)"
   ]
  },
  {
   "cell_type": "markdown",
   "id": "e851726b",
   "metadata": {},
   "source": [
    "## 3.2 writer\n",
    " - list -> csv로 저장"
   ]
  },
  {
   "cell_type": "code",
   "execution_count": 49,
   "id": "e0a03943",
   "metadata": {},
   "outputs": [],
   "source": [
    "user_list = [ [ '신길동', '30', 'sindong@hong.com', '서울시 관악구'],\n",
    "            ['홍길동', '20', 'sindong@hong.com', '서울시 동작구'],\n",
    "            ['박길동', '25', 'sindong@hong.com', '서울시 서초구']]"
   ]
  },
  {
   "cell_type": "code",
   "execution_count": 50,
   "id": "03ca977e",
   "metadata": {},
   "outputs": [],
   "source": [
    "# newline -''옵션 빼면 개행이 2번 (python 3.10)\n",
    "try:\n",
    "    with open('data/ch09_member2-writer.csv', 'w', newline='') as f: # r == rt, rb ; 'w' == wt, wb ; 'a'\n",
    "        writer = csv.writer(f)\n",
    "        for user in user_list:\n",
    "            writer.writerow(user)\n",
    "        writer.writerows(user_list)\n",
    "except FileNotFoundError as e:\n",
    "    print(e)"
   ]
  },
  {
   "cell_type": "markdown",
   "id": "a516ecab",
   "metadata": {},
   "source": [
    "# 3.3 DictReader\n",
    " - CSV 파일을 딕셔너리 데이터로 읽기\n",
    " "
   ]
  },
  {
   "cell_type": "code",
   "execution_count": 53,
   "id": "c1ba3dd1",
   "metadata": {},
   "outputs": [
    {
     "data": {
      "text/plain": [
       "[{'name': '홍길동',\n",
       "  'age': '20',\n",
       "  'email': 'h@h.com',\n",
       "  'address': '서울시 관악구',\n",
       "  'job': None},\n",
       " {'name': '신길동',\n",
       "  'age': '40',\n",
       "  'email': 's@h.com',\n",
       "  'address': '서울시 영등포구',\n",
       "  'job': '팀장'},\n",
       " {'name': '김길동',\n",
       "  'age': '30',\n",
       "  'email': 'k@h.com',\n",
       "  'address': '서울시 동작구',\n",
       "  'job': None}]"
      ]
     },
     "execution_count": 53,
     "metadata": {},
     "output_type": "execute_result"
    }
   ],
   "source": [
    "import csv\n",
    "#header가 있는 csv 파일을 딕셔너리로 읽기 (ch09_member3.csv)\n",
    "with open ('Data/ch09_member3.csv','r',encoding='utf-8')as f:\n",
    "    dict_reader = csv.DictReader(f)\n",
    "    result = list(dict_reader)\n",
    "result"
   ]
  },
  {
   "cell_type": "code",
   "execution_count": 55,
   "id": "6e81e3c1",
   "metadata": {},
   "outputs": [
    {
     "name": "stdout",
     "output_type": "stream",
     "text": [
      "{'name': '홍길동', 'age': '20', 'email': 'h@h.com', 'address': '서울시 관악구', 'job': '없음'}\n",
      "{'name': '신길동', 'age': '40', 'email': 's@h.com', 'address': '서울시 영등포구', 'job': '팀장'}\n",
      "{'name': '김길동', 'age': '30', 'email': 'k@h.com', 'address': '서울시 동작구', 'job': '없음'}\n"
     ]
    }
   ],
   "source": [
    "import csv\n",
    "#header가 있는 csv 파일을 딕셔너리로 읽기 (ch09_member3.csv)\n",
    "with open ('Data/ch09_member3.csv','r',encoding='utf-8')as f:\n",
    "    dict_reader = csv.DictReader(f, restval = '없음')\n",
    "    for row in dict_reader:\n",
    "        print(row)\n"
   ]
  },
  {
   "cell_type": "code",
   "execution_count": 59,
   "id": "f0ca0c71",
   "metadata": {},
   "outputs": [
    {
     "data": {
      "text/html": [
       "<div>\n",
       "<style scoped>\n",
       "    .dataframe tbody tr th:only-of-type {\n",
       "        vertical-align: middle;\n",
       "    }\n",
       "\n",
       "    .dataframe tbody tr th {\n",
       "        vertical-align: top;\n",
       "    }\n",
       "\n",
       "    .dataframe thead th {\n",
       "        text-align: right;\n",
       "    }\n",
       "</style>\n",
       "<table border=\"1\" class=\"dataframe\">\n",
       "  <thead>\n",
       "    <tr style=\"text-align: right;\">\n",
       "      <th></th>\n",
       "      <th>name</th>\n",
       "      <th>age</th>\n",
       "      <th>email</th>\n",
       "      <th>address</th>\n",
       "      <th>job</th>\n",
       "    </tr>\n",
       "  </thead>\n",
       "  <tbody>\n",
       "    <tr>\n",
       "      <th>0</th>\n",
       "      <td>홍길동</td>\n",
       "      <td>20</td>\n",
       "      <td>h@h.com</td>\n",
       "      <td>서울시 관악구</td>\n",
       "      <td>NaN</td>\n",
       "    </tr>\n",
       "    <tr>\n",
       "      <th>1</th>\n",
       "      <td>신길동</td>\n",
       "      <td>40</td>\n",
       "      <td>s@h.com</td>\n",
       "      <td>서울시 영등포구</td>\n",
       "      <td>팀장</td>\n",
       "    </tr>\n",
       "    <tr>\n",
       "      <th>2</th>\n",
       "      <td>김길동</td>\n",
       "      <td>30</td>\n",
       "      <td>k@h.com</td>\n",
       "      <td>서울시 동작구</td>\n",
       "      <td>NaN</td>\n",
       "    </tr>\n",
       "  </tbody>\n",
       "</table>\n",
       "</div>"
      ],
      "text/plain": [
       "  name  age    email   address  job\n",
       "0  홍길동   20  h@h.com   서울시 관악구  NaN\n",
       "1  신길동   40  s@h.com  서울시 영등포구   팀장\n",
       "2  김길동   30  k@h.com   서울시 동작구  NaN"
      ]
     },
     "execution_count": 59,
     "metadata": {},
     "output_type": "execute_result"
    }
   ],
   "source": [
    "#csv 파일을 데이터프레임 데이터로 읽기\n",
    "import pandas as pd \n",
    "members = pd.read_csv('Data/ch09_member3.csv')# 판다스는 기본이 utf-8\n",
    "members\n",
    "    "
   ]
  },
  {
   "cell_type": "code",
   "execution_count": 60,
   "id": "6d9c128d",
   "metadata": {},
   "outputs": [
    {
     "data": {
      "text/plain": [
       "pandas.core.frame.DataFrame"
      ]
     },
     "execution_count": 60,
     "metadata": {},
     "output_type": "execute_result"
    }
   ],
   "source": [
    "type(members)"
   ]
  },
  {
   "cell_type": "code",
   "execution_count": 61,
   "id": "d279eff2",
   "metadata": {},
   "outputs": [
    {
     "data": {
      "text/html": [
       "<div>\n",
       "<style scoped>\n",
       "    .dataframe tbody tr th:only-of-type {\n",
       "        vertical-align: middle;\n",
       "    }\n",
       "\n",
       "    .dataframe tbody tr th {\n",
       "        vertical-align: top;\n",
       "    }\n",
       "\n",
       "    .dataframe thead th {\n",
       "        text-align: right;\n",
       "    }\n",
       "</style>\n",
       "<table border=\"1\" class=\"dataframe\">\n",
       "  <thead>\n",
       "    <tr style=\"text-align: right;\">\n",
       "      <th></th>\n",
       "      <th>name</th>\n",
       "      <th>age</th>\n",
       "      <th>email</th>\n",
       "      <th>address</th>\n",
       "      <th>job</th>\n",
       "    </tr>\n",
       "  </thead>\n",
       "  <tbody>\n",
       "    <tr>\n",
       "      <th>0</th>\n",
       "      <td>홍길동</td>\n",
       "      <td>20</td>\n",
       "      <td>h@h.com</td>\n",
       "      <td>서울시 관악구</td>\n",
       "      <td>None</td>\n",
       "    </tr>\n",
       "    <tr>\n",
       "      <th>1</th>\n",
       "      <td>신길동</td>\n",
       "      <td>40</td>\n",
       "      <td>s@h.com</td>\n",
       "      <td>서울시 영등포구</td>\n",
       "      <td>팀장</td>\n",
       "    </tr>\n",
       "    <tr>\n",
       "      <th>2</th>\n",
       "      <td>김길동</td>\n",
       "      <td>30</td>\n",
       "      <td>k@h.com</td>\n",
       "      <td>서울시 동작구</td>\n",
       "      <td>None</td>\n",
       "    </tr>\n",
       "  </tbody>\n",
       "</table>\n",
       "</div>"
      ],
      "text/plain": [
       "  name age    email   address   job\n",
       "0  홍길동  20  h@h.com   서울시 관악구  None\n",
       "1  신길동  40  s@h.com  서울시 영등포구    팀장\n",
       "2  김길동  30  k@h.com   서울시 동작구  None"
      ]
     },
     "execution_count": 61,
     "metadata": {},
     "output_type": "execute_result"
    }
   ],
   "source": [
    "pd.DataFrame(data=result)"
   ]
  },
  {
   "cell_type": "code",
   "execution_count": 68,
   "id": "e8884f80",
   "metadata": {},
   "outputs": [
    {
     "name": "stdout",
     "output_type": "stream",
     "text": [
      "{'Name': '홍길동', 'age': '20', 'email': 'kildong@hong.com', 'address': '서울시 관악구', 'job': ['']}\n",
      "{'Name': '김길동', 'age': '40', 'email': 'kimdong@hong.com', 'address': '서울시 영등포구', 'job': ['팀장']}\n",
      "{'Name': '신길동', 'age': '30', 'email': 'sindong@hong.com', 'address': '서울시 동작구', 'job': ['']}\n"
     ]
    }
   ],
   "source": [
    "#헤더가 없는 CSV 파일을 딕셔너리 데이터로 읽기(ch09_member1-cp.csv)\n",
    "with open('Data/ch09_member1-cp.csv','r') as f:\n",
    "    dict_reader = csv.DictReader(f, fieldnames = [\"Name\",\"age\",\"email\",\"address\"],\n",
    "                                                 restkey = 'job')\n",
    "    for row in dict_reader:\n",
    "        print(row)"
   ]
  },
  {
   "cell_type": "code",
   "execution_count": 69,
   "id": "a97325de",
   "metadata": {},
   "outputs": [
    {
     "name": "stdout",
     "output_type": "stream",
     "text": [
      "{'Name': '홍길동', 'age': '20', 'email': 'kildong@hong.com', 'address': '서울시 관악구', 'job': ''}\n",
      "{'Name': '김길동', 'age': '40', 'email': 'kimdong@hong.com', 'address': '서울시 영등포구', 'job': '팀장'}\n",
      "{'Name': '신길동', 'age': '30', 'email': 'sindong@hong.com', 'address': '서울시 동작구', 'job': ''}\n"
     ]
    }
   ],
   "source": [
    "#헤더가 없는 CSV 파일을 딕셔너리 데이터로 읽기(ch09_member1-cp.csv)\n",
    "with open('Data/ch09_member1-cp.csv','r') as f:\n",
    "    dict_reader = csv.DictReader(f, fieldnames = [\"Name\",\"age\",\"email\",\"address\",\"job\"])\n",
    "    for row in dict_reader:\n",
    "        print(row)"
   ]
  },
  {
   "cell_type": "markdown",
   "id": "cf952d3a",
   "metadata": {},
   "source": [
    "## 3.4 DictWriter\n",
    " - 딕셔너리 데이터 (딕셔너리 list)를 csv파일로 쓰기"
   ]
  },
  {
   "cell_type": "code",
   "execution_count": 71,
   "id": "a62c7997",
   "metadata": {},
   "outputs": [
    {
     "data": {
      "text/plain": [
       "[{'Name': '신길동', 'age': '30', 'email': 'sindong@hong.com', 'address': '서울'},\n",
       " {'Name': '홍길동', 'age': '20', 'email': 'kildong@hong.com', 'address': '수원'},\n",
       " {'Name': '마길동', 'age': '25', 'email': 'sindong@hong.com', 'address': '안양'}]"
      ]
     },
     "execution_count": 71,
     "metadata": {},
     "output_type": "execute_result"
    }
   ],
   "source": [
    "user1 = {'Name': '신길동', 'age': '30', 'email': 'sindong@hong.com', 'address': '서울'}\n",
    "user2 = {'Name': '홍길동', 'age': '20', 'email': 'kildong@hong.com', 'address': '수원'}\n",
    "user3 = {'Name': '마길동', 'age': '25', 'email': 'sindong@hong.com', 'address': '안양'}\n",
    "\n",
    "user_list = [user1, user2, user3]\n",
    "user_list"
   ]
  },
  {
   "cell_type": "code",
   "execution_count": 72,
   "id": "a8b4866d",
   "metadata": {},
   "outputs": [
    {
     "data": {
      "text/plain": [
       "['Name', 'age', 'email', 'address']"
      ]
     },
     "execution_count": 72,
     "metadata": {},
     "output_type": "execute_result"
    }
   ],
   "source": [
    "fieldnames = list(user1.keys())\n",
    "fieldnames"
   ]
  },
  {
   "cell_type": "code",
   "execution_count": 77,
   "id": "2eca6ffe",
   "metadata": {},
   "outputs": [],
   "source": [
    "with open ('data/ch09_member4.csv','w',encoding='utf-8',newline='') as f:\n",
    "    dict_writer = csv.DictWriter(f,fieldnames=fieldnames)\n",
    "    dict_writer.writeheader() #header 1줄 쓰기\n",
    "    dict_writer.writerows(user_list)"
   ]
  },
  {
   "cell_type": "code",
   "execution_count": null,
   "id": "6ed7ca6d",
   "metadata": {},
   "outputs": [],
   "source": []
  },
  {
   "cell_type": "markdown",
   "id": "72425c4c",
   "metadata": {},
   "source": [
    "# 4. JSON 파일에 저장하고 불러오기 (dump, load)\n",
    "[{'title':\"국가정보원 화재\", 'url' : 'http://~','content':'grgbresg'},\n",
    " {'title':\"국가정보원 화재\", 'url' : 'http://~','content':'grgbresg'},\n",
    " {'title':\"국가정보원 화재\", 'url' : 'http://~','content':'grgbresg'}]\n",
    " \n",
    " ## 4.1 JSON dump(파일에 저장)\n",
    " ### 1. 딕셔너리 list를 json파일로 저장"
   ]
  },
  {
   "cell_type": "code",
   "execution_count": 91,
   "id": "65d4d01e",
   "metadata": {},
   "outputs": [
    {
     "data": {
      "text/plain": [
       "[{'Name': '신길동', 'age': '30', 'email': 'sindong@hong.com', 'address': '서울'},\n",
       " {'Name': '홍길동', 'age': '20', 'email': 'kildong@hong.com', 'address': '수원'},\n",
       " {'Name': '마길동', 'age': '25', 'email': 'sindong@hong.com', 'address': '안양'}]"
      ]
     },
     "execution_count": 91,
     "metadata": {},
     "output_type": "execute_result"
    }
   ],
   "source": [
    "data = [{'Name': '신길동', 'age': '30', 'email': 'sindong@hong.com', 'address': '서울'},\n",
    "        {'Name': '홍길동', 'age': '20', 'email': 'kildong@hong.com', 'address': '수원'},\n",
    "        {'Name': '마길동', 'age': '25', 'email': 'sindong@hong.com', 'address': '안양'}]\n",
    "\n",
    "data"
   ]
  },
  {
   "cell_type": "code",
   "execution_count": 85,
   "id": "4b3c7f9a",
   "metadata": {},
   "outputs": [],
   "source": [
    "#ensure_ascii 옵션의 역할 :ASCII 코드를 넘어선 문자를 어떻게 처리할지 \n",
    "# 기본값(True) : ASCII 코드 범위를 넘어선 글자는 유니코드로 저장\n",
    "# FALSE : 비ASCII 문자는 원래 형태로 그대로 저장\n",
    "import json\n",
    "with open ('Data/ch09_member1,json','w') as jsonfile:\n",
    "    json.dump(data, #딕셔너리리스트\n",
    "             jsonfile, #파일 스트림\n",
    "             ensure_ascii = False, # 비ASCII 콛 문자 처리 여부\n",
    "             indent='  ') #들여쓰기 여부"
   ]
  },
  {
   "cell_type": "markdown",
   "id": "5aee1217",
   "metadata": {},
   "source": [
    "### 2. 객체 list를 json파일로 저장"
   ]
  },
  {
   "cell_type": "code",
   "execution_count": 87,
   "id": "7602801c",
   "metadata": {},
   "outputs": [],
   "source": [
    "class Member:\n",
    "    def __init__(self, name, age, email, address):\n",
    "        self.name = name\n",
    "        self.age  = age\n",
    "        self.email = email\n",
    "        self.address = address\n",
    "    def __str__(self):\n",
    "        return \"{},{},{},{}\".format(self.name, self.age, self.email, self.address)\n",
    "    def __eq__(self, other):\n",
    "        return self.__str__() == other.__str__()\n",
    "    def as_dict(self):\n",
    "        '객체를 딕셔너리로 바꿔 return(json파일 저장시 필요)'\n",
    "        return self.__dict__"
   ]
  },
  {
   "cell_type": "code",
   "execution_count": 88,
   "id": "249d0953",
   "metadata": {},
   "outputs": [
    {
     "data": {
      "text/plain": [
       "['홍길동,30,h@h.com,서울', '마길동,25,m@h.com,하남', '박길동,35,p@p.com,대전']"
      ]
     },
     "execution_count": 88,
     "metadata": {},
     "output_type": "execute_result"
    }
   ],
   "source": [
    "member_list = [Member('홍길동',30,'h@h.com','서울'),\n",
    "              Member('마길동',25,'m@h.com','하남'),\n",
    "              Member('박길동',35,'p@p.com','대전')]\n",
    "\n",
    "[member.__str__() for member in member_list]"
   ]
  },
  {
   "cell_type": "code",
   "execution_count": 90,
   "id": "fb8fa115",
   "metadata": {},
   "outputs": [],
   "source": [
    "with open ('Data/ch09_member2.json','w',encoding='utf-8') as jsonfile:\n",
    "    json.dump(member_list, #저장할 리스트(객체리스트)\n",
    "              jsonfile,\n",
    "              ensure_ascii=False,\n",
    "              indent='\\t',\n",
    "             default = Member.as_dict) # 객체를 딕셔너리 형태로  return 하는 함수\n",
    "    "
   ]
  },
  {
   "cell_type": "markdown",
   "id": "03f7a958",
   "metadata": {},
   "source": [
    "## 4.2 JSON load (파일 읽기)\n",
    "### (1) json 파일을 딕셔너리 리스트로 읽기\n",
    "### (2) json파일을 객체 리스트로 읽기 (딕셔너리를  객체로 return 하는 함수 필요)"
   ]
  },
  {
   "cell_type": "code",
   "execution_count": 92,
   "id": "b4228266",
   "metadata": {},
   "outputs": [
    {
     "data": {
      "text/plain": [
       "[{'name': '홍길동', 'age': 20, 'email': 'h@h.com', 'address': '서울'},\n",
       " {'name': '김길동', 'age': 30, 'email': 'k@h.com', 'address': '부산'},\n",
       " {'name': '신길동', 'age': 40, 'email': 's@h.com', 'address': '안양'}]"
      ]
     },
     "execution_count": 92,
     "metadata": {},
     "output_type": "execute_result"
    }
   ],
   "source": [
    "### (1) json 파일을 딕셔너리 리스트로 읽기\n",
    "with open ('Data/ch09_member1.json','r') as jsonfile:\n",
    "    load_data = json.load(jsonfile)\n",
    "load_data"
   ]
  },
  {
   "cell_type": "code",
   "execution_count": 93,
   "id": "a02d65ed",
   "metadata": {},
   "outputs": [
    {
     "data": {
      "text/plain": [
       "(list, dict)"
      ]
     },
     "execution_count": 93,
     "metadata": {},
     "output_type": "execute_result"
    }
   ],
   "source": [
    "type(load_data),type(load_data[0])"
   ]
  },
  {
   "cell_type": "code",
   "execution_count": 102,
   "id": "060fec21",
   "metadata": {},
   "outputs": [],
   "source": [
    "#(2) json파일을 객체 리스트로 읽기 (딕셔너리를  객체로 return 하는 함수 필요)\n",
    "def as_member(dic):\n",
    "    return Member(dic.get('name'),\n",
    "                  dic.get('age'),\n",
    "                  dic.get('email'),\n",
    "                  dic.get('address')\n",
    "                 )"
   ]
  },
  {
   "cell_type": "code",
   "execution_count": 106,
   "id": "2baea118",
   "metadata": {},
   "outputs": [
    {
     "name": "stdout",
     "output_type": "stream",
     "text": [
      "홍길동,30,h@h.com,서울\n",
      "마길동,25,m@h.com,하남\n",
      "박길동,35,p@p.com,대전\n"
     ]
    }
   ],
   "source": [
    "with open('Data/ch09_member2.json','r', encoding='utf-8') as jsonfile:\n",
    "    load_member_list = json.load(jsonfile,\n",
    "                                object_hook = as_member) # 딕셔너리를 객체로 return 함수\n",
    "for load_member in load_member_list:\n",
    "    print(load_member)"
   ]
  },
  {
   "cell_type": "code",
   "execution_count": 113,
   "id": "97a8b620",
   "metadata": {},
   "outputs": [
    {
     "name": "stdout",
     "output_type": "stream",
     "text": [
      "두 객체 리스트의 모든 데이터가 일치하는지 여부:  True\n"
     ]
    }
   ],
   "source": [
    "# member_list => ch09_member2.json => load_member_list\n",
    "# member_list => load_member_list가 같은 내용인지 검사\n",
    "\n",
    "result = [] #list 내 객체들끼리 비교 결과\n",
    "for member, load_member in zip (member_list, load_member_list):\n",
    "    result.append(member == load_member)\n",
    "print('두 객체 리스트의 모든 데이터가 일치하는지 여부: ',all(result))"
   ]
  },
  {
   "cell_type": "code",
   "execution_count": 119,
   "id": "6f5d5683",
   "metadata": {},
   "outputs": [],
   "source": [
    "result =[True, True, True, False, True]"
   ]
  },
  {
   "cell_type": "code",
   "execution_count": 120,
   "id": "2acc9970",
   "metadata": {},
   "outputs": [
    {
     "data": {
      "text/plain": [
       "(array([3], dtype=int64),)"
      ]
     },
     "execution_count": 120,
     "metadata": {},
     "output_type": "execute_result"
    }
   ],
   "source": [
    "#false인 곳의 index\n",
    "import numpy as np\n",
    "result = np.array(result)\n",
    "np.where(result == False)"
   ]
  },
  {
   "cell_type": "code",
   "execution_count": 122,
   "id": "a744afcb",
   "metadata": {},
   "outputs": [
    {
     "data": {
      "text/plain": [
       "{True}"
      ]
     },
     "execution_count": 122,
     "metadata": {},
     "output_type": "execute_result"
    }
   ],
   "source": [
    "result = set() #빈 셋 / () 빈 딕셔너리\n",
    "for member, load_member in zip(member_list,load_member_list):\n",
    "    result.add(member == load_member)\n",
    "result"
   ]
  },
  {
   "cell_type": "code",
   "execution_count": null,
   "id": "821a2ddb",
   "metadata": {},
   "outputs": [],
   "source": []
  }
 ],
 "metadata": {
  "kernelspec": {
   "display_name": "Python 3 (ipykernel)",
   "language": "python",
   "name": "python3"
  },
  "language_info": {
   "codemirror_mode": {
    "name": "ipython",
    "version": 3
   },
   "file_extension": ".py",
   "mimetype": "text/x-python",
   "name": "python",
   "nbconvert_exporter": "python",
   "pygments_lexer": "ipython3",
   "version": "3.10.9"
  },
  "toc": {
   "base_numbering": 1,
   "nav_menu": {},
   "number_sections": false,
   "sideBar": true,
   "skip_h1_title": false,
   "title_cell": "Table of Contents",
   "title_sidebar": "Contents",
   "toc_cell": false,
   "toc_position": {
    "height": "calc(100% - 180px)",
    "left": "10px",
    "top": "150px",
    "width": "384px"
   },
   "toc_section_display": true,
   "toc_window_display": true
  }
 },
 "nbformat": 4,
 "nbformat_minor": 5
}
