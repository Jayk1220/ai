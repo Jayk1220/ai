{
 "cells": [
  {
   "cell_type": "code",
   "execution_count": 1,
   "id": "43af44f8",
   "metadata": {},
   "outputs": [
    {
     "data": {
      "text/html": [
       "\n",
       "<style>\n",
       "div.container{width:90% !important;}\n",
       "div.cell.code_cell.rendered{width:100%;}\n",
       "div.input_prompt{padding:0px;}\n",
       "div.CodeMirror{font-family:Consolas; font-size:15pt;}\n",
       "div.text_cell_render.rendered_html{font-size:15pt;}\n",
       "div.output{font-size:12pt; font-weight:bold;}\n",
       "div.input{font-family:Consolas; font-size:15pt;}\n",
       "div.prompt{min-width:70px;}\n",
       "div#toc-wrapper{padding-top:120px;}\n",
       "div.text_cell_renderulli{font-size:12pt;padding:5px;}\n",
       "table.dataframe{font-size:12px;}\n",
       "</style>\n"
      ],
      "text/plain": [
       "<IPython.core.display.HTML object>"
      ]
     },
     "metadata": {},
     "output_type": "display_data"
    }
   ],
   "source": [
    "from IPython.display import display, HTML\n",
    "display(HTML(\"\"\"\n",
    "<style>\n",
    "div.container{width:90% !important;}\n",
    "div.cell.code_cell.rendered{width:100%;}\n",
    "div.input_prompt{padding:0px;}\n",
    "div.CodeMirror{font-family:Consolas; font-size:15pt;}\n",
    "div.text_cell_render.rendered_html{font-size:15pt;}\n",
    "div.output{font-size:12pt; font-weight:bold;}\n",
    "div.input{font-family:Consolas; font-size:15pt;}\n",
    "div.prompt{min-width:70px;}\n",
    "div#toc-wrapper{padding-top:120px;}\n",
    "div.text_cell_renderulli{font-size:12pt;padding:5px;}\n",
    "table.dataframe{font-size:12px;}\n",
    "</style>\n",
    "\"\"\"))"
   ]
  },
  {
   "cell_type": "markdown",
   "id": "8af0d143",
   "metadata": {},
   "source": [
    "<b><font size=\"6\" color=\"red\">ch09. 파일 i/o 프로그래밍 </font></b>\n",
    " - 파일 : txt, pickle (머신러닝모델저장, 배열 저장), csv, json h5(딥러닝 모델저장)\n",
    " \n",
    " # 1. txt파일에 데이터 저장하고 불러오기"
   ]
  },
  {
   "cell_type": "code",
   "execution_count": 11,
   "id": "3cde700f",
   "metadata": {},
   "outputs": [
    {
     "name": "stdout",
     "output_type": "stream",
     "text": [
      "쓰기 가능한지 :  True\n"
     ]
    }
   ],
   "source": [
    "#mode : 'r' 또는 'rt' : 텍스트 읽기모드로 열기. 파일이 없을 경우 예외\n",
    "#     : 'w' 또는 'wt' : 텍스트 쓰기모드로 열기. 폴더가 없을 경우 예외\n",
    "                    # 파일이 없으면 생성, 파일이 있으면 덮어씀\n",
    "# mode = 'a' 또는 'at' : 텍스트 쓰기모드로 열기. 폴더가 없을경우 예외 발생\n",
    "                    # 파일이 없으면 생성,파일이 있으면 뒤에 append\n",
    "f = open('Data/ch09.txt','w') #encoding = 'cp949' (win)\n",
    "print('쓰기 가능한지 : ', f.writable())\n"
   ]
  },
  {
   "cell_type": "code",
   "execution_count": 12,
   "id": "393bd4d3",
   "metadata": {},
   "outputs": [
    {
     "data": {
      "text/plain": [
       "12"
      ]
     },
     "execution_count": 12,
     "metadata": {},
     "output_type": "execute_result"
    }
   ],
   "source": [
    "f.write('hello\\nworld\\n')"
   ]
  },
  {
   "cell_type": "code",
   "execution_count": 13,
   "id": "a11d8b23",
   "metadata": {},
   "outputs": [],
   "source": [
    "f.close()"
   ]
  },
  {
   "cell_type": "code",
   "execution_count": 14,
   "id": "8e2bd38b",
   "metadata": {},
   "outputs": [
    {
     "name": "stdout",
     "output_type": "stream",
     "text": [
      "쓰기 가능한지 :  True\n"
     ]
    }
   ],
   "source": [
    "f = open('Data/ch09.txt','w') #encoding = 'cp949' (win)\n",
    "print('쓰기 가능한지 : ', f.writable())"
   ]
  },
  {
   "cell_type": "code",
   "execution_count": 15,
   "id": "5aab7020",
   "metadata": {},
   "outputs": [
    {
     "name": "stdout",
     "output_type": "stream",
     "text": [
      "쓰기 가능한지 : True\n"
     ]
    }
   ],
   "source": [
    "#with 구문을 사용하면 매번 close() 하는 코드 불필요\n",
    "\n",
    "with open('Data/ch09.txt', 'wt') as f:\n",
    "    print('쓰기 가능한지 :' , f.writable())\n",
    "    f.write('python is easy\\npython is smart\\n')"
   ]
  },
  {
   "cell_type": "code",
   "execution_count": 16,
   "id": "f1df75ff",
   "metadata": {},
   "outputs": [
    {
     "name": "stdout",
     "output_type": "stream",
     "text": [
      "프린트 함수로 파일 쓰기가 가능합니다 - 콘솔출력\n"
     ]
    }
   ],
   "source": [
    "\n",
    "with open('Data/ch09.txt', 'wt') as f: #cp949\n",
    "    print(\"프린트 함수로 파일 쓰기가 가능합니다 - 파일출력\",file=f)\n",
    "    print(\"프린트 함수로 파일 쓰기가 가능합니다 - 콘솔출력\")"
   ]
  },
  {
   "cell_type": "markdown",
   "id": "40a6ef7d",
   "metadata": {},
   "source": [
    "  - 한글 읽/쓰기 \n",
    "   * cp949 : (한글완성형확장형) open 함수의 기본 인코딩 방식 (win) 주피터에서 안열림\n",
    "   * utf-8 : (한글조합형) 주피터 노트북에서 열림"
   ]
  },
  {
   "cell_type": "code",
   "execution_count": null,
   "id": "6601e42f",
   "metadata": {},
   "outputs": [],
   "source": []
  },
  {
   "cell_type": "code",
   "execution_count": 9,
   "id": "25929345",
   "metadata": {},
   "outputs": [],
   "source": [
    "with open('Data/ch09.txt','w',encoding='utf-8') as f:\n",
    "    #방법1\n",
    "    f.write('홍길동,30,서울\\n')\n",
    "    f.write('김길동,20,수원\\n')\n",
    "\n",
    "    #방법2\n",
    "    textlist = ['홍길동, 30, 서울\\n','김길동, 20, 부산\\n']\n",
    "    for line in textlist:\n",
    "        f.write(line)\n",
    "    \n",
    "    #방법3\n",
    "    f.writelines(textlist) #리스트를 한꺼번에 write"
   ]
  },
  {
   "cell_type": "code",
   "execution_count": 10,
   "id": "b1976eee",
   "metadata": {},
   "outputs": [
    {
     "data": {
      "text/plain": [
       "'홍길동,30,서울\\n김길동,20,수원\\n홍길동, 30, 서울\\n김길동, 20, 부산\\n홍길동, 30, 서울\\n김길동, 20, 부산\\n'"
      ]
     },
     "execution_count": 10,
     "metadata": {},
     "output_type": "execute_result"
    }
   ],
   "source": [
    "#파일을 한꺼번에 읽어오기\n",
    "with open('Data/ch09.txt','rt',encoding ='utf-8') as f:\n",
    "    filecontent = f.read()\n",
    "filecontent"
   ]
  },
  {
   "cell_type": "code",
   "execution_count": 11,
   "id": "807c7b12",
   "metadata": {},
   "outputs": [
    {
     "name": "stdout",
     "output_type": "stream",
     "text": [
      "홍길동,30,서울\n",
      "김길동,20,수원\n",
      "홍길동, 30, 서울\n",
      "김길동, 20, 부산\n",
      "홍길동, 30, 서울\n",
      "김길동, 20, 부산\n"
     ]
    }
   ],
   "source": [
    "#파일을 한 줄 읽고 출력하고, 한 줄 읽고 출력... 데이터가 없을 때 까지\n",
    "\n",
    "with open ('Data/ch09.txt','r',encoding='utf-8') as txtfile:\n",
    "    line = txtfile.readline()\n",
    "    while line != '':\n",
    "        print (line, end = '') #line에 \\n이 포함되어있어 출력시 개행은 제거\n",
    "        line = txtfile.readline()\n"
   ]
  },
  {
   "cell_type": "code",
   "execution_count": 12,
   "id": "db5fb6f4",
   "metadata": {},
   "outputs": [
    {
     "name": "stdout",
     "output_type": "stream",
     "text": [
      "['홍길동,30,서울\\n', '김길동,20,수원\\n', '홍길동, 30, 서울\\n', '김길동, 20, 부산\\n', '홍길동, 30, 서울\\n', '김길동, 20, 부산\\n']\n"
     ]
    }
   ],
   "source": [
    "#파일을 한번에 여러줄을 읽어서 한줄씩 list에 담아 return\n",
    "\n",
    "with open ('Data/ch09.txt','r',encoding='utf-8') as txtfile:\n",
    "    lines = txtfile.readlines()\n",
    "print(lines)"
   ]
  },
  {
   "cell_type": "code",
   "execution_count": 13,
   "id": "e085abf9",
   "metadata": {},
   "outputs": [
    {
     "name": "stdout",
     "output_type": "stream",
     "text": [
      "홍길동,30,서울\n",
      "김길동,20,수원\n",
      "홍길동, 30, 서울\n",
      "김길동, 20, 부산\n",
      "홍길동, 30, 서울\n",
      "김길동, 20, 부산\n"
     ]
    }
   ],
   "source": [
    "for line in lines:\n",
    "    print (line, end='')"
   ]
  },
  {
   "cell_type": "code",
   "execution_count": null,
   "id": "4e323091",
   "metadata": {},
   "outputs": [],
   "source": []
  },
  {
   "cell_type": "markdown",
   "id": "cc1aa132",
   "metadata": {},
   "source": [
    "# 2. 피클을 이용한 객체 저장 및 불러오기\n",
    " - 머신러닝 모델 저장, 배열 저장, 객체 저장\n",
    " \n",
    " ## 2.1 형식이 있는 텍스트 데이터 불러오기\n"
   ]
  },
  {
   "cell_type": "code",
   "execution_count": 15,
   "id": "2d379985",
   "metadata": {},
   "outputs": [
    {
     "name": "stdout",
     "output_type": "stream",
     "text": [
      "{'name': '홍길동', 'age': 20, 'email': 'kildong@hong.com', 'address': '서울시 관악구'}\n",
      "{'name': '홍길숙', 'age': 25, 'email': 'kilsuk1@hong.com', 'address': '서울시 영등포구'}\n",
      "{'name': '신길동', 'age': 30, 'email': 'shinkil@hong.com', 'address': '서울시 동작구'}\n"
     ]
    }
   ],
   "source": [
    "with open('data/ch09_member.txt', 'r', encoding='utf-8') as f:\n",
    "    lines = f.readlines()\n",
    "#print(lines)\n",
    "\n",
    "for line in lines: \n",
    "    #print(line)\n",
    "    data = line.split (', ')\n",
    "    #print(data)\n",
    "    name = data[0]\n",
    "    age = int(data[1])\n",
    "    email= data[2]\n",
    "    address = data[3].strip()\n",
    "    print({'name': name,\n",
    "           'age': age,\n",
    "           'email':email,\n",
    "           'address':address})"
   ]
  },
  {
   "cell_type": "code",
   "execution_count": 16,
   "id": "8b40c845",
   "metadata": {},
   "outputs": [],
   "source": [
    "class Member:\n",
    "    def __init__(self,name, age, email,address):\n",
    "        self.name = name\n",
    "        self.age = age\n",
    "        self.email = email\n",
    "        self.address = address\n",
    "    def __str__ (self):\n",
    "        return \"{},{},{},{}\".format(self.name,self.age,self.email,self.address)\n",
    "#     def __eq__ (self,other):\n",
    "#         return self.name == other.name and \\\n",
    "#                             self.age == other.age and \\\n",
    "#                             self.email == other.email and \\\n",
    "#                             self.address == other.address\n",
    "    def __eq__ (self, other):\n",
    "        return self.__str__() == other.__str__()\n",
    "    def as_dict(self):\n",
    "        '객체를 dict로 바꿔 return (json파일 저장시 필요)'\n",
    "        return self.__dict__\n",
    "#         return ({'name':self.name,\n",
    "#                'age': self.age,\n",
    "#                'email':self.email,\n",
    "#                'address':self.address})"
   ]
  },
  {
   "cell_type": "code",
   "execution_count": 17,
   "id": "c170ba46",
   "metadata": {},
   "outputs": [
    {
     "name": "stdout",
     "output_type": "stream",
     "text": [
      "신길동,30,shinkil@hong.com,서울시 동작구\n",
      "신길동,30,shinkil@hong.com,서울시 동작구\n",
      "True\n",
      "True\n",
      "{'name': '신길동', 'age': 30, 'email': 'shinkil@hong.com', 'address': '서울시 동작구'}\n",
      "{'name': '신길동', 'age': 30, 'email': 'shinkil@hong.com', 'address': '서울시 동작구'}\n"
     ]
    }
   ],
   "source": [
    "member1 = Member('신길동',30,'shinkil@hong.com','서울시 동작구')\n",
    "member2 = Member('신길동',30,'shinkil@hong.com','서울시 동작구')\n",
    "print(member1)\n",
    "print(member2)\n",
    "print(member1==member2)\n",
    "print(member2.__eq__(member1))\n",
    "print(member1.__dict__)\n",
    "print(member1.as_dict())"
   ]
  },
  {
   "cell_type": "markdown",
   "id": "0bf51451",
   "metadata": {},
   "source": [
    "# 2.2 피클링\n",
    " - 객체리스트 -> 피클파일로 쓰기\n",
    " - 피클파일 -> 객체리스트로 읽기"
   ]
  },
  {
   "cell_type": "code",
   "execution_count": 18,
   "id": "bf908298",
   "metadata": {},
   "outputs": [],
   "source": [
    "# ch09.member.txt 파일 -> 객체 list, 딕셔너리 list로 읽어오기\n",
    "member_list = [] #Member 객체 list\n",
    "dict_list   = [] #딕셔너리 list\n",
    "with open ('Data/ch09_member.txt','r', encoding='utf-8') as f:\n",
    "    lines = f.readlines()\n",
    "for line in lines:\n",
    "    data = line.split(',')\n",
    "    data = [item.strip() for item in data]\n",
    "    name = data[0]\n",
    "    age = data [1]\n",
    "    email = data [2]\n",
    "    address = data [3]\n",
    "    member = Member(name, age, email, address)\n",
    "    member_list.append(member)\n",
    "    dict_list.append(member.__dict__)\n",
    "    \n",
    "    \n",
    "    \n",
    "    \n",
    "#    data = line.strip().split(',')\n",
    "#    print(data)"
   ]
  },
  {
   "cell_type": "code",
   "execution_count": 19,
   "id": "1841058c",
   "metadata": {},
   "outputs": [
    {
     "name": "stdout",
     "output_type": "stream",
     "text": [
      "홍길동,20,kildong@hong.com,서울시 관악구\n",
      "홍길숙,25,kilsuk1@hong.com,서울시 영등포구\n",
      "신길동,30,shinkil@hong.com,서울시 동작구\n"
     ]
    }
   ],
   "source": [
    "for member in member_list: #객체 list\n",
    "    print(member)"
   ]
  },
  {
   "cell_type": "code",
   "execution_count": 20,
   "id": "c55a7548",
   "metadata": {},
   "outputs": [],
   "source": [
    "# 피클링 (확장자 : pkl, pickle, data)이용 객체를 파일에 저장\n",
    "import pickle\n",
    "with open ('Data/ch09_member.pkl','wb') as f: #wb --> b는  binary\n",
    "    pickle.dump(member_list,f)"
   ]
  },
  {
   "cell_type": "code",
   "execution_count": 21,
   "id": "16f05442",
   "metadata": {},
   "outputs": [],
   "source": [
    "#피클링을 이용한 파일을 객체리스트로 읽기\n",
    "with open ('Data/ch09_member.pkl','rb')as f:\n",
    "    load_member_list = pickle.load(f)"
   ]
  },
  {
   "cell_type": "code",
   "execution_count": 22,
   "id": "43ec454e",
   "metadata": {},
   "outputs": [
    {
     "data": {
      "text/plain": [
       "(2397190805888, 2397190766272)"
      ]
     },
     "execution_count": 22,
     "metadata": {},
     "output_type": "execute_result"
    }
   ],
   "source": [
    "id (member_list), id(load_member_list)"
   ]
  },
  {
   "cell_type": "code",
   "execution_count": 23,
   "id": "12e25d47",
   "metadata": {},
   "outputs": [
    {
     "name": "stdout",
     "output_type": "stream",
     "text": [
      "0 번째 비교: True\n",
      "1 번째 비교: True\n",
      "2 번째 비교: True\n"
     ]
    }
   ],
   "source": [
    "for idx in range(len(member_list)):\n",
    "    print(idx, '번째 비교:', (member_list[idx]==load_member_list[idx]))"
   ]
  },
  {
   "cell_type": "code",
   "execution_count": 24,
   "id": "d1511d9f",
   "metadata": {},
   "outputs": [
    {
     "name": "stdout",
     "output_type": "stream",
     "text": [
      "member:  홍길동,20,kildong@hong.com,서울시 관악구\n",
      "load_member:  홍길동,20,kildong@hong.com,서울시 관악구\n",
      "member:  홍길숙,25,kilsuk1@hong.com,서울시 영등포구\n",
      "load_member:  홍길숙,25,kilsuk1@hong.com,서울시 영등포구\n",
      "member:  신길동,30,shinkil@hong.com,서울시 동작구\n",
      "load_member:  신길동,30,shinkil@hong.com,서울시 동작구\n"
     ]
    }
   ],
   "source": [
    "for member, load_member in zip (member_list, load_member_list):\n",
    "    print('member: ', member)\n",
    "    print('load_member: ',load_member)"
   ]
  },
  {
   "cell_type": "code",
   "execution_count": 25,
   "id": "1c88e32f",
   "metadata": {},
   "outputs": [
    {
     "name": "stdout",
     "output_type": "stream",
     "text": [
      "0 번째 비교:  True\n",
      "1 번째 비교:  True\n",
      "2 번째 비교:  True\n"
     ]
    }
   ],
   "source": [
    "for idx, (member, load_member) in enumerate(zip(member_list, load_member_list)):\n",
    "    print(idx, '번째 비교: ', member == load_member)"
   ]
  },
  {
   "cell_type": "code",
   "execution_count": 27,
   "id": "b0851df8",
   "metadata": {},
   "outputs": [
    {
     "data": {
      "text/plain": [
       "[True, True, True]"
      ]
     },
     "execution_count": 27,
     "metadata": {},
     "output_type": "execute_result"
    }
   ],
   "source": [
    "result = [] #비교결과(T/F)를 append\n",
    "for member, load_member in zip (member_list, load_member_list):\n",
    "    result.append(member==load_member)\n",
    "result"
   ]
  },
  {
   "cell_type": "code",
   "execution_count": 28,
   "id": "a4b69e2e",
   "metadata": {},
   "outputs": [
    {
     "data": {
      "text/plain": [
       "True"
      ]
     },
     "execution_count": 28,
     "metadata": {},
     "output_type": "execute_result"
    }
   ],
   "source": [
    "all(result) #모든 요소들이 True인지 여부"
   ]
  },
  {
   "cell_type": "code",
   "execution_count": 29,
   "id": "4611e9af",
   "metadata": {},
   "outputs": [
    {
     "data": {
      "text/plain": [
       "False"
      ]
     },
     "execution_count": 29,
     "metadata": {},
     "output_type": "execute_result"
    }
   ],
   "source": [
    "all([True,True,True,False,True])"
   ]
  },
  {
   "cell_type": "code",
   "execution_count": null,
   "id": "542eb914",
   "metadata": {},
   "outputs": [],
   "source": []
  },
  {
   "cell_type": "markdown",
   "id": "69cc0653",
   "metadata": {},
   "source": [
    "# 3. CSV 파일 읽기/쓰기\n",
    " - csv 파일의 자료를 list data로 읽고 쓰기\n",
    " - csv 파일의 자료를 dict data로 읽고 쓰기\n",
    "\n",
    "\n",
    "# 3.1 reader\n"
   ]
  },
  {
   "cell_type": "code",
   "execution_count": 35,
   "id": "6e146710",
   "metadata": {},
   "outputs": [
    {
     "data": {
      "text/plain": [
       "[['홍길동', '20', 'kildong@hong.com', '서울시 관악구'],\n",
       " ['김길동', '40', 'kimdong@hong.com', '서울시 영등포구'],\n",
       " ['신길동', '30', 'sindong@hong.com', '서울시 동작구']]"
      ]
     },
     "execution_count": 35,
     "metadata": {},
     "output_type": "execute_result"
    }
   ],
   "source": [
    "import csv \n",
    "with open('Data/ch09_member1.csv','r',encoding='utf-8')as f:\n",
    "    reader = csv.reader(f)\n",
    "    result = list(reader)\n",
    "result"
   ]
  },
  {
   "cell_type": "code",
   "execution_count": 38,
   "id": "c9fdcd19",
   "metadata": {},
   "outputs": [
    {
     "name": "stdout",
     "output_type": "stream",
     "text": [
      "['홍길동', '20', 'kildong@hong.com', '서울시 관악구', '']\n",
      "['김길동', '40', 'kimdong@hong.com', '서울시 영등포구', '팀장']\n",
      "['신길동', '30', 'sindong@hong.com', '서울시 동작구', '']\n"
     ]
    }
   ],
   "source": [
    "with open ('Data/ch09_member1-cp.csv','r') as f:\n",
    "    read = csv.reader(f)\n",
    "    for row in read:\n",
    "        print(row)"
   ]
  },
  {
   "cell_type": "code",
   "execution_count": 40,
   "id": "97480dfc",
   "metadata": {},
   "outputs": [
    {
     "ename": "ValueError",
     "evalue": "could not convert string to float: '홍길동'",
     "output_type": "error",
     "traceback": [
      "\u001b[1;31m---------------------------------------------------------------------------\u001b[0m",
      "\u001b[1;31mValueError\u001b[0m                                Traceback (most recent call last)",
      "Cell \u001b[1;32mIn[40], line 4\u001b[0m\n\u001b[0;32m      2\u001b[0m \u001b[38;5;28;01mwith\u001b[39;00m \u001b[38;5;28mopen\u001b[39m (\u001b[38;5;124m'\u001b[39m\u001b[38;5;124mData/ch09_member1-cp.csv\u001b[39m\u001b[38;5;124m'\u001b[39m,\u001b[38;5;124m'\u001b[39m\u001b[38;5;124mr\u001b[39m\u001b[38;5;124m'\u001b[39m) \u001b[38;5;28;01mas\u001b[39;00m f:\n\u001b[0;32m      3\u001b[0m     read \u001b[38;5;241m=\u001b[39m csv\u001b[38;5;241m.\u001b[39mreader(f,quoting \u001b[38;5;241m=\u001b[39m csv\u001b[38;5;241m.\u001b[39mQUOTE_NONNUMERIC)\n\u001b[1;32m----> 4\u001b[0m     \u001b[38;5;28;01mfor\u001b[39;00m row \u001b[38;5;129;01min\u001b[39;00m read:\n\u001b[0;32m      5\u001b[0m         \u001b[38;5;28mprint\u001b[39m(row)\n",
      "\u001b[1;31mValueError\u001b[0m: could not convert string to float: '홍길동'"
     ]
    }
   ],
   "source": [
    "# \"\"가 없는 데이터는 numberic으로\n",
    "with open ('Data/ch09_member1-cp.csv','r') as f:\n",
    "    read = csv.reader(f,quoting = csv.QUOTE_NONNUMERIC)\n",
    "    for row in read:\n",
    "        print(row)"
   ]
  },
  {
   "cell_type": "markdown",
   "id": "e851726b",
   "metadata": {},
   "source": [
    "## 3.2 writer\n",
    " - list -> csv로 저장"
   ]
  },
  {
   "cell_type": "code",
   "execution_count": 49,
   "id": "e0a03943",
   "metadata": {},
   "outputs": [],
   "source": [
    "user_list = [ [ '신길동', '30', 'sindong@hong.com', '서울시 관악구'],\n",
    "            ['홍길동', '20', 'sindong@hong.com', '서울시 동작구'],\n",
    "            ['박길동', '25', 'sindong@hong.com', '서울시 서초구']]"
   ]
  },
  {
   "cell_type": "code",
   "execution_count": 50,
   "id": "03ca977e",
   "metadata": {},
   "outputs": [],
   "source": [
    "# newline -''옵션 빼면 개행이 2번 (python 3.10)\n",
    "try:\n",
    "    with open('data/ch09_member2-writer.csv', 'w', newline='') as f: # r == rt, rb ; 'w' == wt, wb ; 'a'\n",
    "        writer = csv.writer(f)\n",
    "        for user in user_list:\n",
    "            writer.writerow(user)\n",
    "        writer.writerows(user_list)\n",
    "except FileNotFoundError as e:\n",
    "    print(e)"
   ]
  },
  {
   "cell_type": "markdown",
   "id": "a516ecab",
   "metadata": {},
   "source": [
    "# 3.3 DictReader\n",
    " - CSV 파일을 딕셔너리 데이터로 읽기\n",
    " "
   ]
  },
  {
   "cell_type": "code",
   "execution_count": 53,
   "id": "c1ba3dd1",
   "metadata": {},
   "outputs": [
    {
     "data": {
      "text/plain": [
       "[{'name': '홍길동',\n",
       "  'age': '20',\n",
       "  'email': 'h@h.com',\n",
       "  'address': '서울시 관악구',\n",
       "  'job': None},\n",
       " {'name': '신길동',\n",
       "  'age': '40',\n",
       "  'email': 's@h.com',\n",
       "  'address': '서울시 영등포구',\n",
       "  'job': '팀장'},\n",
       " {'name': '김길동',\n",
       "  'age': '30',\n",
       "  'email': 'k@h.com',\n",
       "  'address': '서울시 동작구',\n",
       "  'job': None}]"
      ]
     },
     "execution_count": 53,
     "metadata": {},
     "output_type": "execute_result"
    }
   ],
   "source": [
    "import csv\n",
    "#header가 있는 csv 파일을 딕셔너리로 읽기 (ch09_member3.csv)\n",
    "with open ('Data/ch09_member3.csv','r',encoding='utf-8')as f:\n",
    "    dict_reader = csv.DictReader(f)\n",
    "    result = list(dict_reader)\n",
    "result"
   ]
  },
  {
   "cell_type": "code",
   "execution_count": 55,
   "id": "6e81e3c1",
   "metadata": {},
   "outputs": [
    {
     "name": "stdout",
     "output_type": "stream",
     "text": [
      "{'name': '홍길동', 'age': '20', 'email': 'h@h.com', 'address': '서울시 관악구', 'job': '없음'}\n",
      "{'name': '신길동', 'age': '40', 'email': 's@h.com', 'address': '서울시 영등포구', 'job': '팀장'}\n",
      "{'name': '김길동', 'age': '30', 'email': 'k@h.com', 'address': '서울시 동작구', 'job': '없음'}\n"
     ]
    }
   ],
   "source": [
    "import csv\n",
    "#header가 있는 csv 파일을 딕셔너리로 읽기 (ch09_member3.csv)\n",
    "with open ('Data/ch09_member3.csv','r',encoding='utf-8')as f:\n",
    "    dict_reader = csv.DictReader(f, restval = '없음')\n",
    "    for row in dict_reader:\n",
    "        print(row)\n"
   ]
  },
  {
   "cell_type": "code",
   "execution_count": 59,
   "id": "f0ca0c71",
   "metadata": {},
   "outputs": [
    {
     "data": {
      "text/html": [
       "<div>\n",
       "<style scoped>\n",
       "    .dataframe tbody tr th:only-of-type {\n",
       "        vertical-align: middle;\n",
       "    }\n",
       "\n",
       "    .dataframe tbody tr th {\n",
       "        vertical-align: top;\n",
       "    }\n",
       "\n",
       "    .dataframe thead th {\n",
       "        text-align: right;\n",
       "    }\n",
       "</style>\n",
       "<table border=\"1\" class=\"dataframe\">\n",
       "  <thead>\n",
       "    <tr style=\"text-align: right;\">\n",
       "      <th></th>\n",
       "      <th>name</th>\n",
       "      <th>age</th>\n",
       "      <th>email</th>\n",
       "      <th>address</th>\n",
       "      <th>job</th>\n",
       "    </tr>\n",
       "  </thead>\n",
       "  <tbody>\n",
       "    <tr>\n",
       "      <th>0</th>\n",
       "      <td>홍길동</td>\n",
       "      <td>20</td>\n",
       "      <td>h@h.com</td>\n",
       "      <td>서울시 관악구</td>\n",
       "      <td>NaN</td>\n",
       "    </tr>\n",
       "    <tr>\n",
       "      <th>1</th>\n",
       "      <td>신길동</td>\n",
       "      <td>40</td>\n",
       "      <td>s@h.com</td>\n",
       "      <td>서울시 영등포구</td>\n",
       "      <td>팀장</td>\n",
       "    </tr>\n",
       "    <tr>\n",
       "      <th>2</th>\n",
       "      <td>김길동</td>\n",
       "      <td>30</td>\n",
       "      <td>k@h.com</td>\n",
       "      <td>서울시 동작구</td>\n",
       "      <td>NaN</td>\n",
       "    </tr>\n",
       "  </tbody>\n",
       "</table>\n",
       "</div>"
      ],
      "text/plain": [
       "  name  age    email   address  job\n",
       "0  홍길동   20  h@h.com   서울시 관악구  NaN\n",
       "1  신길동   40  s@h.com  서울시 영등포구   팀장\n",
       "2  김길동   30  k@h.com   서울시 동작구  NaN"
      ]
     },
     "execution_count": 59,
     "metadata": {},
     "output_type": "execute_result"
    }
   ],
   "source": [
    "#csv 파일을 데이터프레임 데이터로 읽기\n",
    "import pandas as pd \n",
    "members = pd.read_csv('Data/ch09_member3.csv')# 판다스는 기본이 utf-8\n",
    "members\n",
    "    "
   ]
  },
  {
   "cell_type": "code",
   "execution_count": 60,
   "id": "6d9c128d",
   "metadata": {},
   "outputs": [
    {
     "data": {
      "text/plain": [
       "pandas.core.frame.DataFrame"
      ]
     },
     "execution_count": 60,
     "metadata": {},
     "output_type": "execute_result"
    }
   ],
   "source": [
    "type(members)"
   ]
  },
  {
   "cell_type": "code",
   "execution_count": 61,
   "id": "d279eff2",
   "metadata": {},
   "outputs": [
    {
     "data": {
      "text/html": [
       "<div>\n",
       "<style scoped>\n",
       "    .dataframe tbody tr th:only-of-type {\n",
       "        vertical-align: middle;\n",
       "    }\n",
       "\n",
       "    .dataframe tbody tr th {\n",
       "        vertical-align: top;\n",
       "    }\n",
       "\n",
       "    .dataframe thead th {\n",
       "        text-align: right;\n",
       "    }\n",
       "</style>\n",
       "<table border=\"1\" class=\"dataframe\">\n",
       "  <thead>\n",
       "    <tr style=\"text-align: right;\">\n",
       "      <th></th>\n",
       "      <th>name</th>\n",
       "      <th>age</th>\n",
       "      <th>email</th>\n",
       "      <th>address</th>\n",
       "      <th>job</th>\n",
       "    </tr>\n",
       "  </thead>\n",
       "  <tbody>\n",
       "    <tr>\n",
       "      <th>0</th>\n",
       "      <td>홍길동</td>\n",
       "      <td>20</td>\n",
       "      <td>h@h.com</td>\n",
       "      <td>서울시 관악구</td>\n",
       "      <td>None</td>\n",
       "    </tr>\n",
       "    <tr>\n",
       "      <th>1</th>\n",
       "      <td>신길동</td>\n",
       "      <td>40</td>\n",
       "      <td>s@h.com</td>\n",
       "      <td>서울시 영등포구</td>\n",
       "      <td>팀장</td>\n",
       "    </tr>\n",
       "    <tr>\n",
       "      <th>2</th>\n",
       "      <td>김길동</td>\n",
       "      <td>30</td>\n",
       "      <td>k@h.com</td>\n",
       "      <td>서울시 동작구</td>\n",
       "      <td>None</td>\n",
       "    </tr>\n",
       "  </tbody>\n",
       "</table>\n",
       "</div>"
      ],
      "text/plain": [
       "  name age    email   address   job\n",
       "0  홍길동  20  h@h.com   서울시 관악구  None\n",
       "1  신길동  40  s@h.com  서울시 영등포구    팀장\n",
       "2  김길동  30  k@h.com   서울시 동작구  None"
      ]
     },
     "execution_count": 61,
     "metadata": {},
     "output_type": "execute_result"
    }
   ],
   "source": [
    "pd.DataFrame(data=result)"
   ]
  },
  {
   "cell_type": "code",
   "execution_count": 68,
   "id": "e8884f80",
   "metadata": {},
   "outputs": [
    {
     "name": "stdout",
     "output_type": "stream",
     "text": [
      "{'Name': '홍길동', 'age': '20', 'email': 'kildong@hong.com', 'address': '서울시 관악구', 'job': ['']}\n",
      "{'Name': '김길동', 'age': '40', 'email': 'kimdong@hong.com', 'address': '서울시 영등포구', 'job': ['팀장']}\n",
      "{'Name': '신길동', 'age': '30', 'email': 'sindong@hong.com', 'address': '서울시 동작구', 'job': ['']}\n"
     ]
    }
   ],
   "source": [
    "#헤더가 없는 CSV 파일을 딕셔너리 데이터로 읽기(ch09_member1-cp.csv)\n",
    "with open('Data/ch09_member1-cp.csv','r') as f:\n",
    "    dict_reader = csv.DictReader(f, fieldnames = [\"Name\",\"age\",\"email\",\"address\"],\n",
    "                                                 restkey = 'job')\n",
    "    for row in dict_reader:\n",
    "        print(row)"
   ]
  },
  {
   "cell_type": "code",
   "execution_count": 69,
   "id": "a97325de",
   "metadata": {},
   "outputs": [
    {
     "name": "stdout",
     "output_type": "stream",
     "text": [
      "{'Name': '홍길동', 'age': '20', 'email': 'kildong@hong.com', 'address': '서울시 관악구', 'job': ''}\n",
      "{'Name': '김길동', 'age': '40', 'email': 'kimdong@hong.com', 'address': '서울시 영등포구', 'job': '팀장'}\n",
      "{'Name': '신길동', 'age': '30', 'email': 'sindong@hong.com', 'address': '서울시 동작구', 'job': ''}\n"
     ]
    }
   ],
   "source": [
    "#헤더가 없는 CSV 파일을 딕셔너리 데이터로 읽기(ch09_member1-cp.csv)\n",
    "with open('Data/ch09_member1-cp.csv','r') as f:\n",
    "    dict_reader = csv.DictReader(f, fieldnames = [\"Name\",\"age\",\"email\",\"address\",\"job\"])\n",
    "    for row in dict_reader:\n",
    "        print(row)"
   ]
  },
  {
   "cell_type": "markdown",
   "id": "cf952d3a",
   "metadata": {},
   "source": [
    "## 3.4 DictWriter\n",
    " - 딕셔너리 데이터 (딕셔너리 list)를 csv파일로 쓰기"
   ]
  },
  {
   "cell_type": "code",
   "execution_count": 71,
   "id": "a62c7997",
   "metadata": {},
   "outputs": [
    {
     "data": {
      "text/plain": [
       "[{'Name': '신길동', 'age': '30', 'email': 'sindong@hong.com', 'address': '서울'},\n",
       " {'Name': '홍길동', 'age': '20', 'email': 'kildong@hong.com', 'address': '수원'},\n",
       " {'Name': '마길동', 'age': '25', 'email': 'sindong@hong.com', 'address': '안양'}]"
      ]
     },
     "execution_count": 71,
     "metadata": {},
     "output_type": "execute_result"
    }
   ],
   "source": [
    "user1 = {'Name': '신길동', 'age': '30', 'email': 'sindong@hong.com', 'address': '서울'}\n",
    "user2 = {'Name': '홍길동', 'age': '20', 'email': 'kildong@hong.com', 'address': '수원'}\n",
    "user3 = {'Name': '마길동', 'age': '25', 'email': 'sindong@hong.com', 'address': '안양'}\n",
    "\n",
    "user_list = [user1, user2, user3]\n",
    "user_list"
   ]
  },
  {
   "cell_type": "code",
   "execution_count": 72,
   "id": "a8b4866d",
   "metadata": {},
   "outputs": [
    {
     "data": {
      "text/plain": [
       "['Name', 'age', 'email', 'address']"
      ]
     },
     "execution_count": 72,
     "metadata": {},
     "output_type": "execute_result"
    }
   ],
   "source": [
    "fieldnames = list(user1.keys())\n",
    "fieldnames"
   ]
  },
  {
   "cell_type": "code",
   "execution_count": 77,
   "id": "2eca6ffe",
   "metadata": {},
   "outputs": [],
   "source": [
    "with open ('data/ch09_member4.csv','w',encoding='utf-8',newline='') as f:\n",
    "    dict_writer = csv.DictWriter(f,fieldnames=fieldnames)\n",
    "    dict_writer.writeheader() #header 1줄 쓰기\n",
    "    dict_writer.writerows(user_list)"
   ]
  },
  {
   "cell_type": "code",
   "execution_count": null,
   "id": "6ed7ca6d",
   "metadata": {},
   "outputs": [],
   "source": []
  },
  {
   "cell_type": "markdown",
   "id": "72425c4c",
   "metadata": {},
   "source": [
    "# 4. JSON 파일에 저장하고 불러오기 (dump, load)\n",
    "[{'title':\"국가정보원 화재\", 'url' : 'http://~','content':'grgbresg'},\n",
    " {'title':\"국가정보원 화재\", 'url' : 'http://~','content':'grgbresg'},\n",
    " {'title':\"국가정보원 화재\", 'url' : 'http://~','content':'grgbresg'}]\n",
    " \n",
    " ## 4.1 JSON dump(파일에 저장)\n",
    " ### 1. 딕셔너리 list를 json파일로 저장"
   ]
  },
  {
   "cell_type": "code",
   "execution_count": 91,
   "id": "65d4d01e",
   "metadata": {},
   "outputs": [
    {
     "data": {
      "text/plain": [
       "[{'Name': '신길동', 'age': '30', 'email': 'sindong@hong.com', 'address': '서울'},\n",
       " {'Name': '홍길동', 'age': '20', 'email': 'kildong@hong.com', 'address': '수원'},\n",
       " {'Name': '마길동', 'age': '25', 'email': 'sindong@hong.com', 'address': '안양'}]"
      ]
     },
     "execution_count": 91,
     "metadata": {},
     "output_type": "execute_result"
    }
   ],
   "source": [
    "data = [{'Name': '신길동', 'age': '30', 'email': 'sindong@hong.com', 'address': '서울'},\n",
    "        {'Name': '홍길동', 'age': '20', 'email': 'kildong@hong.com', 'address': '수원'},\n",
    "        {'Name': '마길동', 'age': '25', 'email': 'sindong@hong.com', 'address': '안양'}]\n",
    "\n",
    "data"
   ]
  },
  {
   "cell_type": "code",
   "execution_count": 85,
   "id": "4b3c7f9a",
   "metadata": {},
   "outputs": [],
   "source": [
    "#ensure_ascii 옵션의 역할 :ASCII 코드를 넘어선 문자를 어떻게 처리할지 \n",
    "# 기본값(True) : ASCII 코드 범위를 넘어선 글자는 유니코드로 저장\n",
    "# FALSE : 비ASCII 문자는 원래 형태로 그대로 저장\n",
    "import json\n",
    "with open ('Data/ch09_member1,json','w') as jsonfile:\n",
    "    json.dump(data, #딕셔너리리스트\n",
    "             jsonfile, #파일 스트림\n",
    "             ensure_ascii = False, # 비ASCII 콛 문자 처리 여부\n",
    "             indent='  ') #들여쓰기 여부"
   ]
  },
  {
   "cell_type": "markdown",
   "id": "5aee1217",
   "metadata": {},
   "source": [
    "### 2. 객체 list를 json파일로 저장"
   ]
  },
  {
   "cell_type": "code",
   "execution_count": 87,
   "id": "7602801c",
   "metadata": {},
   "outputs": [],
   "source": [
    "class Member:\n",
    "    def __init__(self, name, age, email, address):\n",
    "        self.name = name\n",
    "        self.age  = age\n",
    "        self.email = email\n",
    "        self.address = address\n",
    "    def __str__(self):\n",
    "        return \"{},{},{},{}\".format(self.name, self.age, self.email, self.address)\n",
    "    def __eq__(self, other):\n",
    "        return self.__str__() == other.__str__()\n",
    "    def as_dict(self):\n",
    "        '객체를 딕셔너리로 바꿔 return(json파일 저장시 필요)'\n",
    "        return self.__dict__"
   ]
  },
  {
   "cell_type": "code",
   "execution_count": 88,
   "id": "249d0953",
   "metadata": {},
   "outputs": [
    {
     "data": {
      "text/plain": [
       "['홍길동,30,h@h.com,서울', '마길동,25,m@h.com,하남', '박길동,35,p@p.com,대전']"
      ]
     },
     "execution_count": 88,
     "metadata": {},
     "output_type": "execute_result"
    }
   ],
   "source": [
    "member_list = [Member('홍길동',30,'h@h.com','서울'),\n",
    "              Member('마길동',25,'m@h.com','하남'),\n",
    "              Member('박길동',35,'p@p.com','대전')]\n",
    "\n",
    "[member.__str__() for member in member_list]"
   ]
  },
  {
   "cell_type": "code",
   "execution_count": 90,
   "id": "fb8fa115",
   "metadata": {},
   "outputs": [],
   "source": [
    "with open ('Data/ch09_member2.json','w',encoding='utf-8') as jsonfile:\n",
    "    json.dump(member_list, #저장할 리스트(객체리스트)\n",
    "              jsonfile,\n",
    "              ensure_ascii=False,\n",
    "              indent='\\t',\n",
    "             default = Member.as_dict) # 객체를 딕셔너리 형태로  return 하는 함수\n",
    "    "
   ]
  },
  {
   "cell_type": "markdown",
   "id": "03f7a958",
   "metadata": {},
   "source": [
    "## 4.2 JSON load (파일 읽기)\n",
    "### (1) json 파일을 딕셔너리 리스트로 읽기\n",
    "### (2) json파일을 객체 리스트로 읽기 (딕셔너리를  객체로 return 하는 함수 필요)"
   ]
  },
  {
   "cell_type": "code",
   "execution_count": 92,
   "id": "b4228266",
   "metadata": {},
   "outputs": [
    {
     "data": {
      "text/plain": [
       "[{'name': '홍길동', 'age': 20, 'email': 'h@h.com', 'address': '서울'},\n",
       " {'name': '김길동', 'age': 30, 'email': 'k@h.com', 'address': '부산'},\n",
       " {'name': '신길동', 'age': 40, 'email': 's@h.com', 'address': '안양'}]"
      ]
     },
     "execution_count": 92,
     "metadata": {},
     "output_type": "execute_result"
    }
   ],
   "source": [
    "### (1) json 파일을 딕셔너리 리스트로 읽기\n",
    "with open ('Data/ch09_member1.json','r') as jsonfile:\n",
    "    load_data = json.load(jsonfile)\n",
    "load_data"
   ]
  },
  {
   "cell_type": "code",
   "execution_count": 93,
   "id": "a02d65ed",
   "metadata": {},
   "outputs": [
    {
     "data": {
      "text/plain": [
       "(list, dict)"
      ]
     },
     "execution_count": 93,
     "metadata": {},
     "output_type": "execute_result"
    }
   ],
   "source": [
    "type(load_data),type(load_data[0])"
   ]
  },
  {
   "cell_type": "code",
   "execution_count": 102,
   "id": "060fec21",
   "metadata": {},
   "outputs": [],
   "source": [
    "#(2) json파일을 객체 리스트로 읽기 (딕셔너리를  객체로 return 하는 함수 필요)\n",
    "def as_member(dic):\n",
    "    return Member(dic.get('name'),\n",
    "                  dic.get('age'),\n",
    "                  dic.get('email'),\n",
    "                  dic.get('address')\n",
    "                 )"
   ]
  },
  {
   "cell_type": "code",
   "execution_count": 106,
   "id": "2baea118",
   "metadata": {},
   "outputs": [
    {
     "name": "stdout",
     "output_type": "stream",
     "text": [
      "홍길동,30,h@h.com,서울\n",
      "마길동,25,m@h.com,하남\n",
      "박길동,35,p@p.com,대전\n"
     ]
    }
   ],
   "source": [
    "with open('Data/ch09_member2.json','r', encoding='utf-8') as jsonfile:\n",
    "    load_member_list = json.load(jsonfile,\n",
    "                                object_hook = as_member) # 딕셔너리를 객체로 return 함수\n",
    "for load_member in load_member_list:\n",
    "    print(load_member)"
   ]
  },
  {
   "cell_type": "code",
   "execution_count": 113,
   "id": "97a8b620",
   "metadata": {},
   "outputs": [
    {
     "name": "stdout",
     "output_type": "stream",
     "text": [
      "두 객체 리스트의 모든 데이터가 일치하는지 여부:  True\n"
     ]
    }
   ],
   "source": [
    "# member_list => ch09_member2.json => load_member_list\n",
    "# member_list => load_member_list가 같은 내용인지 검사\n",
    "\n",
    "result = [] #list 내 객체들끼리 비교 결과\n",
    "for member, load_member in zip (member_list, load_member_list):\n",
    "    result.append(member == load_member)\n",
    "print('두 객체 리스트의 모든 데이터가 일치하는지 여부: ',all(result))"
   ]
  },
  {
   "cell_type": "code",
   "execution_count": 119,
   "id": "6f5d5683",
   "metadata": {},
   "outputs": [],
   "source": [
    "result =[True, True, True, False, True]"
   ]
  },
  {
   "cell_type": "code",
   "execution_count": 120,
   "id": "2acc9970",
   "metadata": {},
   "outputs": [
    {
     "data": {
      "text/plain": [
       "(array([3], dtype=int64),)"
      ]
     },
     "execution_count": 120,
     "metadata": {},
     "output_type": "execute_result"
    }
   ],
   "source": [
    "#false인 곳의 index\n",
    "import numpy as np\n",
    "result = np.array(result)\n",
    "np.where(result == False)"
   ]
  },
  {
   "cell_type": "code",
   "execution_count": 122,
   "id": "a744afcb",
   "metadata": {},
   "outputs": [
    {
     "data": {
      "text/plain": [
       "{True}"
      ]
     },
     "execution_count": 122,
     "metadata": {},
     "output_type": "execute_result"
    }
   ],
   "source": [
    "result = set() #빈 셋 / () 빈 딕셔너리\n",
    "for member, load_member in zip(member_list,load_member_list):\n",
    "    result.add(member == load_member)\n",
    "result"
   ]
  },
  {
   "cell_type": "code",
   "execution_count": null,
   "id": "821a2ddb",
   "metadata": {},
   "outputs": [],
   "source": []
  },
  {
   "cell_type": "markdown",
   "id": "0e294161",
   "metadata": {},
   "source": [
    "# 5. hdf5 파일 쓰기/읽기 \n",
    " - hdf5 나 h5 파일을  볼 수 있는 hdfviewer \n",
    "  - 딕셔너리, 데이터프레임, 딥러닝 모델"
   ]
  },
  {
   "cell_type": "code",
   "execution_count": 4,
   "id": "5f9c482b",
   "metadata": {},
   "outputs": [
    {
     "data": {
      "text/html": [
       "<div>\n",
       "<style scoped>\n",
       "    .dataframe tbody tr th:only-of-type {\n",
       "        vertical-align: middle;\n",
       "    }\n",
       "\n",
       "    .dataframe tbody tr th {\n",
       "        vertical-align: top;\n",
       "    }\n",
       "\n",
       "    .dataframe thead th {\n",
       "        text-align: right;\n",
       "    }\n",
       "</style>\n",
       "<table border=\"1\" class=\"dataframe\">\n",
       "  <thead>\n",
       "    <tr style=\"text-align: right;\">\n",
       "      <th></th>\n",
       "      <th>sepal_length</th>\n",
       "      <th>sepal_width</th>\n",
       "      <th>petal_length</th>\n",
       "      <th>petal_width</th>\n",
       "      <th>species</th>\n",
       "    </tr>\n",
       "  </thead>\n",
       "  <tbody>\n",
       "    <tr>\n",
       "      <th>0</th>\n",
       "      <td>5.1</td>\n",
       "      <td>3.5</td>\n",
       "      <td>1.4</td>\n",
       "      <td>0.2</td>\n",
       "      <td>setosa</td>\n",
       "    </tr>\n",
       "    <tr>\n",
       "      <th>1</th>\n",
       "      <td>4.9</td>\n",
       "      <td>3.0</td>\n",
       "      <td>1.4</td>\n",
       "      <td>0.2</td>\n",
       "      <td>setosa</td>\n",
       "    </tr>\n",
       "    <tr>\n",
       "      <th>2</th>\n",
       "      <td>4.7</td>\n",
       "      <td>3.2</td>\n",
       "      <td>1.3</td>\n",
       "      <td>0.2</td>\n",
       "      <td>setosa</td>\n",
       "    </tr>\n",
       "    <tr>\n",
       "      <th>3</th>\n",
       "      <td>4.6</td>\n",
       "      <td>3.1</td>\n",
       "      <td>1.5</td>\n",
       "      <td>0.2</td>\n",
       "      <td>setosa</td>\n",
       "    </tr>\n",
       "    <tr>\n",
       "      <th>4</th>\n",
       "      <td>5.0</td>\n",
       "      <td>3.6</td>\n",
       "      <td>1.4</td>\n",
       "      <td>0.2</td>\n",
       "      <td>setosa</td>\n",
       "    </tr>\n",
       "    <tr>\n",
       "      <th>...</th>\n",
       "      <td>...</td>\n",
       "      <td>...</td>\n",
       "      <td>...</td>\n",
       "      <td>...</td>\n",
       "      <td>...</td>\n",
       "    </tr>\n",
       "    <tr>\n",
       "      <th>145</th>\n",
       "      <td>6.7</td>\n",
       "      <td>3.0</td>\n",
       "      <td>5.2</td>\n",
       "      <td>2.3</td>\n",
       "      <td>virginica</td>\n",
       "    </tr>\n",
       "    <tr>\n",
       "      <th>146</th>\n",
       "      <td>6.3</td>\n",
       "      <td>2.5</td>\n",
       "      <td>5.0</td>\n",
       "      <td>1.9</td>\n",
       "      <td>virginica</td>\n",
       "    </tr>\n",
       "    <tr>\n",
       "      <th>147</th>\n",
       "      <td>6.5</td>\n",
       "      <td>3.0</td>\n",
       "      <td>5.2</td>\n",
       "      <td>2.0</td>\n",
       "      <td>virginica</td>\n",
       "    </tr>\n",
       "    <tr>\n",
       "      <th>148</th>\n",
       "      <td>6.2</td>\n",
       "      <td>3.4</td>\n",
       "      <td>5.4</td>\n",
       "      <td>2.3</td>\n",
       "      <td>virginica</td>\n",
       "    </tr>\n",
       "    <tr>\n",
       "      <th>149</th>\n",
       "      <td>5.9</td>\n",
       "      <td>3.0</td>\n",
       "      <td>5.1</td>\n",
       "      <td>1.8</td>\n",
       "      <td>virginica</td>\n",
       "    </tr>\n",
       "  </tbody>\n",
       "</table>\n",
       "<p>150 rows × 5 columns</p>\n",
       "</div>"
      ],
      "text/plain": [
       "     sepal_length  sepal_width  petal_length  petal_width    species\n",
       "0             5.1          3.5           1.4          0.2     setosa\n",
       "1             4.9          3.0           1.4          0.2     setosa\n",
       "2             4.7          3.2           1.3          0.2     setosa\n",
       "3             4.6          3.1           1.5          0.2     setosa\n",
       "4             5.0          3.6           1.4          0.2     setosa\n",
       "..            ...          ...           ...          ...        ...\n",
       "145           6.7          3.0           5.2          2.3  virginica\n",
       "146           6.3          2.5           5.0          1.9  virginica\n",
       "147           6.5          3.0           5.2          2.0  virginica\n",
       "148           6.2          3.4           5.4          2.3  virginica\n",
       "149           5.9          3.0           5.1          1.8  virginica\n",
       "\n",
       "[150 rows x 5 columns]"
      ]
     },
     "execution_count": 4,
     "metadata": {},
     "output_type": "execute_result"
    }
   ],
   "source": [
    "#seaborn : 파이썬에서 데이터 시각화를 도와주는 라이브러리로 자주 쓰이는 데이터셋\n",
    "import seaborn as sns\n",
    "iris_df = sns.load_dataset('iris')\n",
    "iris_df # 꽃의 종, 꽃받침 길이, 꽃받침 너비, 꽃잎 길이, 꽃잎 너비"
   ]
  },
  {
   "cell_type": "code",
   "execution_count": 9,
   "id": "4f145f09",
   "metadata": {},
   "outputs": [
    {
     "data": {
      "text/plain": [
       "pandas.core.frame.DataFrame"
      ]
     },
     "execution_count": 9,
     "metadata": {},
     "output_type": "execute_result"
    }
   ],
   "source": [
    "type(iris_df)"
   ]
  },
  {
   "cell_type": "code",
   "execution_count": 10,
   "id": "5a13e1cf",
   "metadata": {},
   "outputs": [
    {
     "data": {
      "text/html": [
       "<div>\n",
       "<style scoped>\n",
       "    .dataframe tbody tr th:only-of-type {\n",
       "        vertical-align: middle;\n",
       "    }\n",
       "\n",
       "    .dataframe tbody tr th {\n",
       "        vertical-align: top;\n",
       "    }\n",
       "\n",
       "    .dataframe thead th {\n",
       "        text-align: right;\n",
       "    }\n",
       "</style>\n",
       "<table border=\"1\" class=\"dataframe\">\n",
       "  <thead>\n",
       "    <tr style=\"text-align: right;\">\n",
       "      <th></th>\n",
       "      <th>sepal_length</th>\n",
       "      <th>sepal_width</th>\n",
       "      <th>petal_length</th>\n",
       "      <th>petal_width</th>\n",
       "      <th>species</th>\n",
       "    </tr>\n",
       "  </thead>\n",
       "  <tbody>\n",
       "    <tr>\n",
       "      <th>0</th>\n",
       "      <td>5.1</td>\n",
       "      <td>3.5</td>\n",
       "      <td>1.4</td>\n",
       "      <td>0.2</td>\n",
       "      <td>setosa</td>\n",
       "    </tr>\n",
       "    <tr>\n",
       "      <th>1</th>\n",
       "      <td>4.9</td>\n",
       "      <td>3.0</td>\n",
       "      <td>1.4</td>\n",
       "      <td>0.2</td>\n",
       "      <td>setosa</td>\n",
       "    </tr>\n",
       "    <tr>\n",
       "      <th>2</th>\n",
       "      <td>4.7</td>\n",
       "      <td>3.2</td>\n",
       "      <td>1.3</td>\n",
       "      <td>0.2</td>\n",
       "      <td>setosa</td>\n",
       "    </tr>\n",
       "    <tr>\n",
       "      <th>3</th>\n",
       "      <td>4.6</td>\n",
       "      <td>3.1</td>\n",
       "      <td>1.5</td>\n",
       "      <td>0.2</td>\n",
       "      <td>setosa</td>\n",
       "    </tr>\n",
       "    <tr>\n",
       "      <th>4</th>\n",
       "      <td>5.0</td>\n",
       "      <td>3.6</td>\n",
       "      <td>1.4</td>\n",
       "      <td>0.2</td>\n",
       "      <td>setosa</td>\n",
       "    </tr>\n",
       "    <tr>\n",
       "      <th>...</th>\n",
       "      <td>...</td>\n",
       "      <td>...</td>\n",
       "      <td>...</td>\n",
       "      <td>...</td>\n",
       "      <td>...</td>\n",
       "    </tr>\n",
       "    <tr>\n",
       "      <th>145</th>\n",
       "      <td>6.7</td>\n",
       "      <td>3.0</td>\n",
       "      <td>5.2</td>\n",
       "      <td>2.3</td>\n",
       "      <td>virginica</td>\n",
       "    </tr>\n",
       "    <tr>\n",
       "      <th>146</th>\n",
       "      <td>6.3</td>\n",
       "      <td>2.5</td>\n",
       "      <td>5.0</td>\n",
       "      <td>1.9</td>\n",
       "      <td>virginica</td>\n",
       "    </tr>\n",
       "    <tr>\n",
       "      <th>147</th>\n",
       "      <td>6.5</td>\n",
       "      <td>3.0</td>\n",
       "      <td>5.2</td>\n",
       "      <td>2.0</td>\n",
       "      <td>virginica</td>\n",
       "    </tr>\n",
       "    <tr>\n",
       "      <th>148</th>\n",
       "      <td>6.2</td>\n",
       "      <td>3.4</td>\n",
       "      <td>5.4</td>\n",
       "      <td>2.3</td>\n",
       "      <td>virginica</td>\n",
       "    </tr>\n",
       "    <tr>\n",
       "      <th>149</th>\n",
       "      <td>5.9</td>\n",
       "      <td>3.0</td>\n",
       "      <td>5.1</td>\n",
       "      <td>1.8</td>\n",
       "      <td>virginica</td>\n",
       "    </tr>\n",
       "  </tbody>\n",
       "</table>\n",
       "<p>150 rows × 5 columns</p>\n",
       "</div>"
      ],
      "text/plain": [
       "     sepal_length  sepal_width  petal_length  petal_width    species\n",
       "0             5.1          3.5           1.4          0.2     setosa\n",
       "1             4.9          3.0           1.4          0.2     setosa\n",
       "2             4.7          3.2           1.3          0.2     setosa\n",
       "3             4.6          3.1           1.5          0.2     setosa\n",
       "4             5.0          3.6           1.4          0.2     setosa\n",
       "..            ...          ...           ...          ...        ...\n",
       "145           6.7          3.0           5.2          2.3  virginica\n",
       "146           6.3          2.5           5.0          1.9  virginica\n",
       "147           6.5          3.0           5.2          2.0  virginica\n",
       "148           6.2          3.4           5.4          2.3  virginica\n",
       "149           5.9          3.0           5.1          1.8  virginica\n",
       "\n",
       "[150 rows x 5 columns]"
      ]
     },
     "metadata": {},
     "output_type": "display_data"
    }
   ],
   "source": [
    "display(iris_df)"
   ]
  },
  {
   "cell_type": "code",
   "execution_count": 11,
   "id": "21f40908",
   "metadata": {},
   "outputs": [],
   "source": [
    "#데이터 프레임을 hdfㄹ파일로 쓰기\n",
    "\n",
    "iris_df.to_hdf('Data/ch09_irisdf.hdf5', key = 'iris')"
   ]
  },
  {
   "cell_type": "code",
   "execution_count": 12,
   "id": "f0bf429d",
   "metadata": {},
   "outputs": [
    {
     "data": {
      "text/html": [
       "<div>\n",
       "<style scoped>\n",
       "    .dataframe tbody tr th:only-of-type {\n",
       "        vertical-align: middle;\n",
       "    }\n",
       "\n",
       "    .dataframe tbody tr th {\n",
       "        vertical-align: top;\n",
       "    }\n",
       "\n",
       "    .dataframe thead th {\n",
       "        text-align: right;\n",
       "    }\n",
       "</style>\n",
       "<table border=\"1\" class=\"dataframe\">\n",
       "  <thead>\n",
       "    <tr style=\"text-align: right;\">\n",
       "      <th></th>\n",
       "      <th>sepal_length</th>\n",
       "      <th>sepal_width</th>\n",
       "      <th>petal_length</th>\n",
       "      <th>petal_width</th>\n",
       "      <th>species</th>\n",
       "    </tr>\n",
       "  </thead>\n",
       "  <tbody>\n",
       "    <tr>\n",
       "      <th>0</th>\n",
       "      <td>5.1</td>\n",
       "      <td>3.5</td>\n",
       "      <td>1.4</td>\n",
       "      <td>0.2</td>\n",
       "      <td>setosa</td>\n",
       "    </tr>\n",
       "    <tr>\n",
       "      <th>1</th>\n",
       "      <td>4.9</td>\n",
       "      <td>3.0</td>\n",
       "      <td>1.4</td>\n",
       "      <td>0.2</td>\n",
       "      <td>setosa</td>\n",
       "    </tr>\n",
       "    <tr>\n",
       "      <th>2</th>\n",
       "      <td>4.7</td>\n",
       "      <td>3.2</td>\n",
       "      <td>1.3</td>\n",
       "      <td>0.2</td>\n",
       "      <td>setosa</td>\n",
       "    </tr>\n",
       "    <tr>\n",
       "      <th>3</th>\n",
       "      <td>4.6</td>\n",
       "      <td>3.1</td>\n",
       "      <td>1.5</td>\n",
       "      <td>0.2</td>\n",
       "      <td>setosa</td>\n",
       "    </tr>\n",
       "    <tr>\n",
       "      <th>4</th>\n",
       "      <td>5.0</td>\n",
       "      <td>3.6</td>\n",
       "      <td>1.4</td>\n",
       "      <td>0.2</td>\n",
       "      <td>setosa</td>\n",
       "    </tr>\n",
       "    <tr>\n",
       "      <th>...</th>\n",
       "      <td>...</td>\n",
       "      <td>...</td>\n",
       "      <td>...</td>\n",
       "      <td>...</td>\n",
       "      <td>...</td>\n",
       "    </tr>\n",
       "    <tr>\n",
       "      <th>145</th>\n",
       "      <td>6.7</td>\n",
       "      <td>3.0</td>\n",
       "      <td>5.2</td>\n",
       "      <td>2.3</td>\n",
       "      <td>virginica</td>\n",
       "    </tr>\n",
       "    <tr>\n",
       "      <th>146</th>\n",
       "      <td>6.3</td>\n",
       "      <td>2.5</td>\n",
       "      <td>5.0</td>\n",
       "      <td>1.9</td>\n",
       "      <td>virginica</td>\n",
       "    </tr>\n",
       "    <tr>\n",
       "      <th>147</th>\n",
       "      <td>6.5</td>\n",
       "      <td>3.0</td>\n",
       "      <td>5.2</td>\n",
       "      <td>2.0</td>\n",
       "      <td>virginica</td>\n",
       "    </tr>\n",
       "    <tr>\n",
       "      <th>148</th>\n",
       "      <td>6.2</td>\n",
       "      <td>3.4</td>\n",
       "      <td>5.4</td>\n",
       "      <td>2.3</td>\n",
       "      <td>virginica</td>\n",
       "    </tr>\n",
       "    <tr>\n",
       "      <th>149</th>\n",
       "      <td>5.9</td>\n",
       "      <td>3.0</td>\n",
       "      <td>5.1</td>\n",
       "      <td>1.8</td>\n",
       "      <td>virginica</td>\n",
       "    </tr>\n",
       "  </tbody>\n",
       "</table>\n",
       "<p>150 rows × 5 columns</p>\n",
       "</div>"
      ],
      "text/plain": [
       "     sepal_length  sepal_width  petal_length  petal_width    species\n",
       "0             5.1          3.5           1.4          0.2     setosa\n",
       "1             4.9          3.0           1.4          0.2     setosa\n",
       "2             4.7          3.2           1.3          0.2     setosa\n",
       "3             4.6          3.1           1.5          0.2     setosa\n",
       "4             5.0          3.6           1.4          0.2     setosa\n",
       "..            ...          ...           ...          ...        ...\n",
       "145           6.7          3.0           5.2          2.3  virginica\n",
       "146           6.3          2.5           5.0          1.9  virginica\n",
       "147           6.5          3.0           5.2          2.0  virginica\n",
       "148           6.2          3.4           5.4          2.3  virginica\n",
       "149           5.9          3.0           5.1          1.8  virginica\n",
       "\n",
       "[150 rows x 5 columns]"
      ]
     },
     "execution_count": 12,
     "metadata": {},
     "output_type": "execute_result"
    }
   ],
   "source": [
    "#hdf 파일을 데이터프레임으로 읽어오기\n",
    "import pandas as pd\n",
    "load_iris_df = pd.read_hdf('Data/ch09_irisdf.hdf5', key = 'iris')\n",
    "load_iris_df"
   ]
  },
  {
   "cell_type": "code",
   "execution_count": 13,
   "id": "ac6fabec",
   "metadata": {},
   "outputs": [
    {
     "data": {
      "text/plain": [
       "True"
      ]
     },
     "execution_count": 13,
     "metadata": {},
     "output_type": "execute_result"
    }
   ],
   "source": [
    "#두 데이터프레임이 같은지 여부\n",
    "iris_df.equals(load_iris_df)"
   ]
  },
  {
   "cell_type": "markdown",
   "id": "3fdaee78",
   "metadata": {},
   "source": [
    "# 6. 연습문제 고객관리\n",
    " - 프로그램 시작시 \n",
    "     *data/ch09_customers.txt (프로그램 종료시 백업용 데이터) 파일이 있으면 파일을 customer_list에 넣음\n",
    "     없으면 빈파일 생성 (w모드 열어 close)\n",
    "     "
   ]
  },
  {
   "cell_type": "code",
   "execution_count": null,
   "id": "ebc02c79",
   "metadata": {},
   "outputs": [],
   "source": []
  },
  {
   "cell_type": "code",
   "execution_count": 44,
   "id": "42fb8eb0",
   "metadata": {},
   "outputs": [
    {
     "name": "stdout",
     "output_type": "stream",
     "text": [
      "데이터가 로드 되었습니다.\n"
     ]
    }
   ],
   "source": [
    "# 실행하면 데이터 로드 & 데이터가 로드되었습니다 출력\n",
    "try:\n",
    "    with open('Data/ch09_customers.txt','r',encoding='utf-8') as f:\n",
    "        data_recall = f.read()\n",
    "        print('데이터가 로드 되었습니다.')\n",
    "#파일 존재 안하면 customers.txt 파일 생성 후 데이터는customer_list = []\n",
    "except:\n",
    "    with open('Data/ch09_customers.txt','w',encoding='utf-8') as n:\n",
    "        pass"
   ]
  },
  {
   "cell_type": "markdown",
   "id": "d4f5f0b2",
   "metadata": {},
   "source": [
    "# Customer class 작성\n",
    "    customer('홍길동','010-1111-2222','abc@def.com',30,2,'etc') 객체 생성\n",
    "    인스턴스만 필요\n",
    "    \n",
    "    to_customer(text):\n",
    "        return Customer 객체\n",
    "        "
   ]
  },
  {
   "cell_type": "code",
   "execution_count": 75,
   "id": "1c557851",
   "metadata": {},
   "outputs": [
    {
     "name": "stdout",
     "output_type": "stream",
     "text": [
      "  ***\t가나다\t010-2324-2315\tawgre@brtb.com\t25\tasdf\n"
     ]
    }
   ],
   "source": [
    "#고객 클래스 설정\n",
    "\n",
    "class Customer:\n",
    "    def __init__(self,name,phone,email,age,grade,etc):\n",
    "        self.name = name\n",
    "        self.phone = phone\n",
    "        self.email = email\n",
    "        self.age = int(age)\n",
    "        self.grade = int(grade)\n",
    "        self.etc = etc\n",
    "    def as_dic(self): #객체를 딕셔너리로\n",
    "#        return {'name':self.name,\n",
    "#               'phone':self.phone,\n",
    "#               'email':self.email,\n",
    "#               'age':self.age,\n",
    "#               'grade':self.grade,\n",
    "#               'etc':self.etc\n",
    "#               }\n",
    "        return self.__dict__\n",
    "    def to_list_style(self): # 객체를 list로 리턴\n",
    "        return [self.name,self.phone,self.email,self.age,self.grade,self.etc]\n",
    "    def to_txt_style(self): #객체를 txt로 \n",
    "        return f'({self.name}{self.phone}{self.email}{self.age}{self.grade}{self.etc})'\n",
    "    def __str__(self):\n",
    "        return \"{:>5}\\t{}\\t{}\\t{}\\t{}\\t{}\".format('*'*self.grade,\n",
    "                                        self.name,\n",
    "                                       self.phone,\n",
    "                                       self.email,\n",
    "                                       self.age,\n",
    "                                       self.etc)\n",
    "#        grade_display = '*'*self.grade\n",
    "#        return f'({grade_display}{self.name}{self.phone}{self.email}{self.age}{self.etc})'\n",
    "def to_customer(row): #txt파일 내용 한 줄을 customer 객체로 변환\n",
    "    data = row.strip().split(', ')\n",
    "    name = data[0]\n",
    "    phone = data[1]\n",
    "    email = data[2]\n",
    "    age = data[3]\n",
    "    grade = data[4]\n",
    "    etc = data[5]\n",
    "    return Customer(name, phone, email, age, grade, etc)\n",
    "\n",
    "c1 = Customer('가나다','010-2324-2315','awgre@brtb.com','25','3','asdf')\n",
    "\n",
    "print(c1)"
   ]
  },
  {
   "cell_type": "code",
   "execution_count": 76,
   "id": "6097d7ca",
   "metadata": {},
   "outputs": [
    {
     "name": "stdout",
     "output_type": "stream",
     "text": [
      "*****\t홍길동\t010-9999-9999\tk@hong.com\t30\tvvip\n"
     ]
    }
   ],
   "source": [
    "print(to_customer(\"홍길동, 010-9999-9999, k@hong.com, 30, 5, vvip\\n\"))"
   ]
  },
  {
   "cell_type": "markdown",
   "id": "2e033ea9",
   "metadata": {},
   "source": [
    "# 처음 실행\n",
    "\n",
    " 파일 읽기 to_customer()함수를 이용해서 customer_list append\n",
    " \n",
    " \n",
    "   line = txtfile.readline()\n",
    "    while line != '':\n",
    "        print (line, end = '') #line에 \\n이 포함되어있어 출력시 개행은 제거\n",
    "        line = txtfile.readline()"
   ]
  },
  {
   "cell_type": "code",
   "execution_count": 99,
   "id": "411fcb7f",
   "metadata": {},
   "outputs": [],
   "source": [
    "def load_customers():\n",
    "    customer_list = []\n",
    "    try:\n",
    "        with open('Data/ch09_customers.txt','r',encoding='utf-8') as f:\n",
    "            print('데이터가 로드 되었습니다.')\n",
    "            #방법 1 한줄씩 읽어서 customer_list에 append\n",
    "#             customer_datum = f.readline()\n",
    "#             while customer_datum != '':\n",
    "#                 customer = to_customer(customer_datum)\n",
    "#                 customer_list.append(customer)\n",
    "#                 customer_datum = f.readline()\n",
    "            \n",
    "            #방법2. 여러줄을 한번에 읽어서 for 문으로 append\n",
    "            customer_datum = f.readlines()\n",
    "        for idx, line in enumerate(customer_datum[:2]):\n",
    "            customer = to_customer(line)\n",
    "            customer_list.append(customer)\n",
    "            \n",
    "                 \n",
    "#파일 존재 안하면 customers.txt 파일 생성 후 데이터는customer_list = []\n",
    "    except:\n",
    "        #with open('Data/ch09_customers.txt','w',encoding='utf-8') as n:\n",
    "        print('파일을 생성했습니다.')\n",
    "\n",
    "    return customer_list\n"
   ]
  },
  {
   "cell_type": "code",
   "execution_count": 100,
   "id": "a4cbe3eb",
   "metadata": {},
   "outputs": [
    {
     "name": "stdout",
     "output_type": "stream",
     "text": [
      "데이터가 로드 되었습니다.\n",
      "['홍길동, 010-9999-9999, k@hong.com, 30, 5, vvip\\n', '유길동, 010-5432-2222, y@hong.com, 20, 2, 가칠해\\n', '신림동, 010-8888-8888, s@song.com, 33, 3, 글쎄\\n', '홍길동, 010-7777-7777, h@hong.com, 33, 4, vip\\n']\n"
     ]
    },
    {
     "data": {
      "text/plain": [
       "[' ****\\t홍길동\\t010-7777-7777\\th@hong.com\\t33\\tvip',\n",
       " ' ****\\t홍길동\\t010-7777-7777\\th@hong.com\\t33\\tvip']"
      ]
     },
     "execution_count": 100,
     "metadata": {},
     "output_type": "execute_result"
    }
   ],
   "source": [
    "customer_list = load_customers()\n",
    "[customer.__str__() for customers in customer_list]"
   ]
  },
  {
   "cell_type": "code",
   "execution_count": 41,
   "id": "08fc5597",
   "metadata": {},
   "outputs": [],
   "source": [
    "def fn1_insert_customer_info():\n",
    "    'name(정규표현식 검증), phone, email, age, grade, etc입력받아 Customer형 객체 return'\n",
    "    import re\n",
    "    name = input('이름 :')\n",
    "    name_pattern = r'[가-힣]{2,}'\n",
    "    while not re.search(name_pattern, name):\n",
    "        print('이름을 제대로 입력하세요(한글 2글자 이상)')\n",
    "        name = input('이름 :')\n",
    "    phone = input('전화 :')\n",
    "#     phone_pattern = r'\\d{2,3}[ \\-\\.)]?\\d{3,4}[ \\-\\.]?\\d{4}'\n",
    "#     while not re.search(phone_pattern, phone):\n",
    "#         print('이름을 제대로 입력하세요(한글 2글자 이상)')\n",
    "#         phone = input('전화 :')\n",
    "    email = input('메일 :')\n",
    "    while True:\n",
    "        try:\n",
    "            age = int(input('나이 :'))\n",
    "            if (age<0) or (age>130) :\n",
    "                raise Exception('나이 범위 이상')\n",
    "            break \n",
    "        except:\n",
    "            print('올바른 나이를 입력하세요')\n",
    "    try:\n",
    "        grade = int(input('등급(1~5) : '))\n",
    "        # grade = 1 if grade < 1 else 5 if grade>5 else grade\n",
    "        if grade < 1:\n",
    "            grade = 1\n",
    "        if grade > 5:\n",
    "            grade = 5\n",
    "    except:\n",
    "        print('유효하지 않은 등급 입력시 1등급으로 초기화')\n",
    "        grade = 1\n",
    "    etc = input('기타 정보 :')\n",
    "    return Customer(name, phone, email, age, grade, etc)\n"
   ]
  },
  {
   "cell_type": "code",
   "execution_count": 42,
   "id": "01b41dad",
   "metadata": {},
   "outputs": [
    {
     "name": "stdout",
     "output_type": "stream",
     "text": [
      "데이터가 로드 되었습니다.\n",
      "파일을 생성했습니다.\n",
      "이름 :가나다\n",
      "전화 :0000\n",
      "메일 :ㅇ3\n",
      "나이 :42\n",
      "등급(1~5) : 2\n",
      "기타 정보 :ㄶ\n",
      "   **\t가나다\t0000\tㅇ3\t42\tㄶ\n"
     ]
    }
   ],
   "source": [
    "# 1번 함수 테스트\n",
    "customer_list = load_customers()\n",
    "customer = fn1_insert_customer_info()\n",
    "customer_list.append(customer)\n",
    "for customer in customer_list:\n",
    "    print(customer)\n",
    "    "
   ]
  },
  {
   "cell_type": "code",
   "execution_count": 39,
   "id": "47638834",
   "metadata": {},
   "outputs": [],
   "source": [
    "# 2누르면 전체 데이터 출력\n",
    "def fn2_print_customer(customer_list):\n",
    "    'customer_list 출력'\n",
    "    print('='*70)\n",
    "    print('{:^70}'.format('고객 정보'))\n",
    "    print('='*70)\n",
    "    print(\"{:>5}\\t{:^3}\\t{:^13}\\t{:^10}\\t{}\\t{}\".format('grade','이름','전화','메일','나이','기타') )\n",
    "    print('-'*70)\n",
    "    for customer in customer_list:\n",
    "        print(customer)"
   ]
  },
  {
   "cell_type": "code",
   "execution_count": 43,
   "id": "baa53b45",
   "metadata": {},
   "outputs": [
    {
     "name": "stdout",
     "output_type": "stream",
     "text": [
      "======================================================================\n",
      "                                고객 정보                                 \n",
      "======================================================================\n",
      "grade\t이름 \t     전화      \t    메일    \t나이\t기타\n",
      "----------------------------------------------------------------------\n",
      "   **\t가나다\t0000\tㅇ3\t42\tㄶ\n"
     ]
    }
   ],
   "source": [
    "# 위 2번 함수 test\n",
    "fn2_print_customer(customer_list)"
   ]
  },
  {
   "cell_type": "code",
   "execution_count": null,
   "id": "936deff5",
   "metadata": {},
   "outputs": [],
   "source": [
    "# 동명이인이 없을 경우 삭제 구현\n",
    "def fn3_delete_customer(customer_list):\n",
    "    '삭제하고자 하는 고객이름을 받아 customer_list에서 삭제'\n",
    "    name = input('삭제할 고객의 이름은?')\n",
    "    for idx, customer in enumerate(customer_list):\n",
    "        if customer.name == name:\n",
    "            # 리스트에서 customer 삭제\n",
    "            # customer_list.remove(customer)\n",
    "            # 리스트에서 idx번째 삭제\n",
    "            del customer_list[idx]\n",
    "            print(name, '님 데이터를 삭제하였습니다')\n",
    "            break\n",
    "    else:\n",
    "        print(name, '님이 데이터에 존재하지 않습니다')"
   ]
  },
  {
   "cell_type": "code",
   "execution_count": 102,
   "id": "d3e8099e",
   "metadata": {},
   "outputs": [
    {
     "name": "stdout",
     "output_type": "stream",
     "text": [
      "삭제할 고객의 이름은?ㅇㅇ\n",
      "ㅇㅇ 님이 데이터에 존재하지 않습니다\n"
     ]
    }
   ],
   "source": [
    "# 위 3번 함수 test\n",
    "fn3_delete_customer(customer_list)"
   ]
  },
  {
   "cell_type": "code",
   "execution_count": null,
   "id": "9f339a6b",
   "metadata": {},
   "outputs": [],
   "source": [
    "# 동명이인이 있을 경우(해당 동명이인을 다 삭제) 삭제 구현\n",
    "def fn3_delete_customer(customer_list):\n",
    "    pass"
   ]
  },
  {
   "cell_type": "code",
   "execution_count": null,
   "id": "5ee1c9ce",
   "metadata": {},
   "outputs": [],
   "source": []
  },
  {
   "cell_type": "code",
   "execution_count": null,
   "id": "627a86c4",
   "metadata": {},
   "outputs": [],
   "source": []
  },
  {
   "cell_type": "code",
   "execution_count": null,
   "id": "19f44fef",
   "metadata": {},
   "outputs": [],
   "source": []
  },
  {
   "cell_type": "code",
   "execution_count": null,
   "id": "64a08cc8",
   "metadata": {},
   "outputs": [],
   "source": []
  },
  {
   "cell_type": "code",
   "execution_count": 114,
   "id": "ca02785d",
   "metadata": {},
   "outputs": [],
   "source": [
    "# 4 누르면 데이터 내 이름 검색\n",
    "def fn4_search_customer(customer_list):\n",
    "    '찾을 고객 이름은?'\n",
    "    name = input('검색할 이름은?')\n",
    "    search_list = [] #검색한 결과 append\n",
    "    for customer in customer_list:\n",
    "        if customer.name == name:\n",
    "            search_list.append(customer)\n",
    "    if search_list:\n",
    "        fn2_print_customer(search_list)\n",
    "    else:\n",
    "        print(f'{name}님이 존재하지 않습니다')\n"
   ]
  },
  {
   "cell_type": "code",
   "execution_count": 116,
   "id": "ba6e976f",
   "metadata": {},
   "outputs": [
    {
     "name": "stdout",
     "output_type": "stream",
     "text": [
      "데이터가 로드 되었습니다.\n",
      "['홍길동, 010-9999-9999, k@hong.com, 30, 5, vvip\\n', '유길동, 010-5432-2222, y@hong.com, 20, 2, 가칠해\\n', '신림동, 010-8888-8888, s@song.com, 33, 3, 글쎄\\n', '홍길동, 010-7777-7777, h@hong.com, 33, 4, vip\\n']\n",
      "검색할 이름은?길동\n",
      "길동님이 존재하지 않습니다\n"
     ]
    }
   ],
   "source": [
    "customer_list = load_customers()\n",
    "fn4_search_customer(customer_list)"
   ]
  },
  {
   "cell_type": "code",
   "execution_count": 118,
   "id": "05505e16",
   "metadata": {},
   "outputs": [],
   "source": [
    "# 5 누르면 csv 파일로 내보내기\n",
    "def fn5_save_customer_cvs(customer_list):\n",
    "    import csv\n",
    "    if customer_list:\n",
    "        customer_dict_list =[]\n",
    "        for customer in customer_list:\n",
    "            customer_dict_list.append(customer.as_dic())\n",
    "        fieldnames = list(customer_dict_list[0].keys())\n",
    "        fieldname = input('저장할 csv 파일명은(확장자 제외)?')\n",
    "        with open ('Data/{}.csv'.format(filename),'w',encoding='utf-8', newline='') as f:\n",
    "            dict_writer = csv.DictWriter(f,fieldnames=fieldnames)\n",
    "            dict_writer.writeheader() # 해더 쓰기\n",
    "            dict_writer.writerows(customer_dict_list) # 데이터 쓰기\n",
    "            print(f'data/{filename}.csv 내보내기 완료')\n",
    "    else:\n",
    "        print('입력된 회원 데이터가 없어서 csv 내보내기를 취소합니다')"
   ]
  },
  {
   "cell_type": "code",
   "execution_count": 119,
   "id": "daaaedbc",
   "metadata": {},
   "outputs": [],
   "source": [
    "# 9 누르면 프로그램 종료 (종료하면 자동으로 내보내는 것으로)\n",
    "def fn9_save_customer_txt(customer_list):\n",
    "    'customer_list의 내용을 data/ch09_customers.txt에 저장'\n",
    "    customer_text_list = []\n",
    "    for customer in customer_list:\n",
    "        customer_text_list.append(customer.to_txt_style()+\"\\n\")\n",
    "    with open('data/ch09_customers.txt', 'w', encoding='UTF-8') as f:\n",
    "        f.writelines(customer_text_list)"
   ]
  },
  {
   "cell_type": "code",
   "execution_count": 120,
   "id": "cf34d5a6",
   "metadata": {},
   "outputs": [
    {
     "name": "stdout",
     "output_type": "stream",
     "text": [
      "데이터가 로드 되었습니다.\n",
      "['홍길동, 010-9999-9999, k@hong.com, 30, 5, vvip\\n', '유길동, 010-5432-2222, y@hong.com, 20, 2, 가칠해\\n', '신림동, 010-8888-8888, s@song.com, 33, 3, 글쎄\\n', '홍길동, 010-7777-7777, h@hong.com, 33, 4, vip\\n']\n",
      "1:입력 | 2:전체출력 | 3:삭제 | 4:이름찾기 | 5:내보내기(CSV) | 9:종료 메뉴선택 : 1\n",
      "이름 :ㄱㄱ\n",
      "이름을 제대로 입력하세요(한글 2글자 이상)\n",
      "이름 :가나다\n",
      "전화 :01013243\n",
      "메일 :agwerg@arc.om\n",
      "나이 :20\n",
      "등급(1~5) : 3\n",
      "기타 정보 :na\n",
      "1:입력 | 2:전체출력 | 3:삭제 | 4:이름찾기 | 5:내보내기(CSV) | 9:종료 메뉴선택 : 2\n",
      "======================================================================\n",
      "                                고객 정보                                 \n",
      "======================================================================\n",
      "grade\t이름 \t     전화      \t    메일    \t나이\t기타\n",
      "----------------------------------------------------------------------\n",
      "*****\t홍길동\t010-9999-9999\tk@hong.com\t30\tvvip\n",
      "   **\t유길동\t010-5432-2222\ty@hong.com\t20\t가칠해\n",
      "  ***\t가나다\t01013243\tagwerg@arc.om\t20\tna\n",
      "1:입력 | 2:전체출력 | 3:삭제 | 4:이름찾기 | 5:내보내기(CSV) | 9:종료 메뉴선택 : 4\n",
      "검색할 이름은?가나다\n",
      "======================================================================\n",
      "                                고객 정보                                 \n",
      "======================================================================\n",
      "grade\t이름 \t     전화      \t    메일    \t나이\t기타\n",
      "----------------------------------------------------------------------\n",
      "  ***\t가나다\t01013243\tagwerg@arc.om\t20\tna\n",
      "1:입력 | 2:전체출력 | 3:삭제 | 4:이름찾기 | 5:내보내기(CSV) | 9:종료 메뉴선택 : 3\n",
      "삭제할 고객의 이름은?가나다\n",
      "가나다 님 데이터를 삭제하였습니다\n",
      "1:입력 | 2:전체출력 | 3:삭제 | 4:이름찾기 | 5:내보내기(CSV) | 9:종료 "
     ]
    },
    {
     "ename": "KeyboardInterrupt",
     "evalue": "Interrupted by user",
     "output_type": "error",
     "traceback": [
      "\u001b[1;31m---------------------------------------------------------------------------\u001b[0m",
      "\u001b[1;31mKeyboardInterrupt\u001b[0m                         Traceback (most recent call last)",
      "Cell \u001b[1;32mIn[120], line 23\u001b[0m\n\u001b[0;32m     21\u001b[0m             \u001b[38;5;28;01mbreak\u001b[39;00m\n\u001b[0;32m     22\u001b[0m \u001b[38;5;28;01mif\u001b[39;00m \u001b[38;5;18m__name__\u001b[39m \u001b[38;5;241m==\u001b[39m \u001b[38;5;124m'\u001b[39m\u001b[38;5;124m__main__\u001b[39m\u001b[38;5;124m'\u001b[39m:\n\u001b[1;32m---> 23\u001b[0m     \u001b[43mmain\u001b[49m\u001b[43m(\u001b[49m\u001b[43m)\u001b[49m\n",
      "Cell \u001b[1;32mIn[120], line 7\u001b[0m, in \u001b[0;36mmain\u001b[1;34m()\u001b[0m\n\u001b[0;32m      4\u001b[0m \u001b[38;5;28;01mwhile\u001b[39;00m \u001b[38;5;28;01mTrue\u001b[39;00m:\n\u001b[0;32m      5\u001b[0m     \u001b[38;5;28mprint\u001b[39m(\u001b[38;5;124m\"\u001b[39m\u001b[38;5;124m1:입력\u001b[39m\u001b[38;5;124m\"\u001b[39m,\u001b[38;5;124m\"\u001b[39m\u001b[38;5;124m2:전체출력\u001b[39m\u001b[38;5;124m\"\u001b[39m,\u001b[38;5;124m\"\u001b[39m\u001b[38;5;124m3:삭제\u001b[39m\u001b[38;5;124m\"\u001b[39m,\u001b[38;5;124m\"\u001b[39m\u001b[38;5;124m4:이름찾기\u001b[39m\u001b[38;5;124m\"\u001b[39m,\u001b[38;5;124m\"\u001b[39m\u001b[38;5;124m5:내보내기(CSV)\u001b[39m\u001b[38;5;124m\"\u001b[39m, \u001b[38;5;124m\"\u001b[39m\u001b[38;5;124m9:종료\u001b[39m\u001b[38;5;124m\"\u001b[39m, \n\u001b[0;32m      6\u001b[0m           sep\u001b[38;5;241m=\u001b[39m\u001b[38;5;124m'\u001b[39m\u001b[38;5;124m | \u001b[39m\u001b[38;5;124m'\u001b[39m, end\u001b[38;5;241m=\u001b[39m\u001b[38;5;124m'\u001b[39m\u001b[38;5;124m \u001b[39m\u001b[38;5;124m'\u001b[39m)\n\u001b[1;32m----> 7\u001b[0m     fn \u001b[38;5;241m=\u001b[39m \u001b[38;5;28mint\u001b[39m(\u001b[38;5;28;43minput\u001b[39;49m\u001b[43m(\u001b[49m\u001b[38;5;124;43m'\u001b[39;49m\u001b[38;5;124;43m메뉴선택 : \u001b[39;49m\u001b[38;5;124;43m'\u001b[39;49m\u001b[43m)\u001b[49m)\n\u001b[0;32m      8\u001b[0m     \u001b[38;5;28;01mif\u001b[39;00m fn \u001b[38;5;241m==\u001b[39m \u001b[38;5;241m1\u001b[39m:\n\u001b[0;32m      9\u001b[0m         customer \u001b[38;5;241m=\u001b[39m fn1_insert_customer_info() \u001b[38;5;66;03m# 입력받은 내용으로 customer객체를 반환\u001b[39;00m\n",
      "File \u001b[1;32m~\\anaconda3\\lib\\site-packages\\ipykernel\\kernelbase.py:1175\u001b[0m, in \u001b[0;36mKernel.raw_input\u001b[1;34m(self, prompt)\u001b[0m\n\u001b[0;32m   1171\u001b[0m \u001b[38;5;28;01mif\u001b[39;00m \u001b[38;5;129;01mnot\u001b[39;00m \u001b[38;5;28mself\u001b[39m\u001b[38;5;241m.\u001b[39m_allow_stdin:\n\u001b[0;32m   1172\u001b[0m     \u001b[38;5;28;01mraise\u001b[39;00m StdinNotImplementedError(\n\u001b[0;32m   1173\u001b[0m         \u001b[38;5;124m\"\u001b[39m\u001b[38;5;124mraw_input was called, but this frontend does not support input requests.\u001b[39m\u001b[38;5;124m\"\u001b[39m\n\u001b[0;32m   1174\u001b[0m     )\n\u001b[1;32m-> 1175\u001b[0m \u001b[38;5;28;01mreturn\u001b[39;00m \u001b[38;5;28;43mself\u001b[39;49m\u001b[38;5;241;43m.\u001b[39;49m\u001b[43m_input_request\u001b[49m\u001b[43m(\u001b[49m\n\u001b[0;32m   1176\u001b[0m \u001b[43m    \u001b[49m\u001b[38;5;28;43mstr\u001b[39;49m\u001b[43m(\u001b[49m\u001b[43mprompt\u001b[49m\u001b[43m)\u001b[49m\u001b[43m,\u001b[49m\n\u001b[0;32m   1177\u001b[0m \u001b[43m    \u001b[49m\u001b[38;5;28;43mself\u001b[39;49m\u001b[38;5;241;43m.\u001b[39;49m\u001b[43m_parent_ident\u001b[49m\u001b[43m[\u001b[49m\u001b[38;5;124;43m\"\u001b[39;49m\u001b[38;5;124;43mshell\u001b[39;49m\u001b[38;5;124;43m\"\u001b[39;49m\u001b[43m]\u001b[49m\u001b[43m,\u001b[49m\n\u001b[0;32m   1178\u001b[0m \u001b[43m    \u001b[49m\u001b[38;5;28;43mself\u001b[39;49m\u001b[38;5;241;43m.\u001b[39;49m\u001b[43mget_parent\u001b[49m\u001b[43m(\u001b[49m\u001b[38;5;124;43m\"\u001b[39;49m\u001b[38;5;124;43mshell\u001b[39;49m\u001b[38;5;124;43m\"\u001b[39;49m\u001b[43m)\u001b[49m\u001b[43m,\u001b[49m\n\u001b[0;32m   1179\u001b[0m \u001b[43m    \u001b[49m\u001b[43mpassword\u001b[49m\u001b[38;5;241;43m=\u001b[39;49m\u001b[38;5;28;43;01mFalse\u001b[39;49;00m\u001b[43m,\u001b[49m\n\u001b[0;32m   1180\u001b[0m \u001b[43m\u001b[49m\u001b[43m)\u001b[49m\n",
      "File \u001b[1;32m~\\anaconda3\\lib\\site-packages\\ipykernel\\kernelbase.py:1217\u001b[0m, in \u001b[0;36mKernel._input_request\u001b[1;34m(self, prompt, ident, parent, password)\u001b[0m\n\u001b[0;32m   1214\u001b[0m             \u001b[38;5;28;01mbreak\u001b[39;00m\n\u001b[0;32m   1215\u001b[0m \u001b[38;5;28;01mexcept\u001b[39;00m \u001b[38;5;167;01mKeyboardInterrupt\u001b[39;00m:\n\u001b[0;32m   1216\u001b[0m     \u001b[38;5;66;03m# re-raise KeyboardInterrupt, to truncate traceback\u001b[39;00m\n\u001b[1;32m-> 1217\u001b[0m     \u001b[38;5;28;01mraise\u001b[39;00m \u001b[38;5;167;01mKeyboardInterrupt\u001b[39;00m(\u001b[38;5;124m\"\u001b[39m\u001b[38;5;124mInterrupted by user\u001b[39m\u001b[38;5;124m\"\u001b[39m) \u001b[38;5;28;01mfrom\u001b[39;00m \u001b[38;5;28mNone\u001b[39m\n\u001b[0;32m   1218\u001b[0m \u001b[38;5;28;01mexcept\u001b[39;00m \u001b[38;5;167;01mException\u001b[39;00m:\n\u001b[0;32m   1219\u001b[0m     \u001b[38;5;28mself\u001b[39m\u001b[38;5;241m.\u001b[39mlog\u001b[38;5;241m.\u001b[39mwarning(\u001b[38;5;124m\"\u001b[39m\u001b[38;5;124mInvalid Message:\u001b[39m\u001b[38;5;124m\"\u001b[39m, exc_info\u001b[38;5;241m=\u001b[39m\u001b[38;5;28;01mTrue\u001b[39;00m)\n",
      "\u001b[1;31mKeyboardInterrupt\u001b[0m: Interrupted by user"
     ]
    }
   ],
   "source": [
    "def main():\n",
    "    global customer_list\n",
    "    customer_list = load_customers() # ch09_customers.txt의 내용을 load\n",
    "    while True:\n",
    "        print(\"1:입력\",\"2:전체출력\",\"3:삭제\",\"4:이름찾기\",\"5:내보내기(CSV)\", \"9:종료\", \n",
    "              sep=' | ', end=' ')\n",
    "        fn = int(input('메뉴선택 : '))\n",
    "        if fn == 1:\n",
    "            customer = fn1_insert_customer_info() # 입력받은 내용으로 customer객체를 반환\n",
    "            customer_list.append(customer)\n",
    "        elif fn == 2:\n",
    "            fn2_print_customer(customer_list)\n",
    "        elif fn == 3:\n",
    "            fn3_delete_customer(customer_list)\n",
    "        elif fn == 4:\n",
    "            fn4_search_customer(customer_list)\n",
    "        elif fn == 5:\n",
    "            fn5_save_customer_csv(customer_list)\n",
    "        elif fn == 9:\n",
    "            fn9_save_customer_txt(customer_list)\n",
    "            break\n",
    "if __name__ == '__main__':\n",
    "    main()"
   ]
  },
  {
   "cell_type": "markdown",
   "id": "45ffc995",
   "metadata": {},
   "source": []
  },
  {
   "cell_type": "code",
   "execution_count": null,
   "id": "27f47497",
   "metadata": {},
   "outputs": [],
   "source": []
  },
  {
   "cell_type": "code",
   "execution_count": null,
   "id": "c1de87a5",
   "metadata": {},
   "outputs": [],
   "source": []
  }
 ],
 "metadata": {
  "kernelspec": {
   "display_name": "Python 3 (ipykernel)",
   "language": "python",
   "name": "python3"
  },
  "language_info": {
   "codemirror_mode": {
    "name": "ipython",
    "version": 3
   },
   "file_extension": ".py",
   "mimetype": "text/x-python",
   "name": "python",
   "nbconvert_exporter": "python",
   "pygments_lexer": "ipython3",
   "version": "3.10.9"
  },
  "toc": {
   "base_numbering": 1,
   "nav_menu": {},
   "number_sections": false,
   "sideBar": true,
   "skip_h1_title": false,
   "title_cell": "Table of Contents",
   "title_sidebar": "Contents",
   "toc_cell": false,
   "toc_position": {
    "height": "calc(100% - 180px)",
    "left": "10px",
    "top": "150px",
    "width": "165px"
   },
   "toc_section_display": true,
   "toc_window_display": true
  }
 },
 "nbformat": 4,
 "nbformat_minor": 5
}
