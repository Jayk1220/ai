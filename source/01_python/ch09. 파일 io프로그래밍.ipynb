{
 "cells": [
  {
   "cell_type": "code",
   "execution_count": 1,
   "id": "43af44f8",
   "metadata": {},
   "outputs": [
    {
     "data": {
      "text/html": [
       "\n",
       "<style>\n",
       "div.container{width:90% !important;}\n",
       "div.cell.code_cell.rendered{width:100%;}\n",
       "div.input_prompt{padding:0px;}\n",
       "div.CodeMirror{font-family:Consolas; font-size:15pt;}\n",
       "div.text_cell_render.rendered_html{font-size:15pt;}\n",
       "div.output{font-size:12pt; font-weight:bold;}\n",
       "div.input{font-family:Consolas; font-size:15pt;}\n",
       "div.prompt{min-width:70px;}\n",
       "div#toc-wrapper{padding-top:120px;}\n",
       "div.text_cell_renderulli{font-size:12pt;padding:5px;}\n",
       "table.dataframe{font-size:12px;}\n",
       "</style>\n"
      ],
      "text/plain": [
       "<IPython.core.display.HTML object>"
      ]
     },
     "metadata": {},
     "output_type": "display_data"
    }
   ],
   "source": [
    "from IPython.display import display, HTML\n",
    "display(HTML(\"\"\"\n",
    "<style>\n",
    "div.container{width:90% !important;}\n",
    "div.cell.code_cell.rendered{width:100%;}\n",
    "div.input_prompt{padding:0px;}\n",
    "div.CodeMirror{font-family:Consolas; font-size:15pt;}\n",
    "div.text_cell_render.rendered_html{font-size:15pt;}\n",
    "div.output{font-size:12pt; font-weight:bold;}\n",
    "div.input{font-family:Consolas; font-size:15pt;}\n",
    "div.prompt{min-width:70px;}\n",
    "div#toc-wrapper{padding-top:120px;}\n",
    "div.text_cell_renderulli{font-size:12pt;padding:5px;}\n",
    "table.dataframe{font-size:12px;}\n",
    "</style>\n",
    "\"\"\"))"
   ]
  },
  {
   "cell_type": "markdown",
   "id": "8af0d143",
   "metadata": {},
   "source": [
    "<b><font size=\"6\" color=\"red\">ch09. 파일 i/o 프로그래밍 </font></b>\n",
    " - 파일 : txt, pickle (머신러닝모델저장, 배열 저장), csv, json h5(딥러닝 모델저장)\n",
    " \n",
    " # 1. txt파일에 데이터 저장하고 불러오기"
   ]
  },
  {
   "cell_type": "code",
   "execution_count": 4,
   "id": "3cde700f",
   "metadata": {},
   "outputs": [
    {
     "name": "stdout",
     "output_type": "stream",
     "text": [
      "쓰기 가능한지 :  True\n"
     ]
    }
   ],
   "source": [
    "#mode : 'r' 또는 'rt' : 텍스트 읽기모드로 열기. 파일이 없을 경우 예외\n",
    "#     : 'w' 또는 'wt' : 텍스트 쓰기모드로 열기. 폴더가 없을 경우 예외\n",
    "                    # 파일이 없으면 생성, 파일이 있으면 덮어씀\n",
    "# mode = 'a' 또는 'at' : 텍스트 쓰기모드로 열기. 폴더가 없을경우 예외 발생\n",
    "                    # 파일이 없으면 생성,파일이 있으면 뒤에 append\n",
    "f = open('Data/ch09.txt','w') #encoding = 'cp949' (win)\n",
    "print('쓰기 가능한지 : ', f.writable())\n"
   ]
  },
  {
   "cell_type": "code",
   "execution_count": 6,
   "id": "393bd4d3",
   "metadata": {},
   "outputs": [
    {
     "data": {
      "text/plain": [
       "12"
      ]
     },
     "execution_count": 6,
     "metadata": {},
     "output_type": "execute_result"
    }
   ],
   "source": [
    "f.write('hello\\nworld\\n')"
   ]
  },
  {
   "cell_type": "code",
   "execution_count": 7,
   "id": "a11d8b23",
   "metadata": {},
   "outputs": [],
   "source": [
    "f.close()"
   ]
  },
  {
   "cell_type": "code",
   "execution_count": 8,
   "id": "8e2bd38b",
   "metadata": {},
   "outputs": [
    {
     "name": "stdout",
     "output_type": "stream",
     "text": [
      "쓰기 가능한지 :  True\n"
     ]
    }
   ],
   "source": [
    "f = open('Data/ch09.txt','w') #encoding = 'cp949' (win)\n",
    "print('쓰기 가능한지 : ', f.writable())"
   ]
  },
  {
   "cell_type": "code",
   "execution_count": 9,
   "id": "5aab7020",
   "metadata": {},
   "outputs": [
    {
     "name": "stdout",
     "output_type": "stream",
     "text": [
      "쓰기 가능한지 : True\n"
     ]
    }
   ],
   "source": [
    "#with 구문을 사용하면 매번 close() 하는 코드 불필요\n",
    "\n",
    "with open('Data/ch09.txt', 'wt') as f:\n",
    "    print('쓰기 가능한지 :' , f.writable())\n",
    "    f.write('python is easy\\npython is smart\\n')"
   ]
  },
  {
   "cell_type": "code",
   "execution_count": 11,
   "id": "f1df75ff",
   "metadata": {},
   "outputs": [
    {
     "name": "stdout",
     "output_type": "stream",
     "text": [
      "프린트 함수로 파일 쓰기가 가능합니다 - 콘솔출력\n"
     ]
    }
   ],
   "source": [
    "\n",
    "with open('Data/ch09.txt', 'wt') as f: #cp949\n",
    "    print(\"프린트 함수로 파일 쓰기가 가능합니다 - 파일출력\",file=f)\n",
    "    print(\"프린트 함수로 파일 쓰기가 가능합니다 - 콘솔출력\")"
   ]
  },
  {
   "cell_type": "markdown",
   "id": "40a6ef7d",
   "metadata": {},
   "source": [
    "  - 한글 읽/쓰기 \n",
    "   * cp949 : (한글완성형확장형) open 함수의 기본 인코딩 방식 (win) 주피터에서 안열림\n",
    "   * utf-8 : (한글조합형) 주피터 노트북에서 열림"
   ]
  },
  {
   "cell_type": "code",
   "execution_count": null,
   "id": "6601e42f",
   "metadata": {},
   "outputs": [],
   "source": []
  }
 ],
 "metadata": {
  "kernelspec": {
   "display_name": "Python 3 (ipykernel)",
   "language": "python",
   "name": "python3"
  },
  "language_info": {
   "codemirror_mode": {
    "name": "ipython",
    "version": 3
   },
   "file_extension": ".py",
   "mimetype": "text/x-python",
   "name": "python",
   "nbconvert_exporter": "python",
   "pygments_lexer": "ipython3",
   "version": "3.10.9"
  },
  "toc": {
   "base_numbering": 1,
   "nav_menu": {},
   "number_sections": false,
   "sideBar": true,
   "skip_h1_title": false,
   "title_cell": "Table of Contents",
   "title_sidebar": "Contents",
   "toc_cell": false,
   "toc_position": {},
   "toc_section_display": true,
   "toc_window_display": false
  }
 },
 "nbformat": 4,
 "nbformat_minor": 5
}
