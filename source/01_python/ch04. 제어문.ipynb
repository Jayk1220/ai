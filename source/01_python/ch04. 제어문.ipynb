{
 "cells": [
  {
   "cell_type": "code",
   "execution_count": 1,
   "id": "b7f035c1",
   "metadata": {},
   "outputs": [
    {
     "data": {
      "text/html": [
       "\n",
       "<style>\n",
       "div.container{width:90% !important;}\n",
       "div.cell.code_cell.rendered{width:100%;}\n",
       "div.input_prompt{padding:0px;}\n",
       "div.CodeMirror{font-family:Consolas; font-size:15pt;}\n",
       "div.text_cell_render.rendered_html{font-size:15pt;}\n",
       "div.output{font-size:12pt; font-weight:bold;}\n",
       "div.input{font-family:Consolas; font-size:15pt;}\n",
       "div.prompt{min-width:70px;}\n",
       "div#toc-wrapper{padding-top:120px;}\n",
       "div.text_cell_renderulli{font-size:12pt;padding:5px;}\n",
       "table.dataframe{font-size:12px;}\n",
       "</style>\n"
      ],
      "text/plain": [
       "<IPython.core.display.HTML object>"
      ]
     },
     "metadata": {},
     "output_type": "display_data"
    }
   ],
   "source": [
    "from IPython.display import display, HTML\n",
    "display(HTML(\"\"\"\n",
    "<style>\n",
    "div.container{width:90% !important;}\n",
    "div.cell.code_cell.rendered{width:100%;}\n",
    "div.input_prompt{padding:0px;}\n",
    "div.CodeMirror{font-family:Consolas; font-size:15pt;}\n",
    "div.text_cell_render.rendered_html{font-size:15pt;}\n",
    "div.output{font-size:12pt; font-weight:bold;}\n",
    "div.input{font-family:Consolas; font-size:15pt;}\n",
    "div.prompt{min-width:70px;}\n",
    "div#toc-wrapper{padding-top:120px;}\n",
    "div.text_cell_renderulli{font-size:12pt;padding:5px;}\n",
    "table.dataframe{font-size:12px;}\n",
    "</style>\n",
    "\"\"\"))\n"
   ]
  },
  {
   "cell_type": "markdown",
   "id": "7fa7af34",
   "metadata": {},
   "source": [
    "<b><font size=\"6\" color=\"red\">ch04. 제어문 </font></b>\n",
    "\n",
    " - 조건문 : if문\n",
    " - 반복문 : for문 (반복횟수), while문 (조건) \n",
    "  \n",
    "  **모두 중첩가능**"
   ]
  },
  {
   "cell_type": "markdown",
   "id": "f928aec6",
   "metadata": {},
   "source": [
    "# 1. 조건문 (if)\n",
    "\n",
    "\n",
    "```\n",
    "if 조건 1 (T/F):\n",
    "    조건1이 True일 경우 수행할 명령어들 (들여쓰기 중요. if절 단독 가능)\n",
    "elif 조건 2:\n",
    "    조건1dl False이고, 조건2가 True일 경우 수행할 명령어들\n",
    "else:\n",
    "    모든 조건이 False일때 수행할 명령어들 (elif, else는 단독 사용 불가)\n",
    "```"
   ]
  },
  {
   "cell_type": "code",
   "execution_count": null,
   "id": "c6c5dd2f",
   "metadata": {},
   "outputs": [],
   "source": [
    "score = int(input('Enter your score: '))\n",
    "if score >= 90:\n",
    "    print(\"참 잘했어요\")\n",
    "    print('다음에도 기대할게요')\n",
    "elif: score >=60\n",
    "    print(\"not bad\")\n",
    "else: \n",
    "    print(\"재시험 응시하세요\")\n",
    "    print('화이팅')"
   ]
  },
  {
   "cell_type": "code",
   "execution_count": null,
   "id": "e2e9834d",
   "metadata": {},
   "outputs": [],
   "source": [
    "# ex. 점수를 입력받아 학점출력 (A,B,C,D,F,유효하지 않은점수)\n",
    "\n",
    "GPA = int(input(\"Insert your score: \"))\n",
    "if GPA >100 or GPA<0:\n",
    "    print (\"점수를 다시 확인하세요\")\n",
    "elif 90 <= GPA <= 100: #GPA >=90: 내가 쓴 식\n",
    "    print (\"A학점\")\n",
    "elif 80 <= GPA <90: #GPA >=80:\n",
    "    print ('B학점')\n",
    "elif 70 <= GPA <80: #GPA >= 70:\n",
    "    print ('C')\n",
    "elif 60 <= GPA < 70: #GPA >= 60:\n",
    "    print ('D학점')\n",
    "else:\n",
    "    print(\"F학점\")"
   ]
  },
  {
   "cell_type": "code",
   "execution_count": null,
   "id": "6dbfe1ab",
   "metadata": {},
   "outputs": [],
   "source": [
    "score = int(input(\"Insert your score: \"))\n",
    "if score >100 or score<0:\n",
    "    print (\"점수를 다시 확인하세요\")\n",
    "elif 90 <= score <= 100: #GPA >=90: 내가 쓴 식\n",
    "    GPA = \"A학점\"\n",
    "elif 80 <= score <90: #GPA >=80:\n",
    "    GPA = \"B학점\"\n",
    "elif 70 <= score <80: #GPA >= 70:\n",
    "    GPA = \"C학점\"\n",
    "elif 60 <= score < 70: #GPA >= 60:\n",
    "    GPA = \"D학점\"\n",
    "else:\n",
    "    GPA = \"F학점\"\n",
    "print(\"입력하신 점수 {}점은 {}\".format(score,GPA))\n",
    "print(f\"입력하신 점수 {score}점은 {GPA}\")"
   ]
  },
  {
   "cell_type": "markdown",
   "id": "2099fbee",
   "metadata": {},
   "source": [
    "# 2. 반복문\n",
    "## 2.1 for - in 문 \n",
    "```\n",
    "for 임시변수 in 나열 가능한 자료: \n",
    "    반복할 문장 1\n",
    "    반복할 문장 2\n",
    "    ...\n",
    "else:\n",
    "    나열가능한 자료를 다 소요하여 for 블록을 전부 수행 후, 최종 한번 실행할 문장들\n",
    "    for문 안의 break를 수행할 경우, else블록을 수행하지 않음 (else는 선택)\n",
    "```"
   ]
  },
  {
   "cell_type": "code",
   "execution_count": null,
   "id": "e296f70f",
   "metadata": {},
   "outputs": [],
   "source": [
    "for i in range (1,10,2):\n",
    "    print(i, end='\\t')\n",
    "else: \n",
    "    print('Done')\n",
    "print('end')"
   ]
  },
  {
   "cell_type": "code",
   "execution_count": null,
   "id": "5287bc61",
   "metadata": {},
   "outputs": [],
   "source": [
    "for i in range(10):\n",
    "    if i==5:\n",
    "        break #현재 반복문을 빠저나가\n",
    "    print(i, end='\\t')\n",
    "else:\n",
    "    print('\\nDone')\n",
    "print('end')"
   ]
  },
  {
   "cell_type": "code",
   "execution_count": null,
   "id": "ce1e3855",
   "metadata": {},
   "outputs": [],
   "source": [
    "# 1 - 100 까지 합을 계산하고 출력 (for문)\n",
    "sum = 0 #누적변수\n",
    "for i in range (1,101):\n",
    "    sum += i #sum = sum + i\n",
    "else:\n",
    "    print('1-100까지의  합은', sum)"
   ]
  },
  {
   "cell_type": "code",
   "execution_count": null,
   "id": "cc2affb4",
   "metadata": {},
   "outputs": [],
   "source": [
    "# 1 - 100 까지 짝수들의 합을 계산하고 출력 (for문)\n",
    "sum = 0 #누적변수\n",
    "for i in range (1,101):\n",
    "    if i%2 ==0:\n",
    "        sum += i #sum = sum + i\n",
    "else:\n",
    "    print('1-100까지의 짝수들의 합은', sum)"
   ]
  },
  {
   "cell_type": "markdown",
   "id": "d10053b3",
   "metadata": {},
   "source": [
    " ## 2.2 While 문\n",
    "\n",
    "```\n",
    "while 조건:\n",
    "    조건이 True 일 경우 반복할 문장들\n",
    "else:\n",
    "    조건이 False일 경우 한번 실행할 문장들 (else 구문 선택사항)\n",
    "    while문 내 break를 수행할 경우 else 구문은 실행되지 않음\n",
    "```"
   ]
  },
  {
   "cell_type": "code",
   "execution_count": null,
   "id": "37870bf4",
   "metadata": {},
   "outputs": [],
   "source": [
    "# 1 - 100 까지 짝수들의 합을 계산하고 출력 (while문)\n",
    "sum = 0 #누적변수\n",
    "i = 1 #i값 초기화\n",
    "while i <= 100:\n",
    "    if i%2 ==0:\n",
    "        sum += i # sum = sum+10\n",
    "    i += 1\n",
    "else:\n",
    "    print('1부터 100까지 짝수의 합은',sum)"
   ]
  },
  {
   "cell_type": "code",
   "execution_count": null,
   "id": "a1a81cef",
   "metadata": {},
   "outputs": [],
   "source": [
    "#ex.1 사용자에게 두 정수를 입력받아, 작은 수 부터 큰 수 까지 홀수의 합을 누적해서 출력\n",
    "\n",
    "value = 0\n",
    "#정수 입력\n",
    "int1 = int(input('숫자를 입력하세요: '))\n",
    "int2 = int(input('추가적인 숫자를 입력하세요: '))\n",
    "\n",
    "#정수 중 큰 수 작은수 확인\n",
    "start = min(int1,int2)\n",
    "end = max(int1,int2)\n",
    "\n",
    "for i in range(start,end+1):\n",
    "    if i%2 != 0:\n",
    "        value += i\n",
    "            \n",
    "print (value)"
   ]
  },
  {
   "cell_type": "code",
   "execution_count": null,
   "id": "d23a83aa",
   "metadata": {},
   "outputs": [],
   "source": [
    "first = int(input('숫자를 입력하세요: '))\n",
    "second = int(input('추가적인 숫자를 입력하세요: '))\n",
    "\n",
    "if first > second:\n",
    "    first, second = second, first\n",
    "#    temp = first\n",
    "#    first = second\n",
    "#    second = temp\n",
    "\n",
    "sum = 0\n",
    "for i in range(first,second+1):\n",
    "    if i%2: #if (i%2 ==1) | (i%2 ==-1):\n",
    "        sum += i\n",
    "print(\"{}~{}까지 누적합은{}\".format(first,second,sum))"
   ]
  },
  {
   "cell_type": "code",
   "execution_count": null,
   "id": "e5e46efb",
   "metadata": {},
   "outputs": [],
   "source": [
    "#ex.2 로또 번호 6개 추출 후 정렬하여 출력"
   ]
  },
  {
   "cell_type": "code",
   "execution_count": null,
   "id": "79ae0e5e",
   "metadata": {},
   "outputs": [],
   "source": [
    "import random\n",
    "#random.seed(3)\n",
    "#random.random() #0이상 1미만 실수 난수\n",
    "#random.randint(1,45) #1-45의 정수 난수\n",
    "random.choice(['남자','여자']) #남녀 선택(확률 일치)\n",
    "random.choices(['사기꾼','일반'],weights=[0.1,0.9])"
   ]
  },
  {
   "cell_type": "code",
   "execution_count": null,
   "id": "0fc8c235",
   "metadata": {},
   "outputs": [],
   "source": [
    "import random\n",
    "\n",
    "numbers = set({})\n",
    "while len(numbers)<6:\n",
    "    numbers.add(random.randint(1,45))\n",
    "print(sorted(list(numbers)))"
   ]
  },
  {
   "cell_type": "code",
   "execution_count": null,
   "id": "269bb2be",
   "metadata": {},
   "outputs": [],
   "source": [
    "import random\n",
    "\n",
    "cnt = 0 # 임의의수 발생횟수\n",
    "lotto_lst = [] #추출된 로또번호를 담을 변수\n",
    "while len(lotto_lst) < 6:\n",
    "    temp = random.randint(1,45) #d임의의수를 temp\n",
    "    cnt += 1\n",
    "    if temp not in lotto_lst: #if not temp in lotto_lst:\n",
    "            lotto_lst.append(temp)\n",
    "print('{}번 로또번호 추출함 : {}'.format(cnt,lotto_lst))\n",
    "            #print(cnt, sorted(lotto_lst))\n",
    "\n",
    "    #정렬 알고리즘\n",
    "for i in range (len(lotto_lst)-1):\n",
    "    for j in range(i+1, len(lotto_lst)):\n",
    "        if lotto_lst[i] > lotto_lst[j]:\n",
    "            lotto_lst[i], lotto_lst[j] = lotto_lst[j], lotto_lst[i]\n",
    "print ('정렬 후: ', lotto_lst)"
   ]
  },
  {
   "cell_type": "code",
   "execution_count": null,
   "id": "c8a17700",
   "metadata": {},
   "outputs": [],
   "source": [
    "lotto_set = set()\n",
    "while len(lotto_set)<6:\n",
    "    lotto_set.add(random.randint(1,45))\n",
    "sorted(lotto_set)"
   ]
  },
  {
   "cell_type": "markdown",
   "id": "60d8d629",
   "metadata": {},
   "source": [
    "## 2.3 break down\n",
    " - break : 현재 반복문 탈출\n",
    " - continue : 수행중인 반복문을 멈추고 조건절로"
   ]
  },
  {
   "cell_type": "code",
   "execution_count": null,
   "id": "9524652e",
   "metadata": {},
   "outputs": [],
   "source": [
    "num = 0\n",
    "while num<10:\n",
    "    num += 1\n",
    "    if num == 5:\n",
    "        # break\n",
    "        continue\n",
    "    print(num, end=' ')\n",
    "print('END')"
   ]
  },
  {
   "cell_type": "code",
   "execution_count": null,
   "id": "8de1da71",
   "metadata": {},
   "outputs": [],
   "source": [
    "# 숫자 찾기\n",
    "\n",
    "'''\n",
    "1-100사이 숫자 맞추기\n",
    "(프로그램 안에서 random 수가 만들어지고, 그 수 맞추기)\n",
    "\n",
    "1단계: 숫자를 못 맞추면 up/down 출력, 맞추면 축하메시지 출력 후 종료\n",
    "2단계: 숫자를 못 맞추면 min(0), max(100)를 조정하고 맞추면 축하메시지 출력 후 종료\n",
    "3단계: 2단계의 기회를 5회로 제한\n",
    "'''"
   ]
  },
  {
   "cell_type": "code",
   "execution_count": null,
   "id": "1c8eb46b",
   "metadata": {},
   "outputs": [],
   "source": [
    "#1 단계\n",
    "\n",
    "#랜덤 숫자 생성\n",
    "import random\n",
    "number = random.randint(1,100)\n",
    "print('생성 난수: ',number)\n",
    "while True:\n",
    "    inputNum = int(input('1-100사이의 숫자: '))\n",
    "    if (inputNum<1) | (inputNum>100):\n",
    "        print(\"수의 범위를 벗어났습니다\")\n",
    "    elif number < inputNum :\n",
    "        print('down↓')\n",
    "    elif number > inputNum:\n",
    "        print('up↑')\n",
    "    else:\n",
    "        print(\"정답\")\n",
    "        break\n",
    "print('bye')"
   ]
  },
  {
   "cell_type": "code",
   "execution_count": null,
   "id": "cb4299c3",
   "metadata": {},
   "outputs": [],
   "source": [
    "# 2단계\n",
    "\n",
    "#랜덤 숫자 생성\n",
    "import random\n",
    "number = random.randint(1,100)\n",
    "print(number)\n",
    "answer = int(input('1-100 사이의 숫자: '))\n",
    "answer_1 = int(input(f'{answer+1}-100 사이의 숫자: '))\n",
    "answer_2 = int(input(f'1-{answer-1} 사이의 숫자: '))    \n",
    "while True:\n",
    "\n",
    "    if (answer > 100) | (answer < 1):\n",
    "        print('숫자를 다시 입력할 것')\n",
    "    elif number > answer:\n",
    "        print(answer_1)\n",
    "        print('up')\n",
    "    elif number < answer:\n",
    "        print(answer_2)\n",
    "        [print('down')]\n",
    "    else:\n",
    "        break\n",
    "        print(\"good\")\n",
    "\n"
   ]
  },
  {
   "cell_type": "code",
   "execution_count": null,
   "id": "042d8a17",
   "metadata": {},
   "outputs": [],
   "source": [
    "#랜덤 숫자 생성\n",
    "import random\n",
    "number = random.randint(1,100)\n",
    "\n",
    "print(number)\n",
    "answer = int(input('{}-{} 사이의 숫자: '))\n",
    "\n",
    "while True:\n",
    "    if (answer < 1) | (answer > 100):\n",
    "        print('숫자를 확인하세요')\n",
    "        \n",
    "        \n",
    "        break\n",
    "        "
   ]
  },
  {
   "cell_type": "code",
   "execution_count": null,
   "id": "6fa2a826",
   "metadata": {},
   "outputs": [],
   "source": []
  },
  {
   "cell_type": "code",
   "execution_count": null,
   "id": "f9481f72",
   "metadata": {},
   "outputs": [],
   "source": []
  },
  {
   "cell_type": "code",
   "execution_count": null,
   "id": "a4ebd834",
   "metadata": {},
   "outputs": [],
   "source": []
  },
  {
   "cell_type": "code",
   "execution_count": null,
   "id": "975b65d1",
   "metadata": {},
   "outputs": [],
   "source": []
  },
  {
   "cell_type": "markdown",
   "id": "09b246d1",
   "metadata": {},
   "source": [
    "# 3 중첩루프\n",
    "(반복문 안의 반복문)"
   ]
  },
  {
   "cell_type": "code",
   "execution_count": null,
   "id": "d5d8589c",
   "metadata": {},
   "outputs": [],
   "source": [
    "#2-9단 구구단 출력\n",
    "\n",
    "for i in range(2,10):\n",
    "    print(\"{:^6}\".format(str(i)+'단'),end='\\t')\n",
    "print()\n",
    "for i in range (1,10):\n",
    "    for j in range (2,10):\n",
    "        print(\"{}x{}={:2}\".format(j,i,i*j), end ='\\t')\n",
    "    print()"
   ]
  },
  {
   "cell_type": "code",
   "execution_count": null,
   "id": "3c130015",
   "metadata": {},
   "outputs": [],
   "source": [
    "lst_2d = [[1,2,3,4],\n",
    "          [5,6,7,8]]\n",
    "for i in range(len(lst_2d)): #행\n",
    "    for j in range(len(lst_2d[i])): #열\n",
    "        print(\"{}행{}열 : {}\". format(i,j,lst_2d[i][j]),end='\\t')\n",
    "    print()\n",
    "        "
   ]
  },
  {
   "cell_type": "markdown",
   "id": "e26dc83d",
   "metadata": {},
   "source": [
    " # 4. 중첩루프 탈출\n",
    " "
   ]
  },
  {
   "cell_type": "code",
   "execution_count": null,
   "id": "bc006fa0",
   "metadata": {},
   "outputs": [],
   "source": [
    "for a in range(0,3): #a=0,1,2일때\n",
    "    for b in range (1,3): # b=1,2일때\n",
    "        print(a,b)\n",
    "print('done')\n"
   ]
  },
  {
   "cell_type": "code",
   "execution_count": null,
   "id": "04c76e87",
   "metadata": {},
   "outputs": [],
   "source": [
    "#중첩루프 탈출방벙 1. Flag변수 이용\n",
    "\n",
    "\n",
    "\n",
    "for a in range(0,3): #a=0,1,2일때\n",
    "    for b in range (1,3): # b=1,2일때\n",
    "        if a==b:\n",
    "            print(\"a={}, b={}일때 break\".format(a,b))\n",
    "            break\n",
    "        print(a,b)\n",
    "print('done')"
   ]
  },
  {
   "cell_type": "code",
   "execution_count": null,
   "id": "19fa3ea0",
   "metadata": {},
   "outputs": [],
   "source": [
    "flag = False # break를 만나면 True\n",
    "\n",
    "for a in range(0,3): #a=0,1,2일때\n",
    "    for b in range (1,3): # b=1,2일때\n",
    "        if a==b:\n",
    "            flag = True\n",
    "            break\n",
    "        print(a,b)\n",
    "    if flag:\n",
    "        break\n",
    "print('done')"
   ]
  },
  {
   "cell_type": "code",
   "execution_count": 9,
   "id": "10a14864",
   "metadata": {},
   "outputs": [
    {
     "name": "stdout",
     "output_type": "stream",
     "text": [
      "0 1\n",
      "0 2\n",
      "a=1, b=1일때 break\n",
      "1 1\n",
      "1 2\n",
      "2 1\n",
      "a=2, b=2일때 break\n",
      "2 2\n"
     ]
    }
   ],
   "source": [
    "#중첩루프 탈출방벙 2. 예외(exception)처리 이용\n",
    "# Exception을 상속받은 class\n",
    "class BreakOutLoopException(Exception):\n",
    "    pass\n",
    "\n"
   ]
  },
  {
   "cell_type": "code",
   "execution_count": null,
   "id": "d941e8ee",
   "metadata": {},
   "outputs": [],
   "source": [
    "try:\n",
    "    for a in range(0,3): #a=0,1,2일때\n",
    "        for b in range (1,3): # b=1,2일때\n",
    "            if a==b:\n",
    "                print(\"a={}, b={}일때 break\".format(a,b))\n",
    "                #중첩반복문 탈출 (강제로 예외 발생)\n",
    "            print(a,b)\n",
    "except:\n",
    "    print(\"done\")\n"
   ]
  },
  {
   "cell_type": "code",
   "execution_count": 8,
   "id": "4a878bbf",
   "metadata": {},
   "outputs": [
    {
     "name": "stdout",
     "output_type": "stream",
     "text": [
      "0 1\n",
      "0 2\n",
      "a=1, b=1일때 raise로 탈출\n",
      "done\n"
     ]
    }
   ],
   "source": [
    "try:\n",
    "    for a in range(0,3): #a=0,1,2일때\n",
    "        for b in range (1,3): # b=1,2일때\n",
    "            if a==b:\n",
    "                print(\"a={}, b={}일때 raise로 탈출\".format(a,b))\n",
    "                #중첩반복문 탈출 (강제로 예외 발생)\n",
    "                raise Exception('중첩반복문 탈출')\n",
    "            print(a,b)\n",
    "except:\n",
    "    print(\"done\")\n"
   ]
  },
  {
   "cell_type": "code",
   "execution_count": null,
   "id": "ac24b865",
   "metadata": {},
   "outputs": [],
   "source": []
  },
  {
   "cell_type": "markdown",
   "id": "fd68e70e",
   "metadata": {},
   "source": [
    "# 5. 연습문제"
   ]
  },
  {
   "cell_type": "code",
   "execution_count": 20,
   "id": "1717bf65",
   "metadata": {},
   "outputs": [
    {
     "name": "stdout",
     "output_type": "stream",
     "text": [
      "양의 정수를 입력-1\n",
      "number이 정수인지 여부:  False\n",
      "숫자를 다시 입력\n"
     ]
    }
   ],
   "source": [
    "#1. 양의정수를 입력받아 홀수인지 짝수인지 판별하는 프로그램. 양의 정수가 아닌 경우 숫자를 다시 입력\n",
    "\n",
    "num = input('양의 정수를 입력')\n",
    "print('number이 정수인지 여부: ', num.isdigit())\n",
    "intNumcheck = num.isdigit()\n",
    "\n",
    "\n",
    "while intNumcheck == True:\n",
    "    intNum=int(num)\n",
    "    if intNum%2 == 0:\n",
    "        print('짝수')\n",
    "        break\n",
    "    else: \n",
    "        print('홀수')\n",
    "        break\n",
    "if intNumcheck == False:\n",
    "    print('숫자를 다시 입력')"
   ]
  },
  {
   "cell_type": "code",
   "execution_count": 1,
   "id": "3d6ef0bf",
   "metadata": {},
   "outputs": [
    {
     "name": "stdout",
     "output_type": "stream",
     "text": [
      "(1)\t(2)\t\n",
      "*****\t*\t\n",
      "*****\t**\t\n",
      "*****\t***\t\n",
      "*****\t****\t\n",
      "*****\t*****\t\n"
     ]
    }
   ],
   "source": [
    "# 중첩 for문을 이용 별 출력\n",
    "for i in range(2):\n",
    "    print(f'({i+1})',end='\\t')\n",
    "print()\n",
    "\n",
    "for i in range(1,6):\n",
    "    for j in range (1,3):\n",
    "        while j == 1:\n",
    "            print('*'*5,end='\\t')\n",
    "            break\n",
    "        else: \n",
    "            print('*'*(int(((i*j))/2)),end='\\t')\n",
    "    print()"
   ]
  },
  {
   "cell_type": "code",
   "execution_count": 2,
   "id": "9799cff2",
   "metadata": {},
   "outputs": [
    {
     "name": "stdout",
     "output_type": "stream",
     "text": [
      "165\n"
     ]
    }
   ],
   "source": [
    "#3. 1-30까지 자연수 중 3의 배수의 총 합\n",
    "\n",
    "sum = 0\n",
    "\n",
    "for i in range(0,31):\n",
    "    if i%3 == 0:\n",
    "        sum = sum + i\n",
    "    else:\n",
    "        pass\n",
    "print(sum)"
   ]
  },
  {
   "cell_type": "code",
   "execution_count": null,
   "id": "de67be36",
   "metadata": {},
   "outputs": [],
   "source": [
    "#4. 코드의 실행결과가 \"1 3 5 7 9\"가 되도록\n",
    "\n",
    "num = 0\n",
    "\n",
    "while num <= 10:\n",
    "    if num%2:\n",
    "        print(num,end=' ')\n",
    "    num += 1"
   ]
  },
  {
   "cell_type": "code",
   "execution_count": null,
   "id": "87068bca",
   "metadata": {},
   "outputs": [],
   "source": [
    "#5. 2차원 리스트의 모든 값 출력 \n",
    "list2d = [[1,2,3],[4,5,6,7],[8,9]]\n",
    "for row in list2d:\n",
    "    for data in row:\n",
    "        print(data,end='')\n",
    "    print()"
   ]
  },
  {
   "cell_type": "code",
   "execution_count": null,
   "id": "9786d47d",
   "metadata": {},
   "outputs": [],
   "source": [
    "#6. \n",
    "\n",
    "colors = {\"red\":'apple',\"yellow\":'banana'}\n",
    "for i,v in enumerate(colors.values()):\n",
    "    print(i,v)\n",
    "\n",
    "\n"
   ]
  },
  {
   "cell_type": "code",
   "execution_count": null,
   "id": "17c35d8f",
   "metadata": {},
   "outputs": [],
   "source": [
    "#7 \n",
    "for i in range(0,2):\n",
    "    for j in range(0,2):\n",
    "        if i==j:\n",
    "                break\n",
    "        print(i,j)\n",
    "        \n",
    "    01\n",
    "10 "
   ]
  },
  {
   "cell_type": "code",
   "execution_count": null,
   "id": "eac4219d",
   "metadata": {},
   "outputs": [],
   "source": [
    "#8\n",
    "for i in range(0,2):\n",
    "    for j in range(0,2):\n",
    "        print(i,j)\n",
    "        if i==j:\n",
    "            break\n",
    "            \n",
    "# answer: 2, 01"
   ]
  },
  {
   "cell_type": "code",
   "execution_count": 3,
   "id": "c9f86b2a",
   "metadata": {},
   "outputs": [
    {
     "name": "stdout",
     "output_type": "stream",
     "text": [
      "3579"
     ]
    }
   ],
   "source": [
    "#9\n",
    " \n",
    "L=[3,4,5,6,7,8,9,10]\n",
    "for i, data in enumerate(L):\n",
    "    if i%2==0:\n",
    "        print(data,end=\"\")\n",
    "        \n",
    "#answer: 3579     \n",
    "\n"
   ]
  },
  {
   "cell_type": "code",
   "execution_count": null,
   "id": "b5b1acbf",
   "metadata": {},
   "outputs": [],
   "source": [
    "#10"
   ]
  },
  {
   "cell_type": "code",
   "execution_count": null,
   "id": "848a4744",
   "metadata": {},
   "outputs": [],
   "source": [
    "#1 단계\n",
    "\n",
    "#랜덤 숫자 생성\n",
    "import random\n",
    "number = random.randint(1,100)\n",
    "print('생성 난수: ',number)\n",
    "while True:\n",
    "    inputNum = int(input('1-100사이의 숫자: '))\n",
    "    if (inputNum<1) | (inputNum>100):\n",
    "        print(\"수의 범위를 벗어났습니다\")\n",
    "    elif number < inputNum :\n",
    "        print('down↓')\n",
    "    elif number > inputNum:\n",
    "        print('up↑')\n",
    "    else:\n",
    "        print(\"정답\")\n",
    "        break"
   ]
  },
  {
   "cell_type": "code",
   "execution_count": 5,
   "id": "7a58ee28",
   "metadata": {},
   "outputs": [
    {
     "name": "stdout",
     "output_type": "stream",
     "text": [
      "73\n",
      "1-100까지 숫자 입력30\n",
      "up\n",
      "31-100까지 숫자 입력70\n",
      "up\n",
      "71-100까지 숫자 입력73\n",
      "correct\n"
     ]
    }
   ],
   "source": [
    "# 2단계\n",
    "\n",
    "#랜덤 숫자 생성\n",
    "import random\n",
    "number = random.randint(1,100)\n",
    "print(number)\n",
    "bottom = 1\n",
    "top = 100\n",
    "while True:\n",
    "    inputnumber = int(input((f\"{bottom}-{top}까지 숫자 입력\")))\n",
    "    if (inputnumber > 100) | (inputnumber < 0):\n",
    "        print('숫자를 다시 확인')\n",
    "    elif number > inputnumber:\n",
    "        bottom = inputnumber +1\n",
    "        print('up')\n",
    "    elif number < inputnumber:\n",
    "        top = inputnumber -1\n",
    "        print('down')\n",
    "    else: \n",
    "        print('correct')\n",
    "        break\n",
    "    "
   ]
  },
  {
   "cell_type": "code",
   "execution_count": 6,
   "id": "a8af0172",
   "metadata": {},
   "outputs": [
    {
     "name": "stdout",
     "output_type": "stream",
     "text": [
      "컴퓨터가 발생한 random 수 : 11\n",
      "1~100 사이의 수를 맞춰 보세요(남은기회는 5):40\n",
      "DOWN ↓\n",
      "1~39 사이의 수를 맞춰 보세요(남은기회는 4):20\n",
      "DOWN ↓\n",
      "1~19 사이의 수를 맞춰 보세요(남은기회는 3):30\n",
      "수의 범위를 벗어났습니다\n",
      "1~19 사이의 수를 맞춰 보세요(남은기회는 2):11\n",
      "축하 축하 맞추셨습니다\n",
      "BYE\n"
     ]
    }
   ],
   "source": [
    "# 3단계\n",
    "\n",
    "#랜덤 숫자 생성\n",
    "import random\n",
    "randomNum = random.randint(1, 100)\n",
    "fRom, to = 1, 100\n",
    "print(\"컴퓨터가 발생한 random 수 :\", randomNum)\n",
    "for cnt in range(5, 0, -1):\n",
    "    inputNum = int(input(f\"{fRom}~{to} 사이의 수를 맞춰 보세요(남은기회는 {cnt}):\"))\n",
    "    if (inputNum<fRom) | (inputNum>to):\n",
    "        print('수의 범위를 벗어났습니다')\n",
    "    elif randomNum < inputNum :\n",
    "        print('DOWN ↓')\n",
    "        to = inputNum - 1\n",
    "    elif randomNum > inputNum:\n",
    "        print('UP ↑')\n",
    "        fRom = inputNum + 1\n",
    "    else:\n",
    "        print(\"축하 축하 맞추셨습니다\")\n",
    "        break\n",
    "else:\n",
    "    print('기회를 모두 사용하셨습니다. 실패하셨습니다')\n",
    "print(\"BYE\")\n",
    "    "
   ]
  },
  {
   "cell_type": "code",
   "execution_count": null,
   "id": "0b2bf59a",
   "metadata": {},
   "outputs": [],
   "source": []
  }
 ],
 "metadata": {
  "kernelspec": {
   "display_name": "Python 3 (ipykernel)",
   "language": "python",
   "name": "python3"
  },
  "language_info": {
   "codemirror_mode": {
    "name": "ipython",
    "version": 3
   },
   "file_extension": ".py",
   "mimetype": "text/x-python",
   "name": "python",
   "nbconvert_exporter": "python",
   "pygments_lexer": "ipython3",
   "version": "3.10.9"
  },
  "toc": {
   "base_numbering": 1,
   "nav_menu": {},
   "number_sections": false,
   "sideBar": true,
   "skip_h1_title": false,
   "title_cell": "Table of Contents",
   "title_sidebar": "Contents",
   "toc_cell": false,
   "toc_position": {
    "height": "calc(100% - 180px)",
    "left": "10px",
    "top": "150px",
    "width": "255.17px"
   },
   "toc_section_display": true,
   "toc_window_display": true
  }
 },
 "nbformat": 4,
 "nbformat_minor": 5
}
