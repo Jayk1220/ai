{
 "cells": [
  {
   "cell_type": "code",
   "execution_count": 202,
   "id": "ef614dcd",
   "metadata": {},
   "outputs": [
    {
     "data": {
      "text/html": [
       "\n",
       "<style>\n",
       "div.container{width:90% !important;}\n",
       "div.cell.code_cell.rendered{width:100%;}\n",
       "div.input_prompt{padding:0px;}\n",
       "div.CodeMirror{font-family:Consolas; font-size:15pt;}\n",
       "div.text_cell_render.rendered_html{font-size:15pt;}\n",
       "div.output{font-size:12pt; font-weight:bold;}\n",
       "div.input{font-family:Consolas; font-size:15pt;}\n",
       "div.prompt{min-width:70px;}\n",
       "div#toc-wrapper{padding-top:120px;}\n",
       "div.text_cell_renderulli{font-size:12pt;padding:5px;}\n",
       "table.dataframe{font-size:12px;}\n",
       "</style>\n"
      ],
      "text/plain": [
       "<IPython.core.display.HTML object>"
      ]
     },
     "metadata": {},
     "output_type": "display_data"
    }
   ],
   "source": [
    "from IPython.display import display, HTML\n",
    "display(HTML(\"\"\"\n",
    "<style>\n",
    "div.container{width:90% !important;}\n",
    "div.cell.code_cell.rendered{width:100%;}\n",
    "div.input_prompt{padding:0px;}\n",
    "div.CodeMirror{font-family:Consolas; font-size:15pt;}\n",
    "div.text_cell_render.rendered_html{font-size:15pt;}\n",
    "div.output{font-size:12pt; font-weight:bold;}\n",
    "div.input{font-family:Consolas; font-size:15pt;}\n",
    "div.prompt{min-width:70px;}\n",
    "div#toc-wrapper{padding-top:120px;}\n",
    "div.text_cell_renderulli{font-size:12pt;padding:5px;}\n",
    "table.dataframe{font-size:12px;}\n",
    "</style>\n",
    "\"\"\"))\n"
   ]
  },
  {
   "cell_type": "markdown",
   "id": "dc1df05c",
   "metadata": {},
   "source": [
    "<b><font size=\"6\" color=\"red\">ch02. 자료형과 연산자</font></b>\n",
    "\n",
    "# 5. 연산자\n",
    "## 5.1 산술연산자 :+,-,*,/ (결과 float), // (몫), %(나머지), ** (제곱)\n"
   ]
  },
  {
   "cell_type": "code",
   "execution_count": 1,
   "id": "118465a3",
   "metadata": {},
   "outputs": [
    {
     "name": "stdout",
     "output_type": "stream",
     "text": [
      "10의 5승 = 100000\n",
      "4/2(결과 실수) = 2.0\n",
      "2\n",
      "5//2(몫)=  2\n",
      "5%2(나머지)=  1\n",
      "2.5\n"
     ]
    }
   ],
   "source": [
    "print ('10의 5승 =', 10**5)\n",
    "print('4/2(결과 실수) =', 4/2)\n",
    "print(int(4/2))\n",
    "\n",
    "print('5//2(몫)= ',5//2)\n",
    "print('5%2(나머지)= ',5%2)\n",
    "\n",
    "print(5/2)\n"
   ]
  },
  {
   "cell_type": "code",
   "execution_count": 2,
   "id": "f00d6d2f",
   "metadata": {},
   "outputs": [
    {
     "name": "stdout",
     "output_type": "stream",
     "text": [
      "4**2= 16\n",
      "4**2= 16.0\n"
     ]
    }
   ],
   "source": [
    "# 정수끼리 연산은 결과가 정수 (나누기 제외)\n",
    "#정수와 실수, 실수끼리 연산 결과는 실수\n",
    "\n",
    "print (\"4**2=\", 4**2)\n",
    "print (\"4**2=\", 4**2.0)"
   ]
  },
  {
   "cell_type": "code",
   "execution_count": 3,
   "id": "52b9beb6",
   "metadata": {},
   "outputs": [
    {
     "name": "stdout",
     "output_type": "stream",
     "text": [
      "Insert any number: \n"
     ]
    },
    {
     "ename": "ValueError",
     "evalue": "invalid literal for int() with base 10: ''",
     "output_type": "error",
     "traceback": [
      "\u001b[1;31m---------------------------------------------------------------------------\u001b[0m",
      "\u001b[1;31mValueError\u001b[0m                                Traceback (most recent call last)",
      "Cell \u001b[1;32mIn[3], line 3\u001b[0m\n\u001b[0;32m      1\u001b[0m \u001b[38;5;66;03m#QUIZ 1. 정수를 입력받아 짝수인지 홀수인지 출력 --내 답\u001b[39;00m\n\u001b[1;32m----> 3\u001b[0m input_number \u001b[38;5;241m=\u001b[39m \u001b[38;5;28;43mint\u001b[39;49m\u001b[43m(\u001b[49m\u001b[38;5;28;43minput\u001b[39;49m\u001b[43m(\u001b[49m\u001b[38;5;124;43m\"\u001b[39;49m\u001b[38;5;124;43mInsert any number: \u001b[39;49m\u001b[38;5;124;43m\"\u001b[39;49m\u001b[43m)\u001b[49m\u001b[43m)\u001b[49m\n\u001b[0;32m      4\u001b[0m \u001b[38;5;28;01mif\u001b[39;00m input_number\u001b[38;5;241m/\u001b[39m\u001b[38;5;241m2\u001b[39m \u001b[38;5;241m==\u001b[39m \u001b[38;5;241m0\u001b[39m:\n\u001b[0;32m      5\u001b[0m     \u001b[38;5;28mprint\u001b[39m(\u001b[38;5;124m\"\u001b[39m\u001b[38;5;124mThis is an even number\u001b[39m\u001b[38;5;124m\"\u001b[39m)\n",
      "\u001b[1;31mValueError\u001b[0m: invalid literal for int() with base 10: ''"
     ]
    }
   ],
   "source": [
    "#QUIZ 1. 정수를 입력받아 짝수인지 홀수인지 출력 --내 답\n",
    "\n",
    "input_number = int(input(\"Insert any number: \"))\n",
    "if input_number/2 == 0:\n",
    "    print(\"This is an even number\")\n",
    "else: \n",
    "    print(\"This is an odd number\")"
   ]
  },
  {
   "cell_type": "code",
   "execution_count": null,
   "id": "f5b508a7",
   "metadata": {},
   "outputs": [],
   "source": [
    "#QUIZ 1. 정수를 입력받아 짝수인지 홀수인지 출력 \n",
    "num = int(input('정수를 입력하세요:'))\n",
    "result = num % 2 # -1,0,1\n",
    "if result:\n",
    "    temp = '홀수'\n",
    "else:\n",
    "    temp = '짝수'\n",
    "print(f\"입력하신 수는 {num}, 2로 나눈 나머지는 {result}라서 {temp}를 입력하셨습니다\")"
   ]
  },
  {
   "cell_type": "code",
   "execution_count": null,
   "id": "381598c8",
   "metadata": {},
   "outputs": [],
   "source": [
    "#QUIZ 2. 정수를 입력 받아 5의 배수인지 여부를 출력 -- 내 답\n",
    "\n",
    "multiple_number = int(input(\"Insert any number: \"))\n",
    "if multiple_number%5:\n",
    "    print('it is not a multiple of 5')\n",
    "else:\n",
    "    print('it is a multiple of 5')"
   ]
  },
  {
   "cell_type": "code",
   "execution_count": null,
   "id": "46ee2257",
   "metadata": {},
   "outputs": [],
   "source": [
    "num = int(input('정수를 입력하세요'))\n",
    "if num%5:\n",
    "    print(\"5의 배수가 아닙니다\")\n",
    "else:\n",
    "    print(\"5의 배수입니다\")"
   ]
  },
  {
   "cell_type": "code",
   "execution_count": null,
   "id": "a5f1eea5",
   "metadata": {},
   "outputs": [],
   "source": [
    "# QUIZ 3. 국영수 점수를 입력받아 \n",
    "\n",
    "Korean = int(input(\"국어점수를 입력하세요\"))\n",
    "English = int(input(\"영어점수를 입력하세요\"))\n",
    "Math = int(input(\"수학점수를 입력하세요\"))\n",
    "\n",
    "total = Korean + English + Math\n",
    "Average = total/3\n",
    "\n",
    "print(\"국어: \",Korean, '\\t','영어: ',English,'\\t','수학: ',Math,'\\n', '총점: ',total,'\\t', '평균: ',\"{:.1f}\".format(Average))"
   ]
  },
  {
   "cell_type": "code",
   "execution_count": null,
   "id": "bd563890",
   "metadata": {},
   "outputs": [],
   "source": [
    "Korean = int(input(\"국어점수를 입력하세요\"))\n",
    "English = int(input(\"영어점수를 입력하세요\"))\n",
    "Math = int(input(\"수학점수를 입력하세요\"))\n",
    "\n",
    "total = Korean + English + Math\n",
    "Average = total/3\n",
    "\n",
    "print(\"국어: {} \\t 영어: {} \\t 수학: {} \\n 총점: {} \\t 평균: {:.1f}\".format(Korean, English, Math, total, Average))"
   ]
  },
  {
   "cell_type": "markdown",
   "id": "1de5585f",
   "metadata": {},
   "source": [
    "## 5.2 할당연산자 : =, +=, -=, /=, //=, %="
   ]
  },
  {
   "cell_type": "code",
   "execution_count": null,
   "id": "2ec8e9be",
   "metadata": {},
   "outputs": [],
   "source": [
    "a = b = 10 #==> 왼쪽부터 실행"
   ]
  },
  {
   "cell_type": "code",
   "execution_count": null,
   "id": "9527cab2",
   "metadata": {},
   "outputs": [],
   "source": [
    "x = 10\n",
    "x += 5 # x = x + 5\n",
    "print (f'x = {x}')"
   ]
  },
  {
   "cell_type": "code",
   "execution_count": null,
   "id": "ccf3b94f",
   "metadata": {},
   "outputs": [],
   "source": [
    "x -= 5 # x = x-5\n",
    "print(\"5빼기: \",x)\n",
    "x *=10 # x = x*10\n",
    "print(\"10배 :\",x)\n",
    "x //= 5 # x = x//5\n",
    "print (\"5 나눈 몫\", x)"
   ]
  },
  {
   "cell_type": "markdown",
   "id": "96bb4b8a",
   "metadata": {},
   "source": [
    "## 5.3 논리연산자: &, and, |, or, not"
   ]
  },
  {
   "cell_type": "code",
   "execution_count": null,
   "id": "1e4cf3b8",
   "metadata": {},
   "outputs": [],
   "source": [
    "# & : 논리연산자, 비트연산자\n",
    "print((10>3) & (10>5)) #논리연산 True & True\n",
    "print(10>3 & 10>5) # 3 & 10 비트연산 우선 시행하게 됨\n",
    "print (12 & 1) # 비트연산 1 1 0 0 (12)\n",
    "              #          0 0 0 1 (1)\n",
    "              #      &:  0 0 0 0 \n",
    "print(\"{:4b}\".format(12))"
   ]
  },
  {
   "cell_type": "code",
   "execution_count": null,
   "id": "803867f1",
   "metadata": {},
   "outputs": [],
   "source": [
    "# and : 논리연산자, false로 판별되는 첫번째 항의 결과 반환\n",
    "    # 모든 항이 True면, 마지막 항을 반환\n",
    "# 앞이 false면 뒤 볼 필요도 없이 false. 앞이 false가 아님면 false 나올때까지\n",
    "print((10>3) and (10>5))\n",
    "print (0 and 1)"
   ]
  },
  {
   "cell_type": "code",
   "execution_count": null,
   "id": "01701aae",
   "metadata": {},
   "outputs": [],
   "source": [
    "# | : 논리연산, 비트연산\n",
    "result1 = False | False\n",
    "result2 = False | True\n",
    "result3 = True | False\n",
    "\n",
    "print(result1,result2,result3)\n",
    "print('논리연산(연산자 앞뒤에 논리형일떄) : ',  result)\n",
    "result = False | 3  # 0 0 0 0  (0)\n",
    "                    # 0 0 1 1  (3)\n",
    "print('비트연산(연산자 앞이나 뒤가 숫자일 때)', result)"
   ]
  },
  {
   "cell_type": "code",
   "execution_count": null,
   "id": "ccd4fd84",
   "metadata": {},
   "outputs": [],
   "source": [
    "# or : 논리연산, 참으로 판명되는 첫번째 항의 결과를 반환\n",
    "        #모든 항이 거짓이면 \n",
    "\n",
    "print(False or 0 or '', None or [])\n",
    "print(False or '1' or 0 or '' or None or [] or True)"
   ]
  },
  {
   "cell_type": "code",
   "execution_count": 4,
   "id": "65e29766",
   "metadata": {},
   "outputs": [
    {
     "data": {
      "text/plain": [
       "False"
      ]
     },
     "execution_count": 4,
     "metadata": {},
     "output_type": "execute_result"
    }
   ],
   "source": [
    "not  10>5"
   ]
  },
  {
   "cell_type": "markdown",
   "id": "269436fa",
   "metadata": {},
   "source": [
    "## 5.4 비교연산자: >, >=, <, <=, ==(같다), != (다르다)"
   ]
  },
  {
   "cell_type": "code",
   "execution_count": 5,
   "id": "ce33b8e0",
   "metadata": {},
   "outputs": [
    {
     "name": "stdout",
     "output_type": "stream",
     "text": [
      "True\n",
      "True\n",
      "True\n"
     ]
    }
   ],
   "source": [
    "# 비교연산자는 이항, 삼항, 사항, ... 다항연산자\n",
    "x = 95\n",
    "print((90<=x) & (x<=100))\n",
    "print(90<=x & x<=100)\n",
    "print (90<=x<=100 >10)\n"
   ]
  },
  {
   "cell_type": "code",
   "execution_count": 6,
   "id": "3ec90a85",
   "metadata": {},
   "outputs": [
    {
     "name": "stdout",
     "output_type": "stream",
     "text": [
      "True\n",
      "False\n",
      "False\n"
     ]
    }
   ],
   "source": [
    "# 비교연산자의 우선순위가 비트연산자 (|,&)의 우선순위보다 낮음\n",
    "\n",
    "print((10>5) & (10>7))\n",
    "print(10>5 & 10>7) # 괄호가 없으면 우선순위가 높은 5&10부터 계산 \n",
    "# 0101 (5) & 1010 (10) ===> F F F F ==> 0 \n",
    "print (10>0>7 )"
   ]
  },
  {
   "cell_type": "code",
   "execution_count": 7,
   "id": "04896a20",
   "metadata": {},
   "outputs": [
    {
     "name": "stdout",
     "output_type": "stream",
     "text": [
      "True\n",
      "True\n"
     ]
    }
   ],
   "source": [
    "address = '목동'\n",
    "age = 29\n",
    "\n",
    "print ((address == '목동') & (age <= 30)) # ==> 아래보다는 이런 방식으로 많이 씀\n",
    "print (address == '목동' and age <= 30)"
   ]
  },
  {
   "cell_type": "code",
   "execution_count": 8,
   "id": "e465062c",
   "metadata": {},
   "outputs": [
    {
     "data": {
      "text/plain": [
       "False"
      ]
     },
     "execution_count": 8,
     "metadata": {},
     "output_type": "execute_result"
    }
   ],
   "source": [
    "'김길동' < '홍길동'\n",
    "'홍길동' < '김길동' #str 도 비교 가능"
   ]
  },
  {
   "cell_type": "code",
   "execution_count": 9,
   "id": "286e3a47",
   "metadata": {},
   "outputs": [
    {
     "data": {
      "text/plain": [
       "False"
      ]
     },
     "execution_count": 9,
     "metadata": {},
     "output_type": "execute_result"
    }
   ],
   "source": [
    "#문자는 ASCII 코드 순으로 비교 : 특수문자 -> 숫자 -> 대문자 -> 소문자 순서\n",
    "'scott' > 'tiger'"
   ]
  },
  {
   "cell_type": "markdown",
   "id": "e2908b6f",
   "metadata": {},
   "source": [
    "## 5.5 비트연산 : &, |, ^(XOR), ~(반대)\n",
    "\n",
    "     x    y    x&y    x|y    x^y    ~x\n",
    "     ---------------------------------\n",
    "     0    0     0      0     0      1\n",
    "     0    1     0      1     1      1\n",
    "     1    0     0      1     1      0\n",
    "     1    1     1      1     0      0\n"
   ]
  },
  {
   "cell_type": "code",
   "execution_count": 10,
   "id": "45838dc4",
   "metadata": {},
   "outputs": [
    {
     "name": "stdout",
     "output_type": "stream",
     "text": [
      "a = 15 : 1111\n",
      "b =  2 : 0010\n",
      "a&b =  2 : 0010\n",
      "a|b = 15 : 1111\n",
      "a^b = 13 : 1101\n",
      "~a = -16 : -10000\n",
      "~b = -3 : -011\n"
     ]
    }
   ],
   "source": [
    "a = 15 # 8+4+2+1 --> binary: 1111\n",
    "b = 2  #binary:0010\n",
    "print (\"a = {0:2} : {0:4b}\".format(a))\n",
    "print (\"b = {0:2} : {0:04b}\".format(b))\n",
    "print (\"a&b = {0:2} : {0:04b}\".format(a&b))\n",
    "print (\"a|b = {0:2} : {0:04b}\".format(a|b))\n",
    "print (\"a^b = {0:2} : {0:04b}\".format(a^b))\n",
    "print (\"~a = {0:2} : {0:04b}\".format(~a))\n",
    "print (\"~b = {0:2} : {0:04b}\".format(~b))"
   ]
  },
  {
   "cell_type": "markdown",
   "id": "e91f67cf",
   "metadata": {},
   "source": [
    "# 6. 문자열 다루기\n",
    " - 문자열변수 [from:to:step] ==> 일부 문자 추출\n",
    " - len(문자열변수) \n",
    " \n",
    " - upper() --> 대문자로 변환 ==> 함수(*.upper()형식으로 사용)\n",
    " - lower() --> 소문자로\n",
    " - title() --> 각 어절의 앞글자만 대문자로\n",
    " - capitalize() --> 첫 문자만 대문자로\n",
    " \n",
    " - count(\"찾을문자\") : 찾을 문자가 몇 개 들어있는지 갯수 반환\n",
    " - find('찾을 문자') : 찾을 문자를 왼쪽부터 몇번째에 있는지 index 반환\n",
    " - rfind('찾을문자') : 찾을 문자를 오른쪽부터 몇번째에 있는지 index 반환\n",
    " - index('찾을문자') : 찾을 문자가 왼쪽부터 몇번째에 있는지 index 반환 (find는 값이 없으면 -1, but index는 값이 없으면 에러)\n",
    " - startswith('특정문자') : '특정문자'로 시작하는지 여부 반환\n",
    " - endswith ('특정문자') : 특정문자로 끝나는지 여부\n",
    " \n",
    " - strip() : 문자열 좌우 공백 제거\n",
    " - lstrip() : 왼쪽 공백 제거\n",
    " - rstrip() : 오른쪽 공백 제거\n",
    " - split() : 문자열을 공백 혹은 지정 문자 기준으로 나누어 리스트로 반환\n",
    " - isdigit(): 문자열이 숫자문자열인지 여부\n",
    " - islower(): 문자열이 소문자인지 여부\n",
    " - isupper(): 문자열이 대문자인지 여부\n",
    " \n",
    " \n",
    " \n",
    " \n",
    " - replace(oldStr,newStr) : oldStr 을 newStr로 변경\n",
    " "
   ]
  },
  {
   "cell_type": "code",
   "execution_count": 11,
   "id": "61642a0a",
   "metadata": {},
   "outputs": [
    {
     "name": "stdout",
     "output_type": "stream",
     "text": [
      "python\n",
      "pto ses.PT\n",
      "대문자로 : PYTHON IS EASY. PYTHON IS SMART. PYTHON\n",
      "소문자로 : python is easy. python is smart. python\n",
      "title() : Python Is Easy. Python Is Smart. Python\n",
      "capitalize() : Python is easy. python is smart. python\n",
      "python이 몇번 나오는지:  2\n",
      "대소문자 구분없이 python 몇 번 3\n",
      "대소문자 구분없이 python 몇 번 3\n",
      "대소문자 구분없이 python 몇 번 3\n",
      "python이 나오는 첫index 위치:  0\n",
      "python이 나오는 마지막 index 위치:  33\n",
      "c라는 문자가 나오는 index 위치 -1\n",
      "python라는 문자가 나오는 index 위치 0\n",
      "python으로 시작하는지 여부:  True\n",
      "PYTHON으로 시작하는지 여부:  False\n",
      "대소문자 구분 없이 python으로 시작하는지 여부:  True\n",
      "python으로 끝나는지 여부:  True\n",
      "n으로 끝나는지 여부:  True\n",
      "python을 R로 변경:  R is eAsy. PyThon is sMart. R\n",
      "대소문 구분 없이 python을 R로 변경:  R is easy. R is smart. R\n",
      "python is eAsy. PyThon is sMart. python\n"
     ]
    }
   ],
   "source": [
    "temp = 'python is eAsy. PyThon is sMart. python'\n",
    "temp, len(temp)\n",
    "print(temp[33:39])\n",
    "print(temp[0:20:2])\n",
    "print(\"대문자로 :\" , temp.upper())\n",
    "print(\"소문자로 :\" , temp.lower())\n",
    "print(\"title() :\", temp.title())\n",
    "print(\"capitalize() :\", temp.capitalize())\n",
    "print('python이 몇번 나오는지: ',temp.count(\"python\"))\n",
    "print('대소문자 구분없이 python 몇 번', temp.upper().count(\"PYTHON\"))\n",
    "print('대소문자 구분없이 python 몇 번', temp.lower().count(\"python\"))\n",
    "print('대소문자 구분없이 python 몇 번', temp.title().count(\"Python\"))\n",
    "print('python이 나오는 첫index 위치: ', temp.find('python'))\n",
    "print('python이 나오는 마지막 index 위치: ',temp.rfind('python'))\n",
    "print('c라는 문자가 나오는 index 위치', temp.find('c')) #찾을 문자가 없는 경우 -1 \n",
    "print('python라는 문자가 나오는 index 위치', temp.index('python')) #찾을 문자가 없는 경우 error \n",
    "#print('java라는 문자가 나오는 index 위치', temp.index('java')) #찾을 문자가 없는 경우 error \n",
    "print(\"python으로 시작하는지 여부: \", temp.startswith('python'))\n",
    "print(\"PYTHON으로 시작하는지 여부: \", temp.startswith('PYTHON'))\n",
    "print(\"대소문자 구분 없이 python으로 시작하는지 여부: \",temp.lower().startswith('python'))\n",
    "print('python으로 끝나는지 여부: ', temp.endswith('python'))\n",
    "print('n으로 끝나는지 여부: ', temp.endswith('n'))\n",
    "print(\"python을 R로 변경: \", temp.replace('python','R'))\n",
    "print(\"대소문 구분 없이 python을 R로 변경: \", temp.lower().replace('python','R'))\n",
    "print(temp)"
   ]
  },
  {
   "cell_type": "code",
   "execution_count": 12,
   "id": "ceb0ff04",
   "metadata": {},
   "outputs": [
    {
     "data": {
      "text/plain": [
       "1000"
      ]
     },
     "execution_count": 12,
     "metadata": {},
     "output_type": "execute_result"
    }
   ],
   "source": [
    "int('1,000'.replace(\",\",\"\"))"
   ]
  },
  {
   "cell_type": "code",
   "execution_count": 13,
   "id": "09e6cf7b",
   "metadata": {},
   "outputs": [
    {
     "name": "stdout",
     "output_type": "stream",
     "text": [
      "좌우공백제거:  python is easy\n",
      "좌우공백제거전 : [            python is easy         ]\n",
      "좌우공백제거전 : [python is easy]\n",
      "촤측공백제거 : [python is easy         ]\n",
      "우측공백제거전 : [            python is easy]\n",
      "isdigit(숫자문자인지) 여부:  False\n",
      "isdigit(숫자문자인지) 여부:  True\n",
      "replace 후 isdigit:  True\n",
      "대문자인지 여부 : False\n",
      "소문자인지 여부 : True\n"
     ]
    }
   ],
   "source": [
    "temp = \"            python is easy         \"\n",
    "notdigit = '1,000'\n",
    "yesdigit = 1000\n",
    "yesdigit = '1000'\n",
    "print('좌우공백제거: ', temp.strip())\n",
    "print(\"좌우공백제거전 : [{}]\".format(temp))\n",
    "print(\"좌우공백제거전 : [{}]\".format(temp.strip()))\n",
    "print(\"촤측공백제거 : [{}]\".format(temp.lstrip()))\n",
    "print(\"우측공백제거전 : [{}]\".format(temp.rstrip()))\n",
    "print('isdigit(숫자문자인지) 여부: ', notdigit.isdigit())\n",
    "print('isdigit(숫자문자인지) 여부: ', yesdigit.isdigit())\n",
    "print('replace 후 isdigit: ', notdigit.replace(',','').isdigit())\n",
    "print('대문자인지 여부 :', temp.isupper()) #공백 이외 모두 upper이어야 함\n",
    "print('소문자인지 여부 :', temp.islower()) #공백 이외 모두 lower이어야 함\n"
   ]
  },
  {
   "cell_type": "code",
   "execution_count": 14,
   "id": "571ec7a9",
   "metadata": {},
   "outputs": [
    {
     "name": "stdout",
     "output_type": "stream",
     "text": [
      "홍길동 김길동\n"
     ]
    }
   ],
   "source": [
    "names = \"홍길동 김길동 유재하 김태원 김종완 타블로 유재석 유재석\"\n",
    "name_list = names.split()\n",
    "print(name_list[0],name_list[1])"
   ]
  },
  {
   "cell_type": "code",
   "execution_count": 15,
   "id": "0ffcb474",
   "metadata": {},
   "outputs": [
    {
     "name": "stdout",
     "output_type": "stream",
     "text": [
      "space 단위로 names 분리(List로 반환) :  ['홍길동', '김길동', '유재하', '김태원', '김종완', '타블로', '유재석', '유재석']\n"
     ]
    }
   ],
   "source": [
    "print('space 단위로 names 분리(List로 반환) : ', names.split(' '))"
   ]
  },
  {
   "cell_type": "code",
   "execution_count": 16,
   "id": "49262a0d",
   "metadata": {},
   "outputs": [
    {
     "name": "stdout",
     "output_type": "stream",
     "text": [
      "['2025', '09', '17']\n",
      "년도 :  2025\n",
      "월 : 09\n",
      "일 : 17\n"
     ]
    }
   ],
   "source": [
    "date_str = '2025-09-17'\n",
    "date_list = date_str.split('-')\n",
    "print(date_list)\n",
    "print('년도 : ', date_list[0])\n",
    "print('월 :', date_list[1])\n",
    "print('일 :', date_list[2])"
   ]
  },
  {
   "cell_type": "code",
   "execution_count": 17,
   "id": "4b334e70",
   "metadata": {},
   "outputs": [
    {
     "data": {
      "text/plain": [
       "('A', 'B', 'C')"
      ]
     },
     "execution_count": 17,
     "metadata": {},
     "output_type": "execute_result"
    }
   ],
   "source": [
    "#str_ = \"ABC\"\n",
    "str_ = ['A','B','C']\n",
    "str_ [0], str_[1], str_[2]"
   ]
  },
  {
   "cell_type": "code",
   "execution_count": 18,
   "id": "1f6776ef",
   "metadata": {},
   "outputs": [
    {
     "name": "stdout",
     "output_type": "stream",
     "text": [
      "분리된 temp : ['python', '웹(html, css, js)', 'oracle/mysql(dbms)', 'DL/ML(M/딥러닝/CNN/RNN)', 'LLM(RAG)']\n",
      "join temp : python/웹(html, css, js)/oracle/mysql(dbms)/DL/ML(M/딥러닝/CNN/RNN)/LLM(RAG)\n"
     ]
    }
   ],
   "source": [
    "# '-' 을 '/'로 바꾸기\n",
    "temp = \"python - 웹(html, css, js) - oracle/mysql(dbms) - DL/ML(M/딥러닝/CNN/RNN) - LLM(RAG)\"\n",
    "\n",
    "#temp.replace('-','/')\n",
    "\n",
    "#split() & join()을 이용해서 replace역할\n",
    "\n",
    "splited_temp = temp.split(' - ')\n",
    "print('분리된 temp :' , splited_temp)\n",
    "\n",
    "joined_temp = \"/\".join(splited_temp) # '/'로 매개변수 list연결\n",
    "print(\"join temp :\", joined_temp)"
   ]
  },
  {
   "cell_type": "code",
   "execution_count": 19,
   "id": "56f8cb79",
   "metadata": {},
   "outputs": [
    {
     "data": {
      "text/plain": [
       "['__add__',\n",
       " '__class__',\n",
       " '__contains__',\n",
       " '__delattr__',\n",
       " '__dir__',\n",
       " '__doc__',\n",
       " '__eq__',\n",
       " '__format__',\n",
       " '__ge__',\n",
       " '__getattribute__',\n",
       " '__getitem__',\n",
       " '__getnewargs__',\n",
       " '__gt__',\n",
       " '__hash__',\n",
       " '__init__',\n",
       " '__init_subclass__',\n",
       " '__iter__',\n",
       " '__le__',\n",
       " '__len__',\n",
       " '__lt__',\n",
       " '__mod__',\n",
       " '__mul__',\n",
       " '__ne__',\n",
       " '__new__',\n",
       " '__reduce__',\n",
       " '__reduce_ex__',\n",
       " '__repr__',\n",
       " '__rmod__',\n",
       " '__rmul__',\n",
       " '__setattr__',\n",
       " '__sizeof__',\n",
       " '__str__',\n",
       " '__subclasshook__',\n",
       " 'capitalize',\n",
       " 'casefold',\n",
       " 'center',\n",
       " 'count',\n",
       " 'encode',\n",
       " 'endswith',\n",
       " 'expandtabs',\n",
       " 'find',\n",
       " 'format',\n",
       " 'format_map',\n",
       " 'index',\n",
       " 'isalnum',\n",
       " 'isalpha',\n",
       " 'isascii',\n",
       " 'isdecimal',\n",
       " 'isdigit',\n",
       " 'isidentifier',\n",
       " 'islower',\n",
       " 'isnumeric',\n",
       " 'isprintable',\n",
       " 'isspace',\n",
       " 'istitle',\n",
       " 'isupper',\n",
       " 'join',\n",
       " 'ljust',\n",
       " 'lower',\n",
       " 'lstrip',\n",
       " 'maketrans',\n",
       " 'partition',\n",
       " 'removeprefix',\n",
       " 'removesuffix',\n",
       " 'replace',\n",
       " 'rfind',\n",
       " 'rindex',\n",
       " 'rjust',\n",
       " 'rpartition',\n",
       " 'rsplit',\n",
       " 'rstrip',\n",
       " 'split',\n",
       " 'splitlines',\n",
       " 'startswith',\n",
       " 'strip',\n",
       " 'swapcase',\n",
       " 'title',\n",
       " 'translate',\n",
       " 'upper',\n",
       " 'zfill']"
      ]
     },
     "execution_count": 19,
     "metadata": {},
     "output_type": "execute_result"
    }
   ],
   "source": [
    "#문자열을 다룰 수 있는 함수 목록\n",
    "dir(str)"
   ]
  },
  {
   "cell_type": "markdown",
   "id": "a6a4a350",
   "metadata": {},
   "source": [
    "# 7. 시간, 날짜 다루기"
   ]
  },
  {
   "cell_type": "code",
   "execution_count": 20,
   "id": "653564a4",
   "metadata": {},
   "outputs": [
    {
     "data": {
      "text/plain": [
       "'C:\\\\Users\\\\Admin\\\\anaconda3\\\\lib\\\\datetime.py'"
      ]
     },
     "execution_count": 20,
     "metadata": {},
     "output_type": "execute_result"
    }
   ],
   "source": [
    "import datetime\n",
    "datetime.__file__"
   ]
  },
  {
   "cell_type": "code",
   "execution_count": 21,
   "id": "bbeac6c4",
   "metadata": {},
   "outputs": [],
   "source": [
    "# datetime모듈 (datetime) (datetime.py)안의 datetime, date, time만 load\n",
    "from datetime import datetime,date,time"
   ]
  },
  {
   "cell_type": "markdown",
   "id": "881aefd6",
   "metadata": {},
   "source": [
    "## 7.1 시간과 날짜"
   ]
  },
  {
   "cell_type": "code",
   "execution_count": 22,
   "id": "8f39c7cd",
   "metadata": {},
   "outputs": [
    {
     "data": {
      "text/plain": [
       "datetime.datetime(2025, 9, 11, 9, 30)"
      ]
     },
     "execution_count": 22,
     "metadata": {},
     "output_type": "execute_result"
    }
   ],
   "source": [
    "# 특정 시점을 갖는 datetime 객체 생성\n",
    "thatday = datetime(2025,9,11,9,30)\n",
    "thatday"
   ]
  },
  {
   "cell_type": "code",
   "execution_count": 23,
   "id": "f4d7a20c",
   "metadata": {},
   "outputs": [
    {
     "name": "stdout",
     "output_type": "stream",
     "text": [
      "25년09월11일(Thursday) 09:30,00\n",
      "25년09월11일(Thursday) 09:30,00\n",
      "Thu Sep 11 09:30:00 2025\n"
     ]
    }
   ],
   "source": [
    "# 날짜를 문자열로 전환\n",
    "print(\"{:%y년%m월%d일(%A) %H:%M,%S}\".format(thatday))\n",
    "print(thatday.strftime(\"%y년%m월%d일(%A) %H:%M,%S\"))\n",
    "print(thatday.ctime()) #ctime(): 사람이 읽기 쉬운 형태로 \n"
   ]
  },
  {
   "cell_type": "code",
   "execution_count": 24,
   "id": "eaadc5a9",
   "metadata": {},
   "outputs": [
    {
     "name": "stdout",
     "output_type": "stream",
     "text": [
      "2025-09-17 14:49:51.483376\n",
      "Wed Sep 17 14:49:51 2025\n",
      "2025년 09월 17일 PM 02:49:51\n"
     ]
    }
   ],
   "source": [
    "# 지금을 저장하는 datetime 객체 생성\n",
    "now = datetime.now()\n",
    "print(now)\n",
    "print(now.ctime())\n",
    "print(now.strftime(\"%Y년 %m월 %d일 %p %I:%M:%S\"))"
   ]
  },
  {
   "cell_type": "code",
   "execution_count": 25,
   "id": "57a680f7",
   "metadata": {},
   "outputs": [
    {
     "name": "stdout",
     "output_type": "stream",
     "text": [
      "6 days, 5:19:51.483376\n",
      "6\n"
     ]
    }
   ],
   "source": [
    "diff = now-thatday\n",
    "print(diff)\n",
    "print(diff.days)\n"
   ]
  },
  {
   "cell_type": "markdown",
   "id": "699b9d84",
   "metadata": {},
   "source": [
    "## 7.2 날짜"
   ]
  },
  {
   "cell_type": "code",
   "execution_count": 26,
   "id": "849f5061",
   "metadata": {},
   "outputs": [
    {
     "name": "stdout",
     "output_type": "stream",
     "text": [
      "2025-09-11\n",
      "2025년 09월 11일 00:00\n"
     ]
    }
   ],
   "source": [
    "# 특정 날자를 갖는 date 객체 생성\n",
    "someday = date(2025,9,11)  #date는 연, 월, 일만 넣을 수 있음\n",
    "\n",
    "print(someday)\n",
    "print(someday.strftime(\"%Y년 %m월 %d일 %H:%M\"))\n"
   ]
  },
  {
   "cell_type": "code",
   "execution_count": 27,
   "id": "979656e8",
   "metadata": {},
   "outputs": [
    {
     "name": "stdout",
     "output_type": "stream",
     "text": [
      "True\n"
     ]
    }
   ],
   "source": [
    "# 오늘을 갖는 date 객체 생성\n",
    "\n",
    "today1 = date.today()\n",
    "today2 = datetime.now().date()\n",
    "\n",
    "print(today1 == today2)"
   ]
  },
  {
   "cell_type": "code",
   "execution_count": 28,
   "id": "346b4270",
   "metadata": {},
   "outputs": [
    {
     "name": "stdout",
     "output_type": "stream",
     "text": [
      "2025년 09월 17일 00:00\n"
     ]
    }
   ],
   "source": [
    "print(today1.strftime(\"%Y년 %m월 %d일 %H:%M\"))"
   ]
  },
  {
   "cell_type": "code",
   "execution_count": 29,
   "id": "0dde6034",
   "metadata": {},
   "outputs": [
    {
     "name": "stdout",
     "output_type": "stream",
     "text": [
      "-6 days, 0:00:00\n",
      "-6\n"
     ]
    }
   ],
   "source": [
    "diff = someday - today1\n",
    "print(diff)\n",
    "print(diff.days)"
   ]
  },
  {
   "cell_type": "markdown",
   "id": "f5b8f05b",
   "metadata": {},
   "source": [
    "## 7.3 시간"
   ]
  },
  {
   "cell_type": "code",
   "execution_count": 30,
   "id": "896889d8",
   "metadata": {},
   "outputs": [
    {
     "data": {
      "text/plain": [
       "datetime.time(14, 30)"
      ]
     },
     "execution_count": 30,
     "metadata": {},
     "output_type": "execute_result"
    }
   ],
   "source": [
    "#특정한 시간을 저장하는 time 객체 생성\n",
    "t = time(14,30)\n",
    "t"
   ]
  },
  {
   "cell_type": "code",
   "execution_count": 31,
   "id": "d54c86e4",
   "metadata": {},
   "outputs": [
    {
     "name": "stdout",
     "output_type": "stream",
     "text": [
      "PM 02:30\n"
     ]
    }
   ],
   "source": [
    "print(t.strftime(\"%p %I:%M\"))"
   ]
  },
  {
   "cell_type": "code",
   "execution_count": 32,
   "id": "0d8e80a1",
   "metadata": {},
   "outputs": [
    {
     "name": "stdout",
     "output_type": "stream",
     "text": [
      "1900년 01월 01일 PM 02\n"
     ]
    }
   ],
   "source": [
    "print(t.strftime(\"%Y년 %m월 %d일 %p %I\"))"
   ]
  },
  {
   "cell_type": "code",
   "execution_count": 33,
   "id": "f00b3001",
   "metadata": {},
   "outputs": [
    {
     "name": "stdout",
     "output_type": "stream",
     "text": [
      "14:49:51.818472\n"
     ]
    }
   ],
   "source": [
    "# 현재 시간\n",
    "nowtime = datetime.now().time()\n",
    "print(nowtime)"
   ]
  },
  {
   "cell_type": "code",
   "execution_count": 34,
   "id": "7bdc7727",
   "metadata": {},
   "outputs": [
    {
     "data": {
      "text/plain": [
       "datetime.datetime(1752, 1, 12, 13, 3)"
      ]
     },
     "execution_count": 34,
     "metadata": {},
     "output_type": "execute_result"
    }
   ],
   "source": [
    "datetime(1752,1,12,13,3)"
   ]
  },
  {
   "cell_type": "code",
   "execution_count": null,
   "id": "91204e33",
   "metadata": {},
   "outputs": [],
   "source": []
  },
  {
   "cell_type": "code",
   "execution_count": null,
   "id": "4fb26fbd",
   "metadata": {},
   "outputs": [],
   "source": []
  },
  {
   "cell_type": "markdown",
   "id": "e20d54b0",
   "metadata": {},
   "source": [
    "# 8. 연습문제"
   ]
  },
  {
   "cell_type": "code",
   "execution_count": 69,
   "id": "df000f7b",
   "metadata": {},
   "outputs": [
    {
     "name": "stdout",
     "output_type": "stream",
     "text": [
      "1. Answer:  홍길동님의 나이는 23살입니다\n"
     ]
    }
   ],
   "source": [
    "#1. 이름과 나이 변수를 다음 형식으로 출력하도록 format() 함수를 이용해 형식화하세요\n",
    "#[출력형식 : 홍길동님의 나이는 23 살입니다]\n",
    "\n",
    "name = '홍길동'\n",
    "age = '23'\n",
    "\n",
    "print('1. Answer: ','{}님의 나이는 {}살입니다'.format(name,age))"
   ]
  },
  {
   "cell_type": "code",
   "execution_count": 129,
   "id": "b96f847f",
   "metadata": {},
   "outputs": [
    {
     "name": "stdout",
     "output_type": "stream",
     "text": [
      "insert a number: 10\n",
      "intert another number: 5\n",
      "2. Answer:  \n",
      "덧셈: 15 \n",
      "뺄셈: 5 \n",
      "곱셈: 50 \n",
      "나눗셈: 2.0 \n",
      "몫: 2 \n",
      "나머지: 0\n"
     ]
    }
   ],
   "source": [
    "#2. 두 정수를 입력받아 두 수의 덧셈 , 뺄셈 , 곱셈 , 나눗셈 , 몫 , 나머지를 출력하세요\n",
    "int_1 = int(input('insert a number: '))\n",
    "int_2 = int(input('intert another number: '))\n",
    "\n",
    "add_ = int_1 + int_2\n",
    "\n",
    "sub_ = int_1 - int_2\n",
    "mult_ = int_1 * int_2\n",
    "Div_ = int_1 / int_2\n",
    "quot_ = int_1 // int_2\n",
    "remain_ = int_1 % int_2\n",
    "\n",
    "print('2. Answer: ','\\n덧셈: {} \\n뺄셈: {} \\n곱셈: {} \\n나눗셈: {} \\n몫: {} \\n나머지: {}'.format(add_,sub_,mult_,Div_,quot_,remain_))"
   ]
  },
  {
   "cell_type": "code",
   "execution_count": 65,
   "id": "9c745a02",
   "metadata": {},
   "outputs": [
    {
     "name": "stdout",
     "output_type": "stream",
     "text": [
      "3. Answer:  World Hello\n"
     ]
    }
   ],
   "source": [
    "#3. 문자열의 분리하기와 합치기 기능을 이용하여 ‘Hello World' 가 할당된 변수를 이용하여 ‘World Hello'로 출력하세요\n",
    "\n",
    "message = 'Hello World'\n",
    "break_message = message.split()\n",
    "message_re = break_message[1],break_message[0]\n",
    "final_message = ' '.join(message_re)\n",
    "\n",
    "print('3. Answer: ', final_message)"
   ]
  },
  {
   "cell_type": "code",
   "execution_count": 71,
   "id": "26877414",
   "metadata": {},
   "outputs": [
    {
     "name": "stdout",
     "output_type": "stream",
     "text": [
      "4. Answer: bcdefa\n",
      "5. Answer: fedcba\n"
     ]
    }
   ],
   "source": [
    "# 4. x = ' abcdef ＇를 이용하여 bcdefa 로 출력하세요 문자 슬라이싱이용\n",
    "\n",
    "x = 'abcdef'\n",
    "print('4. Answer:', x[1:]+x[0])\n",
    "\n",
    "# 5. x = ' abcdef ＇를 이용하여 fedcba 로 출력하세요\n",
    "print('5. Answer:',x[::-1])"
   ]
  },
  {
   "cell_type": "code",
   "execution_count": 132,
   "id": "b51658bb",
   "metadata": {},
   "outputs": [
    {
     "name": "stdout",
     "output_type": "stream",
     "text": [
      "Today's Temerature in Celcius?0\n",
      "6. Answer:  32 degree Fahrenheit\n"
     ]
    }
   ],
   "source": [
    "'''\n",
    "오늘의 온도를 섭씨온도로 입력받아 화씨 온도로 변환하는 프로그램을 작성하세요 . 화\n",
    "씨 온도는 소수점이 있을 경우만 두번째 자리까지 출력되고 , 소수점이하 값이 없는 경\n",
    "우 소수점을 출력하지 않도록 합니다 다음은 섭씨와 화씨의 변환 공식입니다 . C 는 섭씨 ,\n",
    "F 는 화씨\n",
    "C = (F32) / 1.8\n",
    "F = (C1.8) + 32\n",
    "'''\n",
    "\n",
    "Temp_C = int(input(\"Today's Temerature in Celcius?\"))\n",
    "\n",
    "Temp_F = (Temp_C * 1.8) +32\n",
    "\n",
    "if Temp_F % 1 == 0:\n",
    "    print('6. Answer: ', int(Temp_F),'degree Fahrenheit')\n",
    "else: \n",
    "    print(\"6. Answer: \", '[{:.2f}]'.format(Temp_F), 'degree Fahrenheit')"
   ]
  },
  {
   "cell_type": "code",
   "execution_count": 131,
   "id": "a8f23936",
   "metadata": {},
   "outputs": [
    {
     "name": "stdout",
     "output_type": "stream",
     "text": [
      "7. Answer:  2\n"
     ]
    }
   ],
   "source": [
    "'''\n",
    "다음 중 변수 선언으로 잘못된 것을 모두 고르시오\n",
    "①for\n",
    "②10th\n",
    "③Student.name\n",
    "④_1234\n",
    "\n",
    "'''\n",
    "\n",
    "print('7. Answer: ', 2)"
   ]
  },
  {
   "cell_type": "code",
   "execution_count": 123,
   "id": "97ccf45d",
   "metadata": {},
   "outputs": [
    {
     "name": "stdout",
     "output_type": "stream",
     "text": [
      " 8. Answer: SeounSeoul\n",
      " 9. Answer: Seou n Seoul\n"
     ]
    }
   ],
   "source": [
    "#text = \"Seoul A001 - programming with python\"\n",
    "#print(text[:4]+text[-1]+text.split()[0])\n",
    "#print(text[:4], text[-1], text.split()[0])\n",
    "\n",
    "\n",
    "print(' 8. Answer: SeounSeoul\\n','9. Answer: Seou n Seoul')"
   ]
  },
  {
   "cell_type": "code",
   "execution_count": 119,
   "id": "e5a9c436",
   "metadata": {},
   "outputs": [
    {
     "name": "stdout",
     "output_type": "stream",
     "text": [
      " 9. Answer: 2\n"
     ]
    }
   ],
   "source": [
    "'''\n",
    "다음 중 파이썬 3.x 버전에서 연산식과 그 결과의 출력이 잘못된 것은\n",
    "① 수식 8//2 결과 4\n",
    "② 수식 8/2 결과 4\n",
    "③ 수식 8 **2 결과 64\n",
    "'''\n",
    "\n",
    "print (' 9. Answer: 2')"
   ]
  },
  {
   "cell_type": "code",
   "execution_count": 121,
   "id": "aae0940a",
   "metadata": {},
   "outputs": [
    {
     "name": "stdout",
     "output_type": "stream",
     "text": [
      "10. Answer: Error\n"
     ]
    }
   ],
   "source": [
    "#10 아래 프로그램의 결과는\n",
    "'''\n",
    "x = 5 \n",
    "y = 'John'\n",
    "print(x + y)\n",
    "\n",
    "'''\n",
    "\n",
    "print('10. Answer: Error')"
   ]
  },
  {
   "cell_type": "code",
   "execution_count": 122,
   "id": "c1b1a8da",
   "metadata": {},
   "outputs": [
    {
     "name": "stdout",
     "output_type": "stream",
     "text": [
      "11. Answer:  나라\n"
     ]
    }
   ],
   "source": [
    "#11. split() 함수를 이용하여 str_ 의 값 중 나라 를 출력하는 프로그램을 완성하시오\n",
    "\n",
    "str_ = \"우리 나라 대한 민국\"\n",
    "sep_str = str_.split()\n",
    "\n",
    "print('11. Answer: ', sep_str[1])"
   ]
  },
  {
   "cell_type": "code",
   "execution_count": null,
   "id": "b2777429",
   "metadata": {},
   "outputs": [],
   "source": []
  }
 ],
 "metadata": {
  "kernelspec": {
   "display_name": "Python 3 (ipykernel)",
   "language": "python",
   "name": "python3"
  },
  "language_info": {
   "codemirror_mode": {
    "name": "ipython",
    "version": 3
   },
   "file_extension": ".py",
   "mimetype": "text/x-python",
   "name": "python",
   "nbconvert_exporter": "python",
   "pygments_lexer": "ipython3",
   "version": "3.10.9"
  },
  "toc": {
   "base_numbering": 1,
   "nav_menu": {},
   "number_sections": false,
   "sideBar": true,
   "skip_h1_title": false,
   "title_cell": "Table of Contents",
   "title_sidebar": "Contents",
   "toc_cell": false,
   "toc_position": {
    "height": "calc(100% - 180px)",
    "left": "10px",
    "top": "150px",
    "width": "349.091px"
   },
   "toc_section_display": true,
   "toc_window_display": true
  }
 },
 "nbformat": 4,
 "nbformat_minor": 5
}
