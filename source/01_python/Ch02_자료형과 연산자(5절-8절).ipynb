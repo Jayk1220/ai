{
 "cells": [
  {
   "cell_type": "code",
   "execution_count": 1,
   "id": "ef614dcd",
   "metadata": {},
   "outputs": [
    {
     "data": {
      "text/html": [
       "\n",
       "<style>\n",
       "div.container{width:90% !important;}\n",
       "div.cell.code_cell.rendered{width:100%;}\n",
       "div.input_prompt{padding:0px;}\n",
       "div.CodeMirror{font-family:Consolas; font-size:15pt;}\n",
       "div.text_cell_render.rendered_html{font-size:15pt;}\n",
       "div.output{font-size:12pt; font-weight:bold;}\n",
       "div.input{font-family:Consolas; font-size:15pt;}\n",
       "div.prompt{min-width:70px;}\n",
       "div#toc-wrapper{padding-top:120px;}\n",
       "div.text_cell_renderulli{font-size:12pt;padding:5px;}\n",
       "table.dataframe{font-size:12px;}\n",
       "</style>\n"
      ],
      "text/plain": [
       "<IPython.core.display.HTML object>"
      ]
     },
     "metadata": {},
     "output_type": "display_data"
    }
   ],
   "source": [
    "from IPython.display import display, HTML\n",
    "display(HTML(\"\"\"\n",
    "<style>\n",
    "div.container{width:90% !important;}\n",
    "div.cell.code_cell.rendered{width:100%;}\n",
    "div.input_prompt{padding:0px;}\n",
    "div.CodeMirror{font-family:Consolas; font-size:15pt;}\n",
    "div.text_cell_render.rendered_html{font-size:15pt;}\n",
    "div.output{font-size:12pt; font-weight:bold;}\n",
    "div.input{font-family:Consolas; font-size:15pt;}\n",
    "div.prompt{min-width:70px;}\n",
    "div#toc-wrapper{padding-top:120px;}\n",
    "div.text_cell_renderulli{font-size:12pt;padding:5px;}\n",
    "table.dataframe{font-size:12px;}\n",
    "</style>\n",
    "\"\"\"))\n"
   ]
  },
  {
   "cell_type": "markdown",
   "id": "dc1df05c",
   "metadata": {},
   "source": [
    "<b><font size=\"6\" color=\"red\">ch02. 자료형과 연산자</font></b>\n",
    "\n",
    "# 5. 연산자\n",
    "## 5.1 산술연산자 :+,-,*,/ (결과 float), // (몫), %(나머지), ** (제곱)\n"
   ]
  },
  {
   "cell_type": "code",
   "execution_count": 17,
   "id": "118465a3",
   "metadata": {},
   "outputs": [
    {
     "name": "stdout",
     "output_type": "stream",
     "text": [
      "10의 5승 = 100000\n",
      "4/2(결과 실수) = 2.0\n",
      "2\n",
      "5//2(몫)=  2\n",
      "5%2(나머지)=  1\n",
      "2.5\n"
     ]
    }
   ],
   "source": [
    "print ('10의 5승 =', 10**5)\n",
    "print('4/2(결과 실수) =', 4/2)\n",
    "print(int(4/2))\n",
    "\n",
    "print('5//2(몫)= ',5//2)\n",
    "print('5%2(나머지)= ',5%2)\n",
    "\n",
    "print(5/2)\n"
   ]
  },
  {
   "cell_type": "code",
   "execution_count": 11,
   "id": "f00d6d2f",
   "metadata": {},
   "outputs": [
    {
     "name": "stdout",
     "output_type": "stream",
     "text": [
      "4**2= 16\n",
      "4**2= 16.0\n"
     ]
    }
   ],
   "source": [
    "# 정수끼리 연산은 결과가 정수 (나누기 제외)\n",
    "#정수와 실수, 실수끼리 연산 결과는 실수\n",
    "\n",
    "print (\"4**2=\", 4**2)\n",
    "print (\"4**2=\", 4**2.0)"
   ]
  },
  {
   "cell_type": "code",
   "execution_count": 24,
   "id": "52b9beb6",
   "metadata": {},
   "outputs": [
    {
     "name": "stdout",
     "output_type": "stream",
     "text": [
      "Insert any number: 20\n",
      "This is an odd number\n"
     ]
    }
   ],
   "source": [
    "#QUIZ 1. 정수를 입력받아 짝수인지 홀수인지 출력 --내 답\n",
    "\n",
    "input_number = int(input(\"Insert any number: \"))\n",
    "if input_number/2 == 0:\n",
    "    print(\"This is an even number\")\n",
    "else: \n",
    "    print(\"This is an odd number\")"
   ]
  },
  {
   "cell_type": "code",
   "execution_count": 30,
   "id": "f5b508a7",
   "metadata": {},
   "outputs": [
    {
     "name": "stdout",
     "output_type": "stream",
     "text": [
      "정수를 입력하세요:15\n",
      "입력하신 수는 15, 2로 나눈 나머지는 1라서 홀수를 입력하셨습니다\n"
     ]
    }
   ],
   "source": [
    "#QUIZ 1. 정수를 입력받아 짝수인지 홀수인지 출력 \n",
    "num = int(input('정수를 입력하세요:'))\n",
    "result = num % 2 # -1,0,1\n",
    "if result:\n",
    "    temp = '홀수'\n",
    "else:\n",
    "    temp = '짝수'\n",
    "print(f\"입력하신 수는 {num}, 2로 나눈 나머지는 {result}라서 {temp}를 입력하셨습니다\")"
   ]
  },
  {
   "cell_type": "code",
   "execution_count": 79,
   "id": "381598c8",
   "metadata": {},
   "outputs": [
    {
     "name": "stdout",
     "output_type": "stream",
     "text": [
      "Insert any number: 23\n",
      "it is not a multiple of 5\n"
     ]
    }
   ],
   "source": [
    "#QUIZ 2. 정수를 입력 받아 5의 배수인지 여부를 출력 -- 내 답\n",
    "\n",
    "multiple_number = int(input(\"Insert any number: \"))\n",
    "if multiple_number%5:\n",
    "    print('it is not a multiple of 5')\n",
    "else:\n",
    "    print('it is a multiple of 5')"
   ]
  },
  {
   "cell_type": "code",
   "execution_count": 80,
   "id": "46ee2257",
   "metadata": {},
   "outputs": [
    {
     "name": "stdout",
     "output_type": "stream",
     "text": [
      "정수를 입력하세요23\n",
      "5의 배수가 아닙니다\n"
     ]
    }
   ],
   "source": [
    "num = int(input('정수를 입력하세요'))\n",
    "if num%5:\n",
    "    print(\"5의 배수가 아닙니다\")\n",
    "else:\n",
    "    print(\"5의 배수입니다\")"
   ]
  },
  {
   "cell_type": "code",
   "execution_count": 76,
   "id": "a5f1eea5",
   "metadata": {},
   "outputs": [
    {
     "name": "stdout",
     "output_type": "stream",
     "text": [
      "국어점수를 입력하세요99\n",
      "영어점수를 입력하세요100\n",
      "수학점수를 입력하세요99\n",
      "국어:  99 \t 영어:  100 \t 수학:  99 \n",
      " 총점:  298 \t 평균:  99.3\n"
     ]
    }
   ],
   "source": [
    "# QUIZ 3. 국영수 점수를 입력받아 \n",
    "\n",
    "Korean = int(input(\"국어점수를 입력하세요\"))\n",
    "English = int(input(\"영어점수를 입력하세요\"))\n",
    "Math = int(input(\"수학점수를 입력하세요\"))\n",
    "\n",
    "total = Korean + English + Math\n",
    "Average = total/3\n",
    "\n",
    "print(\"국어: \",Korean, '\\t','영어: ',English,'\\t','수학: ',Math,'\\n', '총점: ',total,'\\t', '평균: ',\"{:.1f}\".format(Average))"
   ]
  },
  {
   "cell_type": "code",
   "execution_count": 81,
   "id": "bd563890",
   "metadata": {},
   "outputs": [
    {
     "name": "stdout",
     "output_type": "stream",
     "text": [
      "국어점수를 입력하세요99\n",
      "영어점수를 입력하세요100\n",
      "수학점수를 입력하세요99\n",
      "국어: 99 \t 영어: 100 \t 수학: 99 \n",
      " 총점: 298 \t 평균: 99.3\n"
     ]
    }
   ],
   "source": [
    "Korean = int(input(\"국어점수를 입력하세요\"))\n",
    "English = int(input(\"영어점수를 입력하세요\"))\n",
    "Math = int(input(\"수학점수를 입력하세요\"))\n",
    "\n",
    "total = Korean + English + Math\n",
    "Average = total/3\n",
    "\n",
    "print(\"국어: {} \\t 영어: {} \\t 수학: {} \\n 총점: {} \\t 평균: {:.1f}\".format(Korean, English, Math, total, Average))"
   ]
  },
  {
   "cell_type": "markdown",
   "id": "1de5585f",
   "metadata": {},
   "source": [
    "## 5.2 할당연산자 : =, +=, -=, /=, //=, %="
   ]
  },
  {
   "cell_type": "code",
   "execution_count": 82,
   "id": "2ec8e9be",
   "metadata": {},
   "outputs": [],
   "source": [
    "a = b = 10 #==> 왼쪽부터 실행"
   ]
  },
  {
   "cell_type": "code",
   "execution_count": 105,
   "id": "9527cab2",
   "metadata": {},
   "outputs": [
    {
     "name": "stdout",
     "output_type": "stream",
     "text": [
      "x = 15\n"
     ]
    }
   ],
   "source": [
    "x = 10\n",
    "x += 5 # x = x + 5\n",
    "print (f'x = {x}')"
   ]
  },
  {
   "cell_type": "code",
   "execution_count": 106,
   "id": "ccf3b94f",
   "metadata": {},
   "outputs": [
    {
     "name": "stdout",
     "output_type": "stream",
     "text": [
      "5빼기:  10\n",
      "10배 : 100\n",
      "5 나눈 몫 20\n"
     ]
    }
   ],
   "source": [
    "x -= 5 # x = x-5\n",
    "print(\"5빼기: \",x)\n",
    "x *=10 # x = x*10\n",
    "print(\"10배 :\",x)\n",
    "x //= 5 # x = x//5\n",
    "print (\"5 나눈 몫\", x)"
   ]
  },
  {
   "cell_type": "markdown",
   "id": "96bb4b8a",
   "metadata": {},
   "source": [
    "## 5.3 논리연산자: &, and, |, or, not"
   ]
  },
  {
   "cell_type": "code",
   "execution_count": 127,
   "id": "1e4cf3b8",
   "metadata": {},
   "outputs": [
    {
     "name": "stdout",
     "output_type": "stream",
     "text": [
      "True\n",
      "False\n",
      "0\n",
      "1100\n"
     ]
    }
   ],
   "source": [
    "# & : 논리연산자, 비트연산자\n",
    "print((10>3) & (10>5)) #논리연산 True & True\n",
    "print(10>3 & 10>5) # 3 & 10 비트연산 우선 시행하게 됨\n",
    "print (12 & 1) # 비트연산 1 1 0 0 (12)\n",
    "              #          0 0 0 1 (1)\n",
    "              #      &:  0 0 0 0 \n",
    "print(\"{:4b}\".format(12))"
   ]
  },
  {
   "cell_type": "code",
   "execution_count": 126,
   "id": "803867f1",
   "metadata": {},
   "outputs": [
    {
     "name": "stdout",
     "output_type": "stream",
     "text": [
      "True\n",
      "0\n"
     ]
    }
   ],
   "source": [
    "# and : 논리연산자, false로 판별되는 첫번째 항의 결과 반환\n",
    "    # 모든 항이 True면, 마지막 항을 반환\n",
    "# 앞이 false면 뒤 볼 필요도 없이 false. 앞이 false가 아님면 false 나올때까지\n",
    "print((10>3) and (10>5))\n",
    "print (0 and 1)"
   ]
  },
  {
   "cell_type": "code",
   "execution_count": 134,
   "id": "01701aae",
   "metadata": {},
   "outputs": [
    {
     "name": "stdout",
     "output_type": "stream",
     "text": [
      "False True True\n",
      "논리연산(연산자 앞뒤에 논리형일떄) :  3\n",
      "비트연산(연산자 앞이나 뒤가 숫자일 때) 3\n"
     ]
    }
   ],
   "source": [
    "# | : 논리연산, 비트연산\n",
    "result1 = False | False\n",
    "result2 = False | True\n",
    "result3 = True | False\n",
    "\n",
    "print(result1,result2,result3)\n",
    "print('논리연산(연산자 앞뒤에 논리형일떄) : ',  result)\n",
    "result = False | 3  # 0 0 0 0  (0)\n",
    "                    # 0 0 1 1  (3)\n",
    "print('비트연산(연산자 앞이나 뒤가 숫자일 때)', result)"
   ]
  },
  {
   "cell_type": "code",
   "execution_count": 149,
   "id": "ccd4fd84",
   "metadata": {},
   "outputs": [
    {
     "name": "stdout",
     "output_type": "stream",
     "text": [
      " []\n",
      "1\n"
     ]
    }
   ],
   "source": [
    "# or : 논리연산, 참으로 판명되는 첫번째 항의 결과를 반환\n",
    "        #모든 항이 거짓이면 \n",
    "\n",
    "print(False or 0 or '', None or [])\n",
    "print(False or '1' or 0 or '' or None or [] or True)"
   ]
  },
  {
   "cell_type": "code",
   "execution_count": 151,
   "id": "65e29766",
   "metadata": {},
   "outputs": [
    {
     "data": {
      "text/plain": [
       "False"
      ]
     },
     "execution_count": 151,
     "metadata": {},
     "output_type": "execute_result"
    }
   ],
   "source": [
    "not  10>5"
   ]
  },
  {
   "cell_type": "markdown",
   "id": "269436fa",
   "metadata": {},
   "source": [
    "## 5.4 비교연산자: >, >=, <, <=, ==(같다), != (다르다)"
   ]
  },
  {
   "cell_type": "code",
   "execution_count": 155,
   "id": "ce33b8e0",
   "metadata": {},
   "outputs": [
    {
     "name": "stdout",
     "output_type": "stream",
     "text": [
      "True\n",
      "True\n",
      "True\n"
     ]
    }
   ],
   "source": [
    "# 비교연산자는 이항, 삼항, 사항, ... 다항연산자\n",
    "x = 95\n",
    "print((90<=x) & (x<=100))\n",
    "print(90<=x & x<=100)\n",
    "print (90<=x<=100 >10)\n"
   ]
  },
  {
   "cell_type": "code",
   "execution_count": 159,
   "id": "3ec90a85",
   "metadata": {},
   "outputs": [
    {
     "name": "stdout",
     "output_type": "stream",
     "text": [
      "True\n",
      "False\n",
      "False\n"
     ]
    }
   ],
   "source": [
    "# 비교연산자의 우선순위가 비트연산자 (|,&)의 우선순위보다 낮음\n",
    "\n",
    "print((10>5) & (10>7))\n",
    "print(10>5 & 10>7) # 괄호가 없으면 우선순위가 높은 5&10부터 계산 \n",
    "# 0101 (5) & 1010 (10) ===> F F F F ==> 0 \n",
    "print (10>0>7 )"
   ]
  },
  {
   "cell_type": "code",
   "execution_count": 163,
   "id": "04896a20",
   "metadata": {},
   "outputs": [
    {
     "name": "stdout",
     "output_type": "stream",
     "text": [
      "True\n",
      "True\n"
     ]
    }
   ],
   "source": [
    "address = '목동'\n",
    "age = 29\n",
    "\n",
    "print ((address == '목동') & (age <= 30)) # ==> 아래보다는 이런 방식으로 많이 씀\n",
    "print (address == '목동' and age <= 30)"
   ]
  },
  {
   "cell_type": "code",
   "execution_count": 165,
   "id": "e465062c",
   "metadata": {},
   "outputs": [
    {
     "data": {
      "text/plain": [
       "False"
      ]
     },
     "execution_count": 165,
     "metadata": {},
     "output_type": "execute_result"
    }
   ],
   "source": [
    "'김길동' < '홍길동'\n",
    "'홍길동' < '김길동' #str 도 비교 가능"
   ]
  },
  {
   "cell_type": "code",
   "execution_count": 167,
   "id": "286e3a47",
   "metadata": {},
   "outputs": [
    {
     "data": {
      "text/plain": [
       "False"
      ]
     },
     "execution_count": 167,
     "metadata": {},
     "output_type": "execute_result"
    }
   ],
   "source": [
    "#문자는 ASCII 코드 순으로 비교 : 특수문자 -> 숫자 -> 대문자 -> 소문자 순서\n",
    "'scott' > 'tiger'"
   ]
  },
  {
   "cell_type": "markdown",
   "id": "e2908b6f",
   "metadata": {},
   "source": [
    "## 5.5 비트연산 : &, |, ^(XOR), ~(반대)"
   ]
  },
  {
   "cell_type": "code",
   "execution_count": null,
   "id": "45838dc4",
   "metadata": {},
   "outputs": [],
   "source": []
  },
  {
   "cell_type": "code",
   "execution_count": null,
   "id": "e308f0ed",
   "metadata": {},
   "outputs": [],
   "source": []
  },
  {
   "cell_type": "code",
   "execution_count": null,
   "id": "ecab9e4d",
   "metadata": {},
   "outputs": [],
   "source": []
  }
 ],
 "metadata": {
  "kernelspec": {
   "display_name": "Python 3 (ipykernel)",
   "language": "python",
   "name": "python3"
  },
  "language_info": {
   "codemirror_mode": {
    "name": "ipython",
    "version": 3
   },
   "file_extension": ".py",
   "mimetype": "text/x-python",
   "name": "python",
   "nbconvert_exporter": "python",
   "pygments_lexer": "ipython3",
   "version": "3.10.9"
  },
  "toc": {
   "base_numbering": 1,
   "nav_menu": {},
   "number_sections": false,
   "sideBar": true,
   "skip_h1_title": false,
   "title_cell": "Table of Contents",
   "title_sidebar": "Contents",
   "toc_cell": false,
   "toc_position": {
    "height": "calc(100% - 180px)",
    "left": "10px",
    "top": "150px",
    "width": "349.091px"
   },
   "toc_section_display": true,
   "toc_window_display": true
  }
 },
 "nbformat": 4,
 "nbformat_minor": 5
}
