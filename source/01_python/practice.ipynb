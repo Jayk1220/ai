{
 "cells": [
  {
   "cell_type": "code",
   "execution_count": 37,
   "id": "34f80c8a",
   "metadata": {},
   "outputs": [
    {
     "name": "stdout",
     "output_type": "stream",
     "text": [
      "10\n"
     ]
    }
   ],
   "source": [
    "a = 10\n",
    "print (a)"
   ]
  },
  {
   "cell_type": "code",
   "execution_count": 30,
   "id": "4541f1d1",
   "metadata": {},
   "outputs": [
    {
     "data": {
      "text/html": [
       "\n",
       "<style>\n",
       "div.container{width:90% !important;}\n",
       "div.cell.code_cell.rendered{width:100%;}\n",
       "div.input_prompt{padding:0px;}\n",
       "div.CodeMirror{font-family:Consolas; font-size:15pt;}\n",
       "div.text_cell_render.rendered_html{font-size:15pt;}\n",
       "div.output{font-size:12pt; font-weight:bold;}\n",
       "div.input{font-family:Consolas; font-size:15pt;}\n",
       "div.prompt{min-width:70px;}\n",
       "div#toc-wrapper{padding-top:120px;}\n",
       "div.text_cell_renderulli{font-size:12pt;padding:5px;}\n",
       "table.dataframe{font-size:12px;}\n",
       "</style>\n"
      ],
      "text/plain": [
       "<IPython.core.display.HTML object>"
      ]
     },
     "metadata": {},
     "output_type": "display_data"
    }
   ],
   "source": [
    "from IPython.display import display, HTML\n",
    "display(HTML(\"\"\"\n",
    "<style>\n",
    "div.container{width:90% !important;}\n",
    "div.cell.code_cell.rendered{width:100%;}\n",
    "div.input_prompt{padding:0px;}\n",
    "div.CodeMirror{font-family:Consolas; font-size:15pt;}\n",
    "div.text_cell_render.rendered_html{font-size:15pt;}\n",
    "div.output{font-size:12pt; font-weight:bold;}\n",
    "div.input{font-family:Consolas; font-size:15pt;}\n",
    "div.prompt{min-width:70px;}\n",
    "div#toc-wrapper{padding-top:120px;}\n",
    "div.text_cell_renderulli{font-size:12pt;padding:5px;}\n",
    "table.dataframe{font-size:12px;}\n",
    "</style>\n",
    "\"\"\"))\n"
   ]
  },
  {
   "cell_type": "code",
   "execution_count": 2,
   "id": "d3cf21df",
   "metadata": {},
   "outputs": [
    {
     "name": "stdout",
     "output_type": "stream",
     "text": [
      "5\n"
     ]
    }
   ],
   "source": [
    "b=5\n",
    "print (b)"
   ]
  },
  {
   "cell_type": "code",
   "execution_count": 3,
   "id": "2ea53671",
   "metadata": {},
   "outputs": [
    {
     "name": "stdout",
     "output_type": "stream",
     "text": [
      "50\n"
     ]
    }
   ],
   "source": [
    "print (a*b)"
   ]
  },
  {
   "cell_type": "code",
   "execution_count": 4,
   "id": "5fab698d",
   "metadata": {},
   "outputs": [
    {
     "name": "stdout",
     "output_type": "stream",
     "text": [
      "100000\n"
     ]
    }
   ],
   "source": [
    "print (a**b)"
   ]
  },
  {
   "cell_type": "code",
   "execution_count": 6,
   "id": "360582f5",
   "metadata": {},
   "outputs": [
    {
     "name": "stdout",
     "output_type": "stream",
     "text": [
      "1584761143824\n"
     ]
    }
   ],
   "source": [
    "print(id(a))"
   ]
  },
  {
   "cell_type": "code",
   "execution_count": 7,
   "id": "4b2789dd",
   "metadata": {},
   "outputs": [
    {
     "name": "stdout",
     "output_type": "stream",
     "text": [
      "1584761143664\n"
     ]
    }
   ],
   "source": [
    "print (id(b))"
   ]
  },
  {
   "cell_type": "code",
   "execution_count": 8,
   "id": "6e5a60fa",
   "metadata": {},
   "outputs": [
    {
     "name": "stdout",
     "output_type": "stream",
     "text": [
      "Variable   Type    Data/Info\n",
      "----------------------------\n",
      "a          int     10\n",
      "b          int     5\n"
     ]
    }
   ],
   "source": [
    "whos"
   ]
  },
  {
   "cell_type": "code",
   "execution_count": 19,
   "id": "d28675af",
   "metadata": {},
   "outputs": [
    {
     "name": "stdout",
     "output_type": "stream",
     "text": [
      "홍길동님의 나이는 23살입니다\n"
     ]
    }
   ],
   "source": [
    "name = '홍길동'\n",
    "age = 23\n",
    "print('{}님의 나이는 {}살입니다'.format(\"홍길동\",23))"
   ]
  },
  {
   "cell_type": "code",
   "execution_count": 24,
   "id": "cc4509af",
   "metadata": {},
   "outputs": [
    {
     "name": "stdout",
     "output_type": "stream",
     "text": [
      "50\n",
      "10\n",
      "1.5\n",
      "1\n",
      "0.5\n"
     ]
    }
   ],
   "source": [
    "a=30\n",
    "b=20\n",
    "\n",
    "print (a+b)\n",
    "print (a-b)\n",
    "print (a/b)\n",
    "print (a//b)\n",
    "print (a/b-a//b)"
   ]
  },
  {
   "cell_type": "code",
   "execution_count": 26,
   "id": "82a481c8",
   "metadata": {},
   "outputs": [
    {
     "name": "stdout",
     "output_type": "stream",
     "text": [
      "첫번째 숫자: 20\n"
     ]
    }
   ],
   "source": [
    "first_number = int(input('첫번째 숫자: '))"
   ]
  },
  {
   "cell_type": "code",
   "execution_count": 31,
   "id": "f275ad1b",
   "metadata": {},
   "outputs": [
    {
     "name": "stdout",
     "output_type": "stream",
     "text": [
      "두번째 숫자: 30\n"
     ]
    }
   ],
   "source": [
    "second_number = int(input('두번째 숫자: '))"
   ]
  },
  {
   "cell_type": "code",
   "execution_count": 32,
   "id": "fb5f22de",
   "metadata": {},
   "outputs": [
    {
     "data": {
      "text/plain": [
       "50"
      ]
     },
     "execution_count": 32,
     "metadata": {},
     "output_type": "execute_result"
    }
   ],
   "source": [
    "first_number + second_number"
   ]
  },
  {
   "cell_type": "code",
   "execution_count": 34,
   "id": "93934826",
   "metadata": {},
   "outputs": [
    {
     "ename": "SyntaxError",
     "evalue": "unexpected character after line continuation character (1114824096.py, line 1)",
     "output_type": "error",
     "traceback": [
      "\u001b[1;36m  Cell \u001b[1;32mIn[34], line 1\u001b[1;36m\u001b[0m\n\u001b[1;33m    \\d{2,3}[\\- ]\\d{3,4}[\\- ]\\d\\d\\d\\d\u001b[0m\n\u001b[1;37m     ^\u001b[0m\n\u001b[1;31mSyntaxError\u001b[0m\u001b[1;31m:\u001b[0m unexpected character after line continuation character\n"
     ]
    }
   ],
   "source": []
  },
  {
   "cell_type": "code",
   "execution_count": 2,
   "id": "858422ce",
   "metadata": {},
   "outputs": [
    {
     "name": "stdout",
     "output_type": "stream",
     "text": [
      "hello \\ World\n"
     ]
    }
   ],
   "source": [
    "print (\"hello \\\\ World\")"
   ]
  },
  {
   "cell_type": "code",
   "execution_count": 3,
   "id": "be35eee2",
   "metadata": {},
   "outputs": [
    {
     "ename": "SyntaxError",
     "evalue": "Missing parentheses in call to 'print'. Did you mean print(...)? (2987065853.py, line 1)",
     "output_type": "error",
     "traceback": [
      "\u001b[1;36m  Cell \u001b[1;32mIn[3], line 1\u001b[1;36m\u001b[0m\n\u001b[1;33m    print \"hello \\r world\"\u001b[0m\n\u001b[1;37m    ^\u001b[0m\n\u001b[1;31mSyntaxError\u001b[0m\u001b[1;31m:\u001b[0m Missing parentheses in call to 'print'. Did you mean print(...)?\n"
     ]
    }
   ],
   "source": [
    "print \"hello \\r world\""
   ]
  },
  {
   "cell_type": "code",
   "execution_count": 14,
   "id": "9b9c2ceb",
   "metadata": {},
   "outputs": [
    {
     "name": "stdout",
     "output_type": "stream",
     "text": [
      "hello\\nworld\n",
      "hello\n",
      "world\n"
     ]
    }
   ],
   "source": [
    "print (r'hello\\nworld')\n",
    "\n",
    "print ('hello\\nworld')"
   ]
  },
  {
   "cell_type": "code",
   "execution_count": 53,
   "id": "d7e7351d",
   "metadata": {},
   "outputs": [
    {
     "name": "stdout",
     "output_type": "stream",
     "text": [
      "15\n",
      "홀수\n"
     ]
    }
   ],
   "source": [
    "number = int(input())\n",
    "if number%2 == 0:\n",
    "    print (\"짝수\")\n",
    "else:\n",
    "    print(\"홀수\")"
   ]
  },
  {
   "cell_type": "code",
   "execution_count": 61,
   "id": "297251c8",
   "metadata": {},
   "outputs": [
    {
     "name": "stdout",
     "output_type": "stream",
     "text": [
      "12\n",
      "5의 배수가 아님\n"
     ]
    }
   ],
   "source": [
    "numbers = int(input())\n",
    "if numbers%5 == 0:\n",
    "    print (\"5의 배수\")\n",
    "else:\n",
    "    print(\"5의 배수가 아님\")"
   ]
  },
  {
   "cell_type": "code",
   "execution_count": 113,
   "id": "ec67e39c",
   "metadata": {},
   "outputs": [
    {
     "name": "stdout",
     "output_type": "stream",
     "text": [
      "국어:  99 \\t 영어:  100 \\t 수학:  99 \n",
      " 총점:  298 \\t 평균:  99.3\n"
     ]
    }
   ],
   "source": [
    "국어, 영어, 수학 = 99, 100, 99\n",
    "총점 = 국어+영어+수학\n",
    "평균 = 총점/3\n",
    "print(\"국어: \",국어,'\\\\t','영어: ',영어,'\\\\t', '수학: ',수학,'\\n','총점: ',총점,'\\\\t',\n",
    "     '평균: ',\"{:.1f}\".format(평균))"
   ]
  },
  {
   "cell_type": "code",
   "execution_count": 116,
   "id": "fe6a5949",
   "metadata": {},
   "outputs": [
    {
     "name": "stdout",
     "output_type": "stream",
     "text": [
      "홍길동님의 나이는 23살입니다\n"
     ]
    }
   ],
   "source": [
    "name = '홍길동'\n",
    "age = 23\n",
    "\n",
    "print('{}님의 나이는 {}살입니다'.format(name,age))"
   ]
  },
  {
   "cell_type": "code",
   "execution_count": 119,
   "id": "780d2748",
   "metadata": {},
   "outputs": [
    {
     "name": "stdout",
     "output_type": "stream",
     "text": [
      "please insert any number3\n",
      "please insert an additional number2\n",
      "덧셈: 5 뺄셈: 1, 곱셈: 6, 나눗셈: 1.5, 몫: 1, 나머지1\n"
     ]
    }
   ],
   "source": [
    "int_1 = int(input('please insert any number'))\n",
    "int_2 = int(input('please insert an additional number'))\n",
    "\n",
    "sum_ = int_1 + int_2\n",
    "subtraction = int_1 - int_2\n",
    "multiply = int_1*int_2\n",
    "divide = int_1/int_2\n",
    "quotation = int_1//int_2\n",
    "remainder = int_1%int_2\n",
    "\n",
    "print ('덧셈: {} 뺄셈: {}, 곱셈: {}, 나눗셈: {}, 몫: {}, 나머지{}'.format(sum_,subtraction,multiply,divide,quotation,remainder))"
   ]
  },
  {
   "cell_type": "code",
   "execution_count": 127,
   "id": "25cd32d4",
   "metadata": {},
   "outputs": [
    {
     "name": "stdout",
     "output_type": "stream",
     "text": [
      "World Hello \n"
     ]
    }
   ],
   "source": [
    "text = 'Hello World'\n",
    "\n",
    "print(text[6:] +\" \"+ text[0:6])"
   ]
  },
  {
   "cell_type": "code",
   "execution_count": 128,
   "id": "376f6bda",
   "metadata": {},
   "outputs": [
    {
     "name": "stdout",
     "output_type": "stream",
     "text": [
      "bcdefa\n"
     ]
    }
   ],
   "source": [
    "x = 'abcdef'\n",
    "print(x[1:]+x[0])"
   ]
  },
  {
   "cell_type": "code",
   "execution_count": 142,
   "id": "d1f76bf8",
   "metadata": {},
   "outputs": [
    {
     "name": "stdout",
     "output_type": "stream",
     "text": [
      "fedcba\n"
     ]
    }
   ],
   "source": [
    "print(x[::-1])"
   ]
  },
  {
   "cell_type": "code",
   "execution_count": 12,
   "id": "35f81469",
   "metadata": {},
   "outputs": [
    {
     "name": "stdout",
     "output_type": "stream",
     "text": [
      "Please insert today's temperature in Celcius : 30\n",
      "86.0\n"
     ]
    }
   ],
   "source": [
    "temp_C = int(input(\"Please insert today's temperature in Celcius : \"))\n",
    "temp_F = (temp_C*1.8)+32\n",
    "temp_F_trim = '{:.1f}temp_F'\n",
    "print (temp_F)\n"
   ]
  },
  {
   "cell_type": "code",
   "execution_count": null,
   "id": "a58a1f3d",
   "metadata": {},
   "outputs": [],
   "source": []
  }
 ],
 "metadata": {
  "kernelspec": {
   "display_name": "Python 3 (ipykernel)",
   "language": "python",
   "name": "python3"
  },
  "language_info": {
   "codemirror_mode": {
    "name": "ipython",
    "version": 3
   },
   "file_extension": ".py",
   "mimetype": "text/x-python",
   "name": "python",
   "nbconvert_exporter": "python",
   "pygments_lexer": "ipython3",
   "version": "3.10.9"
  },
  "toc": {
   "base_numbering": 1,
   "nav_menu": {},
   "number_sections": false,
   "sideBar": true,
   "skip_h1_title": false,
   "title_cell": "Table of Contents",
   "title_sidebar": "Contents",
   "toc_cell": false,
   "toc_position": {
    "height": "calc(100% - 180px)",
    "left": "10px",
    "top": "150px",
    "width": "276px"
   },
   "toc_section_display": true,
   "toc_window_display": false
  }
 },
 "nbformat": 4,
 "nbformat_minor": 5
}
