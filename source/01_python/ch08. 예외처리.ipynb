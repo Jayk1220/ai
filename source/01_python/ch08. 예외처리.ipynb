{
 "cells": [
  {
   "cell_type": "markdown",
   "id": "0c189f09",
   "metadata": {},
   "source": [
    "<b><font size=\"6\" color=\"red\">ch08. 예외처리</font></b>\n",
    "  - Error\n",
    "      1. 문법에러 : 문법적으로 나타나는 에러 (프로그램을 수정)\n",
    "      2. 실행에러 : 실행시 에러\n",
    "          * 시스템 에러 : 프로그래머의 의지와 상관없이 나타나는 에러\n",
    "          * 예외: 정상적으로 동작하는 프로그램에서 나타나는 에러 (mild 한 에러)\n",
    "          \n",
    "# 1. 예외처리 필요성\n",
    "    - 예외가 날 가능성이 있는 부분에 대해서 미리 예상하고, 그에 대한 처리를 프로그래밍 하는 것\n",
    "        (필요한 이유 : 안정적인 시스템)\n",
    "        \n",
    "```\n",
    "e.g. 1 파일을 다룰 때, 파일이 없거나, 쓰기금지, 파일 인코딩 방법으로 인한 오류\n",
    "e.g. 2 데이터베이스 프로그래밍 시 제약조건 등에 의한 CRUD () 명령 수행 오류. DBMS 서버 오류\n",
    "e.g. 3 네트워크 프로그래밍 시 네트워크 연결 오류\n",
    "e.g. 4 리스트나 튜플의 인덱스를 벗어난 참조에 의한 오류\n",
    "\n",
    "```"
   ]
  },
  {
   "cell_type": "code",
   "execution_count": 24,
   "id": "3a1102dd",
   "metadata": {},
   "outputs": [
    {
     "data": {
      "text/html": [
       "\n",
       "<style>\n",
       "div.container{width:90% !important;}\n",
       "div.cell.code_cell.rendered{width:100%;}\n",
       "div.input_prompt{padding:0px;}\n",
       "div.CodeMirror{font-family:Consolas; font-size:15pt;}\n",
       "div.text_cell_render.rendered_html{font-size:15pt;}\n",
       "div.output{font-size:12pt; font-weight:bold;}\n",
       "div.input{font-family:Consolas; font-size:15pt;}\n",
       "div.prompt{min-width:70px;}\n",
       "div#toc-wrapper{padding-top:120px;}\n",
       "div.text_cell_renderulli{font-size:12pt;padding:5px;}\n",
       "table.dataframe{font-size:12px;}\n",
       "</style>\n"
      ],
      "text/plain": [
       "<IPython.core.display.HTML object>"
      ]
     },
     "metadata": {},
     "output_type": "display_data"
    }
   ],
   "source": [
    "from IPython.display import display, HTML\n",
    "display(HTML(\"\"\"\n",
    "<style>\n",
    "div.container{width:90% !important;}\n",
    "div.cell.code_cell.rendered{width:100%;}\n",
    "div.input_prompt{padding:0px;}\n",
    "div.CodeMirror{font-family:Consolas; font-size:15pt;}\n",
    "div.text_cell_render.rendered_html{font-size:15pt;}\n",
    "div.output{font-size:12pt; font-weight:bold;}\n",
    "div.input{font-family:Consolas; font-size:15pt;}\n",
    "div.prompt{min-width:70px;}\n",
    "div#toc-wrapper{padding-top:120px;}\n",
    "div.text_cell_renderulli{font-size:12pt;padding:5px;}\n",
    "table.dataframe{font-size:12px;}\n",
    "</style>\n",
    "\"\"\"))"
   ]
  },
  {
   "cell_type": "code",
   "execution_count": 2,
   "id": "b72c643b",
   "metadata": {},
   "outputs": [
    {
     "name": "stdout",
     "output_type": "stream",
     "text": [
      "파일명은?\n"
     ]
    },
    {
     "ename": "PermissionError",
     "evalue": "[Errno 13] Permission denied: 'Data/'",
     "output_type": "error",
     "traceback": [
      "\u001b[1;31m---------------------------------------------------------------------------\u001b[0m",
      "\u001b[1;31mPermissionError\u001b[0m                           Traceback (most recent call last)",
      "Cell \u001b[1;32mIn[2], line 3\u001b[0m\n\u001b[0;32m      1\u001b[0m \u001b[38;5;66;03m#파일명은 사용자에게  입력받아 해당 파일 내용을 출력\u001b[39;00m\n\u001b[0;32m      2\u001b[0m filename \u001b[38;5;241m=\u001b[39m \u001b[38;5;28minput\u001b[39m(\u001b[38;5;124m'\u001b[39m\u001b[38;5;124m파일명은?\u001b[39m\u001b[38;5;124m'\u001b[39m)\n\u001b[1;32m----> 3\u001b[0m f \u001b[38;5;241m=\u001b[39m \u001b[38;5;28;43mopen\u001b[39;49m\u001b[43m(\u001b[49m\u001b[38;5;124;43m'\u001b[39;49m\u001b[38;5;124;43mData/\u001b[39;49m\u001b[38;5;124;43m'\u001b[39;49m\u001b[43m \u001b[49m\u001b[38;5;241;43m+\u001b[39;49m\u001b[43m \u001b[49m\u001b[43mfilename\u001b[49m\u001b[43m,\u001b[49m\u001b[43m \u001b[49m\u001b[38;5;124;43m'\u001b[39;49m\u001b[38;5;124;43mr\u001b[39;49m\u001b[38;5;124;43m'\u001b[39;49m\u001b[43m)\u001b[49m \u001b[38;5;66;03m# 파일을 연다 (스트림객체 생성)\u001b[39;00m\n\u001b[0;32m      4\u001b[0m f\u001b[38;5;241m.\u001b[39mread()\n",
      "File \u001b[1;32m~\\anaconda3\\lib\\site-packages\\IPython\\core\\interactiveshell.py:282\u001b[0m, in \u001b[0;36m_modified_open\u001b[1;34m(file, *args, **kwargs)\u001b[0m\n\u001b[0;32m    275\u001b[0m \u001b[38;5;28;01mif\u001b[39;00m file \u001b[38;5;129;01min\u001b[39;00m {\u001b[38;5;241m0\u001b[39m, \u001b[38;5;241m1\u001b[39m, \u001b[38;5;241m2\u001b[39m}:\n\u001b[0;32m    276\u001b[0m     \u001b[38;5;28;01mraise\u001b[39;00m \u001b[38;5;167;01mValueError\u001b[39;00m(\n\u001b[0;32m    277\u001b[0m         \u001b[38;5;124mf\u001b[39m\u001b[38;5;124m\"\u001b[39m\u001b[38;5;124mIPython won\u001b[39m\u001b[38;5;124m'\u001b[39m\u001b[38;5;124mt let you open fd=\u001b[39m\u001b[38;5;132;01m{\u001b[39;00mfile\u001b[38;5;132;01m}\u001b[39;00m\u001b[38;5;124m by default \u001b[39m\u001b[38;5;124m\"\u001b[39m\n\u001b[0;32m    278\u001b[0m         \u001b[38;5;124m\"\u001b[39m\u001b[38;5;124mas it is likely to crash IPython. If you know what you are doing, \u001b[39m\u001b[38;5;124m\"\u001b[39m\n\u001b[0;32m    279\u001b[0m         \u001b[38;5;124m\"\u001b[39m\u001b[38;5;124myou can use builtins\u001b[39m\u001b[38;5;124m'\u001b[39m\u001b[38;5;124m open.\u001b[39m\u001b[38;5;124m\"\u001b[39m\n\u001b[0;32m    280\u001b[0m     )\n\u001b[1;32m--> 282\u001b[0m \u001b[38;5;28;01mreturn\u001b[39;00m io_open(file, \u001b[38;5;241m*\u001b[39margs, \u001b[38;5;241m*\u001b[39m\u001b[38;5;241m*\u001b[39mkwargs)\n",
      "\u001b[1;31mPermissionError\u001b[0m: [Errno 13] Permission denied: 'Data/'"
     ]
    }
   ],
   "source": [
    "#파일명은 사용자에게  입력받아 해당 파일 내용을 출력\n",
    "filename = input('파일명은?')\n",
    "f = open('Data/' + filename, 'r') # 파일을 연다 (스트림객체 생성)\n",
    "f.read()"
   ]
  },
  {
   "cell_type": "code",
   "execution_count": null,
   "id": "ddf203f1",
   "metadata": {},
   "outputs": [],
   "source": [
    "f.close()"
   ]
  },
  {
   "cell_type": "code",
   "execution_count": null,
   "id": "fdf9dd11",
   "metadata": {},
   "outputs": [],
   "source": [
    "#예외발생 : 파일명이 잘못 되었을 경우\n",
    "filename = input('파일명은?')\n",
    "f = open('Data/' + filename, 'r') # 파일을 연다 (스트림객체 생성)\n",
    "print(f.read())\n",
    "f.close()\n"
   ]
  },
  {
   "cell_type": "code",
   "execution_count": null,
   "id": "a555de81",
   "metadata": {},
   "outputs": [],
   "source": [
    "#예외발생 : 인코딩방식 에러\n",
    "#한글 인코딩 방법:\n",
    "#한글완성형 (euc-kr < cp949) 한글 1,1172자 중 2,850자만 코드표현법 (euc - kr)\n",
    "#한글조합형 (utf - 8) : 초중종성\n",
    "filename = input('파일명은?')\n",
    "f = open('Data/' + filename, 'r',encoding='utf-8') # 파일을 연다 (cp949코드가 기본 encoding 방식)\n",
    "print(f.read())\n",
    "f.close()\n"
   ]
  },
  {
   "cell_type": "code",
   "execution_count": null,
   "id": "2e55a96b",
   "metadata": {},
   "outputs": [],
   "source": [
    "4/0"
   ]
  },
  {
   "cell_type": "code",
   "execution_count": null,
   "id": "4368d0e6",
   "metadata": {},
   "outputs": [],
   "source": [
    "a = [1,2,3]\n",
    "a[3]"
   ]
  },
  {
   "cell_type": "markdown",
   "id": "ceda6e77",
   "metadata": {},
   "source": [
    "# 2. \n",
    "## 2.1 try ~ except\n",
    "\n",
    "```\n",
    "try:\n",
    "    예외가 발생할 가능성\n",
    "except:\n",
    "    \n",
    "```"
   ]
  },
  {
   "cell_type": "code",
   "execution_count": null,
   "id": "e963e855",
   "metadata": {},
   "outputs": [],
   "source": [
    "#100을 입력받은 정수로 나눠 출력\n",
    "\n",
    "x = int(input('100을 나눌 정수: '))\n",
    "print('100을 입력한 정수로 나누면 {}'.format(100/x))"
   ]
  },
  {
   "cell_type": "code",
   "execution_count": null,
   "id": "4e81f75e",
   "metadata": {},
   "outputs": [],
   "source": [
    "# 100을 입력받은 정수값으로 나눠 출력\n",
    "#ValueError : invalid literal for int() with base 10 : '삼' (정수를 입력하지 않은 경우)\n",
    "#ZeroDivisionError : division by zero (0을 입력한 경우 예외 객체의 타입과 메세지)\n",
    "x = int(input('100을 나눌 정수: '))\n",
    "print('100을 입력한 정수로 나누면 {}'.format(100/x))\n"
   ]
  },
  {
   "cell_type": "code",
   "execution_count": null,
   "id": "b5727324",
   "metadata": {},
   "outputs": [],
   "source": [
    "x = int(input('100을 나눌 정수: '))\n",
    "print('100을 입력한 정수로 나누면 {:.3f}'.format(100/x))"
   ]
  },
  {
   "cell_type": "code",
   "execution_count": null,
   "id": "25c25169",
   "metadata": {},
   "outputs": [],
   "source": [
    "# 100을 입력받은 정수값으로 나눠 출력\n",
    "#ValueError : invalid literal for int() with base 10 : '삼' (정수를 입력하지 않은 경우)\n",
    "#ZeroDivisionError : division by zero (0을 입력한 경우 예외 객체의 타입과 메세지)\n",
    "#try절에 예외가 발생하지 않으면 except절 수행되지 않음\n",
    "#try절 예외 발생 시, try절 수행을 멈추고 except절 수행\n",
    "\n",
    "try:\n",
    "    x = int(input('100을 나눌 정수: '))\n",
    "    print('100을 입력한 정수로 나누면 {:.3f}'.format(100/x))\n",
    "except:\n",
    "    print('유효한 정수가 아닙니다')"
   ]
  },
  {
   "cell_type": "code",
   "execution_count": null,
   "id": "e6e97855",
   "metadata": {},
   "outputs": [],
   "source": [
    "#100을 나눌 유효한 정수를 입력할때 까지 입력받아 100을 나눈 결과를 출력\n",
    "#ValueError : invalid literal for int() with base 10 : '삼' (정수를 입력하지 않은 경우)\n",
    "#ZeroDivisionError : division by zero (0을 입력한 경우 예외 객체의 타입과 메세지)\n",
    "\n",
    "while True:\n",
    "    try:\n",
    "        x = int(input('100을 나눌 정수: '))\n",
    "        print('100을 입력한 정수로 나누면 {:.3f}'.format(100/x))\n",
    "        break\n",
    "    except:\n",
    "        print('유효한 정수가 아닙니다')"
   ]
  },
  {
   "cell_type": "code",
   "execution_count": null,
   "id": "36c2bd6a",
   "metadata": {},
   "outputs": [],
   "source": []
  },
  {
   "cell_type": "markdown",
   "id": "b6495f6b",
   "metadata": {},
   "source": [
    "## 2.2 지정된 예외 처리\n",
    "```\n",
    "    try: \n",
    "        예외가 발생 할 수도 있는 명령어\n",
    "    except (예외타입 1, 예외타입3):\n",
    "        해당 예외가 발생 할 경우 실행할 명령어\n",
    "    except 예외타입 2:\n",
    "        해당 예외가 발생 할 경우 실행할 명령어\n",
    "```"
   ]
  },
  {
   "cell_type": "code",
   "execution_count": 13,
   "id": "4c2245a8",
   "metadata": {},
   "outputs": [
    {
     "name": "stdout",
     "output_type": "stream",
     "text": [
      "100을 나눌 정수: \n",
      "정수를 입력하지 않았습니다\n"
     ]
    }
   ],
   "source": [
    "# 100을 입력받은 정수값으로 나눠 출력\n",
    "#ValueError : invalid literal for int() with base 10 : '삼' (정수를 입력하지 않은 경우)\n",
    "#ZeroDivisionError : division by zero (0을 입력한 경우 예외 객체의 타입과 메세지)\n",
    "try:\n",
    "    x = int(input('100을 나눌 정수: '))\n",
    "    print('100을 입력한 정수로 나누면 {:.3f}'.format(100/x))\n",
    "except ValueError:\n",
    "    print('정수를 입력하지 않았습니다')\n",
    "\n",
    "except ZeroDivisionError:\n",
    "    print('0으로 못나눔')\n",
    "\n",
    "except Exception:\n",
    "    print('기타 다른 예외임')    "
   ]
  },
  {
   "cell_type": "markdown",
   "id": "4cfc7097",
   "metadata": {},
   "source": [
    "## 2.3 예외인수(e)\n",
    "\n",
    "```\n",
    "try: \n",
    "    예외가 발생 할 수도 있는 명령어\n",
    "except 예외타입 as e:\n",
    "    print(e)\n",
    "    print(e.ars[0]) # 예외메세지 출력\n",
    "    "
   ]
  },
  {
   "cell_type": "code",
   "execution_count": 14,
   "id": "3f5a3108",
   "metadata": {},
   "outputs": [],
   "source": [
    "e = Exception('에러메세지')\n"
   ]
  },
  {
   "cell_type": "code",
   "execution_count": 15,
   "id": "41a5fda2",
   "metadata": {},
   "outputs": [
    {
     "data": {
      "text/plain": [
       "('에러메세지',)"
      ]
     },
     "execution_count": 15,
     "metadata": {},
     "output_type": "execute_result"
    }
   ],
   "source": [
    "e.args"
   ]
  },
  {
   "cell_type": "code",
   "execution_count": 16,
   "id": "962312e3",
   "metadata": {},
   "outputs": [
    {
     "name": "stdout",
     "output_type": "stream",
     "text": [
      "에러메세지\n"
     ]
    }
   ],
   "source": [
    "print(e)"
   ]
  },
  {
   "cell_type": "code",
   "execution_count": 23,
   "id": "194339db",
   "metadata": {},
   "outputs": [
    {
     "name": "stdout",
     "output_type": "stream",
     "text": [
      "100을 나눌 정수: 0\n",
      "예외유형 : <class 'ZeroDivisionError'>\n",
      "예외메세지:  division by zero\n",
      "예외메세지:  division by zero\n",
      "예외메세지:  ('division by zero',)\n"
     ]
    }
   ],
   "source": [
    "try:\n",
    "    x = int(input('100을 나눌 정수: '))\n",
    "    print('100을 입력한 정수로 나누면 {:.3f}'.format(100/x))\n",
    "except (ZeroDivisionError,ValueError) as e :\n",
    "    print(\"예외유형 :\",type(e))\n",
    "    print(\"예외메세지: \", e)\n",
    "    print('예외메세지: ', e.__str__())\n",
    "    print('예외메세지: ', e.args)\n",
    "except ZeroDivisionError:\n",
    "    print('0으로 못나눔')\n",
    "\n",
    "except Exception:\n",
    "    print('기타 다른 예외임')    "
   ]
  },
  {
   "cell_type": "code",
   "execution_count": 25,
   "id": "32d801d0",
   "metadata": {},
   "outputs": [
    {
     "data": {
      "text/plain": [
       "'\\ntry:: \\n    예외 발생 가능 명령어\\n\\nexcept [예외타입 [as e]]:\\n    예외타입 발생 시 명령어\\n\\n[else:\\n    try절 수행 하다가 예외가 발생하지 않으면 else절 수행\\n    try절 수행 하다가 예외가 발생하면 except절 수행 (else절 수행 한함)\\n]\\n\\n[finally: \\n    try절에서 예외가 발생하든 하지 않든 마지막에 수행\\n]\\n\\n'"
      ]
     },
     "execution_count": 25,
     "metadata": {},
     "output_type": "execute_result"
    }
   ],
   "source": [
    "# '''\n",
    "# try:: \n",
    "#     예외 발생 가능 명령어\n",
    "\n",
    "# except [예외타입 [as e]]:\n",
    "#     예외타입 발생 시 명령어\n",
    "\n",
    "# [else:\n",
    "#     try절 수행 하다가 예외가 발생하지 않으면 else절 수행\n",
    "#     try절 수행 하다가 예외가 발생하면 except절 수행 (else절 수행 한함)\n",
    "# ]\n",
    "\n",
    "# [finally: \n",
    "#     try절에서 예외가 발생하든 하지 않든 마지막에 수행\n",
    "# ]\n",
    "\n",
    "# '''"
   ]
  },
  {
   "cell_type": "code",
   "execution_count": 31,
   "id": "cd21851b",
   "metadata": {},
   "outputs": [
    {
     "name": "stdout",
     "output_type": "stream",
     "text": [
      "Hello\n",
      "Python\n",
      "\n",
      "주피터노트북 txt파일 저장은 utf-8로 저장\n",
      "\n",
      "믜믜 볅\n"
     ]
    }
   ],
   "source": [
    "try:\n",
    "    file = open('Data/ch08.txt','r',encoding='utf-8')\n",
    "except FileNotFoundError as e:\n",
    "    print('해당 폴더나 파일이 없습니다')\n",
    "    print(e)\n",
    "else:\n",
    "    print(file.read()) #인코딩으로 인한 에러는 여기서 남. \n",
    "finally:\n",
    "    file.close()"
   ]
  },
  {
   "cell_type": "markdown",
   "id": "4a473e6c",
   "metadata": {},
   "source": [
    "# 3. raise\n",
    " - 강제 예외 발생"
   ]
  },
  {
   "cell_type": "code",
   "execution_count": 32,
   "id": "64fb48a9",
   "metadata": {},
   "outputs": [],
   "source": [
    "e = Exception (\"예외\")"
   ]
  },
  {
   "cell_type": "code",
   "execution_count": 33,
   "id": "c0da5f2b",
   "metadata": {},
   "outputs": [
    {
     "ename": "ZeroDivisionError",
     "evalue": "0으로 나누려고 함",
     "output_type": "error",
     "traceback": [
      "\u001b[1;31m---------------------------------------------------------------------------\u001b[0m",
      "\u001b[1;31mZeroDivisionError\u001b[0m                         Traceback (most recent call last)",
      "Cell \u001b[1;32mIn[33], line 1\u001b[0m\n\u001b[1;32m----> 1\u001b[0m \u001b[38;5;28;01mraise\u001b[39;00m \u001b[38;5;167;01mZeroDivisionError\u001b[39;00m(\u001b[38;5;124m'\u001b[39m\u001b[38;5;124m0으로 나누려고 함\u001b[39m\u001b[38;5;124m'\u001b[39m)\n",
      "\u001b[1;31mZeroDivisionError\u001b[0m: 0으로 나누려고 함"
     ]
    }
   ],
   "source": [
    "raise ZeroDivisionError('0으로 나누려고 함')"
   ]
  },
  {
   "cell_type": "code",
   "execution_count": 34,
   "id": "fb5c736c",
   "metadata": {},
   "outputs": [],
   "source": [
    "#사용자 정의 예외: exception 클래스로부터 상속받아 구현\n",
    "class LengthZeroError(Exception):\n",
    "    '길이가 0일때 발생하는 예외'\n",
    "    def __init__(self,message):\n",
    "        super().__init__(message)\n",
    "    "
   ]
  },
  {
   "cell_type": "code",
   "execution_count": 39,
   "id": "9e20cee7",
   "metadata": {},
   "outputs": [],
   "source": [
    "def insert(*data): #튜플매개변수\n",
    "    if len(data) == 0:\n",
    "        raise LengthZeroError('매개변수의 갯수가 0이면 예외 (사용자 정의 예외)')\n",
    "    for item in data:\n",
    "        print(item, end = ' ')\n",
    "    print('등을 입력')"
   ]
  },
  {
   "cell_type": "code",
   "execution_count": 41,
   "id": "a4aca83a",
   "metadata": {},
   "outputs": [
    {
     "name": "stdout",
     "output_type": "stream",
     "text": [
      "1 2 3 등을 입력\n"
     ]
    }
   ],
   "source": [
    "insert(1,2,3)"
   ]
  },
  {
   "cell_type": "code",
   "execution_count": 50,
   "id": "8ef30562",
   "metadata": {},
   "outputs": [
    {
     "name": "stdout",
     "output_type": "stream",
     "text": [
      "매개변수의 갯수가 0이면 예외 (사용자 정의 예외)\n",
      "예외가 발생 하든 아니든 실행\n"
     ]
    }
   ],
   "source": [
    "data = ()\n",
    "try: \n",
    "    insert(*data)\n",
    "except Exception as e:\n",
    "    print(e)\n",
    "else:\n",
    "    print('예외가 발생 안할때만')\n",
    "finally:\n",
    "    print('예외가 발생 하든 아니든 실행')"
   ]
  },
  {
   "cell_type": "markdown",
   "id": "3ffb7c55",
   "metadata": {},
   "source": [
    "# 4. 추상클래스\n",
    " - 추상클래스 : 추상 매소드가 1개 이상 포함된 클래스\n",
    " - 추상메소드 : 호출할 수 없는 메소드. 상속받은 클래스에서 재정의를 강요할때\n",
    " - python에서 추상메소드 @abstractmethod나 raise를 이용"
   ]
  },
  {
   "cell_type": "code",
   "execution_count": 2,
   "id": "5238d175",
   "metadata": {},
   "outputs": [],
   "source": [
    "class Shape:\n",
    "    def __init__(self):\n",
    "        raise NotImplementedError('추상클래스 역할')\n",
    "    def calc_area(self):\n",
    "        raise NotImplementedError('추상메소드 역할')"
   ]
  },
  {
   "cell_type": "code",
   "execution_count": 5,
   "id": "9fa74e6e",
   "metadata": {},
   "outputs": [],
   "source": [
    "from abc import ABC, abstractmethod\n",
    "class Shape(ABC):\n",
    "    @abstractmethod\n",
    "    def __init__(self):\n",
    "        pass\n",
    "    @abstractmethod\n",
    "    def calc_area(self):\n",
    "        pass"
   ]
  },
  {
   "cell_type": "code",
   "execution_count": 70,
   "id": "9e791c53",
   "metadata": {},
   "outputs": [],
   "source": [
    "class Circle(Shape):\n",
    "    def __init__(self,radius = 3):\n",
    "        self.radius = radius\n",
    "    def calc_area(self):\n",
    "        '원의 넓이를 return'\n",
    "        return 3.14*(self.radius**2)"
   ]
  },
  {
   "cell_type": "code",
   "execution_count": 71,
   "id": "d01fe134",
   "metadata": {},
   "outputs": [
    {
     "data": {
      "text/plain": [
       "78.5"
      ]
     },
     "execution_count": 71,
     "metadata": {},
     "output_type": "execute_result"
    }
   ],
   "source": [
    "myCircle = Circle(5)\n",
    "myCircle.calc_area()"
   ]
  },
  {
   "cell_type": "code",
   "execution_count": 4,
   "id": "5ebb5727",
   "metadata": {},
   "outputs": [],
   "source": [
    "class Shape:\n",
    "    def __init__(self):\n",
    "        raise NotImplementedError('추상클래스 역할')\n",
    "    def calc_area(self):\n",
    "        raise NotImplementedError('추상메소드 역할')"
   ]
  },
  {
   "cell_type": "markdown",
   "id": "4a40371a",
   "metadata": {},
   "source": [
    "# 5. 파일정리작업 (with절 이용)"
   ]
  },
  {
   "cell_type": "code",
   "execution_count": 8,
   "id": "6739567a",
   "metadata": {},
   "outputs": [
    {
     "name": "stdout",
     "output_type": "stream",
     "text": [
      "['Hello\\n', 'Python\\n', '\\n', '주피터노트북 txt파일 저장은 utf-8로 저장\\n', '\\n', '믜믜 볅']\n"
     ]
    }
   ],
   "source": [
    "try:\n",
    "    f = open('Data/ch08.txt','r',encoding='utf-8')\n",
    "    lines = f.readlines() #한줄한줄 모든 줄을 한꺼번에 list로\n",
    "    print(lines)\n",
    "except FileNotFoundError as e:\n",
    "    print(e)\n",
    "finally:\n",
    "    f.close() "
   ]
  },
  {
   "cell_type": "code",
   "execution_count": 10,
   "id": "b7f8dc23",
   "metadata": {},
   "outputs": [
    {
     "name": "stdout",
     "output_type": "stream",
     "text": [
      "['Hello\\n', 'Python\\n', '\\n', '주피터노트북 txt파일 저장은 utf-8로 저장\\n', '\\n', '믜믜 볅']\n"
     ]
    }
   ],
   "source": [
    "#with절 이후에는 자동적으로 close를 실행\n",
    "with open('Data/ch08.txt','r',encoding='utf-8') as f:\n",
    "    lines = f.readlines() ##여기까지 수행하고 close\n",
    "print(lines)"
   ]
  },
  {
   "cell_type": "code",
   "execution_count": 12,
   "id": "1faffb39",
   "metadata": {},
   "outputs": [
    {
     "name": "stdout",
     "output_type": "stream",
     "text": [
      "['Hello\\n', 'Python\\n', '\\n', '주피터노트북 txt파일 저장은 utf-8로 저장\\n', '\\n', '믜믜 볅']\n"
     ]
    }
   ],
   "source": [
    "try:\n",
    "    with open('Data/ch08.txt','r',encoding='utf-8') as f:\n",
    "        lines = f.readlines()\n",
    "    print(lines)\n",
    "except (FileNotFoundError, UnicodeDecodeError) as e:\n",
    "    print(e)"
   ]
  },
  {
   "cell_type": "code",
   "execution_count": null,
   "id": "e10f695f",
   "metadata": {},
   "outputs": [],
   "source": []
  },
  {
   "cell_type": "code",
   "execution_count": null,
   "id": "62aebca1",
   "metadata": {},
   "outputs": [],
   "source": []
  },
  {
   "cell_type": "code",
   "execution_count": null,
   "id": "ef0a5009",
   "metadata": {},
   "outputs": [],
   "source": []
  },
  {
   "cell_type": "markdown",
   "id": "c1a3958c",
   "metadata": {},
   "source": [
    "# 연습문제 (실습)"
   ]
  },
  {
   "cell_type": "code",
   "execution_count": 32,
   "id": "06e75699",
   "metadata": {},
   "outputs": [
    {
     "name": "stdout",
     "output_type": "stream",
     "text": [
      "첫번째 숫자를 입력하세요: 10\n",
      "두번째 숫자를 입력하세요: 5\n",
      "입력한 수는 10.0와 5.0입니다.\n",
      "10.0를5.0로 나누면 2.0입니다\n"
     ]
    }
   ],
   "source": [
    "#1. 숫자 두 개를 입력받아 나눗셈연산을 하는 프로그램을 작성하세요\n",
    "#- 두 숫자는 정수 또는 실수일 수 있으며 0으로 나눌수 없습니다\n",
    "#- 올바른 두 수를 입력하고 나눗셉 연산결과를 출력한 후 종료해야 합니다\n",
    "\n",
    "try:\n",
    "    num1 = float(input('첫번째 숫자를 입력하세요: '))\n",
    "    num2 = float(input('두번째 숫자를 입력하세요: '))\n",
    "    print(f'입력한 수는 {num1}와 {num2}입니다.')\n",
    "    value = num1/num2\n",
    "    print(f'{num1}를{num2}로 나누면 {value}입니다')\n",
    "except:\n",
    "    print('유효한 숫자가 아닙니다. 다시 시도하세요')"
   ]
  },
  {
   "cell_type": "code",
   "execution_count": 33,
   "id": "8262d8a5",
   "metadata": {},
   "outputs": [
    {
     "name": "stdout",
     "output_type": "stream",
     "text": [
      "첫번째 숫자를 입력하세요: 2\n",
      "두번째 숫자를 입력하세요: 1\n",
      "입력한 수는 2.0와 1.0입니다.\n",
      "2.0를1.0로 나누면 2.0입니다\n"
     ]
    }
   ],
   "source": [
    "#2. 1번 코드의 예외처리를 예외에 따라 다르게 처리하세요\n",
    "# 숫자로 바꿀 수 없을 경우 ValueError\n",
    "# 0으로 나누려고 할 때 ZeroDivisionError\n",
    "\n",
    "try:\n",
    "    num1 = float(input('첫번째 숫자를 입력하세요: '))\n",
    "    num2 = float(input('두번째 숫자를 입력하세요: '))\n",
    "    print(f'입력한 수는 {num1}와 {num2}입니다.')\n",
    "    value = num1/num2\n",
    "    print(f'{num1}를{num2}로 나누면 {value}입니다')\n",
    "except ValueError:\n",
    "    print('유효한 숫자가 아닙니다. 다시 시도하세요')\n",
    "except ZeroDivisionError:\n",
    "    print('0으로 나눌 수 없습니다. 다시 시도하세요')"
   ]
  },
  {
   "cell_type": "markdown",
   "id": "b204479b",
   "metadata": {},
   "source": [
    "# 연습문제 (문제풀이)"
   ]
  },
  {
   "cell_type": "markdown",
   "id": "c3b63c8d",
   "metadata": {},
   "source": [
    "1.3 \n",
    "2.2\n",
    "3. 4\n",
    "4.3\n"
   ]
  },
  {
   "cell_type": "code",
   "execution_count": null,
   "id": "740859ce",
   "metadata": {},
   "outputs": [],
   "source": []
  }
 ],
 "metadata": {
  "kernelspec": {
   "display_name": "Python 3 (ipykernel)",
   "language": "python",
   "name": "python3"
  },
  "language_info": {
   "codemirror_mode": {
    "name": "ipython",
    "version": 3
   },
   "file_extension": ".py",
   "mimetype": "text/x-python",
   "name": "python",
   "nbconvert_exporter": "python",
   "pygments_lexer": "ipython3",
   "version": "3.10.9"
  },
  "toc": {
   "base_numbering": 1,
   "nav_menu": {},
   "number_sections": false,
   "sideBar": true,
   "skip_h1_title": false,
   "title_cell": "Table of Contents",
   "title_sidebar": "Contents",
   "toc_cell": false,
   "toc_position": {},
   "toc_section_display": true,
   "toc_window_display": true
  }
 },
 "nbformat": 4,
 "nbformat_minor": 5
}
