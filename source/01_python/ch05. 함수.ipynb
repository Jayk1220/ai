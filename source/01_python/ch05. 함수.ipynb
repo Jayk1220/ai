{
 "cells": [
  {
   "cell_type": "code",
   "execution_count": 116,
   "id": "e6f0af65",
   "metadata": {},
   "outputs": [
    {
     "data": {
      "text/html": [
       "\n",
       "<style>\n",
       "div.container{width:90% !important;}\n",
       "div.cell.code_cell.rendered{width:100%;}\n",
       "div.input_prompt{padding:0px;}\n",
       "div.CodeMirror{font-family:Consolas; font-size:15pt;}\n",
       "div.text_cell_render.rendered_html{font-size:15pt;}\n",
       "div.output{font-size:12pt; font-weight:bold;}\n",
       "div.input{font-family:Consolas; font-size:15pt;}\n",
       "div.prompt{min-width:70px;}\n",
       "div#toc-wrapper{padding-top:120px;}\n",
       "div.text_cell_renderulli{font-size:12pt;padding:5px;}\n",
       "table.dataframe{font-size:12px;}\n",
       "</style>\n"
      ],
      "text/plain": [
       "<IPython.core.display.HTML object>"
      ]
     },
     "metadata": {},
     "output_type": "display_data"
    }
   ],
   "source": [
    "from IPython.display import display, HTML\n",
    "display(HTML(\"\"\"\n",
    "<style>\n",
    "div.container{width:90% !important;}\n",
    "div.cell.code_cell.rendered{width:100%;}\n",
    "div.input_prompt{padding:0px;}\n",
    "div.CodeMirror{font-family:Consolas; font-size:15pt;}\n",
    "div.text_cell_render.rendered_html{font-size:15pt;}\n",
    "div.output{font-size:12pt; font-weight:bold;}\n",
    "div.input{font-family:Consolas; font-size:15pt;}\n",
    "div.prompt{min-width:70px;}\n",
    "div#toc-wrapper{padding-top:120px;}\n",
    "div.text_cell_renderulli{font-size:12pt;padding:5px;}\n",
    "table.dataframe{font-size:12px;}\n",
    "</style>\n",
    "\"\"\"))"
   ]
  },
  {
   "cell_type": "markdown",
   "id": "ce7857f8",
   "metadata": {},
   "source": [
    "<b><font size=\"6\" color=\"red\">ch05. 함수</font></b>\n",
    "\n",
    " - 반복해서 사용할 코드를 묶어, 그것에 이름을 붙힌 것\n",
    " - 오버로딩 불가 (같은 이름의 함수는 덮어씀)\n",
    " - 함수 정의\n",
    " ```\n",
    " def 함수명([매개변수1, 매개변수2,....]):\n",
    "     명령어 1\n",
    "     명령어 2\n",
    "     ......\n",
    " \n",
    " ```\n",
    " \n",
    " # 1. 함수의 정의 및 사용\n",
    " ## 1.1 함수 정의"
   ]
  },
  {
   "cell_type": "code",
   "execution_count": 2,
   "id": "23852f7f",
   "metadata": {},
   "outputs": [],
   "source": [
    "def my_message(x,msg): #msg를 x번 출력하는 함수 정의\n",
    "    for i in range(x):\n",
    "        print(i,msg)"
   ]
  },
  {
   "cell_type": "code",
   "execution_count": 3,
   "id": "1cdf1146",
   "metadata": {},
   "outputs": [
    {
     "name": "stdout",
     "output_type": "stream",
     "text": [
      "0 hello\n",
      "1 hello\n",
      "2 hello\n"
     ]
    }
   ],
   "source": [
    "#함수의 사용 == 함수 호출\n",
    "my_message(3,\"hello\")"
   ]
  },
  {
   "cell_type": "code",
   "execution_count": 4,
   "id": "5f4aa63b",
   "metadata": {},
   "outputs": [
    {
     "name": "stdout",
     "output_type": "stream",
     "text": [
      "0 hello\n",
      "1 hello\n",
      "0 python\n",
      "1 python\n",
      "2 python\n"
     ]
    }
   ],
   "source": [
    "#함수 이름 변경\n",
    "my_msg = my_message\n",
    "my_message(2,'hello')\n",
    "my_msg (3,'python')"
   ]
  },
  {
   "cell_type": "code",
   "execution_count": 5,
   "id": "e3120663",
   "metadata": {},
   "outputs": [
    {
     "data": {
      "text/plain": [
       "(function, function)"
      ]
     },
     "execution_count": 5,
     "metadata": {},
     "output_type": "execute_result"
    }
   ],
   "source": [
    "type(my_msg),type(my_message)"
   ]
  },
  {
   "cell_type": "code",
   "execution_count": 1,
   "id": "4c70455a",
   "metadata": {},
   "outputs": [
    {
     "name": "stdout",
     "output_type": "stream",
     "text": [
      "hello\n",
      "hello\n"
     ]
    }
   ],
   "source": [
    "print('hello') # 파이썬 내장함수 (import 하지 않고 사용할 수 있는 함수)\n",
    "print = 5\n",
    "#print('hello')\n",
    "\n",
    "del print\n",
    "\n",
    "print('hello')"
   ]
  },
  {
   "cell_type": "code",
   "execution_count": 4,
   "id": "ecf9c9f9",
   "metadata": {},
   "outputs": [
    {
     "name": "stdout",
     "output_type": "stream",
     "text": [
      "0 hello\n",
      "1 hello\n"
     ]
    }
   ],
   "source": [
    "my_message(2,'hello') #사용자 정의함수, 라이브러리 함수는 del하여도 사용 불가"
   ]
  },
  {
   "cell_type": "code",
   "execution_count": 5,
   "id": "511b6ebe",
   "metadata": {},
   "outputs": [
    {
     "ename": "NameError",
     "evalue": "name 'my_messgae' is not defined",
     "output_type": "error",
     "traceback": [
      "\u001b[1;31m---------------------------------------------------------------------------\u001b[0m",
      "\u001b[1;31mNameError\u001b[0m                                 Traceback (most recent call last)",
      "Cell \u001b[1;32mIn[5], line 1\u001b[0m\n\u001b[1;32m----> 1\u001b[0m \u001b[38;5;28;01mdel\u001b[39;00m my_messgae\n\u001b[0;32m      2\u001b[0m my_messgae(\u001b[38;5;241m2\u001b[39m,\u001b[38;5;124m'\u001b[39m\u001b[38;5;124mhello\u001b[39m\u001b[38;5;124m'\u001b[39m)\n",
      "\u001b[1;31mNameError\u001b[0m: name 'my_messgae' is not defined"
     ]
    }
   ],
   "source": [
    "del my_messgae #del : 변수 및 함수 제거. 단 라이브러리 함수는 del하여도 사용 불가\n",
    "my_messgae(2,'hello')"
   ]
  },
  {
   "cell_type": "code",
   "execution_count": 15,
   "id": "f8427b25",
   "metadata": {},
   "outputs": [],
   "source": [
    "#함수 중복 정의 불가 (오버로딩 불가)\n",
    "def my_hello():\n",
    "    print('hello python')\n",
    "    print('hello world')\n",
    "def my_hello (cnt): #cnt번 출력\n",
    "    for i in range (cnt):\n",
    "        print('hello, python',end='\\t')\n",
    "        print('hello,world')"
   ]
  },
  {
   "cell_type": "code",
   "execution_count": 21,
   "id": "0674fe3f",
   "metadata": {
    "scrolled": true
   },
   "outputs": [
    {
     "name": "stdout",
     "output_type": "stream",
     "text": [
      "hello, python\thello,world\n",
      "hello, python\thello,world\n"
     ]
    }
   ],
   "source": [
    "my_hello(2)"
   ]
  },
  {
   "cell_type": "code",
   "execution_count": 22,
   "id": "e86b3977",
   "metadata": {},
   "outputs": [
    {
     "data": {
      "text/plain": [
       "'__main__'"
      ]
     },
     "execution_count": 22,
     "metadata": {},
     "output_type": "execute_result"
    }
   ],
   "source": [
    "__name__"
   ]
  },
  {
   "cell_type": "code",
   "execution_count": 26,
   "id": "a6c5edc7",
   "metadata": {},
   "outputs": [
    {
     "name": "stdout",
     "output_type": "stream",
     "text": [
      "hello, python\thello,world\n",
      "hello, python\thello,world\n"
     ]
    }
   ],
   "source": [
    "if __name__ == '__main__':\n",
    "    my_hello(2)"
   ]
  },
  {
   "cell_type": "code",
   "execution_count": 3,
   "id": "21718deb",
   "metadata": {},
   "outputs": [],
   "source": [
    "import ch05 #ch05모듈이 해석되어 메모리 로드"
   ]
  },
  {
   "cell_type": "code",
   "execution_count": 4,
   "id": "ad51e263",
   "metadata": {},
   "outputs": [
    {
     "name": "stdout",
     "output_type": "stream",
     "text": [
      "ch05\n",
      "hello Python\tHello World\n",
      "hello Python\tHello World\n",
      "hello Python\tHello World\n"
     ]
    }
   ],
   "source": [
    "ch05.my_hello(3)"
   ]
  },
  {
   "cell_type": "code",
   "execution_count": 6,
   "id": "2ed63713",
   "metadata": {},
   "outputs": [
    {
     "name": "stdout",
     "output_type": "stream",
     "text": [
      "ch05\n",
      "hello Python\tHello World\n",
      "hello Python\tHello World\n",
      "hello Python\tHello World\n"
     ]
    }
   ],
   "source": [
    "from ch05 import my_hello #ch05 모듈 안의 my_hello만 메모리에 로드\n",
    "my_hello(3)"
   ]
  },
  {
   "cell_type": "markdown",
   "id": "0bd5f017",
   "metadata": {},
   "source": [
    "## 1.2 docstring"
   ]
  },
  {
   "cell_type": "code",
   "execution_count": 9,
   "id": "6e2fe541",
   "metadata": {},
   "outputs": [],
   "source": [
    "def my_function():\n",
    "    \"\"\"\n",
    "    함수의 첫 라인에 docstring 포함 가능\n",
    "    함수의 설명서를 달아주는 역할\n",
    "    주석보다 많은 기능 (shift-tab으로 docstring 볼 수 있음)\n",
    "    \"\"\"\n",
    "#ddd"
   ]
  },
  {
   "cell_type": "code",
   "execution_count": 12,
   "id": "ad7e0806",
   "metadata": {},
   "outputs": [
    {
     "name": "stdout",
     "output_type": "stream",
     "text": [
      "\n",
      "    함수의 첫 라인에 docstring 포함 가능\n",
      "    함수의 설명서를 달아주는 역할\n",
      "    주석보다 많은 기능 (shift-tab으로 docstring 볼 수 있음)\n",
      "    \n"
     ]
    }
   ],
   "source": [
    "print(my_function.__doc__)"
   ]
  },
  {
   "cell_type": "code",
   "execution_count": 15,
   "id": "fbcbe753",
   "metadata": {},
   "outputs": [],
   "source": [
    "def fibonacci_print(n):\n",
    "    '''\n",
    "    매개변수로 들어온 n 값 미만의 피보나치 수열을 출력하는 함수\n",
    "    e.g. n=10: 0,1,1,2,3,5,8,13,21,34,55,89\n",
    "         n=100: 0,1,1,2,3,5,8........\n",
    "    '''\n",
    "    a,b=0,1 # 함수 내에 선언한 변수 ==> 지역변수 ==> 함수 내에세만 사용 가능 <반대> 전역변수\n",
    "    while a < n:\n",
    "        print(a, end=' ')\n",
    "        a,b = b,a+b\n",
    "    print() #개행\n",
    "\n"
   ]
  },
  {
   "cell_type": "code",
   "execution_count": 17,
   "id": "a0e65a43",
   "metadata": {},
   "outputs": [
    {
     "name": "stdout",
     "output_type": "stream",
     "text": [
      "0 1 1 2 3 5 8 13 21 34 55 89 144 233 377 610 987 1597 2584 4181 6765 10946 17711 28657 46368 75025 \n"
     ]
    }
   ],
   "source": [
    "fibonacci(100000)"
   ]
  },
  {
   "cell_type": "code",
   "execution_count": 18,
   "id": "f7715d12",
   "metadata": {},
   "outputs": [
    {
     "ename": "NameError",
     "evalue": "name 'a' is not defined",
     "output_type": "error",
     "traceback": [
      "\u001b[1;31m---------------------------------------------------------------------------\u001b[0m",
      "\u001b[1;31mNameError\u001b[0m                                 Traceback (most recent call last)",
      "Cell \u001b[1;32mIn[18], line 1\u001b[0m\n\u001b[1;32m----> 1\u001b[0m \u001b[43ma\u001b[49m,b\n",
      "\u001b[1;31mNameError\u001b[0m: name 'a' is not defined"
     ]
    }
   ],
   "source": [
    "a,b # 지역변수는 함수 내에서만 사용가능"
   ]
  },
  {
   "cell_type": "markdown",
   "id": "b7f9d42f",
   "metadata": {},
   "source": [
    "## 1.3 지역변수(local var) 와 전역변수(global var)"
   ]
  },
  {
   "cell_type": "code",
   "execution_count": 22,
   "id": "5d4f3ebf",
   "metadata": {},
   "outputs": [
    {
     "name": "stdout",
     "output_type": "stream",
     "text": [
      "함수안:  100\n",
      "함수밖:  100\n"
     ]
    }
   ],
   "source": [
    "global_var = 100\n",
    "\n",
    "def func1():\n",
    "    print('함수안: ',global_var)\n",
    "\n",
    "func1()\n",
    "print('함수밖: ',global_var)"
   ]
  },
  {
   "cell_type": "code",
   "execution_count": 23,
   "id": "468c37c1",
   "metadata": {},
   "outputs": [
    {
     "name": "stdout",
     "output_type": "stream",
     "text": [
      "함수안: 200\n"
     ]
    }
   ],
   "source": [
    "def func2():\n",
    "    local_var = 200 # 지역변수 \n",
    "    print('함수안:', local_var)\n",
    "func2()"
   ]
  },
  {
   "cell_type": "code",
   "execution_count": 25,
   "id": "13a4af8b",
   "metadata": {},
   "outputs": [],
   "source": [
    "# print('함수 밖에서 지역변수 : ',local_var) #에러"
   ]
  },
  {
   "cell_type": "code",
   "execution_count": 31,
   "id": "16a6e097",
   "metadata": {},
   "outputs": [
    {
     "name": "stdout",
     "output_type": "stream",
     "text": [
      "g_var:  200\n",
      "g_var:  100\n"
     ]
    }
   ],
   "source": [
    "g_var = 100 # 전역변수\n",
    "def func3():\n",
    "    g_var=200 #지역변수 (함수 내에서 할당)\n",
    "    print('g_var: ',g_var)\n",
    "func3()\n",
    "print('g_var: ',g_var)"
   ]
  },
  {
   "cell_type": "code",
   "execution_count": 33,
   "id": "06b9ba9e",
   "metadata": {},
   "outputs": [
    {
     "ename": "UnboundLocalError",
     "evalue": "local variable 'g_var' referenced before assignment",
     "output_type": "error",
     "traceback": [
      "\u001b[1;31m---------------------------------------------------------------------------\u001b[0m",
      "\u001b[1;31mUnboundLocalError\u001b[0m                         Traceback (most recent call last)",
      "Cell \u001b[1;32mIn[33], line 8\u001b[0m\n\u001b[0;32m      6\u001b[0m     \u001b[38;5;28mprint\u001b[39m(\u001b[38;5;124m'\u001b[39m\u001b[38;5;124m지역변수 g_var: \u001b[39m\u001b[38;5;124m'\u001b[39m,g_var)\n\u001b[0;32m      7\u001b[0m     g_var\u001b[38;5;241m=\u001b[39m\u001b[38;5;241m200\u001b[39m \u001b[38;5;66;03m#지역변수 (함수 내에서 할당)\u001b[39;00m\n\u001b[1;32m----> 8\u001b[0m \u001b[43mfunc3\u001b[49m\u001b[43m(\u001b[49m\u001b[43m)\u001b[49m\n\u001b[0;32m      9\u001b[0m \u001b[38;5;28mprint\u001b[39m(\u001b[38;5;124m'\u001b[39m\u001b[38;5;124m전역변수 g_var: \u001b[39m\u001b[38;5;124m'\u001b[39m,g_var)\n",
      "Cell \u001b[1;32mIn[33], line 6\u001b[0m, in \u001b[0;36mfunc3\u001b[1;34m()\u001b[0m\n\u001b[0;32m      5\u001b[0m \u001b[38;5;28;01mdef\u001b[39;00m \u001b[38;5;21mfunc3\u001b[39m():\n\u001b[1;32m----> 6\u001b[0m     \u001b[38;5;28mprint\u001b[39m(\u001b[38;5;124m'\u001b[39m\u001b[38;5;124m지역변수 g_var: \u001b[39m\u001b[38;5;124m'\u001b[39m,\u001b[43mg_var\u001b[49m)\n\u001b[0;32m      7\u001b[0m     g_var\u001b[38;5;241m=\u001b[39m\u001b[38;5;241m200\u001b[39m\n",
      "\u001b[1;31mUnboundLocalError\u001b[0m: local variable 'g_var' referenced before assignment"
     ]
    }
   ],
   "source": [
    "#렉시컬 특성: 변수가 어디서 선언되었는지에 따라 \n",
    "#변수의 범위가 정해짐\n",
    "\n",
    "g_var = 100 # 전역변수\n",
    "def func3():\n",
    "    print('지역변수 g_var: ',g_var)\n",
    "    g_var=200 #지역변수 (함수 내에서 할당)\n",
    "func3()\n",
    "print('전역변수 g_var: ',g_var)"
   ]
  },
  {
   "cell_type": "code",
   "execution_count": 34,
   "id": "161391b4",
   "metadata": {},
   "outputs": [
    {
     "name": "stdout",
     "output_type": "stream",
     "text": [
      "전역변수 g_var:  100\n",
      "전역변수 g_var:  200\n"
     ]
    }
   ],
   "source": [
    "#렉시컬 특성\n",
    "g_var = 100 # 전역변수\n",
    "def func3():\n",
    "    global g_var#함수 내에서의 g_var는 전역변수를 씀\n",
    "    print('전역변수 g_var: ',g_var)\n",
    "    g_var=200 #전역변수 g_var에 200 할당\n",
    "func3()\n",
    "print('전역변수 g_var: ',g_var)"
   ]
  },
  {
   "cell_type": "markdown",
   "id": "8b61518f",
   "metadata": {},
   "source": [
    "## 1.4 값에 의한 호출\n",
    " - 함수에 인수로 전달되는 변수가 스칼라변수(문자, 숫자, 논리형)일때"
   ]
  },
  {
   "cell_type": "code",
   "execution_count": 35,
   "id": "3ce26295",
   "metadata": {},
   "outputs": [
    {
     "data": {
      "text/plain": [
       "2361156462384"
      ]
     },
     "execution_count": 35,
     "metadata": {},
     "output_type": "execute_result"
    }
   ],
   "source": [
    "foo = 'a' #전역변수\n",
    "id(foo)"
   ]
  },
  {
   "cell_type": "code",
   "execution_count": 36,
   "id": "88278162",
   "metadata": {},
   "outputs": [
    {
     "name": "stdout",
     "output_type": "stream",
     "text": [
      "before:  a 의 주소는 2361156462384\n",
      "after:  aaa 의 주소는 2361234488944\n"
     ]
    }
   ],
   "source": [
    "def func1(f): #매개변수는 지역변수\n",
    "    print('before: ',f, '의 주소는', id(f))\n",
    "    f = f*3\n",
    "    print('after: ',f,'의 주소는', id(f))\n",
    "func1(foo)"
   ]
  },
  {
   "cell_type": "code",
   "execution_count": 38,
   "id": "6fc93f5b",
   "metadata": {},
   "outputs": [
    {
     "name": "stdout",
     "output_type": "stream",
     "text": [
      "foo=  a 의 주소는  2361156462384\n"
     ]
    }
   ],
   "source": [
    "print('foo= ',foo,'의 주소는 ',id(foo))"
   ]
  },
  {
   "cell_type": "markdown",
   "id": "3cf1c2eb",
   "metadata": {},
   "source": [
    "## 1.5 참조에 의한 호출\n",
    " - 함수에 변수로 전달되는 변수가 리스트, 튜플, 셋, 딕셔너리, 기타 객체\n",
    " "
   ]
  },
  {
   "cell_type": "code",
   "execution_count": 40,
   "id": "35a3930b",
   "metadata": {},
   "outputs": [
    {
     "data": {
      "text/plain": [
       "2361267520448"
      ]
     },
     "execution_count": 40,
     "metadata": {},
     "output_type": "execute_result"
    }
   ],
   "source": [
    "L = [1,2,3,4,5] \n",
    "id(L)"
   ]
  },
  {
   "cell_type": "code",
   "execution_count": 44,
   "id": "73bf0641",
   "metadata": {},
   "outputs": [
    {
     "name": "stdout",
     "output_type": "stream",
     "text": [
      "before:  [1, 2, 3, 4, 5] 의 주소는 2361267520448\n",
      "after:  [1, 2, 3, 4, 5, 6] 의 주소는 2361267520448\n"
     ]
    }
   ],
   "source": [
    "def func2(f): # 매개변수는 지역변수\n",
    "    print('before: ',f, '의 주소는', id(f))\n",
    "    f.append(6)\n",
    "    print('after: ',f,'의 주소는', id(f))\n",
    "    \n",
    "func2(L)"
   ]
  },
  {
   "cell_type": "code",
   "execution_count": 45,
   "id": "6c7c431b",
   "metadata": {},
   "outputs": [
    {
     "name": "stdout",
     "output_type": "stream",
     "text": [
      "L= [1, 2, 3, 4, 5, 6] 의 주소는 2361267520448\n"
     ]
    }
   ],
   "source": [
    "print(\"L=\",L,'의 주소는', id(L))"
   ]
  },
  {
   "cell_type": "markdown",
   "id": "7920e4d9",
   "metadata": {},
   "source": [
    "# 2. 함수의 실행결과를 반환하는 return"
   ]
  },
  {
   "cell_type": "code",
   "execution_count": 57,
   "id": "ffa586e5",
   "metadata": {},
   "outputs": [],
   "source": [
    "def fibonacci_print(n):\n",
    "    '''\n",
    "    매개변수로 들어온 n 값 미만의 피보나치 수열을 출력하는 함수\n",
    "    e.g. n=10: 0,1,1,2,3,5,8,13,21,34,55,89\n",
    "         n=100: 0,1,1,2,3,5,8........\n",
    "    '''\n",
    "    a,b=0,1 # 함수 내에 선언한 변수 ==> 지역변수 ==> 함수 내에세만 사용 가능 <반대> 전역변수\n",
    "    while a < n:\n",
    "        print(a, end=' ')\n",
    "        a,b = b,a+b\n",
    "    print() #개행\n",
    "\n",
    "def fibonacci(n):\n",
    "    \"n미만의 피보나치수열을 list로 return\"\n",
    "    result = [] #수열을 append할 리스트\n",
    "    a,b = 0,1\n",
    "    while a<n:\n",
    "        result.append(a) #리스트에 append\n",
    "        a,b = b,a+b\n",
    "    return result, a,b\n",
    "    "
   ]
  },
  {
   "cell_type": "code",
   "execution_count": 58,
   "id": "ab5c187e",
   "metadata": {},
   "outputs": [
    {
     "name": "stdout",
     "output_type": "stream",
     "text": [
      "([0, 1, 1, 2, 3, 5, 8], 13, 21)\n",
      "<class 'tuple'>\n"
     ]
    }
   ],
   "source": [
    "x = fibonacci(10)\n",
    "print(x)\n",
    "print(type(x))"
   ]
  },
  {
   "cell_type": "code",
   "execution_count": 56,
   "id": "e1af1f2d",
   "metadata": {},
   "outputs": [
    {
     "name": "stdout",
     "output_type": "stream",
     "text": [
      "0 1 1 2 3 5 8 \n",
      "x= None\n",
      "<class 'NoneType'>\n"
     ]
    }
   ],
   "source": [
    "x = fibonacci_print(10)\n",
    "print('x=',x)\n",
    "print(type(x))"
   ]
  },
  {
   "cell_type": "markdown",
   "id": "8150854c",
   "metadata": {},
   "source": [
    "### 여러 값 return\n",
    " - 여러 값을 갖는 튜플로 return"
   ]
  },
  {
   "cell_type": "code",
   "execution_count": 63,
   "id": "fa17bb32",
   "metadata": {},
   "outputs": [],
   "source": [
    "def swap(a,b):\n",
    "    '매개변수의 순서를 바꿔서 return'\n",
    "    return list(b,a) # return (b,a)"
   ]
  },
  {
   "cell_type": "code",
   "execution_count": 70,
   "id": "ac242b87",
   "metadata": {},
   "outputs": [
    {
     "name": "stdout",
     "output_type": "stream",
     "text": [
      "함수 실행전 x,y=  5 10\n",
      "함수 실행후 x,y=  10 5\n"
     ]
    }
   ],
   "source": [
    "x=5 ; y=10\n",
    "print('함수 실행전 x,y= ',x,y)\n",
    "x,y = swap(x,y)\n",
    "print('함수 실행후 x,y= ',x,y)"
   ]
  },
  {
   "cell_type": "markdown",
   "id": "69b63815",
   "metadata": {},
   "source": [
    "# 3. 함수의 매개변수\n",
    "## 3.1 기본값을 갖는 매개변수\n"
   ]
  },
  {
   "cell_type": "code",
   "execution_count": 71,
   "id": "1409e71f",
   "metadata": {},
   "outputs": [],
   "source": [
    "def make_url(ip,port=80):  #순서인수 > 기본값을 갖는 매개변수 순으로 배치\n",
    "    return \"http://{}:{}\".format(ip,port)"
   ]
  },
  {
   "cell_type": "code",
   "execution_count": 75,
   "id": "b25175cf",
   "metadata": {},
   "outputs": [
    {
     "name": "stdout",
     "output_type": "stream",
     "text": [
      "http://localhost:8090\n",
      "http://www.naver.com:80\n",
      "http://localhost:9080\n"
     ]
    }
   ],
   "source": [
    "print(make_url('localhost',8090))\n",
    "print(make_url('www.naver.com'))\n",
    "print(make_url(port=9080, ip='localhost'))"
   ]
  },
  {
   "cell_type": "markdown",
   "id": "685b2a49",
   "metadata": {},
   "source": [
    "## 3.2 기본변수를 갖는 매개변수\n",
    " - 기본변수가 스칼라변수\n",
    " - 기본변수가 리스트, 셋, 딕셔너리, 기타 객체일때"
   ]
  },
  {
   "cell_type": "code",
   "execution_count": 77,
   "id": "b576cd82",
   "metadata": {},
   "outputs": [],
   "source": [
    "i = 80\n",
    "#기본 변수가 스칼라변수일때 : 함수가 정의되는 시점으로 기본값 세팅\n",
    "def make_url(ip,port=i):\n",
    "    return\"http://{}:{}\".format(ip,port)"
   ]
  },
  {
   "cell_type": "code",
   "execution_count": 78,
   "id": "f3178c4d",
   "metadata": {},
   "outputs": [
    {
     "data": {
      "text/plain": [
       "'http://localhost:80'"
      ]
     },
     "execution_count": 78,
     "metadata": {},
     "output_type": "execute_result"
    }
   ],
   "source": [
    "i=90\n",
    "make_url(\"localhost\")"
   ]
  },
  {
   "cell_type": "code",
   "execution_count": 99,
   "id": "9bf803b5",
   "metadata": {},
   "outputs": [
    {
     "name": "stdout",
     "output_type": "stream",
     "text": [
      "[10]\n"
     ]
    }
   ],
   "source": [
    "list_ = []\n",
    "#기본 변수가 리스트, 셋 딕셔너리, 객체일떄 : 함수가 실행되는 시점으로 기본값 세팅\n",
    "def func3(a,L=list_):\n",
    "    L.append(a)\n",
    "    return L\n",
    "print(func3(10))"
   ]
  },
  {
   "cell_type": "code",
   "execution_count": 101,
   "id": "ea7ee290",
   "metadata": {},
   "outputs": [
    {
     "name": "stdout",
     "output_type": "stream",
     "text": [
      "[10, 30, 20]\n"
     ]
    }
   ],
   "source": [
    "print(func3(20))"
   ]
  },
  {
   "cell_type": "code",
   "execution_count": 102,
   "id": "c630bf8c",
   "metadata": {},
   "outputs": [
    {
     "name": "stdout",
     "output_type": "stream",
     "text": [
      "list_= [10, 30, 20]\n"
     ]
    }
   ],
   "source": [
    "print('list_=',list_)"
   ]
  },
  {
   "cell_type": "code",
   "execution_count": 106,
   "id": "d4aa44e2",
   "metadata": {},
   "outputs": [
    {
     "name": "stdout",
     "output_type": "stream",
     "text": [
      "[10]\n",
      "[10]\n",
      "[10]\n",
      "[1, 2, 3, 10]\n",
      "[10]\n"
     ]
    }
   ],
   "source": [
    "#실행할때마다 L을 공유하는게 싫으면\n",
    "def func3(a,L=None):\n",
    "    if L is None:\n",
    "        L=[]\n",
    "    L.append(a)\n",
    "    return L\n",
    "print(func3(10))\n",
    "print(func3(10))\n",
    "print(func3(10))\n",
    "print(func3(10,[1,2,3]))\n",
    "print(func3(10))"
   ]
  },
  {
   "cell_type": "markdown",
   "id": "fcf909f3",
   "metadata": {},
   "source": [
    "## 3.3 순서인수, 키워드인수\n",
    " - 순서인수: 함수에 정의된 순서대로 전달\n",
    " - 키워드인수 :인수의 이름을 명시하는 방식\n",
    " - 함수 정의시 순서 인수와 키워드인수가 같이 올 때는 순서인수 > 키워드인수 순으로\n",
    " \n"
   ]
  },
  {
   "cell_type": "code",
   "execution_count": 110,
   "id": "2d6d221a",
   "metadata": {},
   "outputs": [],
   "source": [
    "def func3(a,L=None):\n",
    "    if L is None:\n",
    "        L=[]\n",
    "    L.append(a)\n",
    "    return L\n"
   ]
  },
  {
   "cell_type": "code",
   "execution_count": 113,
   "id": "667d508a",
   "metadata": {},
   "outputs": [
    {
     "name": "stdout",
     "output_type": "stream",
     "text": [
      "[10]\n",
      "[10, 20]\n"
     ]
    }
   ],
   "source": [
    "lst = []\n",
    "print(func3(10,lst)) # 순서인수: 함수 정의된 순서대로 전달하는 방식\n",
    "print(func3(L=lst,a=20)) #키워드인수: 인수의 이름을 명시하여 전달하는 방식"
   ]
  },
  {
   "cell_type": "markdown",
   "id": "107cda72",
   "metadata": {},
   "source": [
    "## 3.4 튜플 매개변수를 이용한 가변인수 설정\n"
   ]
  },
  {
   "cell_type": "code",
   "execution_count": 114,
   "id": "267094be",
   "metadata": {},
   "outputs": [],
   "source": [
    "#파이썬은 함수의 중복정의(오버로딩)을 지원하지 않음\n",
    "def add(a,b):\n",
    "    return a+b\n",
    "def add(a,b,c):\n",
    "    return a+b+c"
   ]
  },
  {
   "cell_type": "code",
   "execution_count": 115,
   "id": "18534832",
   "metadata": {},
   "outputs": [
    {
     "data": {
      "text/plain": [
       "8"
      ]
     },
     "execution_count": 115,
     "metadata": {},
     "output_type": "execute_result"
    }
   ],
   "source": [
    "add(3,5)"
   ]
  },
  {
   "cell_type": "code",
   "execution_count": 127,
   "id": "3906f80f",
   "metadata": {},
   "outputs": [],
   "source": [
    "# args앞에 * : args가 튜플로 전달받는다\n",
    "def add(*args):\n",
    "    #print('args=', args)\n",
    "    '전달받은 매개변수들의 합을 return, 매개변수가 없는 경우 0을 return'\n",
    "    sum = 0 #누적변수\n",
    "    for num in args:\n",
    "        sum += num #sum = sum+num\n",
    "    return sum"
   ]
  },
  {
   "cell_type": "code",
   "execution_count": 128,
   "id": "d257d11e",
   "metadata": {},
   "outputs": [
    {
     "data": {
      "text/plain": [
       "21"
      ]
     },
     "execution_count": 128,
     "metadata": {},
     "output_type": "execute_result"
    }
   ],
   "source": [
    "add(1,2,3,4,5,6)"
   ]
  },
  {
   "cell_type": "code",
   "execution_count": 132,
   "id": "ac2f72f0",
   "metadata": {},
   "outputs": [
    {
     "data": {
      "text/plain": [
       "'python-HTML/CSS-JavaScript-Oracle/MySQL-DBMS'"
      ]
     },
     "execution_count": 132,
     "metadata": {},
     "output_type": "execute_result"
    }
   ],
   "source": [
    "subject = ('python','HTML/CSS','JavaScript','Oracle/MySQL','DBMS')\n",
    "'-'.join(subject)"
   ]
  },
  {
   "cell_type": "code",
   "execution_count": 134,
   "id": "693c0308",
   "metadata": {},
   "outputs": [],
   "source": [
    "#튜플매개변수와 일반매개변수\n",
    "def concat(*subject,sep):\n",
    "    return sep.join(subject)"
   ]
  },
  {
   "cell_type": "code",
   "execution_count": 136,
   "id": "38a4d29c",
   "metadata": {},
   "outputs": [
    {
     "ename": "TypeError",
     "evalue": "concat() missing 1 required keyword-only argument: 'sep'",
     "output_type": "error",
     "traceback": [
      "\u001b[1;31m---------------------------------------------------------------------------\u001b[0m",
      "\u001b[1;31mTypeError\u001b[0m                                 Traceback (most recent call last)",
      "Cell \u001b[1;32mIn[136], line 1\u001b[0m\n\u001b[1;32m----> 1\u001b[0m \u001b[43mconcat\u001b[49m\u001b[43m(\u001b[49m\u001b[38;5;124;43m'\u001b[39;49m\u001b[38;5;124;43mpython\u001b[39;49m\u001b[38;5;124;43m'\u001b[39;49m\u001b[43m,\u001b[49m\u001b[38;5;124;43m'\u001b[39;49m\u001b[38;5;124;43mHTML/CSS\u001b[39;49m\u001b[38;5;124;43m'\u001b[39;49m\u001b[43m,\u001b[49m\u001b[38;5;124;43m'\u001b[39;49m\u001b[38;5;124;43mJavaScript\u001b[39;49m\u001b[38;5;124;43m'\u001b[39;49m\u001b[43m,\u001b[49m\u001b[38;5;124;43m'\u001b[39;49m\u001b[38;5;124;43mOracle/MySQL\u001b[39;49m\u001b[38;5;124;43m'\u001b[39;49m\u001b[43m,\u001b[49m\u001b[38;5;124;43m'\u001b[39;49m\u001b[38;5;124;43mDBMS\u001b[39;49m\u001b[38;5;124;43m'\u001b[39;49m\u001b[43m,\u001b[49m\u001b[38;5;124;43m'\u001b[39;49m\u001b[38;5;124;43m-\u001b[39;49m\u001b[38;5;124;43m'\u001b[39;49m\u001b[43m)\u001b[49m\n",
      "\u001b[1;31mTypeError\u001b[0m: concat() missing 1 required keyword-only argument: 'sep'"
     ]
    }
   ],
   "source": [
    "concat('python','HTML/CSS','JavaScript','Oracle/MySQL','DBMS','-')"
   ]
  },
  {
   "cell_type": "code",
   "execution_count": 137,
   "id": "f691b78d",
   "metadata": {},
   "outputs": [
    {
     "data": {
      "text/plain": [
       "'python-HTML/CSS-JavaScript-Oracle/MySQL-DBMS'"
      ]
     },
     "execution_count": 137,
     "metadata": {},
     "output_type": "execute_result"
    }
   ],
   "source": [
    "#해결책 1: 매개변수 이름을 지정해서 호출\n",
    "concat('python','HTML/CSS','JavaScript','Oracle/MySQL','DBMS',sep='-')"
   ]
  },
  {
   "cell_type": "code",
   "execution_count": 143,
   "id": "4922f152",
   "metadata": {},
   "outputs": [
    {
     "name": "stdout",
     "output_type": "stream",
     "text": [
      "python ~ HTML/CSS ~ JavaScript ~ Oracle/MySQL ~ DBMS ~ -\n",
      "python HTML/CSS JavaScript Oracle/MySQL DBMS\n"
     ]
    }
   ],
   "source": [
    "#해결책 2: 기본값을 갖는 키워드인수 사용\n",
    "def concat(*subject,sep=' ~ '): #튜플 매개변수 > 키워드인수\n",
    "    return sep.join(subject)\n",
    "print(concat('python','HTML/CSS','JavaScript','Oracle/MySQL','DBMS','-'))\n",
    "print(concat('python','HTML/CSS','JavaScript','Oracle/MySQL','DBMS',sep = ' '))"
   ]
  },
  {
   "cell_type": "code",
   "execution_count": 144,
   "id": "11dc030a",
   "metadata": {},
   "outputs": [],
   "source": [
    "#해결책 3 : 추천 (sep을 순서인수 앞으로)\n",
    "\n",
    "def concat(sep,*subject):\n",
    "    return sep.join(subject)\n"
   ]
  },
  {
   "cell_type": "code",
   "execution_count": 145,
   "id": "b4f19202",
   "metadata": {},
   "outputs": [
    {
     "data": {
      "text/plain": [
       "'python~web~DB~MLDL'"
      ]
     },
     "execution_count": 145,
     "metadata": {},
     "output_type": "execute_result"
    }
   ],
   "source": [
    "concat('~','python','web','DB','MLDL')"
   ]
  },
  {
   "cell_type": "markdown",
   "id": "77ef64fa",
   "metadata": {},
   "source": [
    "## 3.5 딕셔너리 매개변수\n",
    " - 딕셔너리 인수 : 여러개의 키워드 인수를 딕셔너리 형태로 받아서 가변인수로 처리"
   ]
  },
  {
   "cell_type": "code",
   "execution_count": 146,
   "id": "de4a8fc8",
   "metadata": {},
   "outputs": [
    {
     "data": {
      "text/plain": [
       "'http://localhost:8080'"
      ]
     },
     "execution_count": 146,
     "metadata": {},
     "output_type": "execute_result"
    }
   ],
   "source": [
    "make_url(ip = 'localhost',port=8080)"
   ]
  },
  {
   "cell_type": "code",
   "execution_count": 170,
   "id": "f46a1705",
   "metadata": {},
   "outputs": [],
   "source": [
    "def func5(**args): #** 딕셔너리로 받음\n",
    "    print('이름: ', args.get('name','몰라'))\n",
    "    print('나이: ', args.get('age','30'))\n",
    "    print('전화: ', args.get('tel','없음'))\n",
    "    print('주소: ', args.get('address','서울 관악'))\n",
    "    #print(args)"
   ]
  },
  {
   "cell_type": "code",
   "execution_count": 188,
   "id": "e7eb45fb",
   "metadata": {},
   "outputs": [],
   "source": [
    "def func5(**args):\n",
    "    '''딕셔너리 매개변수로 받아, address 키가 없으면 서울시 관악구로 추가하고\n",
    "    키 - 값을 출력\n",
    "    '''\n",
    "    print(args)\n",
    "    print(type(args))\n",
    "    if 'address' not in args: # args에 address 키가 없으면 if True\n",
    "       # args['address'] = '서울시 관악구'\n",
    "      #  args.update({'address':'서울시 관악구'})\n",
    "        args.update(address='서울시 관악구')\n",
    "    for key, value in args.items():\n",
    "        print(\"{} : {}\".format(key,value))"
   ]
  },
  {
   "cell_type": "code",
   "execution_count": 189,
   "id": "30bbfc23",
   "metadata": {},
   "outputs": [
    {
     "name": "stdout",
     "output_type": "stream",
     "text": [
      "{'name': '홍길동', 'age': 30, 'tel': '010-2020-3030', 'address': ''}\n",
      "<class 'dict'>\n",
      "name : 홍길동\n",
      "age : 30\n",
      "tel : 010-2020-3030\n",
      "address : \n"
     ]
    }
   ],
   "source": [
    "func5(name='홍길동',\n",
    "      age=30,\n",
    "      tel='010-2020-3030',\n",
    "      address='')"
   ]
  },
  {
   "cell_type": "code",
   "execution_count": null,
   "id": "f3a7e13a",
   "metadata": {},
   "outputs": [],
   "source": []
  },
  {
   "cell_type": "code",
   "execution_count": 159,
   "id": "9dec62a3",
   "metadata": {},
   "outputs": [
    {
     "ename": "TypeError",
     "evalue": "func() missing 1 required positional argument: 'c'",
     "output_type": "error",
     "traceback": [
      "\u001b[1;31m---------------------------------------------------------------------------\u001b[0m",
      "\u001b[1;31mTypeError\u001b[0m                                 Traceback (most recent call last)",
      "Cell \u001b[1;32mIn[159], line 3\u001b[0m\n\u001b[0;32m      1\u001b[0m \u001b[38;5;28;01mdef\u001b[39;00m \u001b[38;5;21mfunc\u001b[39m(a,b,c):\n\u001b[0;32m      2\u001b[0m     \u001b[38;5;28;01mreturn\u001b[39;00m a\u001b[38;5;241m+\u001b[39mb\u001b[38;5;241m+\u001b[39mc\n\u001b[1;32m----> 3\u001b[0m \u001b[43mfunc\u001b[49m\u001b[43m(\u001b[49m\u001b[38;5;241;43m1\u001b[39;49m\u001b[43m,\u001b[49m\u001b[38;5;241;43m3\u001b[39;49m\u001b[43m)\u001b[49m\n",
      "\u001b[1;31mTypeError\u001b[0m: func() missing 1 required positional argument: 'c'"
     ]
    }
   ],
   "source": [
    "def func(a,b,c):\n",
    "    return a+b+c\n",
    "func(1,3)"
   ]
  },
  {
   "cell_type": "markdown",
   "id": "9abf113b",
   "metadata": {},
   "source": [
    "## 3.6 함수정의시 매개변수 순서\n",
    " - 순서인수 > 튜플인수(*) > 키워드인수 (기본값) > 딕셔너리인수(**)"
   ]
  },
  {
   "cell_type": "code",
   "execution_count": 191,
   "id": "cb9ab786",
   "metadata": {},
   "outputs": [],
   "source": [
    "#순서인수 > 튜플인수(*) > 키워드인수 (기본값) > 딕셔너리인수(**)\n",
    "def func6(a,b,*c,**d):\n",
    "    print('순서인수 a= ',a)\n",
    "    print('순서인수 b= ',b)\n",
    "    print('튜플인수 c= ',c)\n",
    "    print('딕셔너리인수 d= ',d)"
   ]
  },
  {
   "cell_type": "code",
   "execution_count": 200,
   "id": "bee5faf6",
   "metadata": {},
   "outputs": [
    {
     "name": "stdout",
     "output_type": "stream",
     "text": [
      "순서인수 a=  10\n",
      "순서인수 b=  20\n",
      "튜플인수 c=  (1, 2, 3, 4, 5, 6, 7, 8, 9, 0, 1, 2, 3, 'ㅁ', 'ㄴ', True)\n",
      "딕셔너리인수 d=  {'name': '홍', 'age': 30, 'adress': '신림'}\n"
     ]
    }
   ],
   "source": [
    "func6(10,20,1,2,3,4,5,6,7,8,9,0,1,2,3,'ㅁ','ㄴ',True,name='홍',age=30,adress='신림')"
   ]
  },
  {
   "cell_type": "code",
   "execution_count": 202,
   "id": "6743b2d2",
   "metadata": {},
   "outputs": [],
   "source": [
    "#순서인수 > 튜플인수(*) > 키워드인수 (기본값) > 딕셔너리인수(**)\n",
    "\n",
    "def func7(a,b,c,*d,e=10,**f):\n",
    "    print('순서인수 a =',a)\n",
    "    print('순서인수 b =',b)\n",
    "    print('순서인수 c =',c)\n",
    "    print('튜플인수 d =',d)\n",
    "    print('키워드인수(기본값10) e =',e)\n",
    "    print('딕셔너리인수 f =',f)    "
   ]
  },
  {
   "cell_type": "code",
   "execution_count": 213,
   "id": "66d85070",
   "metadata": {},
   "outputs": [
    {
     "name": "stdout",
     "output_type": "stream",
     "text": [
      "순서인수 a = 10\n",
      "순서인수 b = 20\n",
      "순서인수 c = 30\n",
      "튜플인수 d = (1, 2, 3, 4, 5, 6)\n",
      "키워드인수(기본값10) e = 100\n",
      "딕셔너리인수 f = {'name': '가', 'address': 'seoul'}\n"
     ]
    }
   ],
   "source": [
    "func7(10,20,30,1,2,3,4,5,6,e=100,name='가',address='seoul')"
   ]
  },
  {
   "cell_type": "code",
   "execution_count": 217,
   "id": "8901f6b9",
   "metadata": {},
   "outputs": [
    {
     "name": "stdout",
     "output_type": "stream",
     "text": [
      "순서인수 a = 10\n",
      "순서인수 b = 20\n",
      "순서인수 c = 30\n",
      "튜플인수 d = ()\n",
      "키워드인수(기본값10) e = 100\n",
      "딕셔너리인수 f = {}\n"
     ]
    }
   ],
   "source": [
    "func7(10,20,30,e=100)"
   ]
  },
  {
   "cell_type": "markdown",
   "id": "d81e8a3c",
   "metadata": {},
   "source": [
    "## 3.7 인수의 언패킹\n",
    " - 언패킹: 함수 호출시 매개변수 앞에 * 붙임\n",
    " - 패킹 : 함수 정의시 매개변수 앞에 * 붙임(튜플매개변수)"
   ]
  },
  {
   "cell_type": "code",
   "execution_count": 218,
   "id": "920048ef",
   "metadata": {},
   "outputs": [],
   "source": [
    "def add(*args): \n",
    "    sum = 0\n",
    "    for num in args:\n",
    "        sum += num\n",
    "    return sum"
   ]
  },
  {
   "cell_type": "code",
   "execution_count": 219,
   "id": "29c7e826",
   "metadata": {},
   "outputs": [
    {
     "data": {
      "text/plain": [
       "6"
      ]
     },
     "execution_count": 219,
     "metadata": {},
     "output_type": "execute_result"
    }
   ],
   "source": [
    "add(1,2,3)"
   ]
  },
  {
   "cell_type": "code",
   "execution_count": 223,
   "id": "d1726e94",
   "metadata": {},
   "outputs": [
    {
     "ename": "SyntaxError",
     "evalue": "can't use starred expression here (303511267.py, line 4)",
     "output_type": "error",
     "traceback": [
      "\u001b[1;36m  Cell \u001b[1;32mIn[223], line 4\u001b[1;36m\u001b[0m\n\u001b[1;33m    *numbers\u001b[0m\n\u001b[1;37m    ^\u001b[0m\n\u001b[1;31mSyntaxError\u001b[0m\u001b[1;31m:\u001b[0m can't use starred expression here\n"
     ]
    }
   ],
   "source": [
    "numbers = (1,2,3)\n",
    "add(*numbers)\n",
    "\n"
   ]
  },
  {
   "cell_type": "markdown",
   "id": "5ef617b5",
   "metadata": {},
   "source": [
    "### 딕셔너리 인수언패킹"
   ]
  },
  {
   "cell_type": "code",
   "execution_count": 224,
   "id": "1d7df8eb",
   "metadata": {},
   "outputs": [],
   "source": [
    "def func8(**data):\n",
    "    print(data)\n",
    "    for item in data.items():\n",
    "        print(item)"
   ]
  },
  {
   "cell_type": "code",
   "execution_count": 225,
   "id": "5fb91ff4",
   "metadata": {},
   "outputs": [
    {
     "name": "stdout",
     "output_type": "stream",
     "text": [
      "{'shape': 'rect', 'width': 4, 'height': 30}\n",
      "('shape', 'rect')\n",
      "('width', 4)\n",
      "('height', 30)\n"
     ]
    }
   ],
   "source": [
    "func8(shape='rect',width=4,height=30)"
   ]
  },
  {
   "cell_type": "code",
   "execution_count": 227,
   "id": "19baf4bb",
   "metadata": {},
   "outputs": [],
   "source": [
    "info = {'shape':'react','width':40,'height':30}"
   ]
  },
  {
   "cell_type": "code",
   "execution_count": 229,
   "id": "092e4e36",
   "metadata": {},
   "outputs": [
    {
     "name": "stdout",
     "output_type": "stream",
     "text": [
      "{'shape': 'react', 'width': 40, 'height': 30}\n",
      "('shape', 'react')\n",
      "('width', 40)\n",
      "('height', 30)\n"
     ]
    }
   ],
   "source": [
    "func8(**info)"
   ]
  },
  {
   "cell_type": "markdown",
   "id": "8c03519e",
   "metadata": {},
   "source": [
    "# 4. 람다식\n",
    " - return 한 줄 짜리 작은 익명함수 ==> 이름없는 함수\n",
    "## 4.1 람다식 연습"
   ]
  },
  {
   "cell_type": "code",
   "execution_count": 3,
   "id": "9d0e3860",
   "metadata": {},
   "outputs": [
    {
     "data": {
      "text/plain": [
       "8"
      ]
     },
     "execution_count": 3,
     "metadata": {},
     "output_type": "execute_result"
    }
   ],
   "source": [
    "def add(a,b):\n",
    "    return a+b\n",
    "add(3,5)"
   ]
  },
  {
   "cell_type": "code",
   "execution_count": 7,
   "id": "70e59f22",
   "metadata": {},
   "outputs": [],
   "source": [
    "add2 = lambda a, b : a + b "
   ]
  },
  {
   "cell_type": "code",
   "execution_count": 11,
   "id": "81b5d011",
   "metadata": {},
   "outputs": [
    {
     "name": "stdout",
     "output_type": "stream",
     "text": [
      "<class 'function'>\n"
     ]
    },
    {
     "data": {
      "text/plain": [
       "5"
      ]
     },
     "execution_count": 11,
     "metadata": {},
     "output_type": "execute_result"
    }
   ],
   "source": [
    "print(type(add2))\n",
    "add2(4,1)"
   ]
  },
  {
   "cell_type": "code",
   "execution_count": 17,
   "id": "a844beb2",
   "metadata": {},
   "outputs": [],
   "source": [
    "#ex1. 매개변수로 들어온 값이 홀수인지 짝수인지 return 함수를 람다식으로\n",
    "\n",
    "def even_odd_check(num):\n",
    "#    if num%2:\n",
    "#        result ='홀수'\n",
    "#    else:\n",
    "#        result = '짝수'\n",
    "    result = '홀수' if num%2 else\"짝수\"\n",
    "\n",
    "    return result\n"
   ]
  },
  {
   "cell_type": "code",
   "execution_count": 21,
   "id": "52b5b882",
   "metadata": {},
   "outputs": [
    {
     "data": {
      "text/plain": [
       "('홀수', '짝수')"
      ]
     },
     "execution_count": 21,
     "metadata": {},
     "output_type": "execute_result"
    }
   ],
   "source": [
    "even_odd_check(5),even_odd_check(40)"
   ]
  },
  {
   "cell_type": "code",
   "execution_count": 23,
   "id": "81857d4e",
   "metadata": {},
   "outputs": [],
   "source": [
    "even_odd_chk = lambda num: '홀수' if num%2 else '짝수'"
   ]
  },
  {
   "cell_type": "code",
   "execution_count": 24,
   "id": "9056a758",
   "metadata": {},
   "outputs": [
    {
     "data": {
      "text/plain": [
       "'짝수'"
      ]
     },
     "execution_count": 24,
     "metadata": {},
     "output_type": "execute_result"
    }
   ],
   "source": [
    "even_odd_chk(30)"
   ]
  },
  {
   "cell_type": "code",
   "execution_count": 30,
   "id": "c250898c",
   "metadata": {},
   "outputs": [],
   "source": [
    "#ex2. 두 매개변수의 차이를 return 하는 함수를 람다식으로 "
   ]
  },
  {
   "cell_type": "code",
   "execution_count": null,
   "id": "f4ae00ac",
   "metadata": {},
   "outputs": [],
   "source": [
    "def diff1(a,b):\n",
    "    if a>b:\n",
    "        result = a-b\n",
    "    else:\n",
    "        result = b-a\n",
    "    return result"
   ]
  },
  {
   "cell_type": "code",
   "execution_count": 29,
   "id": "fa2f551d",
   "metadata": {},
   "outputs": [],
   "source": [
    "difference_check = lambda a,b : abs(a-b)"
   ]
  },
  {
   "cell_type": "code",
   "execution_count": null,
   "id": "a5a937ac",
   "metadata": {},
   "outputs": [],
   "source": [
    "diff = lambda a,b : a-b if a>b else b-a"
   ]
  },
  {
   "cell_type": "code",
   "execution_count": 27,
   "id": "e93a1dca",
   "metadata": {},
   "outputs": [
    {
     "name": "stdout",
     "output_type": "stream",
     "text": [
      "3\n"
     ]
    }
   ],
   "source": [
    "print(difference_check(2,5))"
   ]
  },
  {
   "cell_type": "code",
   "execution_count": 31,
   "id": "1f408cbc",
   "metadata": {},
   "outputs": [],
   "source": [
    "#ex3. 매개변수로 잔액을 받아, 잔액이 0 이상 면 잔액을 return, 음수면 'negative' return\n",
    "ex3 = lambda balance : balance if balance >=0 else 'negative'"
   ]
  },
  {
   "cell_type": "code",
   "execution_count": 33,
   "id": "fea10149",
   "metadata": {},
   "outputs": [
    {
     "data": {
      "text/plain": [
       "(1000, 'negative')"
      ]
     },
     "execution_count": 33,
     "metadata": {},
     "output_type": "execute_result"
    }
   ],
   "source": [
    "ex3(1000), ex3(-300)"
   ]
  },
  {
   "cell_type": "code",
   "execution_count": 41,
   "id": "4222fb5c",
   "metadata": {},
   "outputs": [
    {
     "name": "stdout",
     "output_type": "stream",
     "text": [
      "A팀\n"
     ]
    }
   ],
   "source": [
    "#ex4. 점수를 입력받아 학점을 80 이상 'A팀' 60 이상 'B팀' 60 미만은 '재시험'\n",
    "                #100초과 혹 0 미만은 '유효하지 않음' return\n",
    "ex4 = lambda score : '유효하지 않음' if (score>100) | (score < 0) else ('A팀' if score >= 80 else('B팀' if score >= 60 else \"재시험\"))\n",
    "\n",
    "print(ex4(90))"
   ]
  },
  {
   "cell_type": "code",
   "execution_count": 43,
   "id": "21f29c1b",
   "metadata": {},
   "outputs": [],
   "source": [
    "ex4 = lambda score : '유효하지 않음' if (score>100) | (score < 0) else \\\n",
    "                    'A팀' if score >= 80 else\\\n",
    "                    'B팀' if score >= 60 else \"재시험\""
   ]
  },
  {
   "cell_type": "code",
   "execution_count": 46,
   "id": "ee81b84a",
   "metadata": {},
   "outputs": [],
   "source": [
    "# 점수를 입력받아 학점을 return\n",
    "score_grade = lambda score : 'Not Valid' if (score>100) | (score < 0) else\\\n",
    "                            'A' if score >= 90 else\\\n",
    "                            'B' if score >= 75 else\\\n",
    "                            'C' if score >= 65 else\\\n",
    "                            'D' if score >= 50 else\\\n",
    "                            'F'"
   ]
  },
  {
   "cell_type": "code",
   "execution_count": 51,
   "id": "b081d5df",
   "metadata": {},
   "outputs": [
    {
     "data": {
      "text/plain": [
       "'Not Valid'"
      ]
     },
     "execution_count": 51,
     "metadata": {},
     "output_type": "execute_result"
    }
   ],
   "source": [
    "score_grade(102)"
   ]
  },
  {
   "cell_type": "code",
   "execution_count": 59,
   "id": "b1f70aeb",
   "metadata": {},
   "outputs": [],
   "source": [
    "#ex5. safe_index 함수를 람다식으로\n",
    "\n",
    "def safe_index(lst,item, start=0):\n",
    "    return lst.index(item, start)if item in lst[start: ] else -1\n",
    "\n",
    "ex5 = lambda lst, item, start=0 : lst.index(item, start)if item in lst[start: ] else -1"
   ]
  },
  {
   "cell_type": "code",
   "execution_count": 61,
   "id": "f103d5dd",
   "metadata": {},
   "outputs": [
    {
     "data": {
      "text/plain": [
       "(3, 2)"
      ]
     },
     "execution_count": 61,
     "metadata": {},
     "output_type": "execute_result"
    }
   ],
   "source": [
    "i = 3\n",
    "lst =[1,2,3,4,5]\n",
    "safe_index(lst,4), ex5(lst,3,1)"
   ]
  },
  {
   "cell_type": "code",
   "execution_count": 75,
   "id": "9bc88895",
   "metadata": {},
   "outputs": [
    {
     "data": {
      "text/plain": [
       "[25, 15, 100, 4.0]"
      ]
     },
     "execution_count": 75,
     "metadata": {},
     "output_type": "execute_result"
    }
   ],
   "source": [
    "# 람다식을 리스트에 들어갈 수 있음\n",
    "add = lambda a,b : a + b\n",
    "sub = lambda a,b : a - b\n",
    "mul = lambda a,b : a * b\n",
    "div = lambda a,b : a / b if b else '두번째 인자가 0' \n",
    "operations = [add,sub,mul,div] #사칙연산 함수들\n",
    "\n",
    "def act_operations(a,b, operations=operations): #a,b 사칙연산결과 return\n",
    "    result = []\n",
    "    for op in operations: \n",
    "        result.append(op(a,b))\n",
    "    return result\n",
    "\n",
    "act_operations(20,5)"
   ]
  },
  {
   "cell_type": "code",
   "execution_count": 68,
   "id": "7604a4d0",
   "metadata": {},
   "outputs": [
    {
     "data": {
      "text/plain": [
       "[64, 82]"
      ]
     },
     "execution_count": 68,
     "metadata": {},
     "output_type": "execute_result"
    }
   ],
   "source": [
    "act_operations(8,2,[lambda x,y:x**y, lambda x,y : 10*x+y])"
   ]
  },
  {
   "cell_type": "code",
   "execution_count": 78,
   "id": "ae1359ea",
   "metadata": {},
   "outputs": [],
   "source": [
    "operations.append(lambda x,y:x**y)"
   ]
  },
  {
   "cell_type": "code",
   "execution_count": 80,
   "id": "07da3065",
   "metadata": {},
   "outputs": [
    {
     "data": {
      "text/plain": [
       "[10, 6, 16, 4.0, 64]"
      ]
     },
     "execution_count": 80,
     "metadata": {},
     "output_type": "execute_result"
    }
   ],
   "source": [
    "act_operations(8,2)"
   ]
  },
  {
   "cell_type": "markdown",
   "id": "e5643c02",
   "metadata": {},
   "source": [
    "## 4.2 함수의 매개변수(인수)에 람다식 사용\n",
    " - 람다식을 사용하는 곳 : 함수의 매개변수 > return 문\n",
    "### (1) map"
   ]
  },
  {
   "cell_type": "code",
   "execution_count": 82,
   "id": "cd7ce8e8",
   "metadata": {},
   "outputs": [],
   "source": [
    "def map_template(func, L=[]):\n",
    "    result = []\n",
    "    for item in L:\n",
    "        result.append(  func(item)  )\n",
    "    return result"
   ]
  },
  {
   "cell_type": "code",
   "execution_count": 84,
   "id": "f847bcbb",
   "metadata": {},
   "outputs": [
    {
     "data": {
      "text/plain": [
       "[1, 2, 3]"
      ]
     },
     "execution_count": 84,
     "metadata": {},
     "output_type": "execute_result"
    }
   ],
   "source": [
    "map_template(lambda a:a, [1,2,3])"
   ]
  },
  {
   "cell_type": "code",
   "execution_count": 85,
   "id": "9d1de269",
   "metadata": {},
   "outputs": [
    {
     "data": {
      "text/plain": [
       "[2, 4, 6, 8, 10, 12, 14, 16, 18]"
      ]
     },
     "execution_count": 85,
     "metadata": {},
     "output_type": "execute_result"
    }
   ],
   "source": [
    "list_data = [1,2,3,4,5,6,7,8,9]\n",
    "def x_2(x):\n",
    "    return x*2\n",
    "map_template(x_2,list_data)"
   ]
  },
  {
   "cell_type": "code",
   "execution_count": 86,
   "id": "7d480862",
   "metadata": {},
   "outputs": [
    {
     "data": {
      "text/plain": [
       "[2, 4, 6, 8, 10, 12, 14, 16, 18]"
      ]
     },
     "execution_count": 86,
     "metadata": {},
     "output_type": "execute_result"
    }
   ],
   "source": [
    "map_template(lambda x:x*2,list_data)"
   ]
  },
  {
   "cell_type": "code",
   "execution_count": 89,
   "id": "a386dda5",
   "metadata": {},
   "outputs": [
    {
     "data": {
      "text/plain": [
       "[[<function __main__.<listcomp>.<lambda>(x)>],\n",
       " [<function __main__.<listcomp>.<lambda>(x)>],\n",
       " [<function __main__.<listcomp>.<lambda>(x)>],\n",
       " [<function __main__.<listcomp>.<lambda>(x)>],\n",
       " [<function __main__.<listcomp>.<lambda>(x)>],\n",
       " [<function __main__.<listcomp>.<lambda>(x)>],\n",
       " [<function __main__.<listcomp>.<lambda>(x)>],\n",
       " [<function __main__.<listcomp>.<lambda>(x)>],\n",
       " [<function __main__.<listcomp>.<lambda>(x)>]]"
      ]
     },
     "execution_count": 89,
     "metadata": {},
     "output_type": "execute_result"
    }
   ],
   "source": [
    "# 리스트 컴프리헨션\n",
    "[[(lambda x: x*2)] for item in list_data]\n"
   ]
  },
  {
   "cell_type": "code",
   "execution_count": 88,
   "id": "a385892d",
   "metadata": {},
   "outputs": [
    {
     "data": {
      "text/plain": [
       "[2, 4, 6, 8, 10, 12, 14, 16, 18]"
      ]
     },
     "execution_count": 88,
     "metadata": {},
     "output_type": "execute_result"
    }
   ],
   "source": [
    "[item*2 for item in list_data]\n"
   ]
  },
  {
   "cell_type": "code",
   "execution_count": 91,
   "id": "a6b7e48e",
   "metadata": {},
   "outputs": [
    {
     "data": {
      "text/plain": [
       "[2, 4, 6, 8, 10, 12, 14, 16, 18]"
      ]
     },
     "execution_count": 91,
     "metadata": {},
     "output_type": "execute_result"
    }
   ],
   "source": [
    "list(map(lambda x:x*2,list_data))"
   ]
  },
  {
   "cell_type": "code",
   "execution_count": 95,
   "id": "be4b5b6f",
   "metadata": {},
   "outputs": [
    {
     "name": "stdout",
     "output_type": "stream",
     "text": [
      "2 4 6 8 10 12 14 16 18 "
     ]
    }
   ],
   "source": [
    "for data in map (lambda x: x*2, list_data):\n",
    "    print(data, end=' ')"
   ]
  },
  {
   "cell_type": "code",
   "execution_count": 96,
   "id": "87b06ea8",
   "metadata": {},
   "outputs": [],
   "source": [
    "# prices = ['5,000', '5000', '6,000', '1000','5,000', '5000', '6,000', '1000’]를 [5000,5000,6000,1000]식으로 바꾸시오\n",
    "\n"
   ]
  },
  {
   "cell_type": "code",
   "execution_count": 111,
   "id": "70098649",
   "metadata": {},
   "outputs": [
    {
     "ename": "SyntaxError",
     "evalue": "unterminated string literal (detected at line 1) (2632932336.py, line 1)",
     "output_type": "error",
     "traceback": [
      "\u001b[1;36m  Cell \u001b[1;32mIn[111], line 1\u001b[1;36m\u001b[0m\n\u001b[1;33m    prices = ['5,000', '5000', '6,000', '1000','5,000', '5000', '6,000', '1000’]\u001b[0m\n\u001b[1;37m                                                                         ^\u001b[0m\n\u001b[1;31mSyntaxError\u001b[0m\u001b[1;31m:\u001b[0m unterminated string literal (detected at line 1)\n"
     ]
    }
   ],
   "source": [
    "prices = ['5,000', '5000', '6,000', '1000','5,000', '5000', '6,000', '1000’]"
   ]
  },
  {
   "cell_type": "code",
   "execution_count": 97,
   "id": "488d024e",
   "metadata": {},
   "outputs": [
    {
     "ename": "NameError",
     "evalue": "name 'xxxxx' is not defined",
     "output_type": "error",
     "traceback": [
      "\u001b[1;31m---------------------------------------------------------------------------\u001b[0m",
      "\u001b[1;31mNameError\u001b[0m                                 Traceback (most recent call last)",
      "Cell \u001b[1;32mIn[97], line 4\u001b[0m\n\u001b[0;32m      1\u001b[0m prices_int \u001b[38;5;241m=\u001b[39m []\n\u001b[0;32m      3\u001b[0m \u001b[38;5;66;03m#int로 바꾸기\u001b[39;00m\n\u001b[1;32m----> 4\u001b[0m \u001b[38;5;28mint\u001b[39m( \u001b[43mxxxxx\u001b[49m )\n\u001b[0;32m      6\u001b[0m \u001b[38;5;66;03m#comma 없애기\u001b[39;00m\n\u001b[0;32m      7\u001b[0m replace(\u001b[38;5;124m'\u001b[39m\u001b[38;5;124m,\u001b[39m\u001b[38;5;124m'\u001b[39m,\u001b[38;5;124m'\u001b[39m\u001b[38;5;124m'\u001b[39m)\n",
      "\u001b[1;31mNameError\u001b[0m: name 'xxxxx' is not defined"
     ]
    }
   ],
   "source": [
    "prices_int = []\n",
    "\n",
    "#int로 바꾸기\n",
    "int( xxxxx )\n",
    "\n",
    "#comma 없애기\n",
    "replace(',','')"
   ]
  },
  {
   "cell_type": "code",
   "execution_count": null,
   "id": "8b736040",
   "metadata": {},
   "outputs": [],
   "source": [
    "toint "
   ]
  },
  {
   "cell_type": "code",
   "execution_count": 114,
   "id": "67214e50",
   "metadata": {},
   "outputs": [
    {
     "name": "stdout",
     "output_type": "stream",
     "text": [
      "5000 5000 6000 1000 5000 5000 6000 1000 "
     ]
    }
   ],
   "source": [
    "prices = ['5,000', '5000', '6,000', '1000','5,000', '5000', '6,000', '1000']\n",
    "def toint(value):\n",
    "    return int(value.replace(',',''))\n",
    "prices_int = map(lambda value: int(value.replace(',','')),prices)\n",
    "for prices in prices_int:\n",
    "                 print(prices, end=' ')"
   ]
  },
  {
   "cell_type": "code",
   "execution_count": null,
   "id": "d97b7bfc",
   "metadata": {},
   "outputs": [],
   "source": [
    "#members1 = [{'name':'홍길동', 'birth':'2000-01-01’},\n",
    "#{'name':'신길동', 'birth':'1995-12-18'},]를\n",
    "\n",
    "#members2 = [\n",
    "#{'name':'홍길동', 'year':2000, 'month':1,'day':1},\n",
    "#{'name':'신길동', 'year':1995, 'month':12, 'day':18},] 변환"
   ]
  },
  {
   "cell_type": "code",
   "execution_count": 115,
   "id": "242e6e00",
   "metadata": {},
   "outputs": [],
   "source": [
    "members1 = [{'name':'홍길동', 'birth':'2000-01-01'},{'name':'신길동', 'birth':'1995-12-18'},]"
   ]
  },
  {
   "cell_type": "code",
   "execution_count": 117,
   "id": "dd0643b8",
   "metadata": {},
   "outputs": [
    {
     "ename": "AttributeError",
     "evalue": "'list' object has no attribute 'item'",
     "output_type": "error",
     "traceback": [
      "\u001b[1;31m---------------------------------------------------------------------------\u001b[0m",
      "\u001b[1;31mAttributeError\u001b[0m                            Traceback (most recent call last)",
      "Cell \u001b[1;32mIn[117], line 3\u001b[0m\n\u001b[0;32m      1\u001b[0m \u001b[38;5;66;03m# {'name':'홍길동', 'birth':'2000-01-01'} 를 {'name':'홍길동', 'year':2000, 'month':1,'day':1}로 바꾸는 함수 만들기\u001b[39;00m\n\u001b[0;32m      2\u001b[0m \u001b[38;5;66;03m#1 '2001-01-01' => 'year':2000, 'month':1,'day':1로 바꾸기\u001b[39;00m\n\u001b[1;32m----> 3\u001b[0m \u001b[43mmembers1\u001b[49m\u001b[38;5;241;43m.\u001b[39;49m\u001b[43mitem\u001b[49m(\u001b[38;5;241m2\u001b[39m) \n\u001b[0;32m      4\u001b[0m dicData\u001b[38;5;241m=\u001b[39m{\u001b[38;5;124m'\u001b[39m\u001b[38;5;124myear\u001b[39m\u001b[38;5;124m'\u001b[39m:y,\u001b[38;5;124m'\u001b[39m\u001b[38;5;124mmonth\u001b[39m\u001b[38;5;124m'\u001b[39m:m,\u001b[38;5;124m'\u001b[39m\u001b[38;5;124mday\u001b[39m\u001b[38;5;124m'\u001b[39m:d}\n",
      "\u001b[1;31mAttributeError\u001b[0m: 'list' object has no attribute 'item'"
     ]
    }
   ],
   "source": [
    "# {'name':'홍길동', 'birth':'2000-01-01'} 를 {'name':'홍길동', 'year':2000, 'month':1,'day':1}로 바꾸는 함수 만들기\n",
    "#1 '2001-01-01' => 'year':2000, 'month':1,'day':1로 바꾸기\n",
    "members1.item(\n",
    "dicData={'year':y,'month':m,'day':d}"
   ]
  },
  {
   "cell_type": "code",
   "execution_count": null,
   "id": "d3a1b02a",
   "metadata": {},
   "outputs": [],
   "source": []
  },
  {
   "cell_type": "code",
   "execution_count": 152,
   "id": "d729f8f4",
   "metadata": {},
   "outputs": [
    {
     "data": {
      "text/plain": [
       "({'year': 2000, 'month': 1, 'day': 1}, {'year': 1995, 'month': 12, 'day': 12})"
      ]
     },
     "execution_count": 152,
     "metadata": {},
     "output_type": "execute_result"
    }
   ],
   "source": [
    "members1 = [{'name':'홍길동', 'birth':'2000-01-01'},{'name':'신길동', 'birth':'1995-12-18'},]\n",
    "def split_date(date):\n",
    "    split_date = date.split('-')\n",
    "    return {'year':int(split_date[0]),\n",
    "            'month':int(split_date[1]),\n",
    "            'day':int(split_date[2])\n",
    "           }\n",
    "\n",
    "split_date('2000-01-01'), split_date('1995-12-12')"
   ]
  },
  {
   "cell_type": "code",
   "execution_count": 157,
   "id": "fe6ace63",
   "metadata": {},
   "outputs": [
    {
     "data": {
      "text/plain": [
       "({'year': 2000, 'month': 1, 'day': 1}, {'year': 1995, 'month': 12, 'day': 12})"
      ]
     },
     "execution_count": 157,
     "metadata": {},
     "output_type": "execute_result"
    }
   ],
   "source": [
    "# {'birth':'2025-01-01'} ==> {'year': 2000, 'month': 1, 'day': 1}\n",
    "members1 = [{'name':'홍길동', 'birth':'2000-01-01'},{'name':'신길동', 'birth':'1995-12-18'},]\n",
    "def split_date1(date):\n",
    "    return {'year':int(date.split('-')[0]),\n",
    "            'month':int(date.split('-')[1]),\n",
    "            'day':int(date.split('-')[2])\n",
    "           }\n",
    "split_date1('2000-01-01'), split_date1('1995-12-12')"
   ]
  },
  {
   "cell_type": "code",
   "execution_count": 174,
   "id": "9d80e75a",
   "metadata": {},
   "outputs": [
    {
     "data": {
      "text/plain": [
       "{'year': 2000, 'month': 1, 'day': 1}"
      ]
     },
     "execution_count": 174,
     "metadata": {},
     "output_type": "execute_result"
    }
   ],
   "source": [
    "# {'name':'홍길동', 'birth':'2000-01-01'} ==> {'name':'홍길동', 'year':2000, 'month':1,'day':1}\n",
    "\n",
    "members2 = [{'name':'홍길동', 'birth':'2000-01-01'},{'name':'신길동', 'birth':'1995-12-18'},]\n",
    "def split_data(data):\n",
    "    return {'year':int(data['birth'].split('-')[0]),\n",
    "            'month':int(data['birth'].split('-')[1]),\n",
    "            'day':int(data['birth'].split('-')[2])\n",
    "           }\n",
    "split_data({'birth':'2000-01-01'})"
   ]
  },
  {
   "cell_type": "code",
   "execution_count": 172,
   "id": "403b972c",
   "metadata": {},
   "outputs": [
    {
     "data": {
      "text/plain": [
       "{'name': '홍길동', 'year': 2000, 'month': 1, 'day': 1}"
      ]
     },
     "execution_count": 172,
     "metadata": {},
     "output_type": "execute_result"
    }
   ],
   "source": [
    "def member_preprocessing(member):\n",
    "    return{\n",
    "        'name' : member.get('name'), #member['name']\n",
    "        'year' : int(member.get('birth').split('-')[0]),\n",
    "        'month': int(member.get('birth').split('-')[1]),\n",
    "        'day'  : int(member.get('birth').split('-')[2]),\n",
    "    }\n",
    "\n",
    "member_preprocessing(members1[0])"
   ]
  },
  {
   "cell_type": "code",
   "execution_count": 182,
   "id": "a411c44d",
   "metadata": {},
   "outputs": [],
   "source": [
    "members10 = list(map(lambda member : {\n",
    "                                'name' : member.get('name'), \n",
    "                                'year' : int(member.get('birth').split('-')[0]),\n",
    "                                'month': int(member.get('birth').split('-')[1]),\n",
    "                                'day'  : int(member.get('birth').split('-')[2]),\n",
    "                            }, members1)    )"
   ]
  },
  {
   "cell_type": "code",
   "execution_count": 184,
   "id": "4ced6f09",
   "metadata": {},
   "outputs": [
    {
     "data": {
      "text/plain": [
       "[{'name': '홍길동', 'year': 2000, 'month': 1, 'day': 1},\n",
       " {'name': '신길동', 'year': 1995, 'month': 12, 'day': 18}]"
      ]
     },
     "execution_count": 184,
     "metadata": {},
     "output_type": "execute_result"
    }
   ],
   "source": [
    "members10"
   ]
  },
  {
   "cell_type": "code",
   "execution_count": 185,
   "id": "71b54e9f",
   "metadata": {},
   "outputs": [
    {
     "data": {
      "text/plain": [
       "[{'name': '홍길동', 'birth': '2000-01-01'},\n",
       " {'name': '신길동', 'birth': '1995-12-18'}]"
      ]
     },
     "execution_count": 185,
     "metadata": {},
     "output_type": "execute_result"
    }
   ],
   "source": [
    "'''\n",
    "예제 3 member2 를 members1로 전환\n",
    "'''\n",
    "members1"
   ]
  },
  {
   "cell_type": "code",
   "execution_count": 186,
   "id": "21cfc557",
   "metadata": {},
   "outputs": [],
   "source": [
    "members2 = [{'name':'홍길동', 'year':2000, 'month':1,'day':1},\n",
    "            {'name':'신길동', 'year':1995, 'month':12, 'day':18},]"
   ]
  },
  {
   "cell_type": "code",
   "execution_count": 191,
   "id": "e8f5a356",
   "metadata": {},
   "outputs": [
    {
     "data": {
      "text/plain": [
       "dict_values(['홍길동', 2000, 1, 1])"
      ]
     },
     "execution_count": 191,
     "metadata": {},
     "output_type": "execute_result"
    }
   ],
   "source": [
    "members2[0].values()"
   ]
  },
  {
   "cell_type": "code",
   "execution_count": 198,
   "id": "3c940213",
   "metadata": {},
   "outputs": [
    {
     "data": {
      "text/plain": [
       "'2000-01-01'"
      ]
     },
     "execution_count": 198,
     "metadata": {},
     "output_type": "execute_result"
    }
   ],
   "source": [
    "{'year':2000, 'month':1,'day':1}\n",
    "\n",
    "#'[{}-{:02}-{:02}]'.format()\n",
    "\n",
    "def join_data(date):\n",
    "    return\"{}-{:02}-{:02}\".format(date.get('year'),date.get('month'),date.get('day'))\n",
    "join_data({'year':2000, 'month':1,'day':1})\n",
    "\n"
   ]
  },
  {
   "cell_type": "code",
   "execution_count": 199,
   "id": "70454729",
   "metadata": {},
   "outputs": [
    {
     "data": {
      "text/plain": [
       "'2000-01-01'"
      ]
     },
     "execution_count": 199,
     "metadata": {},
     "output_type": "execute_result"
    }
   ],
   "source": [
    "def join_data(date):\n",
    "    return\"{year}-{month:02}-{day:02}\".format(year=date.get('year'),\n",
    "                                              month=date.get('month'),\n",
    "                                              day=date.get('day')\n",
    "                                             )\n",
    "join_data({'year':2000, 'month':1,'day':1})\n"
   ]
  },
  {
   "cell_type": "code",
   "execution_count": 201,
   "id": "eb9ae8db",
   "metadata": {},
   "outputs": [
    {
     "data": {
      "text/plain": [
       "'2000-01-01'"
      ]
     },
     "execution_count": 201,
     "metadata": {},
     "output_type": "execute_result"
    }
   ],
   "source": [
    "\n",
    "def join_data(date):\n",
    "    return\"{year}-{month:02}-{day:02}\".format(**date)\n",
    "join_data({'year':2000, 'month':1,'day':1})\n",
    "\n"
   ]
  },
  {
   "cell_type": "code",
   "execution_count": 206,
   "id": "ba1cf278",
   "metadata": {},
   "outputs": [
    {
     "data": {
      "text/plain": [
       "{'birth': '2000-01-01'}"
      ]
     },
     "execution_count": 206,
     "metadata": {},
     "output_type": "execute_result"
    }
   ],
   "source": [
    "# {'year': 2000, 'month': 1, 'day': 1}  ==> {'birth':'2025-01-01'}\n",
    "def join_data(date):\n",
    "    return {\"birth\" : \"{year}-{month:02}-{day:02}\".format(**date)}\n",
    "\n",
    "join_data({'year':2000, 'month':1,'day':1})\n"
   ]
  },
  {
   "cell_type": "code",
   "execution_count": 211,
   "id": "ca4b7d57",
   "metadata": {},
   "outputs": [
    {
     "data": {
      "text/plain": [
       "{'name': '홍길동', 'birth': '2000-01-01'}"
      ]
     },
     "execution_count": 211,
     "metadata": {},
     "output_type": "execute_result"
    }
   ],
   "source": [
    "# {'name':'홍길동','year': 2000, 'month': 1, 'day': 1}  ==> {'name':'홍길동', 'birth':'2025-01-01'}\n",
    "\n",
    "def members_preprocessing(member):\n",
    "    return{\n",
    "        'name' : member.get('name'),\n",
    "        'birth':\"{year}-{month:02}-{day:02}\".format(**member)\n",
    "    }\n",
    "members_preprocessing({'name':'홍길동','year': 2000, 'month': 1, 'day': 1})    "
   ]
  },
  {
   "cell_type": "code",
   "execution_count": 218,
   "id": "2c7af28f",
   "metadata": {},
   "outputs": [
    {
     "data": {
      "text/plain": [
       "[{'name': '홍길동', 'birth': '2000-01-01'},\n",
       " {'name': '신길동', 'birth': '1995-12-18'}]"
      ]
     },
     "execution_count": 218,
     "metadata": {},
     "output_type": "execute_result"
    }
   ],
   "source": [
    "list(map(lambda member : {\n",
    "        'name':member.get('name'),\n",
    "        'birth':\"{year}-{month:02}-{day:02}\".format(**member)\n",
    "        },members2))\n"
   ]
  },
  {
   "cell_type": "code",
   "execution_count": null,
   "id": "30ddbd67",
   "metadata": {},
   "outputs": [],
   "source": []
  },
  {
   "cell_type": "markdown",
   "id": "4ba1e75b",
   "metadata": {},
   "source": [
    "### (2) filter"
   ]
  },
  {
   "cell_type": "code",
   "execution_count": 220,
   "id": "c708cca6",
   "metadata": {},
   "outputs": [],
   "source": [
    "def filter_template(func, L=[]):\n",
    "    result = []\n",
    "    for item in L:\n",
    "        if func(item):\n",
    "            result.append(item)\n",
    "    return result"
   ]
  },
  {
   "cell_type": "code",
   "execution_count": 224,
   "id": "0eb73c33",
   "metadata": {},
   "outputs": [
    {
     "data": {
      "text/plain": [
       "[1, 3, 5, 7, 9]"
      ]
     },
     "execution_count": 224,
     "metadata": {},
     "output_type": "execute_result"
    }
   ],
   "source": [
    "list_data = [1,2,3,4,5,6,7,8,9]\n",
    "\n",
    "def odd_check(value):\n",
    "    return value%2\n",
    "#    if value%2:\n",
    "#        return True\n",
    "#    else:\n",
    "#        return False\n",
    "filter_template(lambda value: value%2 != 0, list_data)"
   ]
  },
  {
   "cell_type": "code",
   "execution_count": 226,
   "id": "bdb093f0",
   "metadata": {},
   "outputs": [
    {
     "data": {
      "text/plain": [
       "[1, 3, 5, 7, 9]"
      ]
     },
     "execution_count": 226,
     "metadata": {},
     "output_type": "execute_result"
    }
   ],
   "source": [
    "list(filter(lambda value: value%2 != 0, list_data))"
   ]
  },
  {
   "cell_type": "code",
   "execution_count": 223,
   "id": "0d133a0b",
   "metadata": {},
   "outputs": [
    {
     "data": {
      "text/plain": [
       "[1, 3, 5, 7, 9]"
      ]
     },
     "execution_count": 223,
     "metadata": {},
     "output_type": "execute_result"
    }
   ],
   "source": [
    "#리스트 컴프리헨션\n",
    "[value for value in list_data if value%2 !=0]"
   ]
  },
  {
   "cell_type": "code",
   "execution_count": 235,
   "id": "7286d816",
   "metadata": {},
   "outputs": [],
   "source": [
    "#예제: 다음 리스트에서 소수점 이하가 0인 수만 추출\n",
    "L = [1,1.2,1.5,3,0,10,5,100,-2.0,-12.2]"
   ]
  },
  {
   "cell_type": "code",
   "execution_count": 236,
   "id": "7478cf68",
   "metadata": {},
   "outputs": [
    {
     "data": {
      "text/plain": [
       "[1, 3, 0, 10, 5, 100, -2.0]"
      ]
     },
     "execution_count": 236,
     "metadata": {},
     "output_type": "execute_result"
    }
   ],
   "source": [
    "list(filter(lambda value : value%1 == 0,L))"
   ]
  },
  {
   "cell_type": "code",
   "execution_count": 237,
   "id": "5f45f2e7",
   "metadata": {},
   "outputs": [
    {
     "data": {
      "text/plain": [
       "[1, 3, 0, 10, 5, 100, -2.0]"
      ]
     },
     "execution_count": 237,
     "metadata": {},
     "output_type": "execute_result"
    }
   ],
   "source": [
    "[item for item in L if item%1==0]"
   ]
  },
  {
   "cell_type": "markdown",
   "id": "46bb77a9",
   "metadata": {},
   "source": [
    "### (3) sort"
   ]
  },
  {
   "cell_type": "code",
   "execution_count": 239,
   "id": "024de589",
   "metadata": {},
   "outputs": [
    {
     "name": "stdout",
     "output_type": "stream",
     "text": [
      "[1, 3, 6, 10]\n",
      "[10, 6, 3, 1]\n"
     ]
    }
   ],
   "source": [
    "p = [10,3,6,1]\n",
    "p.sort()\n",
    "print(p)\n",
    "p.sort(reverse=True)\n",
    "print(p)"
   ]
  },
  {
   "cell_type": "code",
   "execution_count": 244,
   "id": "8b54b9d4",
   "metadata": {},
   "outputs": [
    {
     "data": {
      "text/plain": [
       "[(1, 'one'), (2, 'two'), (3, 'three'), (4, 'four')]"
      ]
     },
     "execution_count": 244,
     "metadata": {},
     "output_type": "execute_result"
    }
   ],
   "source": [
    "#무조건 0번째 item을 기준으로 오름차순 정렬\n",
    "pairs = [(2,'two'),(1,'one'),(3,'three'),(4,'four')]\n",
    "pairs.sort()\n",
    "pairs"
   ]
  },
  {
   "cell_type": "code",
   "execution_count": 252,
   "id": "46c46f0e",
   "metadata": {},
   "outputs": [
    {
     "data": {
      "text/plain": [
       "[(2, 'two'), (3, 'three'), (1, 'one'), (4, 'four')]"
      ]
     },
     "execution_count": 252,
     "metadata": {},
     "output_type": "execute_result"
    }
   ],
   "source": [
    "# 1번째 item 기준으로 내림차순 정렬\n",
    "pairs.sort(key = lambda data:data[1],reverse=True)\n",
    "pairs\n"
   ]
  },
  {
   "cell_type": "code",
   "execution_count": 269,
   "id": "49a8efdb",
   "metadata": {},
   "outputs": [
    {
     "name": "stdout",
     "output_type": "stream",
     "text": [
      "[[10, 200], [1, 100], [9, 9]]\n"
     ]
    }
   ],
   "source": [
    "#합이 큰 순으로 정렬\n",
    "number_2d = [[9,9],[1,100],[10,200]]\n",
    "\n",
    "sum(number_2d[0])\n",
    "number_2d.sort(key=lambda items : sum(items),reverse=True)\n",
    "print(number_2d)\n"
   ]
  },
  {
   "cell_type": "code",
   "execution_count": 265,
   "id": "ae0e4184",
   "metadata": {},
   "outputs": [
    {
     "data": {
      "text/plain": [
       "18"
      ]
     },
     "execution_count": 265,
     "metadata": {},
     "output_type": "execute_result"
    }
   ],
   "source": [
    "a=[9,9]\n",
    "sum(a)"
   ]
  },
  {
   "cell_type": "code",
   "execution_count": 256,
   "id": "aade4bad",
   "metadata": {},
   "outputs": [
    {
     "data": {
      "text/plain": [
       "[[1, 100], [9, 9], [10, 1]]"
      ]
     },
     "execution_count": 256,
     "metadata": {},
     "output_type": "execute_result"
    }
   ],
   "source": [
    "number_2d_1 = [[9,9],[1,100],[10,200]]\n",
    "number_2d_1.sort()\n",
    "number_2d_1"
   ]
  },
  {
   "cell_type": "code",
   "execution_count": 275,
   "id": "bbdfdcdc",
   "metadata": {},
   "outputs": [],
   "source": [
    "students = [{'name':'ab' , 'score':99 },\n",
    "           {'name':'cd', 'score':50 },\n",
    "           {'name':'ef' , 'score':77 },\n",
    "           {'score':100}]\n"
   ]
  },
  {
   "cell_type": "code",
   "execution_count": 272,
   "id": "f28face8",
   "metadata": {},
   "outputs": [
    {
     "data": {
      "text/plain": [
       "99"
      ]
     },
     "execution_count": 272,
     "metadata": {},
     "output_type": "execute_result"
    }
   ],
   "source": [
    "name_select = lambda data: data.get('score')\n",
    "name_select({'name':'ab', 'score':99})"
   ]
  },
  {
   "cell_type": "code",
   "execution_count": 282,
   "id": "9e51cbb1",
   "metadata": {},
   "outputs": [
    {
     "data": {
      "text/plain": [
       "[{'name': 'ab', 'score': 99},\n",
       " {'name': 'cd', 'score': 50},\n",
       " {'name': 'ef', 'score': 77},\n",
       " {'score': 100}]"
      ]
     },
     "execution_count": 282,
     "metadata": {},
     "output_type": "execute_result"
    }
   ],
   "source": [
    "#students를 name 순으로 정렬 (ㄱㄴㄷ순)\n",
    "\n",
    "students.sort(key = lambda data :data.get('name',\"가\"))\n",
    "students"
   ]
  },
  {
   "cell_type": "code",
   "execution_count": 284,
   "id": "665f1824",
   "metadata": {},
   "outputs": [
    {
     "data": {
      "text/plain": [
       "[{'score': 100},\n",
       " {'name': 'ab', 'score': 99},\n",
       " {'name': 'ef', 'score': 77},\n",
       " {'name': 'cd', 'score': 50}]"
      ]
     },
     "execution_count": 284,
     "metadata": {},
     "output_type": "execute_result"
    }
   ],
   "source": [
    "#students를 score 큰 순으로 정렬\n",
    "students.sort(key=lambda data:data.get('score',0),reverse=True)\n",
    "students"
   ]
  },
  {
   "cell_type": "code",
   "execution_count": 4,
   "id": "41d61880",
   "metadata": {},
   "outputs": [
    {
     "data": {
      "text/plain": [
       "[{'no': 2, 'title': '흔한남매', 'writer': '백난도', 'price': '15,120'},\n",
       " {'no': 1, 'title': '더트릭컬', 'writer': '폴빠', 'price': '19,800'},\n",
       " {'no': 3, 'title': '단 한 번의 삶', 'writer': '김영하', 'price': '15,120'},\n",
       " {'no': 4, 'title': '가격잘못', 'writer': '홍길동', 'price': 'ㅁ'},\n",
       " {'no': 5, 'title': '가격이숫자', 'writer': '백난도', 'price': 30200},\n",
       " {'no': 6, 'title': '가격이없음', 'writer': '이길동'}]"
      ]
     },
     "execution_count": 4,
     "metadata": {},
     "output_type": "execute_result"
    }
   ],
   "source": [
    "\n",
    "books = \\\n",
    "[{'no':2, 'title':'흔한남매', 'writer':'백난도', 'price':'15,120'},\n",
    "{'no':1, 'title':'더트릭컬', 'writer':'폴빠','price':'19,800'},\n",
    "{'no':3, 'title':'단 한 번의 삶', 'writer':'김영하', 'price':'15,120'},\n",
    "{'no':4, 'title':'가격잘못', 'writer':'홍길동', 'price':'ㅁ'},\n",
    "{'no':5, 'title':'가격이숫자', 'writer':'백난도', 'price':30200},\n",
    "{'no':6, 'title':'가격이없음', 'writer':'이길동'},]\n",
    "\n",
    "books"
   ]
  },
  {
   "cell_type": "code",
   "execution_count": 296,
   "id": "3d3a0bdd",
   "metadata": {},
   "outputs": [
    {
     "ename": "NameError",
     "evalue": "name 'price' is not defined",
     "output_type": "error",
     "traceback": [
      "\u001b[1;31m---------------------------------------------------------------------------\u001b[0m",
      "\u001b[1;31mNameError\u001b[0m                                 Traceback (most recent call last)",
      "Cell \u001b[1;32mIn[296], line 7\u001b[0m\n\u001b[0;32m      1\u001b[0m \u001b[38;5;66;03m# 번호, 제목, price 기준으로 sort\u001b[39;00m\n\u001b[0;32m      2\u001b[0m \n\u001b[0;32m      3\u001b[0m \u001b[38;5;66;03m#1. price int로 변환\u001b[39;00m\n\u001b[0;32m      4\u001b[0m \u001b[38;5;66;03m#  - 문자면 패스\u001b[39;00m\n\u001b[0;32m      5\u001b[0m \u001b[38;5;66;03m# 숫자면 int로\u001b[39;00m\n\u001b[1;32m----> 7\u001b[0m \u001b[43mprice\u001b[49m\u001b[38;5;241m.\u001b[39misdigit()\n",
      "\u001b[1;31mNameError\u001b[0m: name 'price' is not defined"
     ]
    }
   ],
   "source": [
    "# 번호, 제목, price 기준으로 sort\n",
    "\n",
    "#1. price int로 변환\n",
    "#  - 문자면 패스\n",
    "# 숫자면 int로\n",
    "\n",
    "price.isdigit()\n"
   ]
  },
  {
   "cell_type": "code",
   "execution_count": 294,
   "id": "56649434",
   "metadata": {},
   "outputs": [
    {
     "data": {
      "text/plain": [
       "False"
      ]
     },
     "execution_count": 294,
     "metadata": {},
     "output_type": "execute_result"
    }
   ],
   "source": [
    "def intprice(value):\n",
    "    return int(value.replace(',',\"\"))\n",
    "\n",
    "(\"ㅁ0\").isdigit()"
   ]
  },
  {
   "cell_type": "code",
   "execution_count": null,
   "id": "d06329af",
   "metadata": {},
   "outputs": [],
   "source": []
  },
  {
   "cell_type": "code",
   "execution_count": null,
   "id": "6be228dd",
   "metadata": {},
   "outputs": [],
   "source": [
    "prices = ['5,000', '5000', '6,000', '1000','5,000', '5000', '6,000', '1000']\n",
    "def toint(value):\n",
    "    return int(value.replace(',',''))\n",
    "prices_int = map(lambda value: int(value.replace(',','')),prices)\n",
    "for prices in prices_int:\n",
    "                 print(prices, end=' ')"
   ]
  },
  {
   "cell_type": "code",
   "execution_count": null,
   "id": "7ed1d760",
   "metadata": {},
   "outputs": [],
   "source": []
  },
  {
   "cell_type": "code",
   "execution_count": 5,
   "id": "181595be",
   "metadata": {},
   "outputs": [
    {
     "data": {
      "text/plain": [
       "[{'no': 1, 'title': '더트릭컬', 'writer': '폴빠', 'price': '19,800'},\n",
       " {'no': 2, 'title': '흔한남매', 'writer': '백난도', 'price': '15,120'},\n",
       " {'no': 3, 'title': '단 한 번의 삶', 'writer': '김영하', 'price': '15,120'},\n",
       " {'no': 4, 'title': '가격잘못', 'writer': '홍길동', 'price': 'ㅁ'},\n",
       " {'no': 5, 'title': '가격이숫자', 'writer': '백난도', 'price': 30200},\n",
       " {'no': 6, 'title': '가격이없음', 'writer': '이길동'}]"
      ]
     },
     "execution_count": 5,
     "metadata": {},
     "output_type": "execute_result"
    }
   ],
   "source": [
    "#no 기준으로 sort\n",
    "books.sort(key=lambda book : book['no'])\n",
    "books"
   ]
  },
  {
   "cell_type": "code",
   "execution_count": 8,
   "id": "f6bea7c3",
   "metadata": {},
   "outputs": [
    {
     "data": {
      "text/plain": [
       "[{'no': 5, 'title': '가격이숫자', 'writer': '백난도', 'price': 30200},\n",
       " {'no': 6, 'title': '가격이없음', 'writer': '이길동'},\n",
       " {'no': 4, 'title': '가격잘못', 'writer': '홍길동', 'price': 'ㅁ'},\n",
       " {'no': 3, 'title': '단 한 번의 삶', 'writer': '김영하', 'price': '15,120'},\n",
       " {'no': 1, 'title': '더트릭컬', 'writer': '폴빠', 'price': '19,800'},\n",
       " {'no': 2, 'title': '흔한남매', 'writer': '백난도', 'price': '15,120'}]"
      ]
     },
     "execution_count": 8,
     "metadata": {},
     "output_type": "execute_result"
    }
   ],
   "source": [
    "#title 기준\n",
    "books.sort(key=lambda book : book['title'])\n",
    "books"
   ]
  },
  {
   "cell_type": "code",
   "execution_count": 10,
   "id": "05f1707d",
   "metadata": {},
   "outputs": [
    {
     "ename": "TypeError",
     "evalue": "'<' not supported between instances of 'str' and 'int'",
     "output_type": "error",
     "traceback": [
      "\u001b[1;31m---------------------------------------------------------------------------\u001b[0m",
      "\u001b[1;31mTypeError\u001b[0m                                 Traceback (most recent call last)",
      "Cell \u001b[1;32mIn[10], line 2\u001b[0m\n\u001b[0;32m      1\u001b[0m \u001b[38;5;66;03m#price 기준\u001b[39;00m\n\u001b[1;32m----> 2\u001b[0m \u001b[43mbooks\u001b[49m\u001b[38;5;241;43m.\u001b[39;49m\u001b[43msort\u001b[49m\u001b[43m(\u001b[49m\u001b[43mkey\u001b[49m\u001b[38;5;241;43m=\u001b[39;49m\u001b[38;5;28;43;01mlambda\u001b[39;49;00m\u001b[43m \u001b[49m\u001b[43mbook\u001b[49m\u001b[43m \u001b[49m\u001b[43m:\u001b[49m\u001b[43m \u001b[49m\u001b[43mbook\u001b[49m\u001b[38;5;241;43m.\u001b[39;49m\u001b[43mget\u001b[49m\u001b[43m(\u001b[49m\u001b[38;5;124;43m'\u001b[39;49m\u001b[38;5;124;43mprice\u001b[39;49m\u001b[38;5;124;43m'\u001b[39;49m\u001b[43m,\u001b[49m\u001b[38;5;241;43m0\u001b[39;49m\u001b[43m)\u001b[49m\u001b[43m)\u001b[49m\n\u001b[0;32m      3\u001b[0m books\n",
      "\u001b[1;31mTypeError\u001b[0m: '<' not supported between instances of 'str' and 'int'"
     ]
    }
   ],
   "source": [
    "#price 기준\n",
    "books.sort(key=lambda book : book.get('price',0))\n",
    "books"
   ]
  },
  {
   "cell_type": "code",
   "execution_count": 24,
   "id": "85b5b88c",
   "metadata": {},
   "outputs": [
    {
     "name": "stdout",
     "output_type": "stream",
     "text": [
      "0 5000 3000 0\n"
     ]
    }
   ],
   "source": [
    "# 숫자를 숫자로, 문자를 숫자로 변환 or  0 none=> 0\n",
    "\n",
    "#{'no': 5, 'title': '가격이숫자', 'writer': '백난도', 'price': 30200} ==> 30200\n",
    "\n",
    "\n",
    "def parse_int (price):\n",
    "    if isinstance(price,str) and price.replace(',','').isdigit():\n",
    "        return int(price.replace(',',''))\n",
    "    elif isinstance(price,int): \n",
    "        return price\n",
    "    else:\n",
    "        return 0\n",
    "\n",
    "\n",
    "print(parse_int('a'),parse_int('5,000'),parse_int(3000),parse_int(None))\n"
   ]
  },
  {
   "cell_type": "code",
   "execution_count": 25,
   "id": "c76588bb",
   "metadata": {},
   "outputs": [
    {
     "ename": "SyntaxError",
     "evalue": "invalid syntax (577330322.py, line 1)",
     "output_type": "error",
     "traceback": [
      "\u001b[1;36m  Cell \u001b[1;32mIn[25], line 1\u001b[1;36m\u001b[0m\n\u001b[1;33m    lambda price : isinstance(price,str) and price.replace(',','').isdigit() else(isinstance(price,int) else(0))\u001b[0m\n\u001b[1;37m                                                                             ^\u001b[0m\n\u001b[1;31mSyntaxError\u001b[0m\u001b[1;31m:\u001b[0m invalid syntax\n"
     ]
    }
   ],
   "source": [
    "lambda price : isinstance(price,str) and price.replace(',','').isdigit() else(isinstance(price,int) else(0))"
   ]
  },
  {
   "cell_type": "code",
   "execution_count": 35,
   "id": "667de348",
   "metadata": {},
   "outputs": [],
   "source": [
    "parse_int = lambda price : \\\n",
    "                        int(price.replace(',','')) if isinstance(price,str) and price.replace(',','').isdigit() else \\\n",
    "                        price if isinstance(price,int) else 0 \n",
    "    "
   ]
  },
  {
   "cell_type": "code",
   "execution_count": 42,
   "id": "82e3d569",
   "metadata": {},
   "outputs": [
    {
     "data": {
      "text/plain": [
       "30200"
      ]
     },
     "execution_count": 42,
     "metadata": {},
     "output_type": "execute_result"
    }
   ],
   "source": [
    "parse_int = lambda book : \\\n",
    "                        int(book.get('price').replace(',','')) \\\n",
    "                        if isinstance(book.get('price'),str) and book.get('price').replace(',','').isdigit() else \\\n",
    "                        book.get('price') if isinstance(book.get('price'),int) else 0 \n",
    "parse_int({'no': 5, 'title': '가격이숫자', 'writer': '백난도', 'price': 30200})"
   ]
  },
  {
   "cell_type": "markdown",
   "id": "bd90806b",
   "metadata": {},
   "source": [
    "# 5. 파이썬 내장함수\n",
    " - import 하지 않고 바로 사용 가능한 함수\n",
    " - 키워드 (if, while) 처럼 간주되무로, 식별자(변수명, 함수명 등) 로 사용하는 것을 피한다"
   ]
  },
  {
   "cell_type": "code",
   "execution_count": 1,
   "id": "6319bc0a",
   "metadata": {},
   "outputs": [
    {
     "data": {
      "text/plain": [
       "{'__name__': '__main__',\n",
       " '__doc__': 'Automatically created module for IPython interactive environment',\n",
       " '__package__': None,\n",
       " '__loader__': None,\n",
       " '__spec__': None,\n",
       " '__builtin__': <module 'builtins' (built-in)>,\n",
       " '__builtins__': <module 'builtins' (built-in)>,\n",
       " '_ih': ['', 'a=10\\nglobals()'],\n",
       " '_oh': {},\n",
       " '_dh': [WindowsPath('C:/ai/source/01_python')],\n",
       " 'In': ['', 'a=10\\nglobals()'],\n",
       " 'Out': {},\n",
       " 'get_ipython': <bound method InteractiveShell.get_ipython of <ipykernel.zmqshell.ZMQInteractiveShell object at 0x00000160E5313730>>,\n",
       " 'exit': <IPython.core.autocall.ZMQExitAutocall at 0x160e531fee0>,\n",
       " 'quit': <IPython.core.autocall.ZMQExitAutocall at 0x160e531fee0>,\n",
       " 'open': <function io.open(file, mode='r', buffering=-1, encoding=None, errors=None, newline=None, closefd=True, opener=None)>,\n",
       " '_': '',\n",
       " '__': '',\n",
       " '___': '',\n",
       " '_i': '',\n",
       " '_ii': '',\n",
       " '_iii': '',\n",
       " '_i1': 'a=10\\nglobals()',\n",
       " 'a': 10}"
      ]
     },
     "execution_count": 1,
     "metadata": {},
     "output_type": "execute_result"
    }
   ],
   "source": [
    "a=10\n",
    "globals() #전역변수리스트"
   ]
  },
  {
   "cell_type": "code",
   "execution_count": null,
   "id": "b67f9d07",
   "metadata": {},
   "outputs": [],
   "source": [
    "all() #모든 요소가 다 True 인지 여부"
   ]
  },
  {
   "cell_type": "code",
   "execution_count": null,
   "id": "bcdf2945",
   "metadata": {},
   "outputs": [],
   "source": []
  },
  {
   "cell_type": "code",
   "execution_count": null,
   "id": "6c7a7f95",
   "metadata": {},
   "outputs": [],
   "source": []
  },
  {
   "cell_type": "code",
   "execution_count": null,
   "id": "60d29a79",
   "metadata": {},
   "outputs": [],
   "source": []
  },
  {
   "cell_type": "code",
   "execution_count": null,
   "id": "9432f4f0",
   "metadata": {},
   "outputs": [],
   "source": []
  },
  {
   "cell_type": "code",
   "execution_count": null,
   "id": "a41db0e5",
   "metadata": {},
   "outputs": [],
   "source": []
  },
  {
   "cell_type": "code",
   "execution_count": null,
   "id": "e289d938",
   "metadata": {},
   "outputs": [],
   "source": []
  },
  {
   "cell_type": "markdown",
   "id": "07a1353a",
   "metadata": {},
   "source": [
    "# 6. 연습문제 \n",
    "실습형"
   ]
  },
  {
   "cell_type": "code",
   "execution_count": null,
   "id": "5bab87e6",
   "metadata": {},
   "outputs": [],
   "source": []
  },
  {
   "cell_type": "code",
   "execution_count": 43,
   "id": "58dcc920",
   "metadata": {},
   "outputs": [
    {
     "ename": "SyntaxError",
     "evalue": "invalid decimal literal (1209690892.py, line 1)",
     "output_type": "error",
     "traceback": [
      "\u001b[1;36m  Cell \u001b[1;32mIn[43], line 1\u001b[1;36m\u001b[0m\n\u001b[1;33m    1.함수의인자로 리스트를 받은 후 리스트 내에 있는 모든 정수값에 대한 최대값과 최소값을 리턴하는 함수를 작성하세요\u001b[0m\n\u001b[1;37m     ^\u001b[0m\n\u001b[1;31mSyntaxError\u001b[0m\u001b[1;31m:\u001b[0m invalid decimal literal\n"
     ]
    }
   ],
   "source": [
    "1.함수의인자로 리스트를 받은 후 리스트 내에 있는 모든 정수값에 대한 최대값과 최소값을 리턴하는 함수를 작성하세요\n",
    "•def get_max_min(data_list):\n",
    "•get_max_min= lambda ~"
   ]
  },
  {
   "cell_type": "code",
   "execution_count": 49,
   "id": "68dbfc41",
   "metadata": {},
   "outputs": [
    {
     "name": "stdout",
     "output_type": "stream",
     "text": [
      "표준\n"
     ]
    }
   ],
   "source": [
    "#2.체질량 지수(Body Mass Index, BMI)는 체중과 키를 이용해 비만도를 나타내는 지수로 아래의 수식에 의해 계산됩니다. 함수의 인자로 체중(kg)과 신장(m)를입력받은 후 BMI값에 따라 ‘마른 체형‘, ‘표준‘, ‘비만‘, ‘고도비만‘ 중 하나의 상태를 출력하는 함수를 구현해 보세요.\n",
    "#•getBMI(kg, m):\n",
    "#•BMI지수 = 체중(kg) / 신장(m)의 제곱\n",
    "#•BMI<18.5 : 마른체형\n",
    "#•18.5<=BMI<25 : 표준\n",
    "#•25<=BMI<30 : 비만\n",
    "#•BMI >=30 : 고도비만\n",
    "\n",
    "\n",
    "def bmi (height,weight):\n",
    "    bmi_calc = (weight)/(height**2)\n",
    "    if bmi_calc >=30:\n",
    "        print('고도비만')\n",
    "    elif 25<=bmi_calc<30:\n",
    "        print('비만')\n",
    "    elif 18.5<=bmi_calc<25:\n",
    "        print('표준')\n",
    "    else:\n",
    "        print('마른체형')\n"
   ]
  },
  {
   "cell_type": "code",
   "execution_count": 51,
   "id": "4c7cf52d",
   "metadata": {},
   "outputs": [],
   "source": [
    "#lambda height,weight :"
   ]
  },
  {
   "cell_type": "code",
   "execution_count": 62,
   "id": "4f8f58ec",
   "metadata": {},
   "outputs": [
    {
     "data": {
      "text/plain": [
       "(6.0, 12.0)"
      ]
     },
     "execution_count": 62,
     "metadata": {},
     "output_type": "execute_result"
    }
   ],
   "source": [
    "#3.직각삼각형의 밑변과 높이를 입력받은 후 삼각형의 면적과 둘레를 계산하는 함수를 작성하세요\n",
    "#• 리턴값은 면적과 둘레를 return하도록 구현하세요\n",
    "#• math.sqrt() : 제곱근을 구하는 함수이용 (ex)math.sqrt(25) : 5.0\n",
    "\n",
    "import math\n",
    "\n",
    "def get_triangle(width, height):\n",
    "    pythagorean = math.sqrt(width**2+height**2)\n",
    "    perimeter = width+height+pythagorean\n",
    "    area = (width*height)/2\n",
    "    return area,perimeter\n",
    "\n",
    "get_triangle(3,4)"
   ]
  },
  {
   "cell_type": "code",
   "execution_count": 73,
   "id": "e2f23e90",
   "metadata": {},
   "outputs": [
    {
     "data": {
      "text/plain": [
       "33"
      ]
     },
     "execution_count": 73,
     "metadata": {},
     "output_type": "execute_result"
    }
   ],
   "source": [
    "#4.함수의 인자로 시작과 끝 숫자가 주어질 때 시작부터 끝까지의 모든 정수값의 합을 리턴하는 함수를 작성하세요(시작값과 끝값 포함).\n",
    "\n",
    "\n",
    "def mysum(fRom,end):\n",
    "    sum = 0\n",
    "    for i in range(fRom,end+1):\n",
    "        sum += i\n",
    "    return sum\n",
    "\n",
    "mysum(10,12)"
   ]
  },
  {
   "cell_type": "code",
   "execution_count": 13,
   "id": "3ab65eaa",
   "metadata": {},
   "outputs": [
    {
     "name": "stdout",
     "output_type": "stream",
     "text": [
      "['seoul', 'Daegu']\n"
     ]
    }
   ],
   "source": [
    "#5.함수의인자로 문자열을 포함하는 리스트가 입력될 때 각 문자열의 첫 세글자로만 구성된 리스트를 리턴하는 함수와 람다식을 작성하세요\n",
    "#•예를 들어 함수의 입력으로 [‘Seoul’, ‘Daegu’, ‘Kwangju’, ‘Jeju’]가 입력될 때 함수의 리턴값은 [‘Seo’, ‘Dae’, ‘Kwa’,’Jej’]\n",
    "\n",
    "def get_abbrs(lst):\n",
    "    f\n",
    "    return lst[][:3]\n",
    "\n",
    "print(get_abbrs(['seoul','Daegu']))\n",
    "\n"
   ]
  },
  {
   "cell_type": "code",
   "execution_count": 23,
   "id": "48a99ec0",
   "metadata": {},
   "outputs": [
    {
     "name": "stdout",
     "output_type": "stream",
     "text": [
      "<function <lambda> at 0x00000160E7236170>\n"
     ]
    }
   ],
   "source": [
    "a = lambda lst : map([lst][:3])\n",
    "\n",
    "lst = (['seoul','Daegu'])\n",
    "\n",
    "print(a)\n"
   ]
  },
  {
   "cell_type": "code",
   "execution_count": null,
   "id": "5a191956",
   "metadata": {},
   "outputs": [],
   "source": []
  }
 ],
 "metadata": {
  "kernelspec": {
   "display_name": "Python 3 (ipykernel)",
   "language": "python",
   "name": "python3"
  },
  "language_info": {
   "codemirror_mode": {
    "name": "ipython",
    "version": 3
   },
   "file_extension": ".py",
   "mimetype": "text/x-python",
   "name": "python",
   "nbconvert_exporter": "python",
   "pygments_lexer": "ipython3",
   "version": "3.10.9"
  },
  "toc": {
   "base_numbering": 1,
   "nav_menu": {},
   "number_sections": false,
   "sideBar": true,
   "skip_h1_title": false,
   "title_cell": "Table of Contents",
   "title_sidebar": "Contents",
   "toc_cell": false,
   "toc_position": {
    "height": "calc(100% - 180px)",
    "left": "10px",
    "top": "150px",
    "width": "327.778px"
   },
   "toc_section_display": true,
   "toc_window_display": true
  }
 },
 "nbformat": 4,
 "nbformat_minor": 5
}
