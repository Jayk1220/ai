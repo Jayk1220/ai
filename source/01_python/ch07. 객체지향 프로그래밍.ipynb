{
 "cells": [
  {
   "cell_type": "code",
   "execution_count": 8,
   "id": "edce99ef",
   "metadata": {},
   "outputs": [
    {
     "data": {
      "text/html": [
       "\n",
       "<style>\n",
       "div.container{width:90% !important;}\n",
       "div.cell.code_cell.rendered{width:100%;}\n",
       "div.input_prompt{padding:0px;}\n",
       "div.CodeMirror{font-family:Consolas; font-size:15pt;}\n",
       "div.text_cell_render.rendered_html{font-size:15pt;}\n",
       "div.output{font-size:12pt; font-weight:bold;}\n",
       "div.input{font-family:Consolas; font-size:15pt;}\n",
       "div.prompt{min-width:70px;}\n",
       "div#toc-wrapper{padding-top:120px;}\n",
       "div.text_cell_renderulli{font-size:12pt;padding:5px;}\n",
       "table.dataframe{font-size:12px;}\n",
       "</style>\n"
      ],
      "text/plain": [
       "<IPython.core.display.HTML object>"
      ]
     },
     "metadata": {},
     "output_type": "display_data"
    }
   ],
   "source": [
    "from IPython.display import display, HTML\n",
    "display(HTML(\"\"\"\n",
    "<style>\n",
    "div.container{width:90% !important;}\n",
    "div.cell.code_cell.rendered{width:100%;}\n",
    "div.input_prompt{padding:0px;}\n",
    "div.CodeMirror{font-family:Consolas; font-size:15pt;}\n",
    "div.text_cell_render.rendered_html{font-size:15pt;}\n",
    "div.output{font-size:12pt; font-weight:bold;}\n",
    "div.input{font-family:Consolas; font-size:15pt;}\n",
    "div.prompt{min-width:70px;}\n",
    "div#toc-wrapper{padding-top:120px;}\n",
    "div.text_cell_renderulli{font-size:12pt;padding:5px;}\n",
    "table.dataframe{font-size:12px;}\n",
    "</style>\n",
    "\"\"\"))"
   ]
  },
  {
   "cell_type": "markdown",
   "id": "ff2a326e",
   "metadata": {},
   "source": [
    "<b><font size=\"6\" color=\"red\">ch07. 객체지향 프로그래밍</font></b>"
   ]
  },
  {
   "cell_type": "code",
   "execution_count": 9,
   "id": "21bf4ed6",
   "metadata": {},
   "outputs": [
    {
     "name": "stdout",
     "output_type": "stream",
     "text": [
      "홍길동 남\n",
      "{'name': '김길동', 'gender': '남', 'academy': 'MBC'}\n",
      "{'name': 'ABC', 'gender': '여', 'academy': 'MBC'}\n"
     ]
    }
   ],
   "source": [
    "person1 = {'name':'홍길동', 'gender':'남', 'academy':'MBC'}\n",
    "person2 = {'name':'ABC', 'gender':'여', 'academy':'MBC'}\n",
    "print(person1['name'], person1.get('gender'))\n",
    "person1['name'] = '김길동'\n",
    "print(person1)\n",
    "print(person2)\n",
    "#person1.my_fuction()"
   ]
  },
  {
   "cell_type": "code",
   "execution_count": 20,
   "id": "0ec2a610",
   "metadata": {},
   "outputs": [
    {
     "name": "stdout",
     "output_type": "stream",
     "text": [
      "MBC의 김길숙님은 여자입니다\n",
      "MBC의 홍길동님은 남자입니다\n"
     ]
    }
   ],
   "source": [
    "class Person:\n",
    "    academy = 'MBC' #클래스변수\n",
    "    def __init__(self,name,gender): #생성자 함수\n",
    "        self.name = name\n",
    "        self.gender = gender \n",
    "    def print_info(self):\n",
    "        print(\"{}의 {}님은 {}입니다\".format(self.academy,self.name, self.gender)) #self.academy or person.academy\n",
    "p1 = Person(\"김길숙\",\"여자\") #객체변수 (인스턴스)\n",
    "p1.print_info()\n",
    "p2 = Person('홍길동','남자')\n",
    "p2.print_info()"
   ]
  },
  {
   "cell_type": "code",
   "execution_count": 21,
   "id": "f7c5c14f",
   "metadata": {},
   "outputs": [
    {
     "name": "stdout",
     "output_type": "stream",
     "text": [
      "SBS의 홍길동님은 남자입니다\n",
      "MBC의 김길숙님은 여자입니다\n"
     ]
    }
   ],
   "source": [
    "p2.academy = 'SBS'\n",
    "p2.print_info()\n",
    "p1.print_info()"
   ]
  },
  {
   "cell_type": "code",
   "execution_count": null,
   "id": "31576c07",
   "metadata": {},
   "outputs": [],
   "source": []
  },
  {
   "cell_type": "markdown",
   "id": "48340652",
   "metadata": {},
   "source": [
    "# 1. 객체와 클래스\n",
    "\n",
    "```\n",
    "class 클래스명(상속받을 클래스명): \n",
    "    \"독스트링\"\n",
    "```"
   ]
  },
  {
   "cell_type": "code",
   "execution_count": 1,
   "id": "3cef54f8",
   "metadata": {},
   "outputs": [
    {
     "data": {
      "text/plain": [
       "__main__.Person"
      ]
     },
     "execution_count": 1,
     "metadata": {},
     "output_type": "execute_result"
    }
   ],
   "source": [
    "class Person (): \n",
    "    \"\"\"\n",
    "    Person Class is blah blah blah  docstring\n",
    "    \"\"\"\n",
    "    pass\n",
    "#    def __init__ (self,name):\n",
    "#        self.name = name\n",
    "p1 = Person()\n",
    "type(p1)"
   ]
  },
  {
   "cell_type": "code",
   "execution_count": 2,
   "id": "6ed41f95",
   "metadata": {},
   "outputs": [
    {
     "name": "stdout",
     "output_type": "stream",
     "text": [
      "<__main__.Person object at 0x000002747072FBB0>\n",
      "<__main__.Person object at 0x000002747072FBB0>\n"
     ]
    }
   ],
   "source": [
    "print(p1)\n",
    "print(p1.__str__())"
   ]
  },
  {
   "cell_type": "code",
   "execution_count": 3,
   "id": "07c526ea",
   "metadata": {},
   "outputs": [
    {
     "data": {
      "text/plain": [
       "True"
      ]
     },
     "execution_count": 3,
     "metadata": {},
     "output_type": "execute_result"
    }
   ],
   "source": [
    "isinstance(p1,Person)"
   ]
  },
  {
   "cell_type": "code",
   "execution_count": 4,
   "id": "f4de6c86",
   "metadata": {},
   "outputs": [
    {
     "data": {
      "text/plain": [
       "'\\n    Person Class is blah blah blah  docstring\\n    '"
      ]
     },
     "execution_count": 4,
     "metadata": {},
     "output_type": "execute_result"
    }
   ],
   "source": [
    "p1.__doc__"
   ]
  },
  {
   "cell_type": "code",
   "execution_count": null,
   "id": "3297bb59",
   "metadata": {},
   "outputs": [],
   "source": []
  },
  {
   "cell_type": "code",
   "execution_count": null,
   "id": "c8444833",
   "metadata": {},
   "outputs": [],
   "source": []
  },
  {
   "cell_type": "markdown",
   "id": "f794d30b",
   "metadata": {},
   "source": [
    "# 2. 생성자(`__init__()`)와 소멸자 (`__del__()`)\n",
    " - 생성자 : `__init__ (self,[매개변수],[매개변수2...])` 객체가 생성될 때 자동 실행\n",
    "           생성 시 필요한 코드(인스턴스 변수 생성과 초기화) 포함\n",
    " - 소멸자 : `__del__(self)`  객체가 소멸 시 자동 실행\n",
    "           객체 소멸시 필요한 코드를 포함\n",
    "           인스턴스(객체)의 레퍼런스 카운트가 0이 될 때 실행"
   ]
  },
  {
   "cell_type": "code",
   "execution_count": 1,
   "id": "0a5e1321",
   "metadata": {},
   "outputs": [],
   "source": [
    "class Person:\n",
    "    def __init__(self,name,gender):\n",
    "        self.name = name # 인스턴스 변수를 초기화\n",
    "        self.gender = gender\n",
    "        print('person형 객체를 생성')\n",
    "    \n",
    "    def __del__(self):\n",
    "        print('person형 객체 소멸')\n",
    "    \n",
    "    def print_info(self):\n",
    "        print(\"{}님은 {}입니다.\".format(self.name,self.gender))\n",
    "    \n",
    "    def __str__(self): #오버라이딩 (함수를 재정의)\n",
    "        return \"{}님은 {}입니다\".format(self.name,self.gender)"
   ]
  },
  {
   "cell_type": "code",
   "execution_count": 2,
   "id": "81314c09",
   "metadata": {},
   "outputs": [
    {
     "name": "stdout",
     "output_type": "stream",
     "text": [
      "person형 객체를 생성\n",
      "신사임당님은 여자입니다.\n"
     ]
    }
   ],
   "source": [
    "p1 = Person(\"신사임당\",'여자')\n",
    "p1.print_info()"
   ]
  },
  {
   "cell_type": "code",
   "execution_count": 3,
   "id": "d5d17a5e",
   "metadata": {},
   "outputs": [
    {
     "data": {
      "text/plain": [
       "'여자'"
      ]
     },
     "execution_count": 3,
     "metadata": {},
     "output_type": "execute_result"
    }
   ],
   "source": [
    "p1.gender"
   ]
  },
  {
   "cell_type": "code",
   "execution_count": 4,
   "id": "552ff27a",
   "metadata": {},
   "outputs": [
    {
     "name": "stdout",
     "output_type": "stream",
     "text": [
      "신사임당님은 여자입니다\n",
      "신사임당님은 여자입니다\n"
     ]
    }
   ],
   "source": [
    "print(p1)\n",
    "print(p1.__str__())"
   ]
  },
  {
   "cell_type": "code",
   "execution_count": 5,
   "id": "fe8af029",
   "metadata": {},
   "outputs": [
    {
     "data": {
      "text/plain": [
       "(__main__.Person, True)"
      ]
     },
     "execution_count": 5,
     "metadata": {},
     "output_type": "execute_result"
    }
   ],
   "source": [
    "type(p1), isinstance(p1,Person)"
   ]
  },
  {
   "cell_type": "code",
   "execution_count": 6,
   "id": "4184a321",
   "metadata": {},
   "outputs": [
    {
     "name": "stdout",
     "output_type": "stream",
     "text": [
      "person형 객체 소멸\n"
     ]
    }
   ],
   "source": [
    "del p1"
   ]
  },
  {
   "cell_type": "code",
   "execution_count": 12,
   "id": "53ce253d",
   "metadata": {},
   "outputs": [
    {
     "name": "stdout",
     "output_type": "stream",
     "text": [
      "person형 객체를 생성\n",
      "person형 객체 소멸\n"
     ]
    }
   ],
   "source": [
    "p2 = Person(None,'남자')\n",
    "p3 = p2"
   ]
  },
  {
   "cell_type": "code",
   "execution_count": 15,
   "id": "1daf4cae",
   "metadata": {},
   "outputs": [
    {
     "name": "stdout",
     "output_type": "stream",
     "text": [
      "person형 객체 소멸\n"
     ]
    }
   ],
   "source": [
    "del p2"
   ]
  },
  {
   "cell_type": "markdown",
   "id": "e9b17d0d",
   "metadata": {},
   "source": [
    "- **오버라이딩** (함수의 재정의)\n",
    "- 파이썬은 **오버로딩**   (함수의 중복정의) 불가\n",
    "- 생성자함수 **오버로딩** 불가"
   ]
  },
  {
   "cell_type": "code",
   "execution_count": 4,
   "id": "343a678b",
   "metadata": {},
   "outputs": [],
   "source": [
    "class Person:\n",
    "    # 생성자 함수의 오버로딩 불가. 대신 기본값을 갖는 매개변수 이용\n",
    "    def __init__(self,name='홍길동',gender='남자'):\n",
    "        self.name = name # 인스턴스 변수를 초기화\n",
    "        self.gender = gender\n",
    "        print('person형 객체를 생성')\n",
    "#     def __init__(self,name):\n",
    "#         self.name = name\n",
    "#         self.gender = \"남자\"\n",
    "#     def __del__(self):\n",
    "#         print('person형 객체 소멸')\n",
    "    \n",
    "    def print_info(self):\n",
    "        print(\"{}님은 {}입니다.\".format(self.name,self.gender))\n",
    "    \n",
    "    def __str__(self): #오버라이딩 (함수를 재정의)\n",
    "        return \"{}님은 {}입니다\".format(self.name,self.gender)"
   ]
  },
  {
   "cell_type": "code",
   "execution_count": 5,
   "id": "6f8bea2a",
   "metadata": {},
   "outputs": [
    {
     "name": "stdout",
     "output_type": "stream",
     "text": [
      "person형 객체를 생성\n",
      "person형 객체를 생성\n",
      "person형 객체를 생성\n",
      "person형 객체를 생성\n",
      "person형 객체를 생성\n",
      "홍길동님은 남자입니다\n",
      "김길동님은 여자입니다\n",
      "강감찬님은 남자입니다\n",
      "홍길동님은 남자입니다\n",
      "홍길동님은 여자입니다\n"
     ]
    }
   ],
   "source": [
    "p1 = Person(name='홍길동',gender = '남자')\n",
    "p2 = Person(gender = '여자', name='김길동')\n",
    "p3 = Person('강감찬')\n",
    "p4 = Person()\n",
    "p5 = Person(gender = \"여자\")\n",
    "print(p1)\n",
    "print(p2)\n",
    "print(p3)\n",
    "print(p4)\n",
    "print(p5)"
   ]
  },
  {
   "cell_type": "markdown",
   "id": "1f0b83bf",
   "metadata": {},
   "source": [
    "# 3. 변수와 함수(메소드)\n",
    " - 인스턴스 변수 vs 클래스변수 vs static 변수 (정적변수)\n",
    " - 인스턴스 메소드(self) vs 클래스메소드 (cls) vs static메소드()"
   ]
  },
  {
   "cell_type": "code",
   "execution_count": 47,
   "id": "95262f05",
   "metadata": {},
   "outputs": [
    {
     "name": "stdout",
     "output_type": "stream",
     "text": [
      "MBC\n",
      "p1객체변수 (인스턴스) =  MBC의 홍길동님은 남자입니다\n",
      "p2객체변수 (인스턴스) =  MBC의 홍길동님은 남자입니다\n",
      "p1객체변수 (인스턴스) =  SBS의 홍길동님은 남자입니다\n",
      "p2객체변수 (인스턴스) =  다른데의 홍길동님은 남자입니다\n"
     ]
    }
   ],
   "source": [
    "#클래스변수는 클래스 내부에 선언되며, 생성된 모든 인스턴스(객체)에 동일한 값을 가진다\n",
    "#인스턴스(객체).클래스변수로 수정하면 해당 인스턴스(객체)만 반영\n",
    "#클래스명.클래스변수로 수정하면 모든 인스턴스에 반영\n",
    "class Person:\n",
    "    academy = 'MBC' #클래스변수\n",
    "    def __init__(self,name='홍길동',gender='남자'): #생성자 함수\n",
    "        self.name = name\n",
    "        self.gender = gender \n",
    "    def __str__(self):\n",
    "        return \"{}의 {}님은 {}입니다\".format(self.academy,self.name, self.gender) #self.academy or person.academy\n",
    "\n",
    "print(Person.academy)\n",
    "# print(Person.name) 에러남\n",
    "\n",
    "p1 = Person()\n",
    "p2 = Person()\n",
    "print('p1객체변수 (인스턴스) = ', p1)\n",
    "print('p2객체변수 (인스턴스) = ', p2)\n",
    "p1.academy = 'SBS' #인스턴스(객체).클래스변수로 수정하면 해당 인스턴스(객체)만 반영\n",
    "Person.academy = '다른데'\n",
    "print('p1객체변수 (인스턴스) = ', p1)\n",
    "print('p2객체변수 (인스턴스) = ', p2)\n"
   ]
  },
  {
   "cell_type": "code",
   "execution_count": null,
   "id": "e07efb3a",
   "metadata": {},
   "outputs": [],
   "source": []
  },
  {
   "cell_type": "markdown",
   "id": "4d0d6df4",
   "metadata": {},
   "source": [
    "※ 인스턴스 메소드 vs 클래스 메소드 vs static 메소드\n",
    " - 인스턴스 메소드 : 첫번째 인자에 self를 명시. 객체를 통해서만 호출 가능\n",
    " - 클래스 메소드 : 메소드 위에 @classmethod 를 명시. 첫번째 인자에 clz(cls) 를 명시  \n",
    " - static 메소드 : 메소드 위에 @staticmethod 명시 디폴트 인자가 없음"
   ]
  },
  {
   "cell_type": "code",
   "execution_count": 48,
   "id": "8f2eef72",
   "metadata": {},
   "outputs": [],
   "source": [
    "class Person:\n",
    "    academy = 'MBC' #클래스변수\n",
    "    def __init__(self,name='홍길동', gender = '남자'):\n",
    "        self.name = name\n",
    "        self.gender = gender\n",
    "    def print_info(self): #인스턴스메소드 : 객체변수. print_info()로 호출\n",
    "        print('일반(인스턴스)메소드 - {}의 {}님은 {}입니다'.format(self.academy,\n",
    "                                                        self.name,\n",
    "                                                        self.gender))\n",
    "    def change_info(self,name = '익명',gender ='여자'):\n",
    "        self.name = name\n",
    "        self.gender = gender\n",
    "        print('일반(인스턴스)메소드를 통해 {}로 이름 변경, {}로 성별 변경'.format(self.name,\n",
    "                                                            self.gender))\n",
    "    @classmethod\n",
    "    def do_(clz): # clz = Person의 의미. 클래스 변수를 이용한 로직\n",
    "        clz.academy = 'classAcademy'\n",
    "        print(\"클래스 메소드에서 {}로 클래스변수 변경\".format(clz.academy))\n",
    "        \n",
    "    @classmethod\n",
    "    def done_(clz,academy): # clz = Person의 의미. 클래스 변수를 이용한 로직\n",
    "        clz.academy = academy\n",
    "        print(\"클래스 메소드에서 {}로 클래스변수 변경\".format(clz.academy))\n",
    "    @staticmethod\n",
    "    def that_(): #클래스변수보다는 로직이 우선인 경우\n",
    "        Person.academy = \"staticAcademy\"\n",
    "        print(\"static메소드에서 {}로 클래스변수 변경\".format(Person.academy))"
   ]
  },
  {
   "cell_type": "code",
   "execution_count": 49,
   "id": "7583ed92",
   "metadata": {},
   "outputs": [
    {
     "name": "stdout",
     "output_type": "stream",
     "text": [
      "일반(인스턴스)메소드 - MBC의 홍길동님은 남자입니다\n"
     ]
    }
   ],
   "source": [
    "p1 = Person()\n",
    "p1.print_info()"
   ]
  },
  {
   "cell_type": "code",
   "execution_count": 50,
   "id": "762ee9df",
   "metadata": {},
   "outputs": [
    {
     "name": "stdout",
     "output_type": "stream",
     "text": [
      "static메소드에서 staticAcademy로 클래스변수 변경\n",
      "일반(인스턴스)메소드 - staticAcademy의 홍길동님은 남자입니다\n"
     ]
    }
   ],
   "source": [
    "Person.that_()\n",
    "p1.print_info()"
   ]
  },
  {
   "cell_type": "code",
   "execution_count": 54,
   "id": "0a2f52be",
   "metadata": {},
   "outputs": [
    {
     "name": "stdout",
     "output_type": "stream",
     "text": [
      "일반(인스턴스)메소드를 통해 익명로 이름 변경, 여자로 성별 변경\n",
      "일반(인스턴스)메소드 - staticAcademy의 익명님은 여자입니다\n"
     ]
    }
   ],
   "source": [
    "p1.change_info()\n",
    "p1.print_info()"
   ]
  },
  {
   "cell_type": "code",
   "execution_count": 55,
   "id": "bc54e26b",
   "metadata": {},
   "outputs": [
    {
     "name": "stdout",
     "output_type": "stream",
     "text": [
      "일반(인스턴스)메소드 - staticAcademy의 홍길동님은 남자입니다\n"
     ]
    }
   ],
   "source": [
    "p2 = Person()\n",
    "p2.print_info()"
   ]
  },
  {
   "cell_type": "code",
   "execution_count": 56,
   "id": "0c07f8c0",
   "metadata": {},
   "outputs": [
    {
     "name": "stdout",
     "output_type": "stream",
     "text": [
      "클래스 메소드에서 classAcademy로 클래스변수 변경\n",
      "일반(인스턴스)메소드 - classAcademy의 익명님은 여자입니다\n",
      "일반(인스턴스)메소드 - classAcademy의 홍길동님은 남자입니다\n"
     ]
    }
   ],
   "source": [
    "Person.do_()\n",
    "p1.print_info()\n",
    "p2.print_info()"
   ]
  },
  {
   "cell_type": "code",
   "execution_count": 60,
   "id": "55920b2e",
   "metadata": {},
   "outputs": [
    {
     "name": "stdout",
     "output_type": "stream",
     "text": [
      "클래스 메소드에서 SBS로 클래스변수 변경\n"
     ]
    }
   ],
   "source": [
    "Person.done_(\"SBS\")"
   ]
  },
  {
   "cell_type": "code",
   "execution_count": 58,
   "id": "97471a68",
   "metadata": {},
   "outputs": [
    {
     "name": "stdout",
     "output_type": "stream",
     "text": [
      "클래스 메소드에서 classAcademy로 클래스변수 변경\n"
     ]
    }
   ],
   "source": []
  },
  {
   "cell_type": "code",
   "execution_count": null,
   "id": "f535f9f1",
   "metadata": {},
   "outputs": [],
   "source": []
  },
  {
   "cell_type": "markdown",
   "id": "c6743039",
   "metadata": {},
   "source": [
    " # 4. 상속과 재정의\n",
    " - 클래스 재사용\n",
    " - 상속을 이용하면 부모 클래스의 모든 속성을 자식 클래스로 물려주기 가능\n",
    " \n",
    " ```\n",
    " class 자식클래스명 (부모클래스명):\n",
    " ```  "
   ]
  },
  {
   "cell_type": "code",
   "execution_count": 1,
   "id": "11534a6b",
   "metadata": {},
   "outputs": [],
   "source": [
    "class Person:\n",
    "    def __init__(self,name,gender):\n",
    "        self.name = name # 인스턴스 변수를 초기화\n",
    "        self.gender = gender\n",
    "        print('Person 객체 생성 (부모클래스)')\n",
    "    \n",
    "    def print_info(self):\n",
    "        print(self.__str__())\n",
    "    \n",
    "    def __str__(self): #오버라이딩 (함수를 재정의)\n",
    "        return \"{}님은 {}입니다\".format(self.name,self.gender)"
   ]
  },
  {
   "cell_type": "code",
   "execution_count": 2,
   "id": "cf6aea49",
   "metadata": {},
   "outputs": [],
   "source": [
    "class Student(Person): #Person 의 __init__을 제외한 나머지 전부 받음\n",
    "    def __init__(self, name, gender, major):\n",
    "        super().__init__(name,gender)\n",
    "        self.major = major\n",
    "#         self.name = name\n",
    "#         self.gender = gender\n",
    "#         self.major = major\n",
    "        print('Student 객체 생성 합니다(자식클래스)')\n",
    "    #재정의(override): 부모클래스에서 정의한 함수를 자식클래스에서 다시 정의\n",
    "    def __str__(self):\n",
    "        return super().__str__() + '전공은 {} 입니다'.format(self.major)\n",
    "#         return \"{}님은 {}입니다. 전공은 {}입니다\".format(self.name,\n",
    "#                                               self.gender,\n",
    "#                                               self.major)\n"
   ]
  },
  {
   "cell_type": "code",
   "execution_count": 3,
   "id": "31cd21cd",
   "metadata": {},
   "outputs": [
    {
     "ename": "SyntaxError",
     "evalue": "incomplete input (2861611850.py, line 3)",
     "output_type": "error",
     "traceback": [
      "\u001b[1;36m  Cell \u001b[1;32mIn[3], line 3\u001b[1;36m\u001b[0m\n\u001b[1;33m    print(isinstance(p1, Person)\u001b[0m\n\u001b[1;37m                                ^\u001b[0m\n\u001b[1;31mSyntaxError\u001b[0m\u001b[1;31m:\u001b[0m incomplete input\n"
     ]
    }
   ],
   "source": [
    "p1 = Person('홍길동','남자')\n",
    "print(p1)\n",
    "print(isinstance(p1, Person)"
   ]
  },
  {
   "cell_type": "code",
   "execution_count": 4,
   "id": "9954cc8b",
   "metadata": {},
   "outputs": [
    {
     "name": "stdout",
     "output_type": "stream",
     "text": [
      "Person 객체 생성 (부모클래스)\n",
      "Student 객체 생성 합니다(자식클래스)\n",
      "홍길숙님은 여성입니다전공은 A 입니다\n"
     ]
    }
   ],
   "source": [
    "s1 = Student(\"홍길숙\",\"여성\",\"A\")\n",
    "print(s1)"
   ]
  },
  {
   "cell_type": "code",
   "execution_count": 5,
   "id": "14c8c46f",
   "metadata": {},
   "outputs": [
    {
     "name": "stdout",
     "output_type": "stream",
     "text": [
      "홍길숙님은 여성입니다전공은 A 입니다\n",
      "True\n",
      "True\n"
     ]
    }
   ],
   "source": [
    "print(s1)\n",
    "print(isinstance(s1,Person))\n",
    "print(isinstance(s1,Student))"
   ]
  },
  {
   "cell_type": "code",
   "execution_count": 6,
   "id": "da4be322",
   "metadata": {},
   "outputs": [
    {
     "ename": "NameError",
     "evalue": "name 'p1' is not defined",
     "output_type": "error",
     "traceback": [
      "\u001b[1;31m---------------------------------------------------------------------------\u001b[0m",
      "\u001b[1;31mNameError\u001b[0m                                 Traceback (most recent call last)",
      "Cell \u001b[1;32mIn[6], line 1\u001b[0m\n\u001b[1;32m----> 1\u001b[0m \u001b[38;5;28mprint\u001b[39m(\u001b[43mp1\u001b[49m)\n\u001b[0;32m      2\u001b[0m \u001b[38;5;28mprint\u001b[39m(\u001b[38;5;28misinstance\u001b[39m(p1,Person))\n\u001b[0;32m      3\u001b[0m \u001b[38;5;28mprint\u001b[39m(\u001b[38;5;28misinstance\u001b[39m(p1,Student))\n",
      "\u001b[1;31mNameError\u001b[0m: name 'p1' is not defined"
     ]
    }
   ],
   "source": [
    "print(p1)\n",
    "print(isinstance(p1,Person))\n",
    "print(isinstance(p1,Student))"
   ]
  },
  {
   "cell_type": "code",
   "execution_count": 7,
   "id": "aa0f6cf9",
   "metadata": {},
   "outputs": [
    {
     "name": "stdout",
     "output_type": "stream",
     "text": [
      "홍길숙님은 여성입니다전공은 A 입니다\n"
     ]
    }
   ],
   "source": [
    "s1.print_info()"
   ]
  },
  {
   "cell_type": "markdown",
   "id": "a83f4e41",
   "metadata": {},
   "source": [
    "### static 변수 (정적변수): 여러 객체들 사이에 데이터를 공유하고 싶을 때 사용\n",
    " - static 변수 : 앞에 __(언더스코어 두 개)를 붙임. `클래스명._(1개)클래스명__(2개)static변수명`으로 참조 \n",
    " static 변수는 클래스 내부에서만 접근하도록 하려는 용도"
   ]
  },
  {
   "cell_type": "code",
   "execution_count": 8,
   "id": "a7f884cf",
   "metadata": {},
   "outputs": [],
   "source": [
    "class Student(Person):\n",
    "    'name, gender에 major 변수를 갖는 Student 타입. Student 객체를 몇번 생성되어있는지 공유'\n",
    "    __count = 0 #static 변수\n",
    "    def __init__(self,name,gender,major):\n",
    "        super().__init__(name,gender)\n",
    "        self.major = major\n",
    "        Student._Student__count +=1 #객체가 생성될 때 마다 _Count 1 증가\n",
    "    def __del__(self):\n",
    "        Student._Student__count -=1 #객체가 소멸될 때 마다 _count 1 감소\n",
    "    def __str__(self):\n",
    "        return super().__str__() + ', 전공은 {} - 객체 {} 생성'.format(self.major,\n",
    "                                                               Student._Student__count)\n",
    "    @classmethod\n",
    "    def get_count(cls): #클래스 변수나 static 변수를 이용하는 로직일 때 \n",
    "        return cls.__count\n",
    " #       return Student._Student__count\n",
    "        "
   ]
  },
  {
   "cell_type": "code",
   "execution_count": 19,
   "id": "57a9fb94",
   "metadata": {},
   "outputs": [
    {
     "name": "stdout",
     "output_type": "stream",
     "text": [
      "Person 객체 생성 (부모클래스)\n",
      "홍길동님은 남자입니다, 전공은 컴공 - 객체 1 생성\n",
      "객체 갯수:  1\n"
     ]
    }
   ],
   "source": [
    "s1 = Student(\"홍길동\",\"남자\",\"컴공\")\n",
    "print(s1)\n",
    "print('객체 갯수: ', Student.get_count())"
   ]
  },
  {
   "cell_type": "code",
   "execution_count": 16,
   "id": "cdfe5567",
   "metadata": {},
   "outputs": [
    {
     "name": "stdout",
     "output_type": "stream",
     "text": [
      "Person 객체 생성 (부모클래스)\n",
      "abc님은 ㄱㄴㄷ입니다, 전공은 xyz - 객체 2 생성\n",
      "객체 갯수:  2\n"
     ]
    }
   ],
   "source": [
    "s2 = Student('abc','ㄱㄴㄷ','xyz')\n",
    "print(s2)\n",
    "print('객체 갯수: ', Student.get_count())"
   ]
  },
  {
   "cell_type": "code",
   "execution_count": 17,
   "id": "7e19de08",
   "metadata": {},
   "outputs": [
    {
     "name": "stdout",
     "output_type": "stream",
     "text": [
      "객체 갯수:  1\n"
     ]
    }
   ],
   "source": [
    "del s1\n",
    "print('객체 갯수: ', Student.get_count())"
   ]
  },
  {
   "cell_type": "code",
   "execution_count": 18,
   "id": "1d8fe5cb",
   "metadata": {},
   "outputs": [
    {
     "name": "stdout",
     "output_type": "stream",
     "text": [
      "객체 갯수:  0\n"
     ]
    }
   ],
   "source": [
    "del s2\n",
    "print('객체 갯수: ', Student.get_count())"
   ]
  },
  {
   "cell_type": "code",
   "execution_count": null,
   "id": "6d180f21",
   "metadata": {},
   "outputs": [],
   "source": []
  },
  {
   "cell_type": "markdown",
   "id": "672411d4",
   "metadata": {},
   "source": [
    "### super() 이용\n",
    " - super() : '부모클래스의' 를 의미"
   ]
  },
  {
   "cell_type": "code",
   "execution_count": null,
   "id": "d5ef9022",
   "metadata": {},
   "outputs": [],
   "source": []
  },
  {
   "cell_type": "code",
   "execution_count": 96,
   "id": "5ad51eaa",
   "metadata": {},
   "outputs": [],
   "source": [
    "# 1.다음 조건을 만족하는 클래스를 작성하세요\n",
    "# 도형 (Shape) 클래스와 삼각형 (Triangle) 클래스를 만들어야 합니다\n",
    "# 도형 (Shape) 클래스\n",
    "# •생성자를 통해 x, y 좌표를 초기화할 수 있습니다 . x, y 좌표의 기본값은 0, 0 입니다\n",
    "# •x, y 좌표를 이동시킬 수 있는 move 함수가 있습니다\n",
    "# •x, y 좌표값 정보를 문자열로 리턴하는 str __ 함수가 있습니다\n",
    "# •도형의 면적을 구하는 함수 calc_area 가 있습니다 . 다만 도형 클래스의 calc_area 는 구현되어 있지 않아 호출하면 오류가 발생합니다 파이썬은 추상메소드가 없음 추상메소드 역할을 구현\n",
    "# •정적메소드 staticmethod 를 하나 이상 구현합니다\n",
    "# 삼각형 ( 클래스는 도형 ( 클래스이다 관계가 성립해야 합니다\n",
    "# 생성자를 통해 , width, height, x, y 좌표를 초기화하고 x, y 좌표의 기본값은 0, 0 입니다\n",
    "# 삼각형의 면적을 구하는 메소드 calc_area 를 재정의합니다\n",
    "# 삼각형의 정보를 문자열로 반환하는 str __() 함수가 있습니다\n",
    "# 삼각형 객체가 몇 개가 만들어져 있는지 정보를 저장하는 클래스 변수를 추가하고 생성자에서 객체를 만들 때마다 증가시키고 소멸자에서 객체를 소멸시킬 때마다 감소합니다"
   ]
  },
  {
   "cell_type": "code",
   "execution_count": 1,
   "id": "40379064",
   "metadata": {},
   "outputs": [],
   "source": [
    "class Shape:\n",
    "    def __init__(self, x=0, y=0):\n",
    "        self.x = x\n",
    "        self.y =y\n",
    "        print('shape 객체 생성')\n",
    "        \n",
    "    def move (self,x=0,y=0):\n",
    "        self.x += x\n",
    "        self.y += y\n",
    "\n",
    "    def calc_area (self): \n",
    "        raise Exception (\"예외메세지\")\n",
    "    \n",
    "    @staticmethod\n",
    "    def staticmethod_():\n",
    "        print(\"도형클래스의 staticmethod 호출\")\n",
    "    \n",
    "    def print_info(self):\n",
    "        return self.__str__()\n",
    "        \n",
    "    def __str__ (self):\n",
    "        return \"x coordinate : {}, y coordinate : {}\".format(self.x,self.y)\n",
    "\n",
    "        \n",
    "\n",
    "    "
   ]
  },
  {
   "cell_type": "code",
   "execution_count": 2,
   "id": "ec990c2b",
   "metadata": {},
   "outputs": [
    {
     "name": "stdout",
     "output_type": "stream",
     "text": [
      "shape 객체 생성\n",
      "x coordinate : 1, y coordinate : 2\n",
      "x coordinate : 3, y coordinate : 5\n"
     ]
    }
   ],
   "source": [
    "s1 = Shape(1,2)\n",
    "print(s1.print_info())\n",
    "s1.move(2,3)\n",
    "print(s1.print_info())"
   ]
  },
  {
   "cell_type": "code",
   "execution_count": 3,
   "id": "8a189aff",
   "metadata": {},
   "outputs": [],
   "source": [
    "class Triangle(Shape):\n",
    "    __count = 0\n",
    "    def __init__(self,x=0,y=0,width=0,height=0):\n",
    "        super().__init__(x,y)\n",
    "        self.width = width\n",
    "        self.height = height\n",
    "        print('Triangle 객체 생성')\n",
    "        Triangle._Triangle__count += 1\n",
    "        \n",
    "    def __del__(self):\n",
    "        Triangle._Triangle__count -= 1\n",
    " \n",
    "    \n",
    "    def calc_area(self):\n",
    "        return (self.width*self.height)/2\n",
    "    \n",
    "    def print_info(self):\n",
    "        return self.__str__()\n",
    "        \n",
    "    def __str__ (self):\n",
    "        return \"x coordinate : {}\\ny coordinate : {}\\n width: {}\\n height: {}\\narea : {},\\nTriangle amount: {} \".format(self.x,self.y,self.width,self.height,self.calc_area(),Triangle._Triangle__count)\n",
    "    \n",
    "    @classmethod\n",
    "    def get__count(cls):\n",
    "        return cls.__count"
   ]
  },
  {
   "cell_type": "code",
   "execution_count": 4,
   "id": "ad3ab7de",
   "metadata": {},
   "outputs": [
    {
     "name": "stdout",
     "output_type": "stream",
     "text": [
      "shape 객체 생성\n",
      "Triangle 객체 생성\n",
      "x coordinate : 0\n",
      "y coordinate : 0\n",
      " width: 2\n",
      " height: 3\n",
      "area : 3.0,\n",
      "Triangle amount: 1 \n"
     ]
    }
   ],
   "source": [
    "t1 = Triangle(0,0,2,3)\n",
    "t1.calc_area()\n",
    "print(t1.print_info())"
   ]
  },
  {
   "cell_type": "code",
   "execution_count": 5,
   "id": "f43407ca",
   "metadata": {},
   "outputs": [
    {
     "name": "stdout",
     "output_type": "stream",
     "text": [
      "shape 객체 생성\n",
      "Triangle 객체 생성\n",
      "x coordinate : 3\n",
      "y coordinate : 4\n",
      " width: 5\n",
      " height: 6\n",
      "area : 15.0,\n",
      "Triangle amount: 2 \n"
     ]
    }
   ],
   "source": [
    "t2 = Triangle(3,4,5,6)\n",
    "print(t2.print_info())"
   ]
  },
  {
   "cell_type": "code",
   "execution_count": 6,
   "id": "3baafe3c",
   "metadata": {},
   "outputs": [
    {
     "name": "stdout",
     "output_type": "stream",
     "text": [
      "1\n"
     ]
    }
   ],
   "source": [
    "del t2\n",
    "print(Triangle.get__count())"
   ]
  },
  {
   "cell_type": "code",
   "execution_count": 7,
   "id": "c3e41f05",
   "metadata": {},
   "outputs": [
    {
     "name": "stdout",
     "output_type": "stream",
     "text": [
      "shape 객체 생성\n",
      "Triangle 객체 생성\n",
      "x coordinate : 0\n",
      "y coordinate : 0\n",
      " width: 7\n",
      " height: 8\n",
      "area : 28.0,\n",
      "Triangle amount: 2 \n"
     ]
    }
   ],
   "source": [
    "t3 = Triangle (0,0,7,8)\n",
    "print(t3.print_info())"
   ]
  },
  {
   "cell_type": "code",
   "execution_count": 9,
   "id": "2ff03b21",
   "metadata": {},
   "outputs": [
    {
     "ename": "SyntaxError",
     "evalue": "invalid syntax (187387987.py, line 2)",
     "output_type": "error",
     "traceback": [
      "\u001b[1;36m  Cell \u001b[1;32mIn[9], line 2\u001b[1;36m\u001b[0m\n\u001b[1;33m    1. 1\u001b[0m\n\u001b[1;37m       ^\u001b[0m\n\u001b[1;31mSyntaxError\u001b[0m\u001b[1;31m:\u001b[0m invalid syntax\n"
     ]
    }
   ],
   "source": [
    "#서술형\n",
    "'''\n",
    "1. 1\n",
    "2. 2\n",
    "3. 4\n",
    "4. 1\n",
    "5. 2\n",
    "6. 3\n",
    "7. \n",
    "8.\n",
    "9.\n",
    "'''\n"
   ]
  },
  {
   "cell_type": "code",
   "execution_count": null,
   "id": "99c81783",
   "metadata": {},
   "outputs": [],
   "source": []
  }
 ],
 "metadata": {
  "kernelspec": {
   "display_name": "Python 3 (ipykernel)",
   "language": "python",
   "name": "python3"
  },
  "language_info": {
   "codemirror_mode": {
    "name": "ipython",
    "version": 3
   },
   "file_extension": ".py",
   "mimetype": "text/x-python",
   "name": "python",
   "nbconvert_exporter": "python",
   "pygments_lexer": "ipython3",
   "version": "3.10.9"
  },
  "toc": {
   "base_numbering": 1,
   "nav_menu": {},
   "number_sections": false,
   "sideBar": true,
   "skip_h1_title": false,
   "title_cell": "Table of Contents",
   "title_sidebar": "Contents",
   "toc_cell": false,
   "toc_position": {
    "height": "calc(100% - 180px)",
    "left": "10px",
    "top": "150px",
    "width": "165px"
   },
   "toc_section_display": true,
   "toc_window_display": true
  }
 },
 "nbformat": 4,
 "nbformat_minor": 5
}
